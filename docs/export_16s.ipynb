{
 "cells": [
  {
   "cell_type": "markdown",
   "id": "ed005498-1796-4674-b0e5-f63d96e8ca02",
   "metadata": {},
   "source": [
    "# Exporting 16S data into relevant formats\n",
    "Quang Nguyen.   \n",
    "Last updated 2022-26-04.   "
   ]
  },
  {
   "cell_type": "code",
   "execution_count": 1,
   "id": "5a15284a-a15b-4b1f-b478-416bd46a54a1",
   "metadata": {},
   "outputs": [
    {
     "name": "stderr",
     "output_type": "stream",
     "text": [
      "here() starts at /Users/quangnguyen/research/microbe_set_trait\n",
      "\n",
      "── \u001b[1mAttaching packages\u001b[22m ───────────────────────────────────────────────────────────────────────────────────────────────────────────────────────────────────── tidyverse 1.3.1 ──\n",
      "\n",
      "\u001b[32m✔\u001b[39m \u001b[34mggplot2\u001b[39m 3.3.5     \u001b[32m✔\u001b[39m \u001b[34mpurrr  \u001b[39m 0.3.4\n",
      "\u001b[32m✔\u001b[39m \u001b[34mtibble \u001b[39m 3.1.6     \u001b[32m✔\u001b[39m \u001b[34mdplyr  \u001b[39m 1.0.8\n",
      "\u001b[32m✔\u001b[39m \u001b[34mtidyr  \u001b[39m 1.2.0     \u001b[32m✔\u001b[39m \u001b[34mstringr\u001b[39m 1.4.0\n",
      "\u001b[32m✔\u001b[39m \u001b[34mreadr  \u001b[39m 2.1.2     \u001b[32m✔\u001b[39m \u001b[34mforcats\u001b[39m 0.5.1\n",
      "\n",
      "── \u001b[1mConflicts\u001b[22m ──────────────────────────────────────────────────────────────────────────────────────────────────────────────────────────────────────── tidyverse_conflicts() ──\n",
      "\u001b[31m✖\u001b[39m \u001b[34mdplyr\u001b[39m::\u001b[32mfilter()\u001b[39m masks \u001b[34mstats\u001b[39m::filter()\n",
      "\u001b[31m✖\u001b[39m \u001b[34mdplyr\u001b[39m::\u001b[32mlag()\u001b[39m    masks \u001b[34mstats\u001b[39m::lag()\n",
      "\n"
     ]
    }
   ],
   "source": [
    "library(phyloseq)\n",
    "library(here)\n",
    "library(biomformat)\n",
    "library(tidyverse)"
   ]
  },
  {
   "cell_type": "code",
   "execution_count": 2,
   "id": "65fd17e3-c383-4b55-a4a0-e05660ab313e",
   "metadata": {},
   "outputs": [],
   "source": [
    "data_path <- here(\"output\", \"sequence_process_16s\", \"crc_16s\", \"exports\", \"feature-table.biom\")\n",
    "tax_path <- here(\"output\", \"sequence_process_16s\", \"crc_16s\", \"exports\", \"taxonomy.tsv\")"
   ]
  },
  {
   "cell_type": "markdown",
   "id": "1c441014-5a95-4dd2-8577-29c8400afe0d",
   "metadata": {},
   "source": [
    "First we read some data files from biom format and import it into OTU formats for phyloseq objects"
   ]
  },
  {
   "cell_type": "code",
   "execution_count": 3,
   "id": "c3673f36-1318-4f3c-81cc-1bd7cc23c13f",
   "metadata": {},
   "outputs": [],
   "source": [
    "data <- read_biom(data_path);"
   ]
  },
  {
   "cell_type": "code",
   "execution_count": 4,
   "id": "ad7e0dff-978e-47e3-b6f2-97130cdf7ec5",
   "metadata": {},
   "outputs": [
    {
     "data": {
      "text/html": [
       "<table class=\"dataframe\">\n",
       "<caption>A otu_table: 6 × 141 of type dbl</caption>\n",
       "<thead>\n",
       "\t<tr><th></th><th scope=col>DE-013</th><th scope=col>DE-029</th><th scope=col>DE-031</th><th scope=col>DE-034</th><th scope=col>DE-037</th><th scope=col>DE-038</th><th scope=col>DE-039</th><th scope=col>DE-044</th><th scope=col>DE-045</th><th scope=col>DE-046</th><th scope=col>⋯</th><th scope=col>FR-817</th><th scope=col>FR-820</th><th scope=col>FR-824</th><th scope=col>FR-825</th><th scope=col>FR-826</th><th scope=col>FR-827</th><th scope=col>FR-828</th><th scope=col>FR-829</th><th scope=col>FR-830</th><th scope=col>FR-835</th></tr>\n",
       "</thead>\n",
       "<tbody>\n",
       "\t<tr><th scope=row>10afda2baef44de4c584a6641de399b1</th><td>   82</td><td>   0</td><td>   92</td><td>  28</td><td>2164</td><td>  12</td><td>   4</td><td>    0</td><td>   5</td><td> 712</td><td>⋯</td><td>14704</td><td>18287</td><td>5932</td><td>50641</td><td>10075</td><td>44440</td><td>20060</td><td>12938</td><td>46681</td><td>14023</td></tr>\n",
       "\t<tr><th scope=row>99deb3c5ecb022ec05609ebd1112a557</th><td>11171</td><td>  39</td><td>21042</td><td>1788</td><td>9849</td><td>8230</td><td>8703</td><td>11514</td><td>1678</td><td>   0</td><td>⋯</td><td> 1394</td><td> 2962</td><td>   0</td><td> 4824</td><td> 4560</td><td>11880</td><td>53574</td><td>  617</td><td>    0</td><td>  208</td></tr>\n",
       "\t<tr><th scope=row>c6c3ab4e828fb40d6e05967b7aac9338</th><td>    7</td><td> 878</td><td>  305</td><td> 753</td><td> 169</td><td> 860</td><td> 212</td><td> 2128</td><td> 675</td><td>1318</td><td>⋯</td><td> 8812</td><td> 7645</td><td>  59</td><td>   33</td><td> 8125</td><td>15433</td><td> 1469</td><td> 2814</td><td>   39</td><td> 2357</td></tr>\n",
       "\t<tr><th scope=row>675c847bccbc53942ebb7b8cbb4efc4d</th><td>    0</td><td>   0</td><td>    0</td><td>   0</td><td>   3</td><td>   0</td><td>   3</td><td>    0</td><td>   0</td><td>   0</td><td>⋯</td><td>    0</td><td>   13</td><td>  35</td><td>    0</td><td>   31</td><td>   28</td><td>   21</td><td>46743</td><td>    9</td><td>20410</td></tr>\n",
       "\t<tr><th scope=row>f5f5e0da89730462abaf6301a9557193</th><td>    9</td><td>4132</td><td> 2261</td><td>3458</td><td> 209</td><td>1114</td><td>  85</td><td>23022</td><td>1373</td><td>8091</td><td>⋯</td><td>   13</td><td> 1784</td><td>   5</td><td>   66</td><td> 6542</td><td> 1528</td><td> 2573</td><td> 2852</td><td>    8</td><td> 5038</td></tr>\n",
       "\t<tr><th scope=row>403fb2a88868cc6e20138b715f157fea</th><td>    0</td><td>   0</td><td>    0</td><td>   0</td><td>   0</td><td>   0</td><td>   0</td><td>    0</td><td>   0</td><td>   0</td><td>⋯</td><td> 4726</td><td> 9224</td><td>2941</td><td>18254</td><td> 4970</td><td>16591</td><td> 8118</td><td> 4696</td><td>20091</td><td> 6915</td></tr>\n",
       "</tbody>\n",
       "</table>\n"
      ],
      "text/latex": [
       "A otu\\_table: 6 × 141 of type dbl\n",
       "\\begin{tabular}{r|lllllllllllllllllllll}\n",
       "  & DE-013 & DE-029 & DE-031 & DE-034 & DE-037 & DE-038 & DE-039 & DE-044 & DE-045 & DE-046 & ⋯ & FR-817 & FR-820 & FR-824 & FR-825 & FR-826 & FR-827 & FR-828 & FR-829 & FR-830 & FR-835\\\\\n",
       "\\hline\n",
       "\t10afda2baef44de4c584a6641de399b1 &    82 &    0 &    92 &   28 & 2164 &   12 &    4 &     0 &    5 &  712 & ⋯ & 14704 & 18287 & 5932 & 50641 & 10075 & 44440 & 20060 & 12938 & 46681 & 14023\\\\\n",
       "\t99deb3c5ecb022ec05609ebd1112a557 & 11171 &   39 & 21042 & 1788 & 9849 & 8230 & 8703 & 11514 & 1678 &    0 & ⋯ &  1394 &  2962 &    0 &  4824 &  4560 & 11880 & 53574 &   617 &     0 &   208\\\\\n",
       "\tc6c3ab4e828fb40d6e05967b7aac9338 &     7 &  878 &   305 &  753 &  169 &  860 &  212 &  2128 &  675 & 1318 & ⋯ &  8812 &  7645 &   59 &    33 &  8125 & 15433 &  1469 &  2814 &    39 &  2357\\\\\n",
       "\t675c847bccbc53942ebb7b8cbb4efc4d &     0 &    0 &     0 &    0 &    3 &    0 &    3 &     0 &    0 &    0 & ⋯ &     0 &    13 &   35 &     0 &    31 &    28 &    21 & 46743 &     9 & 20410\\\\\n",
       "\tf5f5e0da89730462abaf6301a9557193 &     9 & 4132 &  2261 & 3458 &  209 & 1114 &   85 & 23022 & 1373 & 8091 & ⋯ &    13 &  1784 &    5 &    66 &  6542 &  1528 &  2573 &  2852 &     8 &  5038\\\\\n",
       "\t403fb2a88868cc6e20138b715f157fea &     0 &    0 &     0 &    0 &    0 &    0 &    0 &     0 &    0 &    0 & ⋯ &  4726 &  9224 & 2941 & 18254 &  4970 & 16591 &  8118 &  4696 & 20091 &  6915\\\\\n",
       "\\end{tabular}\n"
      ],
      "text/markdown": [
       "\n",
       "A otu_table: 6 × 141 of type dbl\n",
       "\n",
       "| <!--/--> | DE-013 | DE-029 | DE-031 | DE-034 | DE-037 | DE-038 | DE-039 | DE-044 | DE-045 | DE-046 | ⋯ | FR-817 | FR-820 | FR-824 | FR-825 | FR-826 | FR-827 | FR-828 | FR-829 | FR-830 | FR-835 |\n",
       "|---|---|---|---|---|---|---|---|---|---|---|---|---|---|---|---|---|---|---|---|---|---|\n",
       "| 10afda2baef44de4c584a6641de399b1 |    82 |    0 |    92 |   28 | 2164 |   12 |    4 |     0 |    5 |  712 | ⋯ | 14704 | 18287 | 5932 | 50641 | 10075 | 44440 | 20060 | 12938 | 46681 | 14023 |\n",
       "| 99deb3c5ecb022ec05609ebd1112a557 | 11171 |   39 | 21042 | 1788 | 9849 | 8230 | 8703 | 11514 | 1678 |    0 | ⋯ |  1394 |  2962 |    0 |  4824 |  4560 | 11880 | 53574 |   617 |     0 |   208 |\n",
       "| c6c3ab4e828fb40d6e05967b7aac9338 |     7 |  878 |   305 |  753 |  169 |  860 |  212 |  2128 |  675 | 1318 | ⋯ |  8812 |  7645 |   59 |    33 |  8125 | 15433 |  1469 |  2814 |    39 |  2357 |\n",
       "| 675c847bccbc53942ebb7b8cbb4efc4d |     0 |    0 |     0 |    0 |    3 |    0 |    3 |     0 |    0 |    0 | ⋯ |     0 |    13 |   35 |     0 |    31 |    28 |    21 | 46743 |     9 | 20410 |\n",
       "| f5f5e0da89730462abaf6301a9557193 |     9 | 4132 |  2261 | 3458 |  209 | 1114 |   85 | 23022 | 1373 | 8091 | ⋯ |    13 |  1784 |    5 |    66 |  6542 |  1528 |  2573 |  2852 |     8 |  5038 |\n",
       "| 403fb2a88868cc6e20138b715f157fea |     0 |    0 |     0 |    0 |    0 |    0 |    0 |     0 |    0 |    0 | ⋯ |  4726 |  9224 | 2941 | 18254 |  4970 | 16591 |  8118 |  4696 | 20091 |  6915 |\n",
       "\n"
      ],
      "text/plain": [
       "                                 DE-013 DE-029 DE-031 DE-034 DE-037 DE-038\n",
       "10afda2baef44de4c584a6641de399b1    82     0      92    28   2164     12  \n",
       "99deb3c5ecb022ec05609ebd1112a557 11171    39   21042  1788   9849   8230  \n",
       "c6c3ab4e828fb40d6e05967b7aac9338     7   878     305   753    169    860  \n",
       "675c847bccbc53942ebb7b8cbb4efc4d     0     0       0     0      3      0  \n",
       "f5f5e0da89730462abaf6301a9557193     9  4132    2261  3458    209   1114  \n",
       "403fb2a88868cc6e20138b715f157fea     0     0       0     0      0      0  \n",
       "                                 DE-039 DE-044 DE-045 DE-046 ⋯ FR-817 FR-820\n",
       "10afda2baef44de4c584a6641de399b1    4       0     5    712   ⋯ 14704  18287 \n",
       "99deb3c5ecb022ec05609ebd1112a557 8703   11514  1678      0   ⋯  1394   2962 \n",
       "c6c3ab4e828fb40d6e05967b7aac9338  212    2128   675   1318   ⋯  8812   7645 \n",
       "675c847bccbc53942ebb7b8cbb4efc4d    3       0     0      0   ⋯     0     13 \n",
       "f5f5e0da89730462abaf6301a9557193   85   23022  1373   8091   ⋯    13   1784 \n",
       "403fb2a88868cc6e20138b715f157fea    0       0     0      0   ⋯  4726   9224 \n",
       "                                 FR-824 FR-825 FR-826 FR-827 FR-828 FR-829\n",
       "10afda2baef44de4c584a6641de399b1 5932   50641  10075  44440  20060  12938 \n",
       "99deb3c5ecb022ec05609ebd1112a557    0    4824   4560  11880  53574    617 \n",
       "c6c3ab4e828fb40d6e05967b7aac9338   59      33   8125  15433   1469   2814 \n",
       "675c847bccbc53942ebb7b8cbb4efc4d   35       0     31     28     21  46743 \n",
       "f5f5e0da89730462abaf6301a9557193    5      66   6542   1528   2573   2852 \n",
       "403fb2a88868cc6e20138b715f157fea 2941   18254   4970  16591   8118   4696 \n",
       "                                 FR-830 FR-835\n",
       "10afda2baef44de4c584a6641de399b1 46681  14023 \n",
       "99deb3c5ecb022ec05609ebd1112a557     0    208 \n",
       "c6c3ab4e828fb40d6e05967b7aac9338    39   2357 \n",
       "675c847bccbc53942ebb7b8cbb4efc4d     9  20410 \n",
       "f5f5e0da89730462abaf6301a9557193     8   5038 \n",
       "403fb2a88868cc6e20138b715f157fea 20091   6915 "
      ]
     },
     "metadata": {},
     "output_type": "display_data"
    }
   ],
   "source": [
    "otu <- otu_table(as.matrix(biom_data(data)), taxa_are_rows = TRUE)\n",
    "head(otu)"
   ]
  },
  {
   "cell_type": "code",
   "execution_count": 42,
   "id": "40f2d1fb-7104-4587-9e51-e55cb442fc73",
   "metadata": {},
   "outputs": [
    {
     "data": {
      "text/html": [
       "<table class=\"dataframe\">\n",
       "<caption>A data.frame: 6 × 3</caption>\n",
       "<thead>\n",
       "\t<tr><th></th><th scope=col>Feature.ID</th><th scope=col>Taxon</th><th scope=col>Confidence</th></tr>\n",
       "\t<tr><th></th><th scope=col>&lt;chr&gt;</th><th scope=col>&lt;chr&gt;</th><th scope=col>&lt;dbl&gt;</th></tr>\n",
       "</thead>\n",
       "<tbody>\n",
       "\t<tr><th scope=row>1</th><td>10afda2baef44de4c584a6641de399b1</td><td>d__Bacteria; p__Proteobacteria; c__Alphaproteobacteria; o__Sphingomonadales; f__Sphingomonadaceae; g__Sphingomonas; s__Sphingomonas_paucimobilis</td><td>0.9846092</td></tr>\n",
       "\t<tr><th scope=row>2</th><td>99deb3c5ecb022ec05609ebd1112a557</td><td>d__Bacteria; p__Bacteroidota; c__Bacteroidia; o__Bacteroidales; f__Bacteroidaceae; g__Bacteroides; s__Bacteroides_vulgatus                      </td><td>0.9830613</td></tr>\n",
       "\t<tr><th scope=row>3</th><td>c6c3ab4e828fb40d6e05967b7aac9338</td><td>d__Bacteria; p__Firmicutes; c__Clostridia; o__Lachnospirales; f__Lachnospiraceae; g__Blautia; s__Blautia_wexlerae                               </td><td>0.8237579</td></tr>\n",
       "\t<tr><th scope=row>4</th><td>675c847bccbc53942ebb7b8cbb4efc4d</td><td>d__Bacteria; p__Bacteroidota; c__Bacteroidia; o__Bacteroidales; f__Prevotellaceae; g__Prevotella; s__Prevotella_copri                           </td><td>0.9839953</td></tr>\n",
       "\t<tr><th scope=row>5</th><td>f5f5e0da89730462abaf6301a9557193</td><td>d__Bacteria; p__Firmicutes; c__Clostridia; o__Oscillospirales; f__Ruminococcaceae; g__Faecalibacterium; s__human_gut                            </td><td>0.8073996</td></tr>\n",
       "\t<tr><th scope=row>6</th><td>403fb2a88868cc6e20138b715f157fea</td><td>d__Bacteria; p__Proteobacteria; c__Alphaproteobacteria; o__Rhodobacterales; f__Rhodobacteraceae                                                 </td><td>0.9975062</td></tr>\n",
       "</tbody>\n",
       "</table>\n"
      ],
      "text/latex": [
       "A data.frame: 6 × 3\n",
       "\\begin{tabular}{r|lll}\n",
       "  & Feature.ID & Taxon & Confidence\\\\\n",
       "  & <chr> & <chr> & <dbl>\\\\\n",
       "\\hline\n",
       "\t1 & 10afda2baef44de4c584a6641de399b1 & d\\_\\_Bacteria; p\\_\\_Proteobacteria; c\\_\\_Alphaproteobacteria; o\\_\\_Sphingomonadales; f\\_\\_Sphingomonadaceae; g\\_\\_Sphingomonas; s\\_\\_Sphingomonas\\_paucimobilis & 0.9846092\\\\\n",
       "\t2 & 99deb3c5ecb022ec05609ebd1112a557 & d\\_\\_Bacteria; p\\_\\_Bacteroidota; c\\_\\_Bacteroidia; o\\_\\_Bacteroidales; f\\_\\_Bacteroidaceae; g\\_\\_Bacteroides; s\\_\\_Bacteroides\\_vulgatus                       & 0.9830613\\\\\n",
       "\t3 & c6c3ab4e828fb40d6e05967b7aac9338 & d\\_\\_Bacteria; p\\_\\_Firmicutes; c\\_\\_Clostridia; o\\_\\_Lachnospirales; f\\_\\_Lachnospiraceae; g\\_\\_Blautia; s\\_\\_Blautia\\_wexlerae                                & 0.8237579\\\\\n",
       "\t4 & 675c847bccbc53942ebb7b8cbb4efc4d & d\\_\\_Bacteria; p\\_\\_Bacteroidota; c\\_\\_Bacteroidia; o\\_\\_Bacteroidales; f\\_\\_Prevotellaceae; g\\_\\_Prevotella; s\\_\\_Prevotella\\_copri                            & 0.9839953\\\\\n",
       "\t5 & f5f5e0da89730462abaf6301a9557193 & d\\_\\_Bacteria; p\\_\\_Firmicutes; c\\_\\_Clostridia; o\\_\\_Oscillospirales; f\\_\\_Ruminococcaceae; g\\_\\_Faecalibacterium; s\\_\\_human\\_gut                             & 0.8073996\\\\\n",
       "\t6 & 403fb2a88868cc6e20138b715f157fea & d\\_\\_Bacteria; p\\_\\_Proteobacteria; c\\_\\_Alphaproteobacteria; o\\_\\_Rhodobacterales; f\\_\\_Rhodobacteraceae                                                  & 0.9975062\\\\\n",
       "\\end{tabular}\n"
      ],
      "text/markdown": [
       "\n",
       "A data.frame: 6 × 3\n",
       "\n",
       "| <!--/--> | Feature.ID &lt;chr&gt; | Taxon &lt;chr&gt; | Confidence &lt;dbl&gt; |\n",
       "|---|---|---|---|\n",
       "| 1 | 10afda2baef44de4c584a6641de399b1 | d__Bacteria; p__Proteobacteria; c__Alphaproteobacteria; o__Sphingomonadales; f__Sphingomonadaceae; g__Sphingomonas; s__Sphingomonas_paucimobilis | 0.9846092 |\n",
       "| 2 | 99deb3c5ecb022ec05609ebd1112a557 | d__Bacteria; p__Bacteroidota; c__Bacteroidia; o__Bacteroidales; f__Bacteroidaceae; g__Bacteroides; s__Bacteroides_vulgatus                       | 0.9830613 |\n",
       "| 3 | c6c3ab4e828fb40d6e05967b7aac9338 | d__Bacteria; p__Firmicutes; c__Clostridia; o__Lachnospirales; f__Lachnospiraceae; g__Blautia; s__Blautia_wexlerae                                | 0.8237579 |\n",
       "| 4 | 675c847bccbc53942ebb7b8cbb4efc4d | d__Bacteria; p__Bacteroidota; c__Bacteroidia; o__Bacteroidales; f__Prevotellaceae; g__Prevotella; s__Prevotella_copri                            | 0.9839953 |\n",
       "| 5 | f5f5e0da89730462abaf6301a9557193 | d__Bacteria; p__Firmicutes; c__Clostridia; o__Oscillospirales; f__Ruminococcaceae; g__Faecalibacterium; s__human_gut                             | 0.8073996 |\n",
       "| 6 | 403fb2a88868cc6e20138b715f157fea | d__Bacteria; p__Proteobacteria; c__Alphaproteobacteria; o__Rhodobacterales; f__Rhodobacteraceae                                                  | 0.9975062 |\n",
       "\n"
      ],
      "text/plain": [
       "  Feature.ID                      \n",
       "1 10afda2baef44de4c584a6641de399b1\n",
       "2 99deb3c5ecb022ec05609ebd1112a557\n",
       "3 c6c3ab4e828fb40d6e05967b7aac9338\n",
       "4 675c847bccbc53942ebb7b8cbb4efc4d\n",
       "5 f5f5e0da89730462abaf6301a9557193\n",
       "6 403fb2a88868cc6e20138b715f157fea\n",
       "  Taxon                                                                                                                                           \n",
       "1 d__Bacteria; p__Proteobacteria; c__Alphaproteobacteria; o__Sphingomonadales; f__Sphingomonadaceae; g__Sphingomonas; s__Sphingomonas_paucimobilis\n",
       "2 d__Bacteria; p__Bacteroidota; c__Bacteroidia; o__Bacteroidales; f__Bacteroidaceae; g__Bacteroides; s__Bacteroides_vulgatus                      \n",
       "3 d__Bacteria; p__Firmicutes; c__Clostridia; o__Lachnospirales; f__Lachnospiraceae; g__Blautia; s__Blautia_wexlerae                               \n",
       "4 d__Bacteria; p__Bacteroidota; c__Bacteroidia; o__Bacteroidales; f__Prevotellaceae; g__Prevotella; s__Prevotella_copri                           \n",
       "5 d__Bacteria; p__Firmicutes; c__Clostridia; o__Oscillospirales; f__Ruminococcaceae; g__Faecalibacterium; s__human_gut                            \n",
       "6 d__Bacteria; p__Proteobacteria; c__Alphaproteobacteria; o__Rhodobacterales; f__Rhodobacteraceae                                                 \n",
       "  Confidence\n",
       "1 0.9846092 \n",
       "2 0.9830613 \n",
       "3 0.8237579 \n",
       "4 0.9839953 \n",
       "5 0.8073996 \n",
       "6 0.9975062 "
      ]
     },
     "metadata": {},
     "output_type": "display_data"
    }
   ],
   "source": [
    "taxonomy <- read.csv(tax_path, sep = \"\\t\")\n",
    "head(taxonomy)"
   ]
  },
  {
   "cell_type": "markdown",
   "id": "42fe898b-5b1c-478a-bf6e-c52f7fdd8cd2",
   "metadata": {},
   "source": [
    "Taxonomy is a bit more tricky since the taxon is an entire string and not just a table. Therefore, we split the taxonomy table based on it's categories (e.g. d__ is for domain/superkingdom)"
   ]
  },
  {
   "cell_type": "code",
   "execution_count": 43,
   "id": "5ed3c6cd-f8c5-4e0f-a32c-1e1adb95ae46",
   "metadata": {},
   "outputs": [],
   "source": [
    "extract_names <- function(vec_obj){\n",
    "    tax_names <- c(\"superkingdom\", \"phylum\", \"class\", \"order\", \"family\", \"genus\", \"species\")\n",
    "    n_vec <- vector(mode = \"list\", length = length(tax_names))\n",
    "    names(n_vec) <- tax_names\n",
    "    n_vec[[\"superkingdom\"]] <- gsub(x = vec_obj[str_detect(string = vec_obj, pattern = \"d__\")], \n",
    "                                    pattern = \"[a-z]__\", replacement = \"\")\n",
    "    n_vec[[\"phylum\"]] <- gsub(x = vec_obj[str_detect(string = vec_obj, pattern = \"p__\")], \n",
    "                                    pattern = \"[a-z]__\", replacement = \"\")\n",
    "    n_vec[[\"class\"]] <- gsub(x = vec_obj[str_detect(string = vec_obj, pattern = \"c__\")], \n",
    "                                    pattern = \"[a-z]__\", replacement = \"\")\n",
    "    n_vec[[\"order\"]] <- gsub(x = vec_obj[str_detect(string = vec_obj, pattern = \"o__\")], \n",
    "                                    pattern = \"[a-z]__\", replacement = \"\")\n",
    "    n_vec[[\"family\"]] <- gsub(x = vec_obj[str_detect(string = vec_obj, pattern = \"f__\")], \n",
    "                                    pattern = \"[a-z]__\", replacement = \"\")\n",
    "    n_vec[[\"genus\"]] <- gsub(x = vec_obj[str_detect(string = vec_obj, pattern = \"g__\")], \n",
    "                                    pattern = \"[a-z]__\", replacement = \"\")\n",
    "    n_vec[[\"species\"]] <- gsub(x = vec_obj[str_detect(string = vec_obj, pattern = \"s__\")], \n",
    "                                    pattern = \"[a-z]__\", replacement = \"\")\n",
    "    n_vec[map_lgl(n_vec, ~length(.x) == 0)] <- NA_character_\n",
    "    return(as_tibble(n_vec))\n",
    "}\n"
   ]
  },
  {
   "cell_type": "markdown",
   "id": "b9f34950-d1ca-48c0-a0ec-3be07969529a",
   "metadata": {},
   "source": [
    "Split by \";\" and then convert to matrix to import into phyloseq objects"
   ]
  },
  {
   "cell_type": "code",
   "execution_count": 44,
   "id": "293885ab-eb2d-4904-9934-be4498e88f75",
   "metadata": {},
   "outputs": [],
   "source": [
    "taxonomy <- taxonomy %>% \n",
    "    mutate(tax = str_split(Taxon, pattern = \";\")) %>% \n",
    "    mutate(t = map(tax, extract_names))"
   ]
  },
  {
   "cell_type": "code",
   "execution_count": 47,
   "id": "00460e0d-9474-4c06-9fcb-ee38ec043f7b",
   "metadata": {},
   "outputs": [],
   "source": [
    "taxonomy <- taxonomy %>% select(-c(Taxon, tax)) %>% unnest(t) %>% select(-Confidence) %>% \n",
    "    column_to_rownames(var = \"Feature.ID\")\n",
    "    "
   ]
  },
  {
   "cell_type": "code",
   "execution_count": 52,
   "id": "fe182b6e-3455-4655-abfb-c5ba0baca062",
   "metadata": {},
   "outputs": [],
   "source": [
    "taxonomy <- as.matrix(taxonomy)\n",
    "taxtab <- tax_table(taxonomy)"
   ]
  },
  {
   "cell_type": "markdown",
   "id": "64450a4e-695b-460e-8ed8-9c0387cdd806",
   "metadata": {},
   "source": [
    "Simple import into phyloseq"
   ]
  },
  {
   "cell_type": "code",
   "execution_count": 57,
   "id": "e1650d95-13d6-4945-a5c2-d7f4648c5d76",
   "metadata": {},
   "outputs": [
    {
     "data": {
      "text/plain": [
       "phyloseq-class experiment-level object\n",
       "otu_table()   OTU Table:         [ 6135 taxa and 141 samples ]\n",
       "tax_table()   Taxonomy Table:    [ 6135 taxa by 7 taxonomic ranks ]"
      ]
     },
     "metadata": {},
     "output_type": "display_data"
    }
   ],
   "source": [
    "physeq <- phyloseq(otu, taxtab)\n",
    "physeq\n",
    "saveRDS(physeq, file = here(\"data\", \"pred_relabun_crc_16s_physeq.rds\"))\n",
    "# physeq here are phyloseq objects"
   ]
  },
  {
   "cell_type": "markdown",
   "id": "d48cdd0b-71ae-4399-a773-b3d95c175eb3",
   "metadata": {},
   "source": [
    "Let's do the same for IBD data set "
   ]
  },
  {
   "cell_type": "code",
   "execution_count": 58,
   "id": "583844be-faf2-4236-8bbe-06ed2ac0d1a2",
   "metadata": {},
   "outputs": [
    {
     "data": {
      "text/html": [
       "<table class=\"dataframe\">\n",
       "<caption>A otu_table: 6 × 639 of type dbl</caption>\n",
       "<thead>\n",
       "\t<tr><th></th><th scope=col>1939.MGH100079</th><th scope=col>1939.MGH100698</th><th scope=col>1939.MGH100896.a</th><th scope=col>1939.MGH100896.b</th><th scope=col>1939.MGH101010</th><th scope=col>1939.MGH101089</th><th scope=col>1939.MGH102701</th><th scope=col>1939.MGH102797</th><th scope=col>1939.MGH103108</th><th scope=col>1939.MGH103128</th><th scope=col>⋯</th><th scope=col>1939.SKBTI089.b</th><th scope=col>1939.SKBTI090</th><th scope=col>1939.SKBTI091.a</th><th scope=col>1939.SKBTI091.b</th><th scope=col>1939.SKBTI092.a</th><th scope=col>1939.SKBTI092.b</th><th scope=col>1939.SKBTI093</th><th scope=col>1939.SKBTI094</th><th scope=col>1939.SKBTI095</th><th scope=col>1939.SKBTI096</th></tr>\n",
       "</thead>\n",
       "<tbody>\n",
       "\t<tr><th scope=row>b7d71352bb89f991f7a0023b7596bc1c</th><td>  19</td><td>252</td><td>513</td><td>14539</td><td> 63</td><td>2004</td><td>454</td><td>  0</td><td>1481</td><td>38</td><td>⋯</td><td> 293</td><td>16</td><td>1209</td><td>3110</td><td>3982</td><td>40131</td><td>26500</td><td>  64</td><td>5897</td><td> 8777</td></tr>\n",
       "\t<tr><th scope=row>1ea34271f850146467c46488ea2b141a</th><td> 130</td><td>174</td><td>  0</td><td>   24</td><td>412</td><td>  30</td><td>200</td><td>789</td><td>   1</td><td>17</td><td>⋯</td><td>4902</td><td> 5</td><td>   6</td><td>   0</td><td>2824</td><td>22153</td><td> 7920</td><td>  23</td><td>1112</td><td>   95</td></tr>\n",
       "\t<tr><th scope=row>c6256b8ca548753525c7e45fc2faae7a</th><td>2738</td><td>373</td><td>703</td><td>15230</td><td>  5</td><td>  51</td><td>  8</td><td>281</td><td>  33</td><td>40</td><td>⋯</td><td> 171</td><td> 0</td><td> 173</td><td> 343</td><td> 140</td><td>  649</td><td>  347</td><td>1799</td><td>2038</td><td>16354</td></tr>\n",
       "\t<tr><th scope=row>1cce571d048c08affacf0c5018a2d16b</th><td> 167</td><td>  0</td><td>  0</td><td>    7</td><td>  8</td><td>   2</td><td>  2</td><td>  0</td><td> 113</td><td> 4</td><td>⋯</td><td>5902</td><td> 0</td><td> 140</td><td> 303</td><td> 753</td><td> 5879</td><td> 6604</td><td>  79</td><td> 439</td><td>  192</td></tr>\n",
       "\t<tr><th scope=row>b6861df288b33d1326996af77c70f680</th><td>  47</td><td>  0</td><td>  0</td><td>   11</td><td>  0</td><td>   0</td><td>  0</td><td>  0</td><td>  11</td><td> 8</td><td>⋯</td><td>  96</td><td> 0</td><td> 368</td><td> 440</td><td>   0</td><td>   86</td><td>  356</td><td>  49</td><td> 241</td><td> 7949</td></tr>\n",
       "\t<tr><th scope=row>f86dfa006a15a63433aa50170c3b412f</th><td>   6</td><td>  0</td><td>  0</td><td>    0</td><td> 37</td><td>   0</td><td>  0</td><td>  0</td><td> 403</td><td> 0</td><td>⋯</td><td>8097</td><td> 0</td><td>   0</td><td>   0</td><td>   0</td><td>  472</td><td>  139</td><td>   0</td><td> 370</td><td>  498</td></tr>\n",
       "</tbody>\n",
       "</table>\n"
      ],
      "text/latex": [
       "A otu\\_table: 6 × 639 of type dbl\n",
       "\\begin{tabular}{r|lllllllllllllllllllll}\n",
       "  & 1939.MGH100079 & 1939.MGH100698 & 1939.MGH100896.a & 1939.MGH100896.b & 1939.MGH101010 & 1939.MGH101089 & 1939.MGH102701 & 1939.MGH102797 & 1939.MGH103108 & 1939.MGH103128 & ⋯ & 1939.SKBTI089.b & 1939.SKBTI090 & 1939.SKBTI091.a & 1939.SKBTI091.b & 1939.SKBTI092.a & 1939.SKBTI092.b & 1939.SKBTI093 & 1939.SKBTI094 & 1939.SKBTI095 & 1939.SKBTI096\\\\\n",
       "\\hline\n",
       "\tb7d71352bb89f991f7a0023b7596bc1c &   19 & 252 & 513 & 14539 &  63 & 2004 & 454 &   0 & 1481 & 38 & ⋯ &  293 & 16 & 1209 & 3110 & 3982 & 40131 & 26500 &   64 & 5897 &  8777\\\\\n",
       "\t1ea34271f850146467c46488ea2b141a &  130 & 174 &   0 &    24 & 412 &   30 & 200 & 789 &    1 & 17 & ⋯ & 4902 &  5 &    6 &    0 & 2824 & 22153 &  7920 &   23 & 1112 &    95\\\\\n",
       "\tc6256b8ca548753525c7e45fc2faae7a & 2738 & 373 & 703 & 15230 &   5 &   51 &   8 & 281 &   33 & 40 & ⋯ &  171 &  0 &  173 &  343 &  140 &   649 &   347 & 1799 & 2038 & 16354\\\\\n",
       "\t1cce571d048c08affacf0c5018a2d16b &  167 &   0 &   0 &     7 &   8 &    2 &   2 &   0 &  113 &  4 & ⋯ & 5902 &  0 &  140 &  303 &  753 &  5879 &  6604 &   79 &  439 &   192\\\\\n",
       "\tb6861df288b33d1326996af77c70f680 &   47 &   0 &   0 &    11 &   0 &    0 &   0 &   0 &   11 &  8 & ⋯ &   96 &  0 &  368 &  440 &    0 &    86 &   356 &   49 &  241 &  7949\\\\\n",
       "\tf86dfa006a15a63433aa50170c3b412f &    6 &   0 &   0 &     0 &  37 &    0 &   0 &   0 &  403 &  0 & ⋯ & 8097 &  0 &    0 &    0 &    0 &   472 &   139 &    0 &  370 &   498\\\\\n",
       "\\end{tabular}\n"
      ],
      "text/markdown": [
       "\n",
       "A otu_table: 6 × 639 of type dbl\n",
       "\n",
       "| <!--/--> | 1939.MGH100079 | 1939.MGH100698 | 1939.MGH100896.a | 1939.MGH100896.b | 1939.MGH101010 | 1939.MGH101089 | 1939.MGH102701 | 1939.MGH102797 | 1939.MGH103108 | 1939.MGH103128 | ⋯ | 1939.SKBTI089.b | 1939.SKBTI090 | 1939.SKBTI091.a | 1939.SKBTI091.b | 1939.SKBTI092.a | 1939.SKBTI092.b | 1939.SKBTI093 | 1939.SKBTI094 | 1939.SKBTI095 | 1939.SKBTI096 |\n",
       "|---|---|---|---|---|---|---|---|---|---|---|---|---|---|---|---|---|---|---|---|---|---|\n",
       "| b7d71352bb89f991f7a0023b7596bc1c |   19 | 252 | 513 | 14539 |  63 | 2004 | 454 |   0 | 1481 | 38 | ⋯ |  293 | 16 | 1209 | 3110 | 3982 | 40131 | 26500 |   64 | 5897 |  8777 |\n",
       "| 1ea34271f850146467c46488ea2b141a |  130 | 174 |   0 |    24 | 412 |   30 | 200 | 789 |    1 | 17 | ⋯ | 4902 |  5 |    6 |    0 | 2824 | 22153 |  7920 |   23 | 1112 |    95 |\n",
       "| c6256b8ca548753525c7e45fc2faae7a | 2738 | 373 | 703 | 15230 |   5 |   51 |   8 | 281 |   33 | 40 | ⋯ |  171 |  0 |  173 |  343 |  140 |   649 |   347 | 1799 | 2038 | 16354 |\n",
       "| 1cce571d048c08affacf0c5018a2d16b |  167 |   0 |   0 |     7 |   8 |    2 |   2 |   0 |  113 |  4 | ⋯ | 5902 |  0 |  140 |  303 |  753 |  5879 |  6604 |   79 |  439 |   192 |\n",
       "| b6861df288b33d1326996af77c70f680 |   47 |   0 |   0 |    11 |   0 |    0 |   0 |   0 |   11 |  8 | ⋯ |   96 |  0 |  368 |  440 |    0 |    86 |   356 |   49 |  241 |  7949 |\n",
       "| f86dfa006a15a63433aa50170c3b412f |    6 |   0 |   0 |     0 |  37 |    0 |   0 |   0 |  403 |  0 | ⋯ | 8097 |  0 |    0 |    0 |    0 |   472 |   139 |    0 |  370 |   498 |\n",
       "\n"
      ],
      "text/plain": [
       "                                 1939.MGH100079 1939.MGH100698 1939.MGH100896.a\n",
       "b7d71352bb89f991f7a0023b7596bc1c   19           252            513             \n",
       "1ea34271f850146467c46488ea2b141a  130           174              0             \n",
       "c6256b8ca548753525c7e45fc2faae7a 2738           373            703             \n",
       "1cce571d048c08affacf0c5018a2d16b  167             0              0             \n",
       "b6861df288b33d1326996af77c70f680   47             0              0             \n",
       "f86dfa006a15a63433aa50170c3b412f    6             0              0             \n",
       "                                 1939.MGH100896.b 1939.MGH101010 1939.MGH101089\n",
       "b7d71352bb89f991f7a0023b7596bc1c 14539             63            2004          \n",
       "1ea34271f850146467c46488ea2b141a    24            412              30          \n",
       "c6256b8ca548753525c7e45fc2faae7a 15230              5              51          \n",
       "1cce571d048c08affacf0c5018a2d16b     7              8               2          \n",
       "b6861df288b33d1326996af77c70f680    11              0               0          \n",
       "f86dfa006a15a63433aa50170c3b412f     0             37               0          \n",
       "                                 1939.MGH102701 1939.MGH102797 1939.MGH103108\n",
       "b7d71352bb89f991f7a0023b7596bc1c 454              0            1481          \n",
       "1ea34271f850146467c46488ea2b141a 200            789               1          \n",
       "c6256b8ca548753525c7e45fc2faae7a   8            281              33          \n",
       "1cce571d048c08affacf0c5018a2d16b   2              0             113          \n",
       "b6861df288b33d1326996af77c70f680   0              0              11          \n",
       "f86dfa006a15a63433aa50170c3b412f   0              0             403          \n",
       "                                 1939.MGH103128 ⋯ 1939.SKBTI089.b 1939.SKBTI090\n",
       "b7d71352bb89f991f7a0023b7596bc1c 38             ⋯  293            16           \n",
       "1ea34271f850146467c46488ea2b141a 17             ⋯ 4902             5           \n",
       "c6256b8ca548753525c7e45fc2faae7a 40             ⋯  171             0           \n",
       "1cce571d048c08affacf0c5018a2d16b  4             ⋯ 5902             0           \n",
       "b6861df288b33d1326996af77c70f680  8             ⋯   96             0           \n",
       "f86dfa006a15a63433aa50170c3b412f  0             ⋯ 8097             0           \n",
       "                                 1939.SKBTI091.a 1939.SKBTI091.b\n",
       "b7d71352bb89f991f7a0023b7596bc1c 1209            3110           \n",
       "1ea34271f850146467c46488ea2b141a    6               0           \n",
       "c6256b8ca548753525c7e45fc2faae7a  173             343           \n",
       "1cce571d048c08affacf0c5018a2d16b  140             303           \n",
       "b6861df288b33d1326996af77c70f680  368             440           \n",
       "f86dfa006a15a63433aa50170c3b412f    0               0           \n",
       "                                 1939.SKBTI092.a 1939.SKBTI092.b 1939.SKBTI093\n",
       "b7d71352bb89f991f7a0023b7596bc1c 3982            40131           26500        \n",
       "1ea34271f850146467c46488ea2b141a 2824            22153            7920        \n",
       "c6256b8ca548753525c7e45fc2faae7a  140              649             347        \n",
       "1cce571d048c08affacf0c5018a2d16b  753             5879            6604        \n",
       "b6861df288b33d1326996af77c70f680    0               86             356        \n",
       "f86dfa006a15a63433aa50170c3b412f    0              472             139        \n",
       "                                 1939.SKBTI094 1939.SKBTI095 1939.SKBTI096\n",
       "b7d71352bb89f991f7a0023b7596bc1c   64          5897           8777        \n",
       "1ea34271f850146467c46488ea2b141a   23          1112             95        \n",
       "c6256b8ca548753525c7e45fc2faae7a 1799          2038          16354        \n",
       "1cce571d048c08affacf0c5018a2d16b   79           439            192        \n",
       "b6861df288b33d1326996af77c70f680   49           241           7949        \n",
       "f86dfa006a15a63433aa50170c3b412f    0           370            498        "
      ]
     },
     "metadata": {},
     "output_type": "display_data"
    }
   ],
   "source": [
    "data_path <- here(\"output\", \"sequence_process_16s\", \"ibd_16s\", \"exports\", \"feature-table.biom\")\n",
    "tax_path <- here(\"output\", \"sequence_process_16s\", \"ibd_16s\", \"exports\", \"taxonomy.tsv\")\n",
    "data <- read_biom(data_path);\n",
    "otu <- otu_table(as.matrix(biom_data(data)), taxa_are_rows = TRUE)\n",
    "head(otu)"
   ]
  },
  {
   "cell_type": "code",
   "execution_count": 59,
   "id": "92443db9-003e-4549-acd2-d927b3138042",
   "metadata": {},
   "outputs": [
    {
     "data": {
      "text/html": [
       "<table class=\"dataframe\">\n",
       "<caption>A taxonomyTable: 6 × 7 of type chr</caption>\n",
       "<thead>\n",
       "\t<tr><th></th><th scope=col>superkingdom</th><th scope=col>phylum</th><th scope=col>class</th><th scope=col>order</th><th scope=col>family</th><th scope=col>genus</th><th scope=col>species</th></tr>\n",
       "</thead>\n",
       "<tbody>\n",
       "\t<tr><th scope=row>b7d71352bb89f991f7a0023b7596bc1c</th><td>Bacteria</td><td> Bacteroidota  </td><td> Bacteroidia        </td><td> Bacteroidales   </td><td> Bacteroidaceae    </td><td> Bacteroides         </td><td> Bacteroides_vulgatus</td></tr>\n",
       "\t<tr><th scope=row>1ea34271f850146467c46488ea2b141a</th><td>Bacteria</td><td> Bacteroidota  </td><td> Bacteroidia        </td><td> Bacteroidales   </td><td> Bacteroidaceae    </td><td> Bacteroides         </td><td> Bacteroides_fragilis</td></tr>\n",
       "\t<tr><th scope=row>c6256b8ca548753525c7e45fc2faae7a</th><td>Bacteria</td><td> Proteobacteria</td><td> Gammaproteobacteria</td><td> Enterobacterales</td><td> Enterobacteriaceae</td><td> Escherichia-Shigella</td><td> Escherichia_sp.     </td></tr>\n",
       "\t<tr><th scope=row>1cce571d048c08affacf0c5018a2d16b</th><td>Bacteria</td><td> Firmicutes    </td><td> Clostridia         </td><td> Oscillospirales </td><td> Ruminococcaceae   </td><td> Faecalibacterium    </td><td> human_gut           </td></tr>\n",
       "\t<tr><th scope=row>b6861df288b33d1326996af77c70f680</th><td>Bacteria</td><td> Firmicutes    </td><td> Clostridia         </td><td> Oscillospirales </td><td> Ruminococcaceae   </td><td> Faecalibacterium    </td><td> gut_metagenome      </td></tr>\n",
       "\t<tr><th scope=row>f86dfa006a15a63433aa50170c3b412f</th><td>Bacteria</td><td> Bacteroidota  </td><td> Bacteroidia        </td><td> Bacteroidales   </td><td> Bacteroidaceae    </td><td> Bacteroides         </td><td>NA                   </td></tr>\n",
       "</tbody>\n",
       "</table>\n"
      ],
      "text/latex": [
       "A taxonomyTable: 6 × 7 of type chr\n",
       "\\begin{tabular}{r|lllllll}\n",
       "  & superkingdom & phylum & class & order & family & genus & species\\\\\n",
       "\\hline\n",
       "\tb7d71352bb89f991f7a0023b7596bc1c & Bacteria &  Bacteroidota   &  Bacteroidia         &  Bacteroidales    &  Bacteroidaceae     &  Bacteroides          &  Bacteroides\\_vulgatus\\\\\n",
       "\t1ea34271f850146467c46488ea2b141a & Bacteria &  Bacteroidota   &  Bacteroidia         &  Bacteroidales    &  Bacteroidaceae     &  Bacteroides          &  Bacteroides\\_fragilis\\\\\n",
       "\tc6256b8ca548753525c7e45fc2faae7a & Bacteria &  Proteobacteria &  Gammaproteobacteria &  Enterobacterales &  Enterobacteriaceae &  Escherichia-Shigella &  Escherichia\\_sp.     \\\\\n",
       "\t1cce571d048c08affacf0c5018a2d16b & Bacteria &  Firmicutes     &  Clostridia          &  Oscillospirales  &  Ruminococcaceae    &  Faecalibacterium     &  human\\_gut           \\\\\n",
       "\tb6861df288b33d1326996af77c70f680 & Bacteria &  Firmicutes     &  Clostridia          &  Oscillospirales  &  Ruminococcaceae    &  Faecalibacterium     &  gut\\_metagenome      \\\\\n",
       "\tf86dfa006a15a63433aa50170c3b412f & Bacteria &  Bacteroidota   &  Bacteroidia         &  Bacteroidales    &  Bacteroidaceae     &  Bacteroides          & NA                   \\\\\n",
       "\\end{tabular}\n"
      ],
      "text/markdown": [
       "\n",
       "A taxonomyTable: 6 × 7 of type chr\n",
       "\n",
       "| <!--/--> | superkingdom | phylum | class | order | family | genus | species |\n",
       "|---|---|---|---|---|---|---|---|\n",
       "| b7d71352bb89f991f7a0023b7596bc1c | Bacteria |  Bacteroidota   |  Bacteroidia         |  Bacteroidales    |  Bacteroidaceae     |  Bacteroides          |  Bacteroides_vulgatus |\n",
       "| 1ea34271f850146467c46488ea2b141a | Bacteria |  Bacteroidota   |  Bacteroidia         |  Bacteroidales    |  Bacteroidaceae     |  Bacteroides          |  Bacteroides_fragilis |\n",
       "| c6256b8ca548753525c7e45fc2faae7a | Bacteria |  Proteobacteria |  Gammaproteobacteria |  Enterobacterales |  Enterobacteriaceae |  Escherichia-Shigella |  Escherichia_sp.      |\n",
       "| 1cce571d048c08affacf0c5018a2d16b | Bacteria |  Firmicutes     |  Clostridia          |  Oscillospirales  |  Ruminococcaceae    |  Faecalibacterium     |  human_gut            |\n",
       "| b6861df288b33d1326996af77c70f680 | Bacteria |  Firmicutes     |  Clostridia          |  Oscillospirales  |  Ruminococcaceae    |  Faecalibacterium     |  gut_metagenome       |\n",
       "| f86dfa006a15a63433aa50170c3b412f | Bacteria |  Bacteroidota   |  Bacteroidia         |  Bacteroidales    |  Bacteroidaceae     |  Bacteroides          | NA                    |\n",
       "\n"
      ],
      "text/plain": [
       "                                 superkingdom phylum         \n",
       "b7d71352bb89f991f7a0023b7596bc1c Bacteria      Bacteroidota  \n",
       "1ea34271f850146467c46488ea2b141a Bacteria      Bacteroidota  \n",
       "c6256b8ca548753525c7e45fc2faae7a Bacteria      Proteobacteria\n",
       "1cce571d048c08affacf0c5018a2d16b Bacteria      Firmicutes    \n",
       "b6861df288b33d1326996af77c70f680 Bacteria      Firmicutes    \n",
       "f86dfa006a15a63433aa50170c3b412f Bacteria      Bacteroidota  \n",
       "                                 class                order            \n",
       "b7d71352bb89f991f7a0023b7596bc1c  Bacteroidia          Bacteroidales   \n",
       "1ea34271f850146467c46488ea2b141a  Bacteroidia          Bacteroidales   \n",
       "c6256b8ca548753525c7e45fc2faae7a  Gammaproteobacteria  Enterobacterales\n",
       "1cce571d048c08affacf0c5018a2d16b  Clostridia           Oscillospirales \n",
       "b6861df288b33d1326996af77c70f680  Clostridia           Oscillospirales \n",
       "f86dfa006a15a63433aa50170c3b412f  Bacteroidia          Bacteroidales   \n",
       "                                 family              genus                \n",
       "b7d71352bb89f991f7a0023b7596bc1c  Bacteroidaceae      Bacteroides         \n",
       "1ea34271f850146467c46488ea2b141a  Bacteroidaceae      Bacteroides         \n",
       "c6256b8ca548753525c7e45fc2faae7a  Enterobacteriaceae  Escherichia-Shigella\n",
       "1cce571d048c08affacf0c5018a2d16b  Ruminococcaceae     Faecalibacterium    \n",
       "b6861df288b33d1326996af77c70f680  Ruminococcaceae     Faecalibacterium    \n",
       "f86dfa006a15a63433aa50170c3b412f  Bacteroidaceae      Bacteroides         \n",
       "                                 species              \n",
       "b7d71352bb89f991f7a0023b7596bc1c  Bacteroides_vulgatus\n",
       "1ea34271f850146467c46488ea2b141a  Bacteroides_fragilis\n",
       "c6256b8ca548753525c7e45fc2faae7a  Escherichia_sp.     \n",
       "1cce571d048c08affacf0c5018a2d16b  human_gut           \n",
       "b6861df288b33d1326996af77c70f680  gut_metagenome      \n",
       "f86dfa006a15a63433aa50170c3b412f NA                   "
      ]
     },
     "metadata": {},
     "output_type": "display_data"
    }
   ],
   "source": [
    "taxonomy <- read.csv(tax_path, sep = \"\\t\")\n",
    "taxonomy <- taxonomy %>% \n",
    "    mutate(tax = str_split(Taxon, pattern = \";\")) %>% \n",
    "    mutate(t = map(tax, extract_names))\n",
    "taxonomy <- taxonomy %>% select(-c(Taxon, tax)) %>% unnest(t) %>% select(-Confidence) %>% \n",
    "    column_to_rownames(var = \"Feature.ID\")\n",
    "taxonomy <- as.matrix(taxonomy)\n",
    "taxtab <- tax_table(taxonomy)\n",
    "head(taxtab)"
   ]
  },
  {
   "cell_type": "code",
   "execution_count": 62,
   "id": "93cc0e81-c212-4040-9934-70b3d173d431",
   "metadata": {},
   "outputs": [
    {
     "data": {
      "text/plain": [
       "phyloseq-class experiment-level object\n",
       "otu_table()   OTU Table:         [ 4765 taxa and 639 samples ]\n",
       "tax_table()   Taxonomy Table:    [ 4765 taxa by 7 taxonomic ranks ]"
      ]
     },
     "metadata": {},
     "output_type": "display_data"
    }
   ],
   "source": [
    "physeq <- phyloseq(otu, taxtab)\n",
    "physeq\n",
    "saveRDS(physeq, file = here(\"data\", \"pred_relabun_ibd_16s_physeq.rds\"))"
   ]
  }
 ],
 "metadata": {
  "kernelspec": {
   "display_name": "R [conda env:notebook] *",
   "language": "R",
   "name": "conda-env-notebook-r"
  },
  "language_info": {
   "codemirror_mode": "r",
   "file_extension": ".r",
   "mimetype": "text/x-r-source",
   "name": "R",
   "pygments_lexer": "r",
   "version": "4.1.3"
  }
 },
 "nbformat": 4,
 "nbformat_minor": 5
}
