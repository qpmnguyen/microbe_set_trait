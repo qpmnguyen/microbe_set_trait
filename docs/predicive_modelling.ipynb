{
 "cells": [
  {
   "cell_type": "markdown",
   "id": "05d89de4-812c-44cf-a1ba-b223d8c216bc",
   "metadata": {},
   "source": [
    "# Interactive predictive model fitting for classifying case/control  "
   ]
  },
  {
   "cell_type": "markdown",
   "id": "2b270c28-cf39-4a18-af02-be1c7f54ebf7",
   "metadata": {},
   "source": [
    "Quang Nguyen   \n",
    "Last updated 2022-05-03"
   ]
  },
  {
   "cell_type": "code",
   "execution_count": 1,
   "id": "c4be1348-0ea9-451a-9249-55bf6cfc81be",
   "metadata": {},
   "outputs": [],
   "source": [
    "import numpy as np \n",
    "import pandas as pd\n",
    "import sys\n",
    "import matplotlib.pyplot as plt\n",
    "from sklearn.ensemble import RandomForestClassifier\n",
    "from sklearn.calibration import CalibratedClassifierCV\n",
    "from sklearn.model_selection import KFold, cross_val_score, cross_validate, train_test_split\n",
    "from sklearn.preprocessing import FunctionTransformer\n",
    "from sklearn.metrics import accuracy_score, brier_score_loss, roc_auc_score\n",
    "from sklearn.inspection import permutation_importance\n",
    "from skbio.stats.composition import clr, multiplicative_replacement\n",
    "from sklearn.pipeline import Pipeline, make_pipeline\n",
    "from sklearn import preprocessing\n",
    "from sklearn.linear_model import LogisticRegression\n",
    "import pickle\n",
    "import timeit"
   ]
  },
  {
   "cell_type": "markdown",
   "id": "6650d197-3f55-492e-985a-a60512c5b1c8",
   "metadata": {},
   "source": [
    "Loading custom functions from the `pred_eval` model"
   ]
  },
  {
   "cell_type": "code",
   "execution_count": 2,
   "id": "62754d66-e9c3-4c29-a694-9df70570b95d",
   "metadata": {},
   "outputs": [],
   "source": [
    "sys.path.insert(1, '../python/')\n",
    "from pred_eval import prior_preprocess, clr_transform, create_pipeline"
   ]
  },
  {
   "cell_type": "code",
   "execution_count": 3,
   "id": "ee18b54c-f861-4cde-b146-501971b40c5c",
   "metadata": {},
   "outputs": [],
   "source": [
    "np.random.seed(160497)"
   ]
  },
  {
   "cell_type": "markdown",
   "id": "01585c7f-3840-46db-852e-6a373d0f75a1",
   "metadata": {},
   "source": [
    "## Example using IBD pathways data "
   ]
  },
  {
   "cell_type": "code",
   "execution_count": 4,
   "id": "bb2da6ed-7f99-4771-876c-04b8e1c15281",
   "metadata": {},
   "outputs": [
    {
     "data": {
      "text/plain": [
       "CD    339\n",
       "no    194\n",
       "Name: diseasesubtype, dtype: int64"
      ]
     },
     "execution_count": 4,
     "metadata": {},
     "output_type": "execute_result"
    }
   ],
   "source": [
    "feat = pd.read_csv(\"../data/trait_ibd_16s_feat.csv\", index_col = 0)\n",
    "lab = pd.read_csv(\"../data/pred_picrust2_ibd_metadata.csv\", index_col = 0)\n",
    "lab.diseasesubtype.value_counts()"
   ]
  },
  {
   "cell_type": "code",
   "execution_count": 7,
   "id": "4e68db8e-ae2a-4ee0-a71b-13967ef9a55a",
   "metadata": {},
   "outputs": [],
   "source": [
    "feat = pd.read_csv(\"../data/pred_pathway_ibd_feat.csv\", index_col=0)\n",
    "lab = pd.read_csv(\"../data/pred_pathway_ibd_metadata.csv\", index_col=0)"
   ]
  },
  {
   "cell_type": "code",
   "execution_count": 10,
   "id": "5ac866e6-d886-4590-aa47-41257040191e",
   "metadata": {},
   "outputs": [
    {
     "data": {
      "text/plain": [
       "Pipeline(steps=[('calib_rf',\n",
       "                 CalibratedClassifierCV(base_estimator=RandomForestClassifier(max_features='sqrt',\n",
       "                                                                              n_estimators=500),\n",
       "                                        cv=5))])"
      ]
     },
     "execution_count": 10,
     "metadata": {},
     "output_type": "execute_result"
    }
   ],
   "source": [
    "X, y = prior_preprocess(feat, lab, \"diseasesubtype\", \"CD\")\n",
    "pipe = create_pipeline(False)\n",
    "pipe"
   ]
  },
  {
   "cell_type": "code",
   "execution_count": 11,
   "id": "f96ffae5-ba2c-4140-8ed0-4042aeb978b7",
   "metadata": {},
   "outputs": [],
   "source": [
    "X_train, X_test, y_train, y_test = train_test_split(X, y)"
   ]
  },
  {
   "cell_type": "code",
   "execution_count": 12,
   "id": "4b9fafc2-b1b4-4b7c-a54e-a220449dc401",
   "metadata": {},
   "outputs": [],
   "source": [
    "fitted_mod = pipe.fit(X_train, y_train)"
   ]
  },
  {
   "cell_type": "code",
   "execution_count": 13,
   "id": "82a2e232-8342-4748-bd9d-65b51155bcdb",
   "metadata": {},
   "outputs": [],
   "source": [
    "r = permutation_importance(fitted_mod, X_test, y_test, n_repeats = 2, n_jobs = 2, scoring = \"roc_auc\")"
   ]
  },
  {
   "cell_type": "code",
   "execution_count": 29,
   "id": "0bc03367-3bd0-41b7-9e80-25345456b85f",
   "metadata": {},
   "outputs": [
    {
     "data": {
      "text/html": [
       "<div>\n",
       "<style scoped>\n",
       "    .dataframe tbody tr th:only-of-type {\n",
       "        vertical-align: middle;\n",
       "    }\n",
       "\n",
       "    .dataframe tbody tr th {\n",
       "        vertical-align: top;\n",
       "    }\n",
       "\n",
       "    .dataframe thead th {\n",
       "        text-align: right;\n",
       "    }\n",
       "</style>\n",
       "<table border=\"1\" class=\"dataframe\">\n",
       "  <thead>\n",
       "    <tr style=\"text-align: right;\">\n",
       "      <th></th>\n",
       "      <th>bacillus;cell_shape</th>\n",
       "      <th>glucose;substrate</th>\n",
       "      <th>melibiose;substrate</th>\n",
       "      <th>maltose;substrate</th>\n",
       "      <th>leucine;substrate</th>\n",
       "      <th>succinate;substrate</th>\n",
       "      <th>propionate;substrate</th>\n",
       "      <th>adonitol;substrate</th>\n",
       "      <th>sucrose;substrate</th>\n",
       "      <th>fructose;substrate</th>\n",
       "      <th>fucose;substrate</th>\n",
       "      <th>acetate;substrate</th>\n",
       "      <th>pleomorphic;cell_shape</th>\n",
       "      <th>arginine;substrate</th>\n",
       "      <th>tween_40;substrate</th>\n",
       "    </tr>\n",
       "  </thead>\n",
       "  <tbody>\n",
       "    <tr>\n",
       "      <th>0</th>\n",
       "      <td>-0.007092</td>\n",
       "      <td>-0.008560</td>\n",
       "      <td>-0.006359</td>\n",
       "      <td>-0.010027</td>\n",
       "      <td>-0.007337</td>\n",
       "      <td>-0.007337</td>\n",
       "      <td>-0.005136</td>\n",
       "      <td>-0.004402</td>\n",
       "      <td>-0.006114</td>\n",
       "      <td>-0.005136</td>\n",
       "      <td>-0.003668</td>\n",
       "      <td>-0.004157</td>\n",
       "      <td>-0.004157</td>\n",
       "      <td>-0.003424</td>\n",
       "      <td>-0.004647</td>\n",
       "    </tr>\n",
       "    <tr>\n",
       "      <th>1</th>\n",
       "      <td>-0.007826</td>\n",
       "      <td>-0.004647</td>\n",
       "      <td>-0.006848</td>\n",
       "      <td>-0.001467</td>\n",
       "      <td>-0.004157</td>\n",
       "      <td>-0.003913</td>\n",
       "      <td>-0.006114</td>\n",
       "      <td>-0.005380</td>\n",
       "      <td>-0.002446</td>\n",
       "      <td>-0.002935</td>\n",
       "      <td>-0.004402</td>\n",
       "      <td>-0.003668</td>\n",
       "      <td>-0.003668</td>\n",
       "      <td>-0.004157</td>\n",
       "      <td>-0.001223</td>\n",
       "    </tr>\n",
       "  </tbody>\n",
       "</table>\n",
       "</div>"
      ],
      "text/plain": [
       "   bacillus;cell_shape  glucose;substrate  melibiose;substrate  \\\n",
       "0            -0.007092          -0.008560            -0.006359   \n",
       "1            -0.007826          -0.004647            -0.006848   \n",
       "\n",
       "   maltose;substrate  leucine;substrate  succinate;substrate  \\\n",
       "0          -0.010027          -0.007337            -0.007337   \n",
       "1          -0.001467          -0.004157            -0.003913   \n",
       "\n",
       "   propionate;substrate  adonitol;substrate  sucrose;substrate  \\\n",
       "0             -0.005136           -0.004402          -0.006114   \n",
       "1             -0.006114           -0.005380          -0.002446   \n",
       "\n",
       "   fructose;substrate  fucose;substrate  acetate;substrate  \\\n",
       "0           -0.005136         -0.003668          -0.004157   \n",
       "1           -0.002935         -0.004402          -0.003668   \n",
       "\n",
       "   pleomorphic;cell_shape  arginine;substrate  tween_40;substrate  \n",
       "0               -0.004157           -0.003424           -0.004647  \n",
       "1               -0.003668           -0.004157           -0.001223  "
      ]
     },
     "execution_count": 29,
     "metadata": {},
     "output_type": "execute_result"
    }
   ],
   "source": [
    "sorted_idx = r.importances_mean.argsort()[range(0,15)]\n",
    "importances = r.importances[sorted_idx].T\n",
    "labels = feat.columns[sorted_idx]\n",
    "pd.DataFrame(importances, columns =labels)"
   ]
  },
  {
   "cell_type": "code",
   "execution_count": 28,
   "id": "740aa3ad-b5f2-436b-9252-e6692d89ac07",
   "metadata": {},
   "outputs": [
    {
     "data": {
      "text/plain": [
       "numpy.ndarray"
      ]
     },
     "execution_count": 28,
     "metadata": {},
     "output_type": "execute_result"
    }
   ],
   "source": [
    "type(importances)"
   ]
  },
  {
   "cell_type": "code",
   "execution_count": 22,
   "id": "d1a927aa-fc90-4ee7-8e86-9620dbbd2a3f",
   "metadata": {},
   "outputs": [
    {
     "data": {
      "image/png": "[encoded data removed]",
      "text/plain": [
       "<Figure size 432x288 with 1 Axes>"
      ]
     },
     "metadata": {
      "needs_background": "light"
     },
     "output_type": "display_data"
    }
   ],
   "source": [
    "#sorted_idx = r.importances_mean.argsort()\n",
    "\n",
    "fig, ax = plt.subplots()\n",
    "ax.boxplot(\n",
    "    r.importances[sorted_idx].T, vert=False, labels=feat.columns[sorted_idx]\n",
    ")\n",
    "ax.set_title(\"Permutation Importances (test set)\")\n",
    "fig.tight_layout()\n",
    "plt.show()"
   ]
  },
  {
   "cell_type": "markdown",
   "id": "8c0749b2-79a3-4637-8032-d9a2194df8d2",
   "metadata": {},
   "source": [
    "## Calibration curves"
   ]
  },
  {
   "cell_type": "code",
   "execution_count": null,
   "id": "662c7078-fe75-47cd-ab34-86b047f9abc0",
   "metadata": {},
   "outputs": [],
   "source": [
    "y_pred = fitted_mod.predict_proba()"
   ]
  },
  {
   "cell_type": "code",
   "execution_count": null,
   "id": "0e59a379-9bb4-4710-8d56-f3d9598cab99",
   "metadata": {},
   "outputs": [],
   "source": [
    "help(fitted_mod.predict_proba)"
   ]
  },
  {
   "cell_type": "markdown",
   "id": "1d0cf7ff-ed8c-4d18-9a6d-19e150fc4241",
   "metadata": {},
   "source": [
    "# Performing the same analysis for other datasets"
   ]
  }
 ],
 "metadata": {
  "kernelspec": {
   "display_name": "Python [conda env:.conda-pred_models]",
   "language": "python",
   "name": "conda-env-.conda-pred_models-py"
  },
  "language_info": {
   "codemirror_mode": {
    "name": "ipython",
    "version": 3
   },
   "file_extension": ".py",
   "mimetype": "text/x-python",
   "name": "python",
   "nbconvert_exporter": "python",
   "pygments_lexer": "ipython3",
   "version": "3.9.12"
  }
 },
 "nbformat": 4,
 "nbformat_minor": 5
}
