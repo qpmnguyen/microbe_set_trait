{
 "cells": [
  {
   "cell_type": "markdown",
   "id": "2b99aa52-8ce3-48d4-87e7-ad944d904f4b",
   "metadata": {},
   "source": [
    "# Reformatting PICRUSt2 results into csv files for prediction and concordance analyses"
   ]
  },
  {
   "cell_type": "markdown",
   "id": "fb0ece85-251a-4575-864a-d4d98b2e833d",
   "metadata": {},
   "source": [
    "Quang Nguyen.   \n",
    "Last updated 2022-04-27. "
   ]
  },
  {
   "cell_type": "code",
   "execution_count": 1,
   "id": "f505025d-c24d-4ed0-9d50-a47224f1195f",
   "metadata": {},
   "outputs": [],
   "source": [
    "import pandas as pd"
   ]
  },
  {
   "cell_type": "markdown",
   "id": "15534f7d-e204-4b16-862d-183e982506e0",
   "metadata": {},
   "source": [
    "Process CRC data set"
   ]
  },
  {
   "cell_type": "code",
   "execution_count": 61,
   "id": "5a5372da-5a16-42a9-9767-6f35a0f4e4f6",
   "metadata": {},
   "outputs": [],
   "source": [
    "feat = pd.read_csv(\"../output/picrust2/crc_16s/pathways_out/path_abun_unstrat.tsv.gz\", sep = \"\\t\", header=None, \n",
    "                  index_col = 0)\n",
    "meta = pd.read_csv(\"../metadata/crc_qiime2_metadata.tsv\", sep = \"\\t\")"
   ]
  },
  {
   "cell_type": "code",
   "execution_count": 62,
   "id": "5d345686-c00e-44da-bfdb-52c51dae07da",
   "metadata": {},
   "outputs": [],
   "source": [
    "feat = feat.T\n",
    "feat = feat.rename(columns = {\"pathway\" : \"sample-id\"})"
   ]
  },
  {
   "cell_type": "code",
   "execution_count": 63,
   "id": "cce0310d-748d-41ae-b2dc-be09ed3e8fca",
   "metadata": {},
   "outputs": [
    {
     "data": {
      "text/plain": [
       "Cancer           53\n",
       "Normal           50\n",
       "Small adenoma    25\n",
       "Large adenoma    13\n",
       "Name: diagnosis, dtype: int64"
      ]
     },
     "execution_count": 63,
     "metadata": {},
     "output_type": "execute_result"
    }
   ],
   "source": [
    "meta.diagnosis.value_counts()"
   ]
  },
  {
   "cell_type": "code",
   "execution_count": 64,
   "id": "8ba53290-a6fb-41a4-baae-f1de2cd298a4",
   "metadata": {},
   "outputs": [
    {
     "data": {
      "text/html": [
       "<div>\n",
       "<style scoped>\n",
       "    .dataframe tbody tr th:only-of-type {\n",
       "        vertical-align: middle;\n",
       "    }\n",
       "\n",
       "    .dataframe tbody tr th {\n",
       "        vertical-align: top;\n",
       "    }\n",
       "\n",
       "    .dataframe thead th {\n",
       "        text-align: right;\n",
       "    }\n",
       "</style>\n",
       "<table border=\"1\" class=\"dataframe\">\n",
       "  <thead>\n",
       "    <tr style=\"text-align: right;\">\n",
       "      <th></th>\n",
       "      <th>sample-id</th>\n",
       "      <th>1CMET2-PWY</th>\n",
       "      <th>3-HYDROXYPHENYLACETATE-DEGRADATION-PWY</th>\n",
       "      <th>ALL-CHORISMATE-PWY</th>\n",
       "      <th>ANAEROFRUCAT-PWY</th>\n",
       "      <th>ANAGLYCOLYSIS-PWY</th>\n",
       "      <th>ARG+POLYAMINE-SYN</th>\n",
       "      <th>ARGDEG-PWY</th>\n",
       "      <th>ARGORNPROST-PWY</th>\n",
       "      <th>ARGSYN-PWY</th>\n",
       "      <th>...</th>\n",
       "      <th>THISYN-PWY</th>\n",
       "      <th>THREOCAT-PWY</th>\n",
       "      <th>THRESYN-PWY</th>\n",
       "      <th>TRNA-CHARGING-PWY</th>\n",
       "      <th>TRPSYN-PWY</th>\n",
       "      <th>TYRFUMCAT-PWY</th>\n",
       "      <th>UBISYN-PWY</th>\n",
       "      <th>UDPNAGSYN-PWY</th>\n",
       "      <th>VALDEG-PWY</th>\n",
       "      <th>VALSYN-PWY</th>\n",
       "    </tr>\n",
       "  </thead>\n",
       "  <tbody>\n",
       "    <tr>\n",
       "      <th>1</th>\n",
       "      <td>DE-013</td>\n",
       "      <td>61973.91933251762</td>\n",
       "      <td>67.85731800195911</td>\n",
       "      <td>673.6141185916941</td>\n",
       "      <td>60077.10084855479</td>\n",
       "      <td>75998.57921049336</td>\n",
       "      <td>12238.506185741428</td>\n",
       "      <td>77.88788425889851</td>\n",
       "      <td>5417.421675205796</td>\n",
       "      <td>42005.34332144665</td>\n",
       "      <td>...</td>\n",
       "      <td>47573.829745305244</td>\n",
       "      <td>138.689713491819</td>\n",
       "      <td>73957.86487062651</td>\n",
       "      <td>65015.840482808504</td>\n",
       "      <td>54262.87288743421</td>\n",
       "      <td>223.76597489023533</td>\n",
       "      <td>1487.094100200029</td>\n",
       "      <td>29543.016481934348</td>\n",
       "      <td>0.0</td>\n",
       "      <td>75093.97647569676</td>\n",
       "    </tr>\n",
       "    <tr>\n",
       "      <th>2</th>\n",
       "      <td>DE-029</td>\n",
       "      <td>87095.5147461876</td>\n",
       "      <td>3643.129838213508</td>\n",
       "      <td>16102.596458952266</td>\n",
       "      <td>79376.66223894118</td>\n",
       "      <td>110133.19807518156</td>\n",
       "      <td>33986.158956427505</td>\n",
       "      <td>4597.498472849865</td>\n",
       "      <td>16514.1377539049</td>\n",
       "      <td>72920.16762312053</td>\n",
       "      <td>...</td>\n",
       "      <td>66102.6767625961</td>\n",
       "      <td>718.3805838410658</td>\n",
       "      <td>102065.88527844098</td>\n",
       "      <td>95455.80815320261</td>\n",
       "      <td>75179.28574235355</td>\n",
       "      <td>7131.197491124653</td>\n",
       "      <td>14277.211940487115</td>\n",
       "      <td>59824.613320583376</td>\n",
       "      <td>0.0</td>\n",
       "      <td>111519.2158981305</td>\n",
       "    </tr>\n",
       "    <tr>\n",
       "      <th>3</th>\n",
       "      <td>DE-031</td>\n",
       "      <td>95868.59080758912</td>\n",
       "      <td>185.4740519809013</td>\n",
       "      <td>1445.6667441393508</td>\n",
       "      <td>101269.57122093817</td>\n",
       "      <td>130964.31204106689</td>\n",
       "      <td>24410.373227526903</td>\n",
       "      <td>297.42280011939476</td>\n",
       "      <td>5642.883596584262</td>\n",
       "      <td>73228.58973755263</td>\n",
       "      <td>...</td>\n",
       "      <td>73548.40437391664</td>\n",
       "      <td>484.59289318393957</td>\n",
       "      <td>114046.55058113179</td>\n",
       "      <td>104778.7606209109</td>\n",
       "      <td>81972.44971688415</td>\n",
       "      <td>146.77763829996474</td>\n",
       "      <td>5799.502595354073</td>\n",
       "      <td>52291.89672594335</td>\n",
       "      <td>20.968215745652277</td>\n",
       "      <td>119840.9833938164</td>\n",
       "    </tr>\n",
       "    <tr>\n",
       "      <th>4</th>\n",
       "      <td>DE-034</td>\n",
       "      <td>67249.82708187414</td>\n",
       "      <td>7705.641481573197</td>\n",
       "      <td>19024.389954852995</td>\n",
       "      <td>64159.45608814975</td>\n",
       "      <td>86332.64538316694</td>\n",
       "      <td>33304.75517947081</td>\n",
       "      <td>10517.845389310405</td>\n",
       "      <td>2530.272871565265</td>\n",
       "      <td>59666.43466720876</td>\n",
       "      <td>...</td>\n",
       "      <td>40853.86430631721</td>\n",
       "      <td>6633.384845013459</td>\n",
       "      <td>77622.51557920192</td>\n",
       "      <td>76052.44783402057</td>\n",
       "      <td>60207.68394415295</td>\n",
       "      <td>63.803384733773065</td>\n",
       "      <td>12331.386739700989</td>\n",
       "      <td>57794.85529760696</td>\n",
       "      <td>1202.9145356954589</td>\n",
       "      <td>86135.55807982513</td>\n",
       "    </tr>\n",
       "    <tr>\n",
       "      <th>5</th>\n",
       "      <td>DE-037</td>\n",
       "      <td>65139.67051477415</td>\n",
       "      <td>60.73170009372745</td>\n",
       "      <td>709.5503667393648</td>\n",
       "      <td>61555.258713062954</td>\n",
       "      <td>78960.5739579014</td>\n",
       "      <td>19476.78325802615</td>\n",
       "      <td>44.57436803139535</td>\n",
       "      <td>10655.96496168623</td>\n",
       "      <td>61288.3323045651</td>\n",
       "      <td>...</td>\n",
       "      <td>51833.85779736296</td>\n",
       "      <td>73.76899815050776</td>\n",
       "      <td>78948.9283939209</td>\n",
       "      <td>72446.36680705452</td>\n",
       "      <td>57800.809931621574</td>\n",
       "      <td>2869.4021249528405</td>\n",
       "      <td>6724.685099531341</td>\n",
       "      <td>40946.25657172197</td>\n",
       "      <td>26.959435403775633</td>\n",
       "      <td>84413.83120566026</td>\n",
       "    </tr>\n",
       "  </tbody>\n",
       "</table>\n",
       "<p>5 rows × 402 columns</p>\n",
       "</div>"
      ],
      "text/plain": [
       "0 sample-id         1CMET2-PWY 3-HYDROXYPHENYLACETATE-DEGRADATION-PWY  \\\n",
       "1    DE-013  61973.91933251762                      67.85731800195911   \n",
       "2    DE-029   87095.5147461876                      3643.129838213508   \n",
       "3    DE-031  95868.59080758912                      185.4740519809013   \n",
       "4    DE-034  67249.82708187414                      7705.641481573197   \n",
       "5    DE-037  65139.67051477415                      60.73170009372745   \n",
       "\n",
       "0  ALL-CHORISMATE-PWY    ANAEROFRUCAT-PWY   ANAGLYCOLYSIS-PWY  \\\n",
       "1   673.6141185916941   60077.10084855479   75998.57921049336   \n",
       "2  16102.596458952266   79376.66223894118  110133.19807518156   \n",
       "3  1445.6667441393508  101269.57122093817  130964.31204106689   \n",
       "4  19024.389954852995   64159.45608814975   86332.64538316694   \n",
       "5   709.5503667393648  61555.258713062954    78960.5739579014   \n",
       "\n",
       "0   ARG+POLYAMINE-SYN          ARGDEG-PWY    ARGORNPROST-PWY  \\\n",
       "1  12238.506185741428   77.88788425889851  5417.421675205796   \n",
       "2  33986.158956427505   4597.498472849865   16514.1377539049   \n",
       "3  24410.373227526903  297.42280011939476  5642.883596584262   \n",
       "4   33304.75517947081  10517.845389310405  2530.272871565265   \n",
       "5   19476.78325802615   44.57436803139535  10655.96496168623   \n",
       "\n",
       "0         ARGSYN-PWY  ...          THISYN-PWY        THREOCAT-PWY  \\\n",
       "1  42005.34332144665  ...  47573.829745305244    138.689713491819   \n",
       "2  72920.16762312053  ...    66102.6767625961   718.3805838410658   \n",
       "3  73228.58973755263  ...   73548.40437391664  484.59289318393957   \n",
       "4  59666.43466720876  ...   40853.86430631721   6633.384845013459   \n",
       "5   61288.3323045651  ...   51833.85779736296   73.76899815050776   \n",
       "\n",
       "0         THRESYN-PWY   TRNA-CHARGING-PWY          TRPSYN-PWY  \\\n",
       "1   73957.86487062651  65015.840482808504   54262.87288743421   \n",
       "2  102065.88527844098   95455.80815320261   75179.28574235355   \n",
       "3  114046.55058113179   104778.7606209109   81972.44971688415   \n",
       "4   77622.51557920192   76052.44783402057   60207.68394415295   \n",
       "5    78948.9283939209   72446.36680705452  57800.809931621574   \n",
       "\n",
       "0       TYRFUMCAT-PWY          UBISYN-PWY       UDPNAGSYN-PWY  \\\n",
       "1  223.76597489023533   1487.094100200029  29543.016481934348   \n",
       "2   7131.197491124653  14277.211940487115  59824.613320583376   \n",
       "3  146.77763829996474   5799.502595354073   52291.89672594335   \n",
       "4  63.803384733773065  12331.386739700989   57794.85529760696   \n",
       "5  2869.4021249528405   6724.685099531341   40946.25657172197   \n",
       "\n",
       "0          VALDEG-PWY         VALSYN-PWY  \n",
       "1                 0.0  75093.97647569676  \n",
       "2                 0.0  111519.2158981305  \n",
       "3  20.968215745652277  119840.9833938164  \n",
       "4  1202.9145356954589  86135.55807982513  \n",
       "5  26.959435403775633  84413.83120566026  \n",
       "\n",
       "[5 rows x 402 columns]"
      ]
     },
     "execution_count": 64,
     "metadata": {},
     "output_type": "execute_result"
    }
   ],
   "source": [
    "feat.head()"
   ]
  },
  {
   "cell_type": "markdown",
   "id": "89f897ec-5bfe-4abf-9cbb-df2312531b04",
   "metadata": {},
   "source": [
    "Due to data imbalance, we're going to restrict to only Cancer versus Normal patients, and then we're going to re-arrange rows to match"
   ]
  },
  {
   "cell_type": "code",
   "execution_count": 66,
   "id": "56491882-7f9a-4855-ba8a-0333f921a6f6",
   "metadata": {},
   "outputs": [],
   "source": [
    "meta = meta[meta.diagnosis.isin([\"Cancer\", \"Normal\"])]\n",
    "merged = feat.merge(meta, on=\"sample-id\")"
   ]
  },
  {
   "cell_type": "code",
   "execution_count": 82,
   "id": "f1a47418-0fe2-4414-aa93-044efac8e1ce",
   "metadata": {},
   "outputs": [],
   "source": [
    "met_export = merged[[\"sample-id\", \"diagnosis\"]]\n",
    "met_export = met_export.set_index('sample-id')\n",
    "met_export.to_csv(\"../data/pred_picrust2_crc_metadata.csv\")"
   ]
  },
  {
   "cell_type": "code",
   "execution_count": 81,
   "id": "da586907-656c-4b5d-b40e-46a6bda57fe9",
   "metadata": {},
   "outputs": [],
   "source": [
    "feat_export = merged.loc[:,~merged.columns.isin(['diagnosis', 'seq_sample_id', 'age', \n",
    "                                                 'forward-absolute-filepath', 'reverse-absolute-filepath'])]\n",
    "feat_export = feat_export.set_index(\"sample-id\")\n",
    "feat_export.to_csv(\"../data/pred_picrust2_crc_feat.csv\")"
   ]
  },
  {
   "cell_type": "markdown",
   "id": "b76a5290-57d7-4e01-9a68-37ab005a02b5",
   "metadata": {},
   "source": [
    "Let's do the same for the remainder data set"
   ]
  },
  {
   "cell_type": "code",
   "execution_count": 83,
   "id": "0e2bad5a-cdae-4f9a-a1ad-9a727af4f8b9",
   "metadata": {},
   "outputs": [],
   "source": [
    "feat = pd.read_csv(\"../output/picrust2/ibd_16s/pathways_out/path_abun_unstrat.tsv.gz\", sep = \"\\t\", header=None, \n",
    "                  index_col = 0)\n",
    "meta = pd.read_csv(\"../metadata/ibd_qiime2_metadata.tsv\", sep = \"\\t\")"
   ]
  },
  {
   "cell_type": "code",
   "execution_count": 86,
   "id": "ab74dcda-a4f5-4804-8a53-0d4b6d64a992",
   "metadata": {},
   "outputs": [],
   "source": [
    "feat = feat.T\n",
    "feat = feat.rename(columns = {\"pathway\" : \"sample-id\"})"
   ]
  },
  {
   "cell_type": "code",
   "execution_count": 88,
   "id": "bf19b865-1b49-4a16-84a8-0c0df627cb82",
   "metadata": {},
   "outputs": [
    {
     "data": {
      "text/plain": [
       "iCD    251\n",
       "no     194\n",
       "UC      72\n",
       "cCD     70\n",
       "IC      34\n",
       "CD      18\n",
       "Name: diseasesubtype, dtype: int64"
      ]
     },
     "execution_count": 88,
     "metadata": {},
     "output_type": "execute_result"
    }
   ],
   "source": [
    "meta.diseasesubtype.value_counts()"
   ]
  },
  {
   "cell_type": "code",
   "execution_count": 91,
   "id": "dc51f1ef-25ac-4775-b7ee-65575c196353",
   "metadata": {},
   "outputs": [],
   "source": [
    "meta = meta[meta.diseasesubtype.isin([\"iCD\", \"no\", \"cCD\", \"CD\"])][[\"sample-id\", \"diseasesubtype\"]]\n",
    "meta = meta.replace({\"iCD\": \"CD\", \"cCD\": \"CD\"})"
   ]
  },
  {
   "cell_type": "code",
   "execution_count": 93,
   "id": "f8decaa2-7dae-4427-94f9-da2e5066997d",
   "metadata": {},
   "outputs": [
    {
     "data": {
      "text/plain": [
       "CD    339\n",
       "no    194\n",
       "Name: diseasesubtype, dtype: int64"
      ]
     },
     "execution_count": 93,
     "metadata": {},
     "output_type": "execute_result"
    }
   ],
   "source": [
    "meta.diseasesubtype.value_counts()"
   ]
  },
  {
   "cell_type": "code",
   "execution_count": 101,
   "id": "ebd725d3-5da9-4e4b-b1a1-ff235c1d4802",
   "metadata": {},
   "outputs": [],
   "source": [
    "merge = feat.merge(meta)\n",
    "meta_export = merge[[\"sample-id\", \"diseasesubtype\"]]\n",
    "meta_export = meta_export.set_index('sample-id')\n",
    "feat_export = merge.loc[:, ~merged.columns.isin(['diseasesubtype'])]\n",
    "feat_export = feat_export.set_index('sample-id')"
   ]
  },
  {
   "cell_type": "code",
   "execution_count": 103,
   "id": "ad7101ed-ccae-45d1-9d76-b0383b1ad61d",
   "metadata": {},
   "outputs": [],
   "source": [
    "feat_export.to_csv(\"../data/pred_picrust2_ibd_feat.csv\")\n",
    "meta_export.to_csv(\"../data/pred_picrust2_ibd_metadata.csv\")"
   ]
  }
 ],
 "metadata": {
  "kernelspec": {
   "display_name": "Python [conda env:pred_models]",
   "language": "python",
   "name": "conda-env-pred_models-py"
  },
  "language_info": {
   "codemirror_mode": {
    "name": "ipython",
    "version": 3
   },
   "file_extension": ".py",
   "mimetype": "text/x-python",
   "name": "python",
   "nbconvert_exporter": "python",
   "pygments_lexer": "ipython3",
   "version": "3.9.12"
  }
 },
 "nbformat": 4,
 "nbformat_minor": 5
}
