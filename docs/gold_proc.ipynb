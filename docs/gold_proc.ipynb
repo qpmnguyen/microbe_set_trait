{
 "cells": [
  {
   "cell_type": "markdown",
   "id": "09481af3",
   "metadata": {},
   "source": [
    "# Process GOLD database\n",
    "\n",
    "Last updated: 2022-04-14.    \n",
    "Quang Nguyen  \n",
    "\n",
    "This notebook was obtained using a conda environment with `r-base=4.1.2` and packages managed via `renv`"
   ]
  },
  {
   "cell_type": "markdown",
   "id": "b2983fe7",
   "metadata": {},
   "source": [
    "Here, we leverage data downloaded in the folder `large_files` and process the data accordingly. The objective is to collapse traits into species level and straighten out some issues with regards to naming conventions, aligning it to the base database from Madin et al. 2020. "
   ]
  },
  {
   "cell_type": "code",
   "execution_count": 6,
   "id": "28523ab4",
   "metadata": {},
   "outputs": [
    {
     "name": "stderr",
     "output_type": "stream",
     "text": [
      "\n",
      "Attaching package: ‘data.table’\n",
      "\n",
      "\n",
      "The following objects are masked from ‘package:dplyr’:\n",
      "\n",
      "    between, first, last\n",
      "\n",
      "\n",
      "The following object is masked from ‘package:purrr’:\n",
      "\n",
      "    transpose\n",
      "\n",
      "\n",
      "here() starts at /dartfs-hpc/rc/home/k/f00345k/research/microbe_set_trait\n",
      "\n"
     ]
    }
   ],
   "source": [
    "library(tidyverse)\n",
    "library(here)\n",
    "library(dtplyr)\n",
    "library(data.table)\n",
    "here::i_am(\"notebooks/gold_proc.ipynb\")"
   ]
  },
  {
   "cell_type": "markdown",
   "id": "625fcde7",
   "metadata": {},
   "source": [
    "First, we load the data from GOLD we also load the base Madin et al. database for comparison "
   ]
  },
  {
   "cell_type": "code",
   "execution_count": 4,
   "id": "35f60289",
   "metadata": {},
   "outputs": [
    {
     "name": "stderr",
     "output_type": "stream",
     "text": [
      "Warning message:\n",
      "“One or more parsing issues, see `problems()` for details”\n",
      "\u001b[1mRows: \u001b[22m\u001b[34m428241\u001b[39m \u001b[1mColumns: \u001b[22m\u001b[34m42\u001b[39m\n",
      "\u001b[36m──\u001b[39m \u001b[1mColumn specification\u001b[22m \u001b[36m───────────────────────────────────────────────────────────────────────────────────────────────────────────────────────────\u001b[39m\n",
      "\u001b[1mDelimiter:\u001b[22m \",\"\n",
      "\u001b[31mchr\u001b[39m (35): ORGANISM GOLD ID, ORGANISM NAME, ORGANISM NCBI SUPERKINGDOM, ORGAN...\n",
      "\u001b[32mdbl\u001b[39m  (4): ORGANISM NCBI TAX ID, ORGANISM ISOLATION PUBMED ID, ORGANISM ECOSY...\n",
      "\u001b[33mlgl\u001b[39m  (3): ORGANISM SALINITY CONCENTRATION, ORGANISM PRESSURE, ORGANISM CARBO...\n",
      "\n",
      "\u001b[36mℹ\u001b[39m Use `spec()` to retrieve the full column specification for this data.\n",
      "\u001b[36mℹ\u001b[39m Specify the column types or set `show_col_types = FALSE` to quiet this message.\n"
     ]
    }
   ],
   "source": [
    "pth <- here(\"large_files\", \"goldData.csv\")\n",
    "gold <- read_csv(file = pth);\n",
    "base <- read_csv(here(\"data\", \"condensed_species_NCBI.txt\")) %>% \n",
    "    select(species_tax_id, superkingdom, phylum, class, order, family, \n",
    "           genus, species, metabolism, gram_stain, pathways, \n",
    "           carbon_substrates, sporulation, motility, cell_shape) %>% \n",
    "    rename(\"substrate\" = carbon_substrates)"
   ]
  },
  {
   "cell_type": "markdown",
   "id": "50bf6454",
   "metadata": {},
   "source": [
    "We convert all column names to lower case and replace spaces with `_`. We also rename all columns to be similar to the original base database from Madin et al. Finally, we nest all relevant traits into a column called `traits`"
   ]
  },
  {
   "cell_type": "code",
   "execution_count": 7,
   "id": "2297930a",
   "metadata": {},
   "outputs": [],
   "source": [
    "# convert names \n",
    "colnames(gold) <- colnames(gold) %>% \n",
    "    gsub(x = ., pattern = \" \", replacement = \"_\") %>% \n",
    "    tolower() %>% \n",
    "    gsub(x = ., pattern = \"organism_\", replacement = \"\")\n",
    "\n",
    "\n",
    "gold_reduced <- gold %>% \n",
    "    select(ncbi_tax_id, ncbi_superkingdom,  \n",
    "            ncbi_phylum, ncbi_class, ncbi_order, ncbi_family, ncbi_genus, ncbi_species, \n",
    "            name, gram_stain, metabolism, oxygen_requirement, \n",
    "            sporulation, motility, cell_shape) %>% \n",
    "    rename(\"species_tax_id\" = ncbi_tax_id,\n",
    "           \"superkingdom\" = ncbi_superkingdom,\n",
    "           \"phylum\" = ncbi_phylum,\n",
    "           \"class\" = ncbi_class,\n",
    "           \"order\" = ncbi_order,\n",
    "           \"family\" = ncbi_family,\n",
    "           \"genus\" = ncbi_genus,\n",
    "           \"species\" = ncbi_species,\n",
    "           \"pathways\" = metabolism,\n",
    "           \"metabolism\" = oxygen_requirement) %>% \n",
    "    mutate(metabolism = str_replace(tolower(metabolism), pattern = \"obe$\", replacement = \"obic\"), \n",
    "           gram_stain = if_else(gram_stain == \"Gram-\", \"negative\", \"positive\"), \n",
    "           sporulation = if_else(sporulation == \"Nonsporulating\", \"no\", \"yes\"), \n",
    "           motility = case_when(\n",
    "               motility == \"Nonmotile\" ~ \"no\", \n",
    "               motility == \"Motile\" ~ \"yes\", \n",
    "               TRUE ~ motility\n",
    "           ), \n",
    "           cell_shape = tolower(str_replace(cell_shape,\"-shaped\",\"\")),\n",
    "           cell_shape = case_when(\n",
    "               cell_shape %in% c(\"rod\") ~ \"bacillus\",\n",
    "               cell_shape %in% c(\"sphere\", \"oval\", \n",
    "                                 \"bean\", \"coccoid\", \"ovoid\", \n",
    "                                 \"spore\", \"Coccus-shaped\") ~ \"coccus\", \n",
    "               cell_shape %in% c(\"helical\") ~ \"spiral\", \n",
    "               cell_shape %in% c(\"curved\") ~ \"vibrio\", \n",
    "               cell_shape %in% c(\"flask\", \"open-ring\", \"lancet\") ~ \"irregular\", \n",
    "               # only Mycoplasma genitalium for flask \n",
    "               # only Thiomicrospira cyclica for open-ring\n",
    "               # only Nitrolancea hollandica for lancet\n",
    "               TRUE ~ cell_shape\n",
    "           )) %>% \n",
    "    as.data.table()"
   ]
  },
  {
   "cell_type": "code",
   "execution_count": 8,
   "id": "ca9ae281",
   "metadata": {},
   "outputs": [
    {
     "data": {
      "text/plain": [
       "\u001b[1mSource: \u001b[22mlocal data table [11,177 x 9]\n",
       "\u001b[1mGroups: \u001b[22mspecies_tax_id, superkingdom, phylum, class, order, family, genus, species\n",
       "\u001b[1mCall:\u001b[22m\n",
       "  _DT2 <- `_DT1`[, .(species_tax_id, superkingdom, phylum, class, order, family, genus,\n",
       "  _DT2 <-   species, gram_stain, pathways, metabolism, sporulation, motility, cell_shape)][\n",
       "  _DT2 <-   , .(traits = .(.SD)), by = .(species_tax_id, superkingdom, phylum, class,\n",
       "  _DT2 <-     order, family, genus, species)]\n",
       "  na.omit(`_DT2`[`_DT2`[, .I[map_lgl(traits, ~{\n",
       "    nrow(.x) > 1\n",
       "})], by = .(species_tax_id, superkingdom, phylum, class, order, \n",
       "    family, genus, species)]$V1], cols = \"species_tax_id\")\n",
       "\n",
       "  species_tax_id superkingdom phylum       class      order family genus species\n",
       "           \u001b[3m\u001b[90m<dbl>\u001b[39m\u001b[23m \u001b[3m\u001b[90m<chr>\u001b[39m\u001b[23m        \u001b[3m\u001b[90m<chr>\u001b[39m\u001b[23m        \u001b[3m\u001b[90m<chr>\u001b[39m\u001b[23m      \u001b[3m\u001b[90m<chr>\u001b[39m\u001b[23m \u001b[3m\u001b[90m<chr>\u001b[39m\u001b[23m  \u001b[3m\u001b[90m<chr>\u001b[39m\u001b[23m \u001b[3m\u001b[90m<chr>\u001b[39m\u001b[23m  \n",
       "\u001b[90m1\u001b[39m          \u001b[4m5\u001b[24m\u001b[4m4\u001b[24m005 Bacteria     Firmicutes   Tissierel… Tiss… Pepto… Pept… Pepton…\n",
       "\u001b[90m2\u001b[39m           \u001b[4m1\u001b[24m280 Bacteria     Firmicutes   Bacilli    Baci… Staph… Stap… Staphy…\n",
       "\u001b[90m3\u001b[39m         \u001b[4m4\u001b[24m\u001b[4m6\u001b[24m\u001b[4m4\u001b[24m988 Eukaryota    \u001b[31mNA\u001b[39m           Cryptophy… Cryp… Hemis… Hemi… Hemise…\n",
       "\u001b[90m4\u001b[39m           \u001b[4m5\u001b[24m011 Eukaryota    Ascomycota   Taphrinom… Taph… Taphr… Taph… Taphri…\n",
       "\u001b[90m5\u001b[39m           \u001b[4m5\u001b[24m865 Eukaryota    Apicomplexa  Aconoidas… Piro… Babes… Babe… Babesi…\n",
       "\u001b[90m6\u001b[39m          \u001b[4m2\u001b[24m\u001b[4m9\u001b[24m760 Eukaryota    Streptophyta Magnoliop… Vita… Vitac… Vitis Vitis …\n",
       "\u001b[90m# … with 11,171 more rows, and 1 more variable: traits <list>\u001b[39m\n",
       "\n",
       "\u001b[90m# Use as.data.table()/as.data.frame()/as_tibble() to access results\u001b[39m"
      ]
     },
     "metadata": {},
     "output_type": "display_data"
    }
   ],
   "source": [
    "# nest traits \n",
    "tbl <- gold_reduced %>%\n",
    "    select(-name) %>%\n",
    "    group_by(species_tax_id, superkingdom, phylum, class, order, \n",
    "             family, genus, species) %>%\n",
    "    nest(traits = c(gram_stain, pathways, metabolism, \n",
    "           cell_shape, motility, sporulation))\n",
    "    \n",
    "\n",
    "# a subset of the table that has more than one row per trait nested values \n",
    "tbl_munge <- tbl %>% filter(map_lgl(traits, ~{nrow(.x) > 1})) %>% drop_na(species_tax_id)\n",
    "tbl_munge"
   ]
  },
  {
   "cell_type": "markdown",
   "id": "d1ea2aaf",
   "metadata": {},
   "source": [
    "`tbl_munge` is a subset of the GOLD database where more than one row of traits for each species identifier (presumably conflicting information or due to multiple strains within species). Within this, for `gram_stain`, `metabolism`, `sporulation`, `motility`, and `cell_shape`, the trait for the species will be the top trait, assuming that trait is represented more than 50\\% of the rows. A lof of the times, the trait vectors are actually identical and we're merely collapsing duplicates. For `pathways` we simply append all the relevant pathways and then return only the uniquely identified ones. "
   ]
  },
  {
   "cell_type": "code",
   "execution_count": 9,
   "id": "864287aa",
   "metadata": {},
   "outputs": [],
   "source": [
    "# This function takes a data frame and a column \n",
    "# and selects the response with the highest frequency\n",
    "select_best <- function(df, column){\n",
    "    vec <- unlist(df[,..column])\n",
    "    freq <- as.data.frame(table(vec))\n",
    "    if (nrow(freq) == 0){\n",
    "        return(NA_character_)\n",
    "    } else {\n",
    "        freq <- freq %>% mutate(prop = Freq/sum(Freq)) %>%\n",
    "            filter(prop > 0.5) %>% top_n(n = 1, wt = prop)\n",
    "        return(freq %>% pull(vec) %>% as.vector())\n",
    "    }\n",
    "}\n",
    "\n",
    "# This function then utilizes select_best\n",
    "# to process entries with duplicates (more than one row)\n",
    "# for pathways, the goal is to concatenate them\n",
    "process_duplicates <- function(df){\n",
    "    # get only unique rows\n",
    "    df <- unique(df)\n",
    "    if (nrow(df) == 1){\n",
    "        return(df)\n",
    "    }\n",
    "    v <- c(\"gram_stain\", \"pathways\", \"metabolism\", \n",
    "           \"sporulation\", \"motility\", \"cell_shape\")\n",
    "    suppressMessages(res <- map_dfc(v, ~{\n",
    "        if (.x == \"pathways\"){\n",
    "            str_vec <- na.omit(df$pathways) %>% as.vector()\n",
    "            if (length(str_vec) == 0){\n",
    "                out <- NA_character_\n",
    "            } else {\n",
    "                out <- str_replace(str_vec, pattern = \" \", \n",
    "                                   replacement = \"_\") %>% \n",
    "                    paste(collapse = \", \")\n",
    "            }\n",
    "        } else {\n",
    "            out <- select_best(df, .x)\n",
    "        }\n",
    "        return(out)\n",
    "    }))\n",
    "    colnames(res) <- v\n",
    "    res <- as.data.table(res)\n",
    "    return(res)\n",
    "}"
   ]
  },
  {
   "cell_type": "code",
   "execution_count": 10,
   "id": "a1ba49c6",
   "metadata": {},
   "outputs": [
    {
     "data": {
      "text/plain": [
       "\u001b[1mSource: \u001b[22mlocal data table [6 x 9]\n",
       "\u001b[1mGroups: \u001b[22mspecies_tax_id, superkingdom, phylum, class, order, family, genus, species\n",
       "\u001b[1mCall:\u001b[22m\n",
       "  _DT2 <- `_DT1`[, .(species_tax_id, superkingdom, phylum, class, order, family, genus,\n",
       "  _DT2 <-   species, gram_stain, pathways, metabolism, sporulation, motility, cell_shape)][\n",
       "  _DT2 <-   , .(traits = .(.SD)), by = .(species_tax_id, superkingdom, phylum, class,\n",
       "  _DT2 <-     order, family, genus, species)]\n",
       "  head(na.omit(`_DT2`[`_DT2`[, .I[map_lgl(traits, ~{\n",
       "    nrow(.x) > 1\n",
       "})], by = .(species_tax_id, superkingdom, phylum, class, order, \n",
       "    family, genus, species)]$V1], cols = \"species_tax_id\")[, \n",
       "    `:=`(traits = map(traits, ..process_duplicates)), by = .(species_tax_id, \n",
       "        superkingdom, phylum, class, order, family, genus, species)], \n",
       "    n = 6L)\n",
       "\n",
       "  species_tax_id superkingdom phylum       class      order family genus species\n",
       "           \u001b[3m\u001b[90m<dbl>\u001b[39m\u001b[23m \u001b[3m\u001b[90m<chr>\u001b[39m\u001b[23m        \u001b[3m\u001b[90m<chr>\u001b[39m\u001b[23m        \u001b[3m\u001b[90m<chr>\u001b[39m\u001b[23m      \u001b[3m\u001b[90m<chr>\u001b[39m\u001b[23m \u001b[3m\u001b[90m<chr>\u001b[39m\u001b[23m  \u001b[3m\u001b[90m<chr>\u001b[39m\u001b[23m \u001b[3m\u001b[90m<chr>\u001b[39m\u001b[23m  \n",
       "\u001b[90m1\u001b[39m          \u001b[4m5\u001b[24m\u001b[4m4\u001b[24m005 Bacteria     Firmicutes   Tissierel… Tiss… Pepto… Pept… Pepton…\n",
       "\u001b[90m2\u001b[39m           \u001b[4m1\u001b[24m280 Bacteria     Firmicutes   Bacilli    Baci… Staph… Stap… Staphy…\n",
       "\u001b[90m3\u001b[39m         \u001b[4m4\u001b[24m\u001b[4m6\u001b[24m\u001b[4m4\u001b[24m988 Eukaryota    \u001b[31mNA\u001b[39m           Cryptophy… Cryp… Hemis… Hemi… Hemise…\n",
       "\u001b[90m4\u001b[39m           \u001b[4m5\u001b[24m011 Eukaryota    Ascomycota   Taphrinom… Taph… Taphr… Taph… Taphri…\n",
       "\u001b[90m5\u001b[39m           \u001b[4m5\u001b[24m865 Eukaryota    Apicomplexa  Aconoidas… Piro… Babes… Babe… Babesi…\n",
       "\u001b[90m6\u001b[39m          \u001b[4m2\u001b[24m\u001b[4m9\u001b[24m760 Eukaryota    Streptophyta Magnoliop… Vita… Vitac… Vitis Vitis …\n",
       "\u001b[90m# … with 1 more variable: traits <list>\u001b[39m\n",
       "\n",
       "\u001b[90m# Use as.data.table()/as.data.frame()/as_tibble() to access results\u001b[39m"
      ]
     },
     "metadata": {},
     "output_type": "display_data"
    }
   ],
   "source": [
    "tbl_munge_proc <- tbl_munge %>% \n",
    "    mutate(traits = map(traits, process_duplicates)) \n",
    "\n",
    "head(tbl_munge_proc)"
   ]
  },
  {
   "cell_type": "markdown",
   "id": "57b5746a",
   "metadata": {},
   "source": [
    "We merge by extracting the `species_tax_id` column out of `tbl`, remove all rows with that identifier and then replace that with those from the `tbl_munge` database. We also process some of the trait names themselves and attempt to unify it according to the nomenclature stated in Madin et al. base database. "
   ]
  },
  {
   "cell_type": "code",
   "execution_count": 11,
   "id": "af08ecbd",
   "metadata": {},
   "outputs": [],
   "source": [
    "ids <- tbl_munge_proc %>% pull(species_tax_id)"
   ]
  },
  {
   "cell_type": "code",
   "execution_count": 12,
   "id": "de909369",
   "metadata": {},
   "outputs": [],
   "source": [
    "gold_final <- tbl %>% filter(!species_tax_id %in% ids)\n",
    "\n",
    "gold_final <- bind_rows(as_tibble(gold_final), as_tibble(tbl_munge_proc)) %>% unnest(traits)\n"
   ]
  },
  {
   "cell_type": "code",
   "execution_count": 13,
   "id": "1c0ee602",
   "metadata": {},
   "outputs": [
    {
     "data": {
      "text/html": [
       "<table class=\"dataframe\">\n",
       "<caption>A tibble: 6 × 14</caption>\n",
       "<thead>\n",
       "\t<tr><th scope=col>species_tax_id</th><th scope=col>superkingdom</th><th scope=col>phylum</th><th scope=col>class</th><th scope=col>order</th><th scope=col>family</th><th scope=col>genus</th><th scope=col>species</th><th scope=col>gram_stain</th><th scope=col>pathways</th><th scope=col>metabolism</th><th scope=col>sporulation</th><th scope=col>motility</th><th scope=col>cell_shape</th></tr>\n",
       "\t<tr><th scope=col>&lt;dbl&gt;</th><th scope=col>&lt;chr&gt;</th><th scope=col>&lt;chr&gt;</th><th scope=col>&lt;chr&gt;</th><th scope=col>&lt;chr&gt;</th><th scope=col>&lt;chr&gt;</th><th scope=col>&lt;chr&gt;</th><th scope=col>&lt;chr&gt;</th><th scope=col>&lt;chr&gt;</th><th scope=col>&lt;chr&gt;</th><th scope=col>&lt;chr&gt;</th><th scope=col>&lt;chr&gt;</th><th scope=col>&lt;chr&gt;</th><th scope=col>&lt;chr&gt;</th></tr>\n",
       "</thead>\n",
       "<tbody>\n",
       "\t<tr><td>515635</td><td>Bacteria</td><td>Dictyoglomi        </td><td>Dictyoglomia       </td><td>Dictyoglomales        </td><td>Dictyoglomaceae                                  </td><td>Dictyoglomus         </td><td>Dictyoglomus turgidum                      </td><td>positive</td><td>Cellulose degrader</td><td>anaerobic         </td><td>NA </td><td>NA </td><td>bacillus</td></tr>\n",
       "\t<tr><td>521011</td><td>Archaea </td><td>Euryarchaeota      </td><td>Methanomicrobia    </td><td>Methanomicrobiales    </td><td>Methanoregulaceae                                </td><td>Methanosphaerula     </td><td>Methanosphaerula palustris                 </td><td>positive</td><td>Methanogen        </td><td>anaerobic         </td><td>NA </td><td>no </td><td>coccus  </td></tr>\n",
       "\t<tr><td>498848</td><td>Bacteria</td><td>Deinococcus-Thermus</td><td>Deinococci         </td><td>Thermales             </td><td>Thermaceae                                       </td><td>Thermus              </td><td>Thermus aquaticus                          </td><td>negative</td><td>NA                </td><td>obligate aerobic  </td><td>no </td><td>no </td><td>bacillus</td></tr>\n",
       "\t<tr><td>481743</td><td>Bacteria</td><td>Firmicutes         </td><td>Bacilli            </td><td>Bacillales            </td><td>Paenibacillaceae                                 </td><td>Paenibacillus        </td><td>Paenibacillus sp. Y412MC10                 </td><td>positive</td><td>NA                </td><td>facultative       </td><td>yes</td><td>yes</td><td>bacillus</td></tr>\n",
       "\t<tr><td>634499</td><td>Bacteria</td><td>Proteobacteria     </td><td>Gammaproteobacteria</td><td>Enterobacterales      </td><td>Erwiniaceae                                      </td><td>Erwinia              </td><td>Erwinia pyrifoliae                         </td><td>negative</td><td>NA                </td><td>facultative       </td><td>no </td><td>yes</td><td>bacillus</td></tr>\n",
       "\t<tr><td>580327</td><td>Bacteria</td><td>Firmicutes         </td><td>Clostridia         </td><td>Thermoanaerobacterales</td><td>Thermoanaerobacterales Family III. Incertae Sedis</td><td>Thermoanaerobacterium</td><td>Thermoanaerobacterium thermosaccharolyticum</td><td>positive</td><td>NA                </td><td>obligate anaerobic</td><td>yes</td><td>yes</td><td>bacillus</td></tr>\n",
       "</tbody>\n",
       "</table>\n"
      ],
      "text/latex": [
       "A tibble: 6 × 14\n",
       "\\begin{tabular}{llllllllllllll}\n",
       " species\\_tax\\_id & superkingdom & phylum & class & order & family & genus & species & gram\\_stain & pathways & metabolism & sporulation & motility & cell\\_shape\\\\\n",
       " <dbl> & <chr> & <chr> & <chr> & <chr> & <chr> & <chr> & <chr> & <chr> & <chr> & <chr> & <chr> & <chr> & <chr>\\\\\n",
       "\\hline\n",
       "\t 515635 & Bacteria & Dictyoglomi         & Dictyoglomia        & Dictyoglomales         & Dictyoglomaceae                                   & Dictyoglomus          & Dictyoglomus turgidum                       & positive & Cellulose degrader & anaerobic          & NA  & NA  & bacillus\\\\\n",
       "\t 521011 & Archaea  & Euryarchaeota       & Methanomicrobia     & Methanomicrobiales     & Methanoregulaceae                                 & Methanosphaerula      & Methanosphaerula palustris                  & positive & Methanogen         & anaerobic          & NA  & no  & coccus  \\\\\n",
       "\t 498848 & Bacteria & Deinococcus-Thermus & Deinococci          & Thermales              & Thermaceae                                        & Thermus               & Thermus aquaticus                           & negative & NA                 & obligate aerobic   & no  & no  & bacillus\\\\\n",
       "\t 481743 & Bacteria & Firmicutes          & Bacilli             & Bacillales             & Paenibacillaceae                                  & Paenibacillus         & Paenibacillus sp. Y412MC10                  & positive & NA                 & facultative        & yes & yes & bacillus\\\\\n",
       "\t 634499 & Bacteria & Proteobacteria      & Gammaproteobacteria & Enterobacterales       & Erwiniaceae                                       & Erwinia               & Erwinia pyrifoliae                          & negative & NA                 & facultative        & no  & yes & bacillus\\\\\n",
       "\t 580327 & Bacteria & Firmicutes          & Clostridia          & Thermoanaerobacterales & Thermoanaerobacterales Family III. Incertae Sedis & Thermoanaerobacterium & Thermoanaerobacterium thermosaccharolyticum & positive & NA                 & obligate anaerobic & yes & yes & bacillus\\\\\n",
       "\\end{tabular}\n"
      ],
      "text/markdown": [
       "\n",
       "A tibble: 6 × 14\n",
       "\n",
       "| species_tax_id &lt;dbl&gt; | superkingdom &lt;chr&gt; | phylum &lt;chr&gt; | class &lt;chr&gt; | order &lt;chr&gt; | family &lt;chr&gt; | genus &lt;chr&gt; | species &lt;chr&gt; | gram_stain &lt;chr&gt; | pathways &lt;chr&gt; | metabolism &lt;chr&gt; | sporulation &lt;chr&gt; | motility &lt;chr&gt; | cell_shape &lt;chr&gt; |\n",
       "|---|---|---|---|---|---|---|---|---|---|---|---|---|---|\n",
       "| 515635 | Bacteria | Dictyoglomi         | Dictyoglomia        | Dictyoglomales         | Dictyoglomaceae                                   | Dictyoglomus          | Dictyoglomus turgidum                       | positive | Cellulose degrader | anaerobic          | NA  | NA  | bacillus |\n",
       "| 521011 | Archaea  | Euryarchaeota       | Methanomicrobia     | Methanomicrobiales     | Methanoregulaceae                                 | Methanosphaerula      | Methanosphaerula palustris                  | positive | Methanogen         | anaerobic          | NA  | no  | coccus   |\n",
       "| 498848 | Bacteria | Deinococcus-Thermus | Deinococci          | Thermales              | Thermaceae                                        | Thermus               | Thermus aquaticus                           | negative | NA                 | obligate aerobic   | no  | no  | bacillus |\n",
       "| 481743 | Bacteria | Firmicutes          | Bacilli             | Bacillales             | Paenibacillaceae                                  | Paenibacillus         | Paenibacillus sp. Y412MC10                  | positive | NA                 | facultative        | yes | yes | bacillus |\n",
       "| 634499 | Bacteria | Proteobacteria      | Gammaproteobacteria | Enterobacterales       | Erwiniaceae                                       | Erwinia               | Erwinia pyrifoliae                          | negative | NA                 | facultative        | no  | yes | bacillus |\n",
       "| 580327 | Bacteria | Firmicutes          | Clostridia          | Thermoanaerobacterales | Thermoanaerobacterales Family III. Incertae Sedis | Thermoanaerobacterium | Thermoanaerobacterium thermosaccharolyticum | positive | NA                 | obligate anaerobic | yes | yes | bacillus |\n",
       "\n"
      ],
      "text/plain": [
       "  species_tax_id superkingdom phylum              class              \n",
       "1 515635         Bacteria     Dictyoglomi         Dictyoglomia       \n",
       "2 521011         Archaea      Euryarchaeota       Methanomicrobia    \n",
       "3 498848         Bacteria     Deinococcus-Thermus Deinococci         \n",
       "4 481743         Bacteria     Firmicutes          Bacilli            \n",
       "5 634499         Bacteria     Proteobacteria      Gammaproteobacteria\n",
       "6 580327         Bacteria     Firmicutes          Clostridia         \n",
       "  order                  family                                           \n",
       "1 Dictyoglomales         Dictyoglomaceae                                  \n",
       "2 Methanomicrobiales     Methanoregulaceae                                \n",
       "3 Thermales              Thermaceae                                       \n",
       "4 Bacillales             Paenibacillaceae                                 \n",
       "5 Enterobacterales       Erwiniaceae                                      \n",
       "6 Thermoanaerobacterales Thermoanaerobacterales Family III. Incertae Sedis\n",
       "  genus                 species                                     gram_stain\n",
       "1 Dictyoglomus          Dictyoglomus turgidum                       positive  \n",
       "2 Methanosphaerula      Methanosphaerula palustris                  positive  \n",
       "3 Thermus               Thermus aquaticus                           negative  \n",
       "4 Paenibacillus         Paenibacillus sp. Y412MC10                  positive  \n",
       "5 Erwinia               Erwinia pyrifoliae                          negative  \n",
       "6 Thermoanaerobacterium Thermoanaerobacterium thermosaccharolyticum positive  \n",
       "  pathways           metabolism         sporulation motility cell_shape\n",
       "1 Cellulose degrader anaerobic          NA          NA       bacillus  \n",
       "2 Methanogen         anaerobic          NA          no       coccus    \n",
       "3 NA                 obligate aerobic   no          no       bacillus  \n",
       "4 NA                 facultative        yes         yes      bacillus  \n",
       "5 NA                 facultative        no          yes      bacillus  \n",
       "6 NA                 obligate anaerobic yes         yes      bacillus  "
      ]
     },
     "metadata": {},
     "output_type": "display_data"
    }
   ],
   "source": [
    "head(gold_final)"
   ]
  },
  {
   "cell_type": "code",
   "execution_count": 23,
   "id": "bc42573e",
   "metadata": {},
   "outputs": [],
   "source": [
    "write_csv(gold_final, file = here(\"output\", \"databases\", \"gold_proc.csv\"))\n",
    "saveRDS(gold_final, file = here(\"output\", \"databases\", \"gold_proc.rds\"))"
   ]
  },
  {
   "cell_type": "code",
   "execution_count": 24,
   "id": "b429ff1f",
   "metadata": {},
   "outputs": [
    {
     "data": {
      "text/html": [
       "<style>\n",
       ".list-inline {list-style: none; margin:0; padding: 0}\n",
       ".list-inline>li {display: inline-block}\n",
       ".list-inline>li:not(:last-child)::after {content: \"\\00b7\"; padding: 0 .5ex}\n",
       "</style>\n",
       "<ol class=list-inline><li>'gold_proc.csv'</li><li>'gold_proc.rds'</li><li>'weissman_proc.csv'</li><li>'weissman_proc.rds'</li></ol>\n"
      ],
      "text/latex": [
       "\\begin{enumerate*}\n",
       "\\item 'gold\\_proc.csv'\n",
       "\\item 'gold\\_proc.rds'\n",
       "\\item 'weissman\\_proc.csv'\n",
       "\\item 'weissman\\_proc.rds'\n",
       "\\end{enumerate*}\n"
      ],
      "text/markdown": [
       "1. 'gold_proc.csv'\n",
       "2. 'gold_proc.rds'\n",
       "3. 'weissman_proc.csv'\n",
       "4. 'weissman_proc.rds'\n",
       "\n",
       "\n"
      ],
      "text/plain": [
       "[1] \"gold_proc.csv\"     \"gold_proc.rds\"     \"weissman_proc.csv\"\n",
       "[4] \"weissman_proc.rds\""
      ]
     },
     "metadata": {},
     "output_type": "display_data"
    }
   ],
   "source": [
    "list.files(\"../output/databases/\")"
   ]
  }
 ],
 "metadata": {
  "kernelspec": {
   "display_name": "R",
   "language": "R",
   "name": "ir"
  },
  "language_info": {
   "codemirror_mode": "r",
   "file_extension": ".r",
   "mimetype": "text/x-r-source",
   "name": "R",
   "pygments_lexer": "r",
   "version": "4.1.2"
  }
 },
 "nbformat": 4,
 "nbformat_minor": 5
}
