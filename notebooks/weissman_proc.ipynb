{
 "cells": [
  {
   "cell_type": "markdown",
   "id": "5d2dc4c8",
   "metadata": {},
   "source": [
    "# Processing Weissman et al. database. \n",
    "\n",
    "Last updated 2022-04-14.    \n",
    "Quang Nguyen.    \n",
    "\n",
    "Notebook ran under R version 4.1.2 and dependencies were managed using `renv`. See `renv.lock` and the `DESCRIPTION` file for more details on dependencies.     "
   ]
  },
  {
   "cell_type": "code",
   "execution_count": 3,
   "id": "40ac65b1",
   "metadata": {},
   "outputs": [
    {
     "name": "stderr",
     "output_type": "stream",
     "text": [
      "here() starts at /dartfs-hpc/rc/home/k/f00345k/research/microbe_set_trait\n",
      "\n"
     ]
    }
   ],
   "source": [
    "library(tidyverse)\n",
    "library(dtplyr)\n",
    "library(data.table)\n",
    "library(here)\n",
    "here::i_am(\"notebooks/weissman_proc.ipynb\")"
   ]
  },
  {
   "cell_type": "code",
   "execution_count": 4,
   "id": "c9abdaf4",
   "metadata": {},
   "outputs": [
    {
     "name": "stderr",
     "output_type": "stream",
     "text": [
      "\u001b[1mRows: \u001b[22m\u001b[34m3369\u001b[39m \u001b[1mColumns: \u001b[22m\u001b[34m174\u001b[39m\n",
      "\u001b[36m──\u001b[39m \u001b[1mColumn specification\u001b[22m \u001b[36m───────────────────────────────────────────────────────────────────────────────────────────────────────────────────────────\u001b[39m\n",
      "\u001b[1mDelimiter:\u001b[22m \",\"\n",
      "\u001b[31mchr\u001b[39m  (16): Organism, kingdom, phylum, class, order, family, genus, species, ...\n",
      "\u001b[32mdbl\u001b[39m (158): taxid_kingdom, taxid_phylum, taxid_class, taxid_order, taxid_fami...\n",
      "\n",
      "\u001b[36mℹ\u001b[39m Use `spec()` to retrieve the full column specification for this data.\n",
      "\u001b[36mℹ\u001b[39m Specify the column types or set `show_col_types = FALSE` to quiet this message.\n"
     ]
    }
   ],
   "source": [
    "weissman <- read_csv(here(\"data\", \"weissman.csv\"))\n",
    "\n",
    "# select the relevant columns\n",
    "weissman <- weissman %>% select(c(\"taxid_species\",\n",
    "                                  \"kingdom\", \"phylum\", \"class\", \"order\", \"family\", \"genus\", \"species\",\n",
    "                                  \"Motility_general\", \"Oxygen.Preference\", \"Cell.Shape\",\n",
    "                                  starts_with(\"Enzyme.Assays\"), \n",
    "                                  starts_with(\"Volatile.Gas.Production\"), \n",
    "                                  starts_with(\"Substrate.Utilization\")))"
   ]
  },
  {
   "cell_type": "markdown",
   "id": "b6472008",
   "metadata": {},
   "source": [
    "Here, we're going to re-format it similar to Madin et al. `Enzyme.Assays` and `Volatile.Gas.Production` is equivalent to `pathways` while `Substrate.Utililization` is equivalent to `carbon_substrates`. Since there might be non-carbon compounds here, we're going to rename Madin et al.'s `carbon_substrates` into just `substrate` here similar to Weissman's database.  "
   ]
  },
  {
   "cell_type": "code",
   "execution_count": 5,
   "id": "fa1983c6",
   "metadata": {},
   "outputs": [],
   "source": [
    "weissman <- weissman %>% group_by(taxid_species, kingdom, phylum, \n",
    "                      class, order, family, genus, species) %>%\n",
    "    nest(pathways = starts_with(c(\"Enzyme.Assays\", \"Volatile.Gas.Production\")), \n",
    "         substrate = starts_with(\"Substrate.Utilization\")) %>% ungroup() %>% \n",
    "    mutate(across(where(is.character), ~na_if(., \"0\"))) %>% \n",
    "    rename(\"species_tax_id\" = taxid_species, \"superkingdom\" = kingdom, \n",
    "           \"metabolism\" = Oxygen.Preference,\n",
    "           \"motility\" = Motility_general, \n",
    "           \"cell_shape\" = Cell.Shape)\n",
    "\n",
    "# motility, cell shape, metabolism\n",
    "weissman <- weissman %>% \n",
    "    mutate(motility = if_else(motility == \"non-motile\", \"yes\", \"no\"), \n",
    "                    cell_shape = case_when(\n",
    "                        cell_shape == \"rod\" ~ \"bacillus\",\n",
    "                        cell_shape == \"ovoid/coccobacillus\" ~ \"coccus\", \n",
    "                        cell_shape == \"spirillum/corkscrew\" ~ \"spiral\",\n",
    "                        TRUE ~ cell_shape\n",
    "                    ), \n",
    "                    metabolism = case_when(\n",
    "                        metabolism == \"microaerophile\" ~ \"microaerophilic\",\n",
    "                        TRUE ~ metabolism\n",
    "                    ), \n",
    "                    metabolism = str_replace(metabolism, \n",
    "                                             pattern = \"obe$\", replacement = \"obic\"))"
   ]
  },
  {
   "cell_type": "code",
   "execution_count": 6,
   "id": "713e64ca",
   "metadata": {},
   "outputs": [
    {
     "data": {
      "text/html": [
       "<table class=\"dataframe\">\n",
       "<caption>A tibble: 6 × 6</caption>\n",
       "<thead>\n",
       "\t<tr><th scope=col>species_tax_id</th><th scope=col>superkingdom</th><th scope=col>phylum</th><th scope=col>class</th><th scope=col>order</th><th scope=col>family</th></tr>\n",
       "\t<tr><th scope=col>&lt;dbl&gt;</th><th scope=col>&lt;chr&gt;</th><th scope=col>&lt;chr&gt;</th><th scope=col>&lt;chr&gt;</th><th scope=col>&lt;chr&gt;</th><th scope=col>&lt;chr&gt;</th></tr>\n",
       "</thead>\n",
       "<tbody>\n",
       "\t<tr><td> 46125</td><td>Bacteria</td><td>Firmicutes    </td><td>Bacilli            </td><td>Lactobacillales </td><td>Aerococcaceae     </td></tr>\n",
       "\t<tr><td>155978</td><td>Bacteria</td><td>Cyanobacteria </td><td>NA                 </td><td>Synechococcales </td><td>Acaryochloridaceae</td></tr>\n",
       "\t<tr><td>   435</td><td>Bacteria</td><td>Proteobacteria</td><td>Alphaproteobacteria</td><td>Rhodospirillales</td><td>Acetobacteraceae  </td></tr>\n",
       "\t<tr><td>   438</td><td>Bacteria</td><td>Proteobacteria</td><td>Alphaproteobacteria</td><td>Rhodospirillales</td><td>Acetobacteraceae  </td></tr>\n",
       "\t<tr><td> 33952</td><td>Bacteria</td><td>Firmicutes    </td><td>Clostridia         </td><td>Clostridiales   </td><td>Eubacteriaceae    </td></tr>\n",
       "\t<tr><td> 33952</td><td>Bacteria</td><td>Firmicutes    </td><td>Clostridia         </td><td>Clostridiales   </td><td>Eubacteriaceae    </td></tr>\n",
       "</tbody>\n",
       "</table>\n"
      ],
      "text/latex": [
       "A tibble: 6 × 6\n",
       "\\begin{tabular}{llllll}\n",
       " species\\_tax\\_id & superkingdom & phylum & class & order & family\\\\\n",
       " <dbl> & <chr> & <chr> & <chr> & <chr> & <chr>\\\\\n",
       "\\hline\n",
       "\t  46125 & Bacteria & Firmicutes     & Bacilli             & Lactobacillales  & Aerococcaceae     \\\\\n",
       "\t 155978 & Bacteria & Cyanobacteria  & NA                  & Synechococcales  & Acaryochloridaceae\\\\\n",
       "\t    435 & Bacteria & Proteobacteria & Alphaproteobacteria & Rhodospirillales & Acetobacteraceae  \\\\\n",
       "\t    438 & Bacteria & Proteobacteria & Alphaproteobacteria & Rhodospirillales & Acetobacteraceae  \\\\\n",
       "\t  33952 & Bacteria & Firmicutes     & Clostridia          & Clostridiales    & Eubacteriaceae    \\\\\n",
       "\t  33952 & Bacteria & Firmicutes     & Clostridia          & Clostridiales    & Eubacteriaceae    \\\\\n",
       "\\end{tabular}\n"
      ],
      "text/markdown": [
       "\n",
       "A tibble: 6 × 6\n",
       "\n",
       "| species_tax_id &lt;dbl&gt; | superkingdom &lt;chr&gt; | phylum &lt;chr&gt; | class &lt;chr&gt; | order &lt;chr&gt; | family &lt;chr&gt; |\n",
       "|---|---|---|---|---|---|\n",
       "|  46125 | Bacteria | Firmicutes     | Bacilli             | Lactobacillales  | Aerococcaceae      |\n",
       "| 155978 | Bacteria | Cyanobacteria  | NA                  | Synechococcales  | Acaryochloridaceae |\n",
       "|    435 | Bacteria | Proteobacteria | Alphaproteobacteria | Rhodospirillales | Acetobacteraceae   |\n",
       "|    438 | Bacteria | Proteobacteria | Alphaproteobacteria | Rhodospirillales | Acetobacteraceae   |\n",
       "|  33952 | Bacteria | Firmicutes     | Clostridia          | Clostridiales    | Eubacteriaceae     |\n",
       "|  33952 | Bacteria | Firmicutes     | Clostridia          | Clostridiales    | Eubacteriaceae     |\n",
       "\n"
      ],
      "text/plain": [
       "  species_tax_id superkingdom phylum         class              \n",
       "1  46125         Bacteria     Firmicutes     Bacilli            \n",
       "2 155978         Bacteria     Cyanobacteria  NA                 \n",
       "3    435         Bacteria     Proteobacteria Alphaproteobacteria\n",
       "4    438         Bacteria     Proteobacteria Alphaproteobacteria\n",
       "5  33952         Bacteria     Firmicutes     Clostridia         \n",
       "6  33952         Bacteria     Firmicutes     Clostridia         \n",
       "  order            family            \n",
       "1 Lactobacillales  Aerococcaceae     \n",
       "2 Synechococcales  Acaryochloridaceae\n",
       "3 Rhodospirillales Acetobacteraceae  \n",
       "4 Rhodospirillales Acetobacteraceae  \n",
       "5 Clostridiales    Eubacteriaceae    \n",
       "6 Clostridiales    Eubacteriaceae    "
      ]
     },
     "metadata": {},
     "output_type": "display_data"
    }
   ],
   "source": [
    "weissman <- weissman %>% drop_na(species_tax_id) \n",
    "head(weissman)[,1:6]"
   ]
  },
  {
   "cell_type": "markdown",
   "id": "6879576c",
   "metadata": {},
   "source": [
    "Here we're going to define some functions to process the traits that is internal (collapse into one column) for pathways and for substrates"
   ]
  },
  {
   "cell_type": "code",
   "execution_count": 7,
   "id": "4c796a76",
   "metadata": {},
   "outputs": [],
   "source": [
    "#' @param unit A single unit from a list of trait data frames\n",
    "proc_pathways <- function(unit){\n",
    "    string <- unit %>% pivot_longer(everything()) %>% \n",
    "        filter(value != 0)\n",
    "    if (nrow(string) == 0){\n",
    "        return(NA)\n",
    "    } else {\n",
    "        string <- string %>% \n",
    "            mutate(name = str_replace(name, pattern = \"Enzyme.Assays..\", replacement = \"\")) %>%\n",
    "            mutate(name = str_replace(name, pattern = \"Volatile.Gas.Production..\", replacement = \"synthesis_\")) %>%\n",
    "            mutate(name = str_replace(name, pattern = \"\\\\.$\", \"\")) %>%\n",
    "            mutate(name = str_replace(name, pattern = \"\\\\.\\\\.(.*)$\", \"\")) %>%\n",
    "            mutate(name = str_replace_all(name, pattern = \"\\\\.\", \"_\")) %>% \n",
    "            rowwise() %>%\n",
    "            mutate(name = if_else(str_detect(name, \"synthesis_\"), \n",
    "                                  true = paste(rev(str_split(name, pattern = \"_\", \n",
    "                                                             n = 2)[[1]]), \n",
    "                                               collapse = \"_\"),\n",
    "                                  false = name)) %>% \n",
    "            ungroup() %>%\n",
    "            pull(name) %>% paste(., collapse = \", \")\n",
    "    }\n",
    "        \n",
    "    return(string)\n",
    "}\n",
    "\n",
    "proc_substrate <- function(unit){\n",
    "    string <- unit %>% pivot_longer(everything()) %>% filter(value != 0)\n",
    "    if (nrow(string) == 0){\n",
    "        return(NA)\n",
    "    } else {\n",
    "        string <- string %>% mutate(name = str_split(name, pattern = \"\\\\.\\\\.\", \n",
    "                                           n = 2, simplify = TRUE)[,2]) %>%\n",
    "            mutate(name = str_replace(name, \"(\\\\.\\\\.|\\\\.)$\", \"\")) %>% \n",
    "            mutate(name = str_replace_all(name, \"(\\\\.\\\\.|\\\\.)\", \"_\")) %>% \n",
    "            pull(name) %>% paste(., collapse = \", \")\n",
    "    }\n",
    "    return(string)\n",
    "}\n"
   ]
  },
  {
   "cell_type": "markdown",
   "id": "a12c9350",
   "metadata": {},
   "source": [
    "Here, we apply the function to substrate and pathways"
   ]
  },
  {
   "cell_type": "code",
   "execution_count": 8,
   "id": "412562a6",
   "metadata": {},
   "outputs": [],
   "source": [
    "substr <- map_chr(weissman$substrate, proc_substrate)\n",
    "pthway <- map_chr(weissman$pathways, proc_pathways)\n",
    "\n",
    "weissman <- weissman %>% select(-c(pathways, substrate)) %>% \n",
    "  mutate(substrate = substr, pathways = pthway)"
   ]
  },
  {
   "cell_type": "code",
   "execution_count": 9,
   "id": "a51ea4c0",
   "metadata": {},
   "outputs": [
    {
     "data": {
      "text/html": [
       "<table class=\"dataframe\">\n",
       "<caption>A tibble: 6 × 13</caption>\n",
       "<thead>\n",
       "\t<tr><th scope=col>species_tax_id</th><th scope=col>superkingdom</th><th scope=col>phylum</th><th scope=col>class</th><th scope=col>order</th><th scope=col>family</th><th scope=col>genus</th><th scope=col>species</th><th scope=col>motility</th><th scope=col>metabolism</th><th scope=col>cell_shape</th><th scope=col>substrate</th><th scope=col>pathways</th></tr>\n",
       "\t<tr><th scope=col>&lt;dbl&gt;</th><th scope=col>&lt;chr&gt;</th><th scope=col>&lt;chr&gt;</th><th scope=col>&lt;chr&gt;</th><th scope=col>&lt;chr&gt;</th><th scope=col>&lt;chr&gt;</th><th scope=col>&lt;chr&gt;</th><th scope=col>&lt;chr&gt;</th><th scope=col>&lt;chr&gt;</th><th scope=col>&lt;chr&gt;</th><th scope=col>&lt;chr&gt;</th><th scope=col>&lt;chr&gt;</th><th scope=col>&lt;chr&gt;</th></tr>\n",
       "</thead>\n",
       "<tbody>\n",
       "\t<tr><td> 46125</td><td>Bacteria</td><td>Firmicutes    </td><td>Bacilli            </td><td>Lactobacillales </td><td>Aerococcaceae     </td><td>Abiotrophia   </td><td>defectiva   </td><td>yes</td><td>facultative anaerobic</td><td>NA</td><td>sucrose, trehalose                                                                       </td><td>alpha_galactosidase                 </td></tr>\n",
       "\t<tr><td>155978</td><td>Bacteria</td><td>Cyanobacteria </td><td>NA                 </td><td>Synechococcales </td><td>Acaryochloridaceae</td><td>Acaryochloris </td><td>marina      </td><td>yes</td><td>NA                   </td><td>NA</td><td>NA                                                                                       </td><td>NA                                  </td></tr>\n",
       "\t<tr><td>   435</td><td>Bacteria</td><td>Proteobacteria</td><td>Alphaproteobacteria</td><td>Rhodospirillales</td><td>Acetobacteraceae  </td><td>Acetobacter   </td><td>aceti       </td><td>NA </td><td>obligate aerobic     </td><td>NA</td><td>butanol, ethanol, glucose, glycerol, mannitol, mannose, xylose                           </td><td>catalase, hydrogen_sulfide_synthesis</td></tr>\n",
       "\t<tr><td>   438</td><td>Bacteria</td><td>Proteobacteria</td><td>Alphaproteobacteria</td><td>Rhodospirillales</td><td>Acetobacteraceae  </td><td>Acetobacter   </td><td>pasteurianus</td><td>NA </td><td>obligate aerobic     </td><td>NA</td><td>alanine, butanol, ethanol, glucose, glycerol, proline                                    </td><td>catalase                            </td></tr>\n",
       "\t<tr><td> 33952</td><td>Bacteria</td><td>Firmicutes    </td><td>Clostridia         </td><td>Clostridiales   </td><td>Eubacteriaceae    </td><td>Acetobacterium</td><td>Woodii      </td><td>no </td><td>obligate anaerobic   </td><td>NA</td><td>butanol, ethanol, formate, fructose, glucose, glycerol, lactose, pyruvate, 2_3_butanediol</td><td>acetoin                             </td></tr>\n",
       "\t<tr><td> 33952</td><td>Bacteria</td><td>Firmicutes    </td><td>Clostridia         </td><td>Clostridiales   </td><td>Eubacteriaceae    </td><td>Acetobacterium</td><td>woodii      </td><td>no </td><td>obligate anaerobic   </td><td>NA</td><td>formate, glucose, lactate, sugars_generic                                                </td><td>NA                                  </td></tr>\n",
       "</tbody>\n",
       "</table>\n"
      ],
      "text/latex": [
       "A tibble: 6 × 13\n",
       "\\begin{tabular}{lllllllllllll}\n",
       " species\\_tax\\_id & superkingdom & phylum & class & order & family & genus & species & motility & metabolism & cell\\_shape & substrate & pathways\\\\\n",
       " <dbl> & <chr> & <chr> & <chr> & <chr> & <chr> & <chr> & <chr> & <chr> & <chr> & <chr> & <chr> & <chr>\\\\\n",
       "\\hline\n",
       "\t  46125 & Bacteria & Firmicutes     & Bacilli             & Lactobacillales  & Aerococcaceae      & Abiotrophia    & defectiva    & yes & facultative anaerobic & NA & sucrose, trehalose                                                                        & alpha\\_galactosidase                 \\\\\n",
       "\t 155978 & Bacteria & Cyanobacteria  & NA                  & Synechococcales  & Acaryochloridaceae & Acaryochloris  & marina       & yes & NA                    & NA & NA                                                                                        & NA                                  \\\\\n",
       "\t    435 & Bacteria & Proteobacteria & Alphaproteobacteria & Rhodospirillales & Acetobacteraceae   & Acetobacter    & aceti        & NA  & obligate aerobic      & NA & butanol, ethanol, glucose, glycerol, mannitol, mannose, xylose                            & catalase, hydrogen\\_sulfide\\_synthesis\\\\\n",
       "\t    438 & Bacteria & Proteobacteria & Alphaproteobacteria & Rhodospirillales & Acetobacteraceae   & Acetobacter    & pasteurianus & NA  & obligate aerobic      & NA & alanine, butanol, ethanol, glucose, glycerol, proline                                     & catalase                            \\\\\n",
       "\t  33952 & Bacteria & Firmicutes     & Clostridia          & Clostridiales    & Eubacteriaceae     & Acetobacterium & Woodii       & no  & obligate anaerobic    & NA & butanol, ethanol, formate, fructose, glucose, glycerol, lactose, pyruvate, 2\\_3\\_butanediol & acetoin                             \\\\\n",
       "\t  33952 & Bacteria & Firmicutes     & Clostridia          & Clostridiales    & Eubacteriaceae     & Acetobacterium & woodii       & no  & obligate anaerobic    & NA & formate, glucose, lactate, sugars\\_generic                                                 & NA                                  \\\\\n",
       "\\end{tabular}\n"
      ],
      "text/markdown": [
       "\n",
       "A tibble: 6 × 13\n",
       "\n",
       "| species_tax_id &lt;dbl&gt; | superkingdom &lt;chr&gt; | phylum &lt;chr&gt; | class &lt;chr&gt; | order &lt;chr&gt; | family &lt;chr&gt; | genus &lt;chr&gt; | species &lt;chr&gt; | motility &lt;chr&gt; | metabolism &lt;chr&gt; | cell_shape &lt;chr&gt; | substrate &lt;chr&gt; | pathways &lt;chr&gt; |\n",
       "|---|---|---|---|---|---|---|---|---|---|---|---|---|\n",
       "|  46125 | Bacteria | Firmicutes     | Bacilli             | Lactobacillales  | Aerococcaceae      | Abiotrophia    | defectiva    | yes | facultative anaerobic | NA | sucrose, trehalose                                                                        | alpha_galactosidase                  |\n",
       "| 155978 | Bacteria | Cyanobacteria  | NA                  | Synechococcales  | Acaryochloridaceae | Acaryochloris  | marina       | yes | NA                    | NA | NA                                                                                        | NA                                   |\n",
       "|    435 | Bacteria | Proteobacteria | Alphaproteobacteria | Rhodospirillales | Acetobacteraceae   | Acetobacter    | aceti        | NA  | obligate aerobic      | NA | butanol, ethanol, glucose, glycerol, mannitol, mannose, xylose                            | catalase, hydrogen_sulfide_synthesis |\n",
       "|    438 | Bacteria | Proteobacteria | Alphaproteobacteria | Rhodospirillales | Acetobacteraceae   | Acetobacter    | pasteurianus | NA  | obligate aerobic      | NA | alanine, butanol, ethanol, glucose, glycerol, proline                                     | catalase                             |\n",
       "|  33952 | Bacteria | Firmicutes     | Clostridia          | Clostridiales    | Eubacteriaceae     | Acetobacterium | Woodii       | no  | obligate anaerobic    | NA | butanol, ethanol, formate, fructose, glucose, glycerol, lactose, pyruvate, 2_3_butanediol | acetoin                              |\n",
       "|  33952 | Bacteria | Firmicutes     | Clostridia          | Clostridiales    | Eubacteriaceae     | Acetobacterium | woodii       | no  | obligate anaerobic    | NA | formate, glucose, lactate, sugars_generic                                                 | NA                                   |\n",
       "\n"
      ],
      "text/plain": [
       "  species_tax_id superkingdom phylum         class              \n",
       "1  46125         Bacteria     Firmicutes     Bacilli            \n",
       "2 155978         Bacteria     Cyanobacteria  NA                 \n",
       "3    435         Bacteria     Proteobacteria Alphaproteobacteria\n",
       "4    438         Bacteria     Proteobacteria Alphaproteobacteria\n",
       "5  33952         Bacteria     Firmicutes     Clostridia         \n",
       "6  33952         Bacteria     Firmicutes     Clostridia         \n",
       "  order            family             genus          species      motility\n",
       "1 Lactobacillales  Aerococcaceae      Abiotrophia    defectiva    yes     \n",
       "2 Synechococcales  Acaryochloridaceae Acaryochloris  marina       yes     \n",
       "3 Rhodospirillales Acetobacteraceae   Acetobacter    aceti        NA      \n",
       "4 Rhodospirillales Acetobacteraceae   Acetobacter    pasteurianus NA      \n",
       "5 Clostridiales    Eubacteriaceae     Acetobacterium Woodii       no      \n",
       "6 Clostridiales    Eubacteriaceae     Acetobacterium woodii       no      \n",
       "  metabolism            cell_shape\n",
       "1 facultative anaerobic NA        \n",
       "2 NA                    NA        \n",
       "3 obligate aerobic      NA        \n",
       "4 obligate aerobic      NA        \n",
       "5 obligate anaerobic    NA        \n",
       "6 obligate anaerobic    NA        \n",
       "  substrate                                                                                \n",
       "1 sucrose, trehalose                                                                       \n",
       "2 NA                                                                                       \n",
       "3 butanol, ethanol, glucose, glycerol, mannitol, mannose, xylose                           \n",
       "4 alanine, butanol, ethanol, glucose, glycerol, proline                                    \n",
       "5 butanol, ethanol, formate, fructose, glucose, glycerol, lactose, pyruvate, 2_3_butanediol\n",
       "6 formate, glucose, lactate, sugars_generic                                                \n",
       "  pathways                            \n",
       "1 alpha_galactosidase                 \n",
       "2 NA                                  \n",
       "3 catalase, hydrogen_sulfide_synthesis\n",
       "4 catalase                            \n",
       "5 acetoin                             \n",
       "6 NA                                  "
      ]
     },
     "metadata": {},
     "output_type": "display_data"
    }
   ],
   "source": [
    "head(weissman)"
   ]
  },
  {
   "cell_type": "code",
   "execution_count": 10,
   "id": "85b4b699",
   "metadata": {},
   "outputs": [],
   "source": [
    "write_csv(weissman, here(\"output\", \"databases\", \"weissman_proc.csv\"))\n",
    "saveRDS(weissman, here(\"output\", \"databases\", \"weissman_proc.rds\"))"
   ]
  }
 ],
 "metadata": {
  "kernelspec": {
   "display_name": "R",
   "language": "R",
   "name": "ir"
  },
  "language_info": {
   "codemirror_mode": "r",
   "file_extension": ".r",
   "mimetype": "text/x-r-source",
   "name": "R",
   "pygments_lexer": "r",
   "version": "4.1.2"
  }
 },
 "nbformat": 4,
 "nbformat_minor": 5
}
