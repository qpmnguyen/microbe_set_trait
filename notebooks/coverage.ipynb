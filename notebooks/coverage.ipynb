{
 "cells": [
  {
   "cell_type": "markdown",
   "id": "65bf2920-448e-43c9-8cf0-ae67e1dcd179",
   "metadata": {},
   "source": [
    "# Coverage Analysis on HMP data   \n",
    "\n",
    "Quang Nguyen   \n",
    "Last updated 2022-04-30   "
   ]
  },
  {
   "cell_type": "code",
   "execution_count": 1,
   "id": "bfbb3603-9464-44ed-820f-e32c61384fee",
   "metadata": {},
   "outputs": [
    {
     "name": "stderr",
     "output_type": "stream",
     "text": [
      "Loading required package: dplyr\n",
      "\n",
      "Warning message:\n",
      "\"package 'dplyr' was built under R version 4.1.3\"\n",
      "\n",
      "Attaching package: 'dplyr'\n",
      "\n",
      "\n",
      "The following objects are masked from 'package:stats':\n",
      "\n",
      "    filter, lag\n",
      "\n",
      "\n",
      "The following objects are masked from 'package:base':\n",
      "\n",
      "    intersect, setdiff, setequal, union\n",
      "\n",
      "\n",
      "Registered S3 method overwritten by 'httr':\n",
      "  method           from  \n",
      "  print.cache_info hoardr\n",
      "\n",
      "Loading required package: SummarizedExperiment\n",
      "\n",
      "Loading required package: MatrixGenerics\n",
      "\n",
      "Loading required package: matrixStats\n",
      "\n",
      "Warning message:\n",
      "\"package 'matrixStats' was built under R version 4.1.3\"\n",
      "\n",
      "Attaching package: 'matrixStats'\n",
      "\n",
      "\n",
      "The following object is masked from 'package:dplyr':\n",
      "\n",
      "    count\n",
      "\n",
      "\n",
      "\n",
      "Attaching package: 'MatrixGenerics'\n",
      "\n",
      "\n",
      "The following objects are masked from 'package:matrixStats':\n",
      "\n",
      "    colAlls, colAnyNAs, colAnys, colAvgsPerRowSet, colCollapse,\n",
      "    colCounts, colCummaxs, colCummins, colCumprods, colCumsums,\n",
      "    colDiffs, colIQRDiffs, colIQRs, colLogSumExps, colMadDiffs,\n",
      "    colMads, colMaxs, colMeans2, colMedians, colMins, colOrderStats,\n",
      "    colProds, colQuantiles, colRanges, colRanks, colSdDiffs, colSds,\n",
      "    colSums2, colTabulates, colVarDiffs, colVars, colWeightedMads,\n",
      "    colWeightedMeans, colWeightedMedians, colWeightedSds,\n",
      "    colWeightedVars, rowAlls, rowAnyNAs, rowAnys, rowAvgsPerColSet,\n",
      "    rowCollapse, rowCounts, rowCummaxs, rowCummins, rowCumprods,\n",
      "    rowCumsums, rowDiffs, rowIQRDiffs, rowIQRs, rowLogSumExps,\n",
      "    rowMadDiffs, rowMads, rowMaxs, rowMeans2, rowMedians, rowMins,\n",
      "    rowOrderStats, rowProds, rowQuantiles, rowRanges, rowRanks,\n",
      "    rowSdDiffs, rowSds, rowSums2, rowTabulates, rowVarDiffs, rowVars,\n",
      "    rowWeightedMads, rowWeightedMeans, rowWeightedMedians,\n",
      "    rowWeightedSds, rowWeightedVars\n",
      "\n",
      "\n",
      "Loading required package: GenomicRanges\n",
      "\n",
      "Loading required package: stats4\n",
      "\n",
      "Loading required package: BiocGenerics\n",
      "\n",
      "\n",
      "Attaching package: 'BiocGenerics'\n",
      "\n",
      "\n",
      "The following objects are masked from 'package:dplyr':\n",
      "\n",
      "    combine, intersect, setdiff, union\n",
      "\n",
      "\n",
      "The following objects are masked from 'package:stats':\n",
      "\n",
      "    IQR, mad, sd, var, xtabs\n",
      "\n",
      "\n",
      "The following objects are masked from 'package:base':\n",
      "\n",
      "    anyDuplicated, append, as.data.frame, basename, cbind, colnames,\n",
      "    dirname, do.call, duplicated, eval, evalq, Filter, Find, get, grep,\n",
      "    grepl, intersect, is.unsorted, lapply, Map, mapply, match, mget,\n",
      "    order, paste, pmax, pmax.int, pmin, pmin.int, Position, rank,\n",
      "    rbind, Reduce, rownames, sapply, setdiff, sort, table, tapply,\n",
      "    union, unique, unsplit, which.max, which.min\n",
      "\n",
      "\n",
      "Loading required package: S4Vectors\n",
      "\n",
      "Warning message:\n",
      "\"package 'S4Vectors' was built under R version 4.1.3\"\n",
      "\n",
      "Attaching package: 'S4Vectors'\n",
      "\n",
      "\n",
      "The following objects are masked from 'package:dplyr':\n",
      "\n",
      "    first, rename\n",
      "\n",
      "\n",
      "The following objects are masked from 'package:base':\n",
      "\n",
      "    expand.grid, I, unname\n",
      "\n",
      "\n",
      "Loading required package: IRanges\n",
      "\n",
      "\n",
      "Attaching package: 'IRanges'\n",
      "\n",
      "\n",
      "The following objects are masked from 'package:dplyr':\n",
      "\n",
      "    collapse, desc, slice\n",
      "\n",
      "\n",
      "The following object is masked from 'package:grDevices':\n",
      "\n",
      "    windows\n",
      "\n",
      "\n",
      "Loading required package: GenomeInfoDb\n",
      "\n",
      "Loading required package: Biobase\n",
      "\n",
      "Welcome to Bioconductor\n",
      "\n",
      "    Vignettes contain introductory material; view with\n",
      "    'browseVignettes()'. To cite Bioconductor, see\n",
      "    'citation(\"Biobase\")', and for packages 'citation(\"pkgname\")'.\n",
      "\n",
      "\n",
      "\n",
      "Attaching package: 'Biobase'\n",
      "\n",
      "\n",
      "The following object is masked from 'package:MatrixGenerics':\n",
      "\n",
      "    rowMedians\n",
      "\n",
      "\n",
      "The following objects are masked from 'package:matrixStats':\n",
      "\n",
      "    anyMissing, rowMedians\n",
      "\n",
      "\n",
      "Loading required package: TreeSummarizedExperiment\n",
      "\n",
      "Loading required package: SingleCellExperiment\n",
      "\n",
      "Loading required package: Biostrings\n",
      "\n",
      "Loading required package: XVector\n",
      "\n",
      "\n",
      "Attaching package: 'Biostrings'\n",
      "\n",
      "\n",
      "The following object is masked from 'package:base':\n",
      "\n",
      "    strsplit\n",
      "\n",
      "\n",
      "snapshotDate(): 2021-10-19\n",
      "\n",
      "Warning message:\n",
      "\"package 'tidyverse' was built under R version 4.1.3\"\n",
      "-- \u001b[1mAttaching packages\u001b[22m ------------------------------------------------------------------------------- tidyverse 1.3.1 --\n",
      "\n",
      "\u001b[32mv\u001b[39m \u001b[34mggplot2\u001b[39m 3.3.5     \u001b[32mv\u001b[39m \u001b[34mpurrr  \u001b[39m 0.3.4\n",
      "\u001b[32mv\u001b[39m \u001b[34mtibble \u001b[39m 3.1.6     \u001b[32mv\u001b[39m \u001b[34mstringr\u001b[39m 1.4.0\n",
      "\u001b[32mv\u001b[39m \u001b[34mtidyr  \u001b[39m 1.2.0     \u001b[32mv\u001b[39m \u001b[34mforcats\u001b[39m 0.5.1\n",
      "\u001b[32mv\u001b[39m \u001b[34mreadr  \u001b[39m 2.1.2     \n",
      "\n",
      "Warning message:\n",
      "\"package 'ggplot2' was built under R version 4.1.3\"\n",
      "Warning message:\n",
      "\"package 'tibble' was built under R version 4.1.3\"\n",
      "Warning message:\n",
      "\"package 'tidyr' was built under R version 4.1.3\"\n",
      "Warning message:\n",
      "\"package 'readr' was built under R version 4.1.3\"\n",
      "Warning message:\n",
      "\"package 'purrr' was built under R version 4.1.3\"\n",
      "Warning message:\n",
      "\"package 'stringr' was built under R version 4.1.3\"\n",
      "Warning message:\n",
      "\"package 'forcats' was built under R version 4.1.3\"\n",
      "-- \u001b[1mConflicts\u001b[22m ---------------------------------------------------------------------------------- tidyverse_conflicts() --\n",
      "\u001b[31mx\u001b[39m \u001b[34mBiostrings\u001b[39m::\u001b[32mcollapse()\u001b[39m masks \u001b[34mIRanges\u001b[39m::collapse(), \u001b[34mdplyr\u001b[39m::collapse()\n",
      "\u001b[31mx\u001b[39m \u001b[34mBiobase\u001b[39m::\u001b[32mcombine()\u001b[39m     masks \u001b[34mBiocGenerics\u001b[39m::combine(), \u001b[34mdplyr\u001b[39m::combine()\n",
      "\u001b[31mx\u001b[39m \u001b[34mpurrr\u001b[39m::\u001b[32mcompact()\u001b[39m       masks \u001b[34mXVector\u001b[39m::compact()\n",
      "\u001b[31mx\u001b[39m \u001b[34mmatrixStats\u001b[39m::\u001b[32mcount()\u001b[39m   masks \u001b[34mdplyr\u001b[39m::count()\n",
      "\u001b[31mx\u001b[39m \u001b[34mIRanges\u001b[39m::\u001b[32mdesc()\u001b[39m        masks \u001b[34mdplyr\u001b[39m::desc()\n",
      "\u001b[31mx\u001b[39m \u001b[34mtidyr\u001b[39m::\u001b[32mexpand()\u001b[39m        masks \u001b[34mS4Vectors\u001b[39m::expand()\n",
      "\u001b[31mx\u001b[39m \u001b[34mdplyr\u001b[39m::\u001b[32mfilter()\u001b[39m        masks \u001b[34mstats\u001b[39m::filter()\n",
      "\u001b[31mx\u001b[39m \u001b[34mS4Vectors\u001b[39m::\u001b[32mfirst()\u001b[39m     masks \u001b[34mdplyr\u001b[39m::first()\n",
      "\u001b[31mx\u001b[39m \u001b[34mdplyr\u001b[39m::\u001b[32mlag()\u001b[39m           masks \u001b[34mstats\u001b[39m::lag()\n",
      "\u001b[31mx\u001b[39m \u001b[34mggplot2\u001b[39m::\u001b[32mPosition()\u001b[39m    masks \u001b[34mBiocGenerics\u001b[39m::Position(), \u001b[34mbase\u001b[39m::Position()\n",
      "\u001b[31mx\u001b[39m \u001b[34mpurrr\u001b[39m::\u001b[32mreduce()\u001b[39m        masks \u001b[34mGenomicRanges\u001b[39m::reduce(), \u001b[34mIRanges\u001b[39m::reduce()\n",
      "\u001b[31mx\u001b[39m \u001b[34mS4Vectors\u001b[39m::\u001b[32mrename()\u001b[39m    masks \u001b[34mdplyr\u001b[39m::rename()\n",
      "\u001b[31mx\u001b[39m \u001b[34mXVector\u001b[39m::\u001b[32mslice()\u001b[39m       masks \u001b[34mIRanges\u001b[39m::slice(), \u001b[34mdplyr\u001b[39m::slice()\n",
      "\n",
      "\n",
      "Attaching package: 'phyloseq'\n",
      "\n",
      "\n",
      "The following object is masked from 'package:SummarizedExperiment':\n",
      "\n",
      "    distance\n",
      "\n",
      "\n",
      "The following object is masked from 'package:Biobase':\n",
      "\n",
      "    sampleNames\n",
      "\n",
      "\n",
      "The following object is masked from 'package:GenomicRanges':\n",
      "\n",
      "    distance\n",
      "\n",
      "\n",
      "The following object is masked from 'package:IRanges':\n",
      "\n",
      "    distance\n",
      "\n",
      "\n",
      "The following object is masked from 'package:BiocSet':\n",
      "\n",
      "    import\n",
      "\n",
      "\n",
      "Loading required package: breakaway\n",
      "\n",
      "Warning message:\n",
      "\"package 'breakaway' was built under R version 4.1.3\"\n",
      "Warning message:\n",
      "\"package 'here' was built under R version 4.1.3\"\n",
      "here() starts at D:/research/microbe_set_trait\n",
      "\n",
      "here() starts at D:/research/microbe_set_trait\n",
      "\n",
      "\n",
      "Attaching package: 'glue'\n",
      "\n",
      "\n",
      "The following object is masked from 'package:SummarizedExperiment':\n",
      "\n",
      "    trim\n",
      "\n",
      "\n",
      "The following object is masked from 'package:GenomicRanges':\n",
      "\n",
      "    trim\n",
      "\n",
      "\n",
      "The following object is masked from 'package:IRanges':\n",
      "\n",
      "    trim\n",
      "\n",
      "\n"
     ]
    }
   ],
   "source": [
    "library(TaxaSetsUtils);\n",
    "library(BiocSet);\n",
    "library(curatedMetagenomicData);\n",
    "library(HMP16SData);\n",
    "library(tidyverse);\n",
    "library(phyloseq);\n",
    "library(DivNet);\n",
    "library(here);\n",
    "here::i_am(\"notebooks/coverage.ipynb\")\n",
    "source(here(\"R\", \"generate_scores_func.R\"))\n",
    "options(getClass.msg=FALSE) # suppress phylo class phyloseq::"
   ]
  },
  {
   "cell_type": "markdown",
   "id": "2a2c088b-3358-471e-812d-551d4c80c114",
   "metadata": {},
   "source": [
    "## 16S HMP data  "
   ]
  },
  {
   "cell_type": "markdown",
   "id": "74bd04a9-fb9b-44a9-8165-c3d6f5f2feba",
   "metadata": {},
   "source": [
    "Here, we load the V3-V5 data set from the Human Microbiome Project  "
   ]
  },
  {
   "cell_type": "code",
   "execution_count": 2,
   "id": "4a6b938d-1d7a-4d05-a84b-15b6301361d7",
   "metadata": {},
   "outputs": [
    {
     "name": "stderr",
     "output_type": "stream",
     "text": [
      "snapshotDate(): 2021-10-19\n",
      "\n",
      "see ?HMP16SData and browseVignettes('HMP16SData') for documentation\n",
      "\n",
      "loading from cache\n",
      "\n",
      "Found more than one class \"phylo\" in cache; using the first, from namespace 'phyloseq'\n",
      "\n",
      "Also defined by 'tidytree'\n",
      "\n",
      "Found more than one class \"phylo\" in cache; using the first, from namespace 'phyloseq'\n",
      "\n",
      "Also defined by 'tidytree'\n",
      "\n",
      "Found more than one class \"phylo\" in cache; using the first, from namespace 'phyloseq'\n",
      "\n",
      "Also defined by 'tidytree'\n",
      "\n",
      "Found more than one class \"phylo\" in cache; using the first, from namespace 'phyloseq'\n",
      "\n",
      "Also defined by 'tidytree'\n",
      "\n",
      "Found more than one class \"phylo\" in cache; using the first, from namespace 'phyloseq'\n",
      "\n",
      "Also defined by 'tidytree'\n",
      "\n",
      "Found more than one class \"phylo\" in cache; using the first, from namespace 'phyloseq'\n",
      "\n",
      "Also defined by 'tidytree'\n",
      "\n",
      "Found more than one class \"phylo\" in cache; using the first, from namespace 'phyloseq'\n",
      "\n",
      "Also defined by 'tidytree'\n",
      "\n"
     ]
    },
    {
     "data": {
      "text/plain": [
       "phyloseq-class experiment-level object\n",
       "otu_table()   OTU Table:         [ 45336 taxa and 4743 samples ]\n",
       "sample_data() Sample Data:       [ 4743 samples by 7 sample variables ]\n",
       "tax_table()   Taxonomy Table:    [ 45336 taxa by 6 taxonomic ranks ]\n",
       "phy_tree()    Phylogenetic Tree: [ 45336 tips and 45099 internal nodes ]"
      ]
     },
     "metadata": {},
     "output_type": "display_data"
    }
   ],
   "source": [
    "data <- V35() %>% as_phyloseq();\n",
    "data"
   ]
  },
  {
   "cell_type": "markdown",
   "id": "40b46d1a-c058-40e6-aecd-f3e954a6671e",
   "metadata": {},
   "source": [
    "Here we attach NCBI identifiers onto the main `phyloseq` object"
   ]
  },
  {
   "cell_type": "code",
   "execution_count": 3,
   "id": "2d2561c5-8ac5-477d-9a8f-4e80bb72b3a5",
   "metadata": {},
   "outputs": [
    {
     "name": "stderr",
     "output_type": "stream",
     "text": [
      "Using GENUS to match\n",
      "\n",
      "Found more than one class \"phylo\" in cache; using the first, from namespace 'phyloseq'\n",
      "\n",
      "Also defined by 'tidytree'\n",
      "\n",
      "Found more than one class \"phylo\" in cache; using the first, from namespace 'phyloseq'\n",
      "\n",
      "Also defined by 'tidytree'\n",
      "\n",
      "Found more than one class \"phylo\" in cache; using the first, from namespace 'phyloseq'\n",
      "\n",
      "Also defined by 'tidytree'\n",
      "\n",
      "Found more than one class \"phylo\" in cache; using the first, from namespace 'phyloseq'\n",
      "\n",
      "Also defined by 'tidytree'\n",
      "\n"
     ]
    }
   ],
   "source": [
    "ncbi_attached <- mapid(obj = data, type = \"name\") "
   ]
  },
  {
   "cell_type": "code",
   "execution_count": 4,
   "id": "8c6c7c0a-eb8c-4127-8d26-e4633d9970c6",
   "metadata": {},
   "outputs": [
    {
     "data": {
      "text/html": [
       "<table class=\"dataframe\">\n",
       "<caption>A taxonomyTable: 6 × 7 of type chr</caption>\n",
       "<thead>\n",
       "\t<tr><th></th><th scope=col>SUPERKINGDOM</th><th scope=col>PHYLUM</th><th scope=col>CLASS</th><th scope=col>ORDER</th><th scope=col>FAMILY</th><th scope=col>GENUS</th><th scope=col>ncbi</th></tr>\n",
       "</thead>\n",
       "<tbody>\n",
       "\t<tr><th scope=row>OTU_97.15099</th><td>Bacteria</td><td>Firmicutes</td><td>Bacilli</td><td>Lactobacillales</td><td>Streptococcaceae</td><td>Streptococcus</td><td>1301</td></tr>\n",
       "\t<tr><th scope=row>OTU_97.13686</th><td>Bacteria</td><td>Firmicutes</td><td>Bacilli</td><td>Lactobacillales</td><td>Streptococcaceae</td><td>Streptococcus</td><td>1301</td></tr>\n",
       "\t<tr><th scope=row>OTU_97.30326</th><td>Bacteria</td><td>Firmicutes</td><td>Bacilli</td><td>Lactobacillales</td><td>Streptococcaceae</td><td>Streptococcus</td><td>1301</td></tr>\n",
       "\t<tr><th scope=row>OTU_97.26112</th><td>Bacteria</td><td>Firmicutes</td><td>Bacilli</td><td>Lactobacillales</td><td>Streptococcaceae</td><td>Streptococcus</td><td>1301</td></tr>\n",
       "\t<tr><th scope=row>OTU_97.34719</th><td>Bacteria</td><td>Firmicutes</td><td>Bacilli</td><td>Lactobacillales</td><td>Streptococcaceae</td><td>Streptococcus</td><td>1301</td></tr>\n",
       "\t<tr><th scope=row>OTU_97.12776</th><td>Bacteria</td><td>Firmicutes</td><td>Bacilli</td><td>Lactobacillales</td><td>Streptococcaceae</td><td>Streptococcus</td><td>1301</td></tr>\n",
       "</tbody>\n",
       "</table>\n"
      ],
      "text/latex": [
       "A taxonomyTable: 6 × 7 of type chr\n",
       "\\begin{tabular}{r|lllllll}\n",
       "  & SUPERKINGDOM & PHYLUM & CLASS & ORDER & FAMILY & GENUS & ncbi\\\\\n",
       "\\hline\n",
       "\tOTU\\_97.15099 & Bacteria & Firmicutes & Bacilli & Lactobacillales & Streptococcaceae & Streptococcus & 1301\\\\\n",
       "\tOTU\\_97.13686 & Bacteria & Firmicutes & Bacilli & Lactobacillales & Streptococcaceae & Streptococcus & 1301\\\\\n",
       "\tOTU\\_97.30326 & Bacteria & Firmicutes & Bacilli & Lactobacillales & Streptococcaceae & Streptococcus & 1301\\\\\n",
       "\tOTU\\_97.26112 & Bacteria & Firmicutes & Bacilli & Lactobacillales & Streptococcaceae & Streptococcus & 1301\\\\\n",
       "\tOTU\\_97.34719 & Bacteria & Firmicutes & Bacilli & Lactobacillales & Streptococcaceae & Streptococcus & 1301\\\\\n",
       "\tOTU\\_97.12776 & Bacteria & Firmicutes & Bacilli & Lactobacillales & Streptococcaceae & Streptococcus & 1301\\\\\n",
       "\\end{tabular}\n"
      ],
      "text/markdown": [
       "\n",
       "A taxonomyTable: 6 × 7 of type chr\n",
       "\n",
       "| <!--/--> | SUPERKINGDOM | PHYLUM | CLASS | ORDER | FAMILY | GENUS | ncbi |\n",
       "|---|---|---|---|---|---|---|---|\n",
       "| OTU_97.15099 | Bacteria | Firmicutes | Bacilli | Lactobacillales | Streptococcaceae | Streptococcus | 1301 |\n",
       "| OTU_97.13686 | Bacteria | Firmicutes | Bacilli | Lactobacillales | Streptococcaceae | Streptococcus | 1301 |\n",
       "| OTU_97.30326 | Bacteria | Firmicutes | Bacilli | Lactobacillales | Streptococcaceae | Streptococcus | 1301 |\n",
       "| OTU_97.26112 | Bacteria | Firmicutes | Bacilli | Lactobacillales | Streptococcaceae | Streptococcus | 1301 |\n",
       "| OTU_97.34719 | Bacteria | Firmicutes | Bacilli | Lactobacillales | Streptococcaceae | Streptococcus | 1301 |\n",
       "| OTU_97.12776 | Bacteria | Firmicutes | Bacilli | Lactobacillales | Streptococcaceae | Streptococcus | 1301 |\n",
       "\n"
      ],
      "text/plain": [
       "             SUPERKINGDOM PHYLUM     CLASS   ORDER           FAMILY          \n",
       "OTU_97.15099 Bacteria     Firmicutes Bacilli Lactobacillales Streptococcaceae\n",
       "OTU_97.13686 Bacteria     Firmicutes Bacilli Lactobacillales Streptococcaceae\n",
       "OTU_97.30326 Bacteria     Firmicutes Bacilli Lactobacillales Streptococcaceae\n",
       "OTU_97.26112 Bacteria     Firmicutes Bacilli Lactobacillales Streptococcaceae\n",
       "OTU_97.34719 Bacteria     Firmicutes Bacilli Lactobacillales Streptococcaceae\n",
       "OTU_97.12776 Bacteria     Firmicutes Bacilli Lactobacillales Streptococcaceae\n",
       "             GENUS         ncbi\n",
       "OTU_97.15099 Streptococcus 1301\n",
       "OTU_97.13686 Streptococcus 1301\n",
       "OTU_97.30326 Streptococcus 1301\n",
       "OTU_97.26112 Streptococcus 1301\n",
       "OTU_97.34719 Streptococcus 1301\n",
       "OTU_97.12776 Streptococcus 1301"
      ]
     },
     "metadata": {},
     "output_type": "display_data"
    }
   ],
   "source": [
    "tax_table(ncbi_attached) %>% head()"
   ]
  },
  {
   "cell_type": "markdown",
   "id": "9e81086c-ad3a-4fac-ab83-4654c87df95d",
   "metadata": {},
   "source": [
    "We're going to assess the diversity of OTUs and traits associated with each body subsite. The richness and evenness estimation would be done via `DivNet` and `breakaway`"
   ]
  },
  {
   "cell_type": "code",
   "execution_count": 67,
   "id": "852f3988-1206-4f17-a59b-6138199fb358",
   "metadata": {},
   "outputs": [],
   "source": [
    "body_sites <- sample_data(ncbi_attached) %>% as(., \"data.frame\") %>% \n",
    "        dplyr::select(HMP_BODY_SITE, HMP_BODY_SUBSITE)\n",
    "body_subsites <- body_sites %>% pull(HMP_BODY_SUBSITE) %>% unique()\n",
    "trait_classes <- c(\"cell_shape\", \"gram_stain\", \"metabolism\", \"motility\", \"pathways\", \"sporulation\", \"substrate\")\n",
    "evaluation <- cross_df(list(\n",
    "    sites = body_subsites, \n",
    "    t_class = trait_classes\n",
    "))"
   ]
  },
  {
   "cell_type": "markdown",
   "id": "3b36bfbf-29c9-47d1-baf9-7ee1d4719b52",
   "metadata": {},
   "source": [
    "Let's create some functions"
   ]
  },
  {
   "cell_type": "code",
   "execution_count": 83,
   "id": "9875e812-89e7-4e15-9232-04f2204e4c7b",
   "metadata": {},
   "outputs": [],
   "source": [
    "#' This function counts up for each sample the number of sets having \n",
    "#' at least 2 present taxa represented  \n",
    "count_traits <- function(physeq, q_set){\n",
    "    eset <- q_set %>% es_elementset() %>% as_tibble() \n",
    "    tab <- otu_table(physeq) %>% as.matrix()\n",
    "    print(dim(tab))\n",
    "    tab[tab > 0] <- 1\n",
    "    # obtain list of present otus \n",
    "    present <- apply(tab, 2, function(x){\n",
    "        idx <- which(x >= 1)\n",
    "    })\n",
    "    present <- map(present, ~rownames(tab)[.x])\n",
    "    present <- map_dbl(present, ~{\n",
    "        eset %>% filter(element %in% .x) %>% \n",
    "            group_by(set) %>% dplyr::tally() %>% filter(n >= 2) %>% nrow()\n",
    "    })\n",
    "    return(present)\n",
    "}\n",
    "\n",
    "#' Count the diversity of taxa per sample per set \n",
    "count_tax <- function(physeq, q_set, mode){\n",
    "    mode <- match.arg(mode, c(\"evenness\", \"richness\"))\n",
    "    # get all taxa members  \n",
    "    p_tax <- q_set@element %>% pull(element)\n",
    "    # filter out the physeq for only taxa that are part of the sets \n",
    "    red_physeq <- prune_taxa(taxa_names(subset_physeq) %in% p_tax, subset_physeq)\n",
    "    # use this reduced table to get a frequency table to calculate \n",
    "    freq_table <- build_frequency_count_tables(otu_table(red_physeq) %>% as.matrix())\n",
    "    if (mode == \"richness\"){\n",
    "        output <- map_dbl(freq_table, ~sample_richness(.x)$estimate)\n",
    "    } else if (mode == \"evenness\"){\n",
    "        output <- map_dbl(freq_table, ~sample_shannon(.x)$estimate)\n",
    "    }\n",
    "    return(output) \n",
    "}"
   ]
  },
  {
   "cell_type": "code",
   "execution_count": 78,
   "id": "c4e796ed-516e-4dc2-bc23-b963567b86fd",
   "metadata": {},
   "outputs": [],
   "source": [
    "sites <- \"Saliva\"\n",
    "t_class <- \"cell_shape\""
   ]
  },
  {
   "cell_type": "code",
   "execution_count": 84,
   "id": "dfc9056f-ac56-4dd8-86a7-3f15e96eaf89",
   "metadata": {},
   "outputs": [
    {
     "name": "stdout",
     "output_type": "stream",
     "text": [
      "[1] \"Stool\"\n",
      "[1] \"cell_shape\"\n"
     ]
    },
    {
     "name": "stderr",
     "output_type": "stream",
     "text": [
      "Found more than one class \"phylo\" in cache; using the first, from namespace 'phyloseq'\n",
      "\n",
      "Also defined by 'tidytree'\n",
      "\n",
      "\u001b[1m\u001b[22mJoining, by = \"ncbi\"\n",
      "Found more than one class \"phylo\" in cache; using the first, from namespace 'phyloseq'\n",
      "\n",
      "Also defined by 'tidytree'\n",
      "\n",
      "Found more than one class \"phylo\" in cache; using the first, from namespace 'phyloseq'\n",
      "\n",
      "Also defined by 'tidytree'\n",
      "\n"
     ]
    },
    {
     "name": "stdout",
     "output_type": "stream",
     "text": [
      "[1] 8898  319\n",
      "[1] \"Saliva\"\n",
      "[1] \"cell_shape\"\n"
     ]
    },
    {
     "name": "stderr",
     "output_type": "stream",
     "text": [
      "Found more than one class \"phylo\" in cache; using the first, from namespace 'phyloseq'\n",
      "\n",
      "Also defined by 'tidytree'\n",
      "\n",
      "\u001b[1m\u001b[22mJoining, by = \"ncbi\"\n",
      "Found more than one class \"phylo\" in cache; using the first, from namespace 'phyloseq'\n",
      "\n",
      "Also defined by 'tidytree'\n",
      "\n",
      "Found more than one class \"phylo\" in cache; using the first, from namespace 'phyloseq'\n",
      "\n",
      "Also defined by 'tidytree'\n",
      "\n"
     ]
    },
    {
     "name": "stdout",
     "output_type": "stream",
     "text": [
      "[1] 15730   290\n"
     ]
    },
    {
     "ename": "ERROR",
     "evalue": "\u001b[1m\u001b[33mError\u001b[39m:\u001b[22m\n\u001b[33m!\u001b[39m Tibble columns must have compatible sizes.\n\u001b[36m*\u001b[39m Size 290: Existing data.\n\u001b[36m*\u001b[39m Size 319: Column `richness`.\n\u001b[34mi\u001b[39m Only values of size one are recycled.\n",
     "output_type": "error",
     "traceback": [
      "\u001b[1m\u001b[33mError\u001b[39m:\u001b[22m\n\u001b[33m!\u001b[39m Tibble columns must have compatible sizes.\n\u001b[36m*\u001b[39m Size 290: Existing data.\n\u001b[36m*\u001b[39m Size 319: Column `richness`.\n\u001b[34mi\u001b[39m Only values of size one are recycled.\nTraceback:\n",
      "1. pmap(evaluation, function(sites, t_class) {\n .     print(sites)\n .     print(t_class)\n .     s_sites <- sample_data(ncbi_attached)$HMP_BODY_SUBSITE\n .     subset_physeq <- prune_samples(s_sites == sites, ncbi_attached) %>% \n .         filter_taxa(function(x) sum(x > 0) > (0.01 * length(x)), \n .             TRUE)\n .     q_sets <- readRDS(file = glue(\"../output/sets/set_{trait}_genus.rds\", \n .         trait = t_class))\n .     q_sets <- recode_sets(subset_physeq, q_sets)\n .     richness <- count_tax(subset_physeq, q_sets, \"richness\")\n .     evenness <- count_tax(subset_physeq, q_sets, \"evenness\")\n .     n_traits <- count_traits(subset_physeq, q_sets)\n .     tibble(n_traits = n_traits, richness = richness, evenness = evenness, \n .         site = sites, class = t_class)\n . })",
      "2. .f(sites = .l[[1L]][[i]], t_class = .l[[2L]][[i]], ...)",
      "3. tibble(n_traits = n_traits, richness = richness, evenness = evenness, \n .     site = sites, class = t_class)   # at line 12-18 of file <text>",
      "4. tibble_quos(xs, .rows, .name_repair)",
      "5. vectbl_recycle_rows(res, first_size, j, given_col_names[[j]])",
      "6. cnd_signal(error_incompatible_size(n, name, size, \"Existing data\"))",
      "7. signal_abort(cnd)"
     ]
    }
   ],
   "source": [
    "results <- pmap(evaluation, function(sites, t_class){\n",
    "    print(sites)\n",
    "    print(t_class)\n",
    "    s_sites <- sample_data(ncbi_attached)$HMP_BODY_SUBSITE\n",
    "    subset_physeq <- prune_samples(s_sites == sites, ncbi_attached) %>% \n",
    "        filter_taxa(function(x) sum(x > 0) > (0.01*length(x)), TRUE)\n",
    "    print(phyloseq::n_samples())\n",
    "    q_sets <- readRDS(file = glue(\"../output/sets/set_{trait}_genus.rds\", trait = t_class))\n",
    "    q_sets <- recode_sets(subset_physeq, q_sets)\n",
    "    richness <- count_tax(subset_physeq, q_sets, \"richness\")\n",
    "    evenness <- count_tax(subset_physeq, q_sets, \"evenness\")\n",
    "    n_traits <- count_traits(subset_physeq, q_sets)\n",
    "    tibble(\n",
    "        n_traits = n_traits,\n",
    "        richness = richness,\n",
    "        evenness = evenness, \n",
    "        site = sites, \n",
    "        class = t_class\n",
    "    )\n",
    "})"
   ]
  },
  {
   "cell_type": "code",
   "execution_count": 61,
   "id": "7d5c859b-b941-4180-a335-1ef3007b73a9",
   "metadata": {},
   "outputs": [
    {
     "data": {
      "text/html": [
       "<ol>\n",
       "\t<li>NULL</li>\n",
       "\t<li>NULL</li>\n",
       "\t<li>NULL</li>\n",
       "\t<li>NULL</li>\n",
       "\t<li>NULL</li>\n",
       "\t<li>NULL</li>\n",
       "\t<li>NULL</li>\n",
       "\t<li>NULL</li>\n",
       "\t<li>NULL</li>\n",
       "\t<li>NULL</li>\n",
       "\t<li>NULL</li>\n",
       "\t<li>NULL</li>\n",
       "\t<li>NULL</li>\n",
       "\t<li>NULL</li>\n",
       "\t<li>NULL</li>\n",
       "\t<li>NULL</li>\n",
       "\t<li>NULL</li>\n",
       "\t<li>NULL</li>\n",
       "</ol>\n"
      ],
      "text/latex": [
       "\\begin{enumerate}\n",
       "\\item NULL\n",
       "\\item NULL\n",
       "\\item NULL\n",
       "\\item NULL\n",
       "\\item NULL\n",
       "\\item NULL\n",
       "\\item NULL\n",
       "\\item NULL\n",
       "\\item NULL\n",
       "\\item NULL\n",
       "\\item NULL\n",
       "\\item NULL\n",
       "\\item NULL\n",
       "\\item NULL\n",
       "\\item NULL\n",
       "\\item NULL\n",
       "\\item NULL\n",
       "\\item NULL\n",
       "\\end{enumerate}\n"
      ],
      "text/markdown": [
       "1. NULL\n",
       "2. NULL\n",
       "3. NULL\n",
       "4. NULL\n",
       "5. NULL\n",
       "6. NULL\n",
       "7. NULL\n",
       "8. NULL\n",
       "9. NULL\n",
       "10. NULL\n",
       "11. NULL\n",
       "12. NULL\n",
       "13. NULL\n",
       "14. NULL\n",
       "15. NULL\n",
       "16. NULL\n",
       "17. NULL\n",
       "18. NULL\n",
       "\n",
       "\n"
      ],
      "text/plain": [
       "[[1]]\n",
       "NULL\n",
       "\n",
       "[[2]]\n",
       "NULL\n",
       "\n",
       "[[3]]\n",
       "NULL\n",
       "\n",
       "[[4]]\n",
       "NULL\n",
       "\n",
       "[[5]]\n",
       "NULL\n",
       "\n",
       "[[6]]\n",
       "NULL\n",
       "\n",
       "[[7]]\n",
       "NULL\n",
       "\n",
       "[[8]]\n",
       "NULL\n",
       "\n",
       "[[9]]\n",
       "NULL\n",
       "\n",
       "[[10]]\n",
       "NULL\n",
       "\n",
       "[[11]]\n",
       "NULL\n",
       "\n",
       "[[12]]\n",
       "NULL\n",
       "\n",
       "[[13]]\n",
       "NULL\n",
       "\n",
       "[[14]]\n",
       "NULL\n",
       "\n",
       "[[15]]\n",
       "NULL\n",
       "\n",
       "[[16]]\n",
       "NULL\n",
       "\n",
       "[[17]]\n",
       "NULL\n",
       "\n",
       "[[18]]\n",
       "NULL\n"
      ]
     },
     "metadata": {},
     "output_type": "display_data"
    }
   ],
   "source": [
    "results"
   ]
  },
  {
   "cell_type": "code",
   "execution_count": 31,
   "id": "46a4c8dc-a5d1-48cc-b112-8e584531ffe7",
   "metadata": {},
   "outputs": [
    {
     "name": "stderr",
     "output_type": "stream",
     "text": [
      "\u001b[1m\u001b[22mJoining, by = \"element\"\n"
     ]
    }
   ],
   "source": []
  },
  {
   "cell_type": "code",
   "execution_count": 35,
   "id": "5dfdac39-c613-45bb-8301-9d5f8c715988",
   "metadata": {},
   "outputs": [
    {
     "data": {
      "image/png": "[encoded data removed]",
      "text/plain": [
       "plot without title"
      ]
     },
     "metadata": {
      "image/png": {
       "height": 420,
       "width": 420
      }
     },
     "output_type": "display_data"
    }
   ],
   "source": []
  },
  {
   "cell_type": "code",
   "execution_count": 99,
   "id": "31372ba7-1039-4758-9b4e-fed776390406",
   "metadata": {},
   "outputs": [],
   "source": [
    "red_physeq <- prune_taxa(taxa_names(subset_physeq) %in% red_taxa, subset_physeq)\n",
    "freq_table <- build_frequency_count_tables(otu_table(red_physeq) %>% as.matrix())"
   ]
  },
  {
   "cell_type": "code",
   "execution_count": 108,
   "id": "9242b962-719b-4d7a-b6ca-5f67be7d41c5",
   "metadata": {},
   "outputs": [
    {
     "ename": "ERROR",
     "evalue": "Error in (function (classes, fdef, mtable) : unable to find an inherited method for function 'prune_samples' for signature '\"phyloseq\", \"numeric\"'\n",
     "output_type": "error",
     "traceback": [
      "Error in (function (classes, fdef, mtable) : unable to find an inherited method for function 'prune_samples' for signature '\"phyloseq\", \"numeric\"'\nTraceback:\n",
      "1. red_physeq %>% prune_samples(1)",
      "2. prune_samples(., 1)",
      "3. (function (classes, fdef, mtable) \n . {\n .     methods <- .findInheritedMethods(classes, fdef, mtable)\n .     if (length(methods) == 1L) \n .         return(methods[[1L]])\n .     else if (length(methods) == 0L) {\n .         cnames <- paste0(\"\\\"\", vapply(classes, as.character, \n .             \"\"), \"\\\"\", collapse = \", \")\n .         stop(gettextf(\"unable to find an inherited method for function %s for signature %s\", \n .             sQuote(fdef@generic), sQuote(cnames)), domain = NA)\n .     }\n .     else stop(\"Internal error in finding inherited methods; didn't return a unique method\", \n .         domain = NA)\n . })(list(structure(\"phyloseq\", package = \"phyloseq\"), \"numeric\"), \n .     new(\"standardGeneric\", .Data = function (samples, x) \n .     standardGeneric(\"prune_samples\"), generic = structure(\"prune_samples\", package = \"phyloseq\"), \n .         package = \"phyloseq\", group = list(), valueClass = character(0), \n .         signature = c(\"samples\", \"x\"), default = NULL, skeleton = (function (samples, \n .             x) \n .         stop(\"invalid call in method dispatch to 'prune_samples' (no default method)\", \n .             domain = NA))(samples, x)), <environment>)",
      "4. stop(gettextf(\"unable to find an inherited method for function %s for signature %s\", \n .     sQuote(fdef@generic), sQuote(cnames)), domain = NA)"
     ]
    }
   ],
   "source": [
    "red_physeq %>% prune_samples(1)"
   ]
  },
  {
   "cell_type": "code",
   "execution_count": 95,
   "id": "abffdd99-94a6-4ddb-a6a0-9fe42389f608",
   "metadata": {},
   "outputs": [],
   "source": []
  },
  {
   "cell_type": "code",
   "execution_count": 98,
   "id": "b7536599-ba66-4544-a965-816552b820f0",
   "metadata": {},
   "outputs": [
    {
     "data": {
      "image/png": "[encoded data removed]",
      "text/plain": [
       "plot without title"
      ]
     },
     "metadata": {
      "image/png": {
       "height": 420,
       "width": 420
      }
     },
     "output_type": "display_data"
    }
   ],
   "source": [
    "boxplot(richness)"
   ]
  },
  {
   "cell_type": "code",
   "execution_count": 91,
   "id": "f0657955-c1b2-4575-81cd-1d7501a5a85c",
   "metadata": {},
   "outputs": [
    {
     "data": {
      "text/plain": [
       "Estimate of richness from method kemp:\n",
       "  Estimate is 2246\n",
       " with standard error 2262.4\n",
       "  Confidence interval: (661, 418244)\n"
      ]
     },
     "metadata": {},
     "output_type": "display_data"
    }
   ],
   "source": [
    "estimate[[1]]"
   ]
  },
  {
   "cell_type": "code",
   "execution_count": null,
   "id": "2b41edf7-72a1-42c1-8584-b64e20b122ae",
   "metadata": {},
   "outputs": [],
   "source": []
  }
 ],
 "metadata": {
  "kernelspec": {
   "display_name": "R",
   "language": "R",
   "name": "ir"
  },
  "language_info": {
   "codemirror_mode": "r",
   "file_extension": ".r",
   "mimetype": "text/x-r-source",
   "name": "R",
   "pygments_lexer": "r",
   "version": "4.1.2"
  }
 },
 "nbformat": 4,
 "nbformat_minor": 5
}
