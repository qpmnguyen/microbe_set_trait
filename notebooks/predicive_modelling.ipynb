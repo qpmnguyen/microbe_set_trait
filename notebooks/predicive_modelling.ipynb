{
 "cells": [
  {
   "cell_type": "markdown",
   "id": "05d89de4-812c-44cf-a1ba-b223d8c216bc",
   "metadata": {},
   "source": [
    "# Interactive predictive model fitting for classifying case/control using pathway data. "
   ]
  },
  {
   "cell_type": "markdown",
   "id": "2b270c28-cf39-4a18-af02-be1c7f54ebf7",
   "metadata": {},
   "source": [
    "Quang Nguyen   \n",
    "Last updated 2022-04-27"
   ]
  },
  {
   "cell_type": "code",
   "execution_count": 204,
   "id": "c4be1348-0ea9-451a-9249-55bf6cfc81be",
   "metadata": {},
   "outputs": [],
   "source": [
    "import numpy as np \n",
    "import pandas as pd\n",
    "import sys\n",
    "import matplotlib.pyplot as plt\n",
    "from sklearn.ensemble import RandomForestClassifier\n",
    "from sklearn.calibration import CalibratedClassifierCV\n",
    "from sklearn.model_selection import KFold, cross_val_score, cross_validate\n",
    "from sklearn.preprocessing import FunctionTransformer\n",
    "from sklearn.metrics import accuracy_score, brier_score_loss, roc_auc_score\n",
    "from sklearn.inspection import permutation_importance\n",
    "from skbio.stats.composition import clr, multiplicative_replacement\n",
    "from sklearn.pipeline import Pipeline, make_pipeline\n",
    "from sklearn import preprocessing\n",
    "from sklearn.linear_model import LogisticRegression\n",
    "import pickle\n",
    "import timeit"
   ]
  },
  {
   "cell_type": "code",
   "execution_count": 205,
   "id": "62754d66-e9c3-4c29-a694-9df70570b95d",
   "metadata": {},
   "outputs": [],
   "source": [
    "sys.path.insert(1, '../python/')\n",
    "from pred_eval import prior_preprocess"
   ]
  },
  {
   "cell_type": "code",
   "execution_count": 206,
   "id": "ee18b54c-f861-4cde-b146-501971b40c5c",
   "metadata": {},
   "outputs": [],
   "source": [
    "np.random.seed(160497)"
   ]
  },
  {
   "cell_type": "code",
   "execution_count": 229,
   "id": "4c7fa687-c7f2-4938-a6b7-e6abb90c2101",
   "metadata": {},
   "outputs": [],
   "source": [
    "\"\"\"\n",
    "This function performs some apriori preprocessing based on data set required \n",
    "\"\"\"\n",
    "def prior_preprocess(feat, meta, outcome_label, pos_class):\n",
    "    X = feat.to_numpy()\n",
    "    Y = meta.loc[:, outcome_label].to_numpy()\n",
    "    Y = Y[~np.all(X == 0, axis = 1)]\n",
    "    y = [1 if i == pos_class else 0 for i in Y]\n",
    "    X = X[~np.all(X == 0, axis=1)]\n",
    "    return(X, y)\n",
    "\n",
    "\"\"\"\n",
    "This function performs the clr transformation with imputation \n",
    "\"\"\"\n",
    "def clr_transform(arr):\n",
    "    # impute with multiplicative replacement\n",
    "    arr = multiplicative_replacement(arr)\n",
    "    # clr transformation \n",
    "    arr = clr(arr)\n",
    "    return(arr)\n",
    "\n",
    "\"\"\"\n",
    "This function creates a scikit-learn pipeline \n",
    "Here we use a base default random forest classifier and calibrated it using 5-fold cross-validation. \n",
    "The remainder calibrated classifier is an ensemble of the individual classifiers. If the sample size is low, \n",
    "we're going to use sigmoid calibration approach. \n",
    "For preprocessing, we created a custom preprocessing function using the CLR transformation using scikit-bio\n",
    "\"\"\"\n",
    "def create_pipeline(clr_trans=True):\n",
    "    rf = RandomForestClassifier(n_estimators=500, max_features='sqrt')\n",
    "    estimators = [(\"calib_rf\", CalibratedClassifierCV())]\n",
    "    if clr_trans == True:\n",
    "        transf = FunctionTransformer(clr_transform, validate=True)\n",
    "        estimators.insert(0, (\"clr_transformer\", transf))\n",
    "    pipe = Pipeline(estimators)\n",
    "    pipe.set_params(calib_rf__base_estimator=rf, calib_rf__cv=5, calib_rf__ensemble=True, \n",
    "                    calib_rf__method='sigmoid')\n",
    "    return(pipe)"
   ]
  },
  {
   "cell_type": "code",
   "execution_count": 230,
   "id": "4e68db8e-ae2a-4ee0-a71b-13967ef9a55a",
   "metadata": {},
   "outputs": [],
   "source": [
    "feat = pd.read_csv(\"../data/pred_pathway_ibd_feat.csv\", index_col=0)\n",
    "lab = pd.read_csv(\"../data/pred_pathway_ibd_metadata.csv\", index_col=0)"
   ]
  },
  {
   "cell_type": "code",
   "execution_count": 231,
   "id": "f96ffae5-ba2c-4140-8ed0-4042aeb978b7",
   "metadata": {},
   "outputs": [
    {
     "data": {
      "text/html": [
       "<div>\n",
       "<style scoped>\n",
       "    .dataframe tbody tr th:only-of-type {\n",
       "        vertical-align: middle;\n",
       "    }\n",
       "\n",
       "    .dataframe tbody tr th {\n",
       "        vertical-align: top;\n",
       "    }\n",
       "\n",
       "    .dataframe thead th {\n",
       "        text-align: right;\n",
       "    }\n",
       "</style>\n",
       "<table border=\"1\" class=\"dataframe\">\n",
       "  <thead>\n",
       "    <tr style=\"text-align: right;\">\n",
       "      <th></th>\n",
       "      <th>UNMAPPED</th>\n",
       "      <th>UNINTEGRATED</th>\n",
       "      <th>PWY-6737: starch degradation V</th>\n",
       "      <th>PWY-1042: glycolysis IV (plant cytosol)</th>\n",
       "      <th>PWY-5686: UMP biosynthesis</th>\n",
       "      <th>PWY-6163: chorismate biosynthesis from 3-dehydroquinate</th>\n",
       "      <th>PWY-6386: UDP-N-acetylmuramoyl-pentapeptide biosynthesis II (lysine-containing)</th>\n",
       "      <th>ILEUSYN-PWY: L-isoleucine biosynthesis I (from threonine)</th>\n",
       "      <th>PWY-7111: pyruvate fermentation to isobutanol (engineered)</th>\n",
       "      <th>VALSYN-PWY: L-valine biosynthesis</th>\n",
       "      <th>...</th>\n",
       "      <th>PWY-6148: tetrahydromethanopterin biosynthesis</th>\n",
       "      <th>P261-PWY: coenzyme M biosynthesis I</th>\n",
       "      <th>PWY-5079: L-phenylalanine degradation III</th>\n",
       "      <th>PWY-6957: mandelate degradation to acetyl-CoA</th>\n",
       "      <th>P101-PWY: ectoine biosynthesis</th>\n",
       "      <th>PWY-6309: L-tryptophan degradation XI (mammalian, via kynurenine)</th>\n",
       "      <th>LEU-DEG2-PWY: L-leucine degradation I</th>\n",
       "      <th>PWY-7373: superpathway of demethylmenaquinol-6 biosynthesis II</th>\n",
       "      <th>PWY-7420: monoacylglycerol metabolism (yeast)</th>\n",
       "      <th>ALL-CHORISMATE-PWY: superpathway of chorismate metabolism</th>\n",
       "    </tr>\n",
       "  </thead>\n",
       "  <tbody>\n",
       "    <tr>\n",
       "      <th>SKST006_6_G102964</th>\n",
       "      <td>0.205630</td>\n",
       "      <td>0.750061</td>\n",
       "      <td>0.000681</td>\n",
       "      <td>0.000610</td>\n",
       "      <td>0.000576</td>\n",
       "      <td>0.000564</td>\n",
       "      <td>0.000551</td>\n",
       "      <td>0.000551</td>\n",
       "      <td>0.000551</td>\n",
       "      <td>0.000551</td>\n",
       "      <td>...</td>\n",
       "      <td>0.0</td>\n",
       "      <td>0.0</td>\n",
       "      <td>0.0</td>\n",
       "      <td>0.0</td>\n",
       "      <td>0.0</td>\n",
       "      <td>0.0</td>\n",
       "      <td>0.0</td>\n",
       "      <td>0.0</td>\n",
       "      <td>0.0</td>\n",
       "      <td>0.0</td>\n",
       "    </tr>\n",
       "    <tr>\n",
       "      <th>SKST006_7_G102965</th>\n",
       "      <td>0.209946</td>\n",
       "      <td>0.742283</td>\n",
       "      <td>0.000639</td>\n",
       "      <td>0.000641</td>\n",
       "      <td>0.000574</td>\n",
       "      <td>0.000513</td>\n",
       "      <td>0.000592</td>\n",
       "      <td>0.000542</td>\n",
       "      <td>0.000542</td>\n",
       "      <td>0.000542</td>\n",
       "      <td>...</td>\n",
       "      <td>0.0</td>\n",
       "      <td>0.0</td>\n",
       "      <td>0.0</td>\n",
       "      <td>0.0</td>\n",
       "      <td>0.0</td>\n",
       "      <td>0.0</td>\n",
       "      <td>0.0</td>\n",
       "      <td>0.0</td>\n",
       "      <td>0.0</td>\n",
       "      <td>0.0</td>\n",
       "    </tr>\n",
       "    <tr>\n",
       "      <th>SKST006_4_G102962</th>\n",
       "      <td>0.187781</td>\n",
       "      <td>0.766908</td>\n",
       "      <td>0.000628</td>\n",
       "      <td>0.000592</td>\n",
       "      <td>0.000553</td>\n",
       "      <td>0.000500</td>\n",
       "      <td>0.000542</td>\n",
       "      <td>0.000517</td>\n",
       "      <td>0.000517</td>\n",
       "      <td>0.000517</td>\n",
       "      <td>...</td>\n",
       "      <td>0.0</td>\n",
       "      <td>0.0</td>\n",
       "      <td>0.0</td>\n",
       "      <td>0.0</td>\n",
       "      <td>0.0</td>\n",
       "      <td>0.0</td>\n",
       "      <td>0.0</td>\n",
       "      <td>0.0</td>\n",
       "      <td>0.0</td>\n",
       "      <td>0.0</td>\n",
       "    </tr>\n",
       "    <tr>\n",
       "      <th>SKST006_5_G102963</th>\n",
       "      <td>0.218590</td>\n",
       "      <td>0.737545</td>\n",
       "      <td>0.000688</td>\n",
       "      <td>0.000685</td>\n",
       "      <td>0.000526</td>\n",
       "      <td>0.000483</td>\n",
       "      <td>0.000582</td>\n",
       "      <td>0.000519</td>\n",
       "      <td>0.000519</td>\n",
       "      <td>0.000519</td>\n",
       "      <td>...</td>\n",
       "      <td>0.0</td>\n",
       "      <td>0.0</td>\n",
       "      <td>0.0</td>\n",
       "      <td>0.0</td>\n",
       "      <td>0.0</td>\n",
       "      <td>0.0</td>\n",
       "      <td>0.0</td>\n",
       "      <td>0.0</td>\n",
       "      <td>0.0</td>\n",
       "      <td>0.0</td>\n",
       "    </tr>\n",
       "    <tr>\n",
       "      <th>SKST006_2_G102960</th>\n",
       "      <td>0.232418</td>\n",
       "      <td>0.720824</td>\n",
       "      <td>0.000684</td>\n",
       "      <td>0.000644</td>\n",
       "      <td>0.000595</td>\n",
       "      <td>0.000596</td>\n",
       "      <td>0.000592</td>\n",
       "      <td>0.000604</td>\n",
       "      <td>0.000604</td>\n",
       "      <td>0.000604</td>\n",
       "      <td>...</td>\n",
       "      <td>0.0</td>\n",
       "      <td>0.0</td>\n",
       "      <td>0.0</td>\n",
       "      <td>0.0</td>\n",
       "      <td>0.0</td>\n",
       "      <td>0.0</td>\n",
       "      <td>0.0</td>\n",
       "      <td>0.0</td>\n",
       "      <td>0.0</td>\n",
       "      <td>0.0</td>\n",
       "    </tr>\n",
       "  </tbody>\n",
       "</table>\n",
       "<p>5 rows × 510 columns</p>\n",
       "</div>"
      ],
      "text/plain": [
       "                   UNMAPPED  UNINTEGRATED  PWY-6737: starch degradation V  \\\n",
       "SKST006_6_G102964  0.205630      0.750061                        0.000681   \n",
       "SKST006_7_G102965  0.209946      0.742283                        0.000639   \n",
       "SKST006_4_G102962  0.187781      0.766908                        0.000628   \n",
       "SKST006_5_G102963  0.218590      0.737545                        0.000688   \n",
       "SKST006_2_G102960  0.232418      0.720824                        0.000684   \n",
       "\n",
       "                   PWY-1042: glycolysis IV (plant cytosol)  \\\n",
       "SKST006_6_G102964                                 0.000610   \n",
       "SKST006_7_G102965                                 0.000641   \n",
       "SKST006_4_G102962                                 0.000592   \n",
       "SKST006_5_G102963                                 0.000685   \n",
       "SKST006_2_G102960                                 0.000644   \n",
       "\n",
       "                   PWY-5686: UMP biosynthesis  \\\n",
       "SKST006_6_G102964                    0.000576   \n",
       "SKST006_7_G102965                    0.000574   \n",
       "SKST006_4_G102962                    0.000553   \n",
       "SKST006_5_G102963                    0.000526   \n",
       "SKST006_2_G102960                    0.000595   \n",
       "\n",
       "                   PWY-6163: chorismate biosynthesis from 3-dehydroquinate  \\\n",
       "SKST006_6_G102964                                           0.000564         \n",
       "SKST006_7_G102965                                           0.000513         \n",
       "SKST006_4_G102962                                           0.000500         \n",
       "SKST006_5_G102963                                           0.000483         \n",
       "SKST006_2_G102960                                           0.000596         \n",
       "\n",
       "                   PWY-6386: UDP-N-acetylmuramoyl-pentapeptide biosynthesis II (lysine-containing)  \\\n",
       "SKST006_6_G102964                                           0.000551                                 \n",
       "SKST006_7_G102965                                           0.000592                                 \n",
       "SKST006_4_G102962                                           0.000542                                 \n",
       "SKST006_5_G102963                                           0.000582                                 \n",
       "SKST006_2_G102960                                           0.000592                                 \n",
       "\n",
       "                   ILEUSYN-PWY: L-isoleucine biosynthesis I (from threonine)  \\\n",
       "SKST006_6_G102964                                           0.000551           \n",
       "SKST006_7_G102965                                           0.000542           \n",
       "SKST006_4_G102962                                           0.000517           \n",
       "SKST006_5_G102963                                           0.000519           \n",
       "SKST006_2_G102960                                           0.000604           \n",
       "\n",
       "                   PWY-7111: pyruvate fermentation to isobutanol (engineered)  \\\n",
       "SKST006_6_G102964                                           0.000551            \n",
       "SKST006_7_G102965                                           0.000542            \n",
       "SKST006_4_G102962                                           0.000517            \n",
       "SKST006_5_G102963                                           0.000519            \n",
       "SKST006_2_G102960                                           0.000604            \n",
       "\n",
       "                   VALSYN-PWY: L-valine biosynthesis  ...  \\\n",
       "SKST006_6_G102964                           0.000551  ...   \n",
       "SKST006_7_G102965                           0.000542  ...   \n",
       "SKST006_4_G102962                           0.000517  ...   \n",
       "SKST006_5_G102963                           0.000519  ...   \n",
       "SKST006_2_G102960                           0.000604  ...   \n",
       "\n",
       "                   PWY-6148: tetrahydromethanopterin biosynthesis  \\\n",
       "SKST006_6_G102964                                             0.0   \n",
       "SKST006_7_G102965                                             0.0   \n",
       "SKST006_4_G102962                                             0.0   \n",
       "SKST006_5_G102963                                             0.0   \n",
       "SKST006_2_G102960                                             0.0   \n",
       "\n",
       "                   P261-PWY: coenzyme M biosynthesis I  \\\n",
       "SKST006_6_G102964                                  0.0   \n",
       "SKST006_7_G102965                                  0.0   \n",
       "SKST006_4_G102962                                  0.0   \n",
       "SKST006_5_G102963                                  0.0   \n",
       "SKST006_2_G102960                                  0.0   \n",
       "\n",
       "                   PWY-5079: L-phenylalanine degradation III  \\\n",
       "SKST006_6_G102964                                        0.0   \n",
       "SKST006_7_G102965                                        0.0   \n",
       "SKST006_4_G102962                                        0.0   \n",
       "SKST006_5_G102963                                        0.0   \n",
       "SKST006_2_G102960                                        0.0   \n",
       "\n",
       "                   PWY-6957: mandelate degradation to acetyl-CoA  \\\n",
       "SKST006_6_G102964                                            0.0   \n",
       "SKST006_7_G102965                                            0.0   \n",
       "SKST006_4_G102962                                            0.0   \n",
       "SKST006_5_G102963                                            0.0   \n",
       "SKST006_2_G102960                                            0.0   \n",
       "\n",
       "                   P101-PWY: ectoine biosynthesis  \\\n",
       "SKST006_6_G102964                             0.0   \n",
       "SKST006_7_G102965                             0.0   \n",
       "SKST006_4_G102962                             0.0   \n",
       "SKST006_5_G102963                             0.0   \n",
       "SKST006_2_G102960                             0.0   \n",
       "\n",
       "                   PWY-6309: L-tryptophan degradation XI (mammalian, via kynurenine)  \\\n",
       "SKST006_6_G102964                                                0.0                   \n",
       "SKST006_7_G102965                                                0.0                   \n",
       "SKST006_4_G102962                                                0.0                   \n",
       "SKST006_5_G102963                                                0.0                   \n",
       "SKST006_2_G102960                                                0.0                   \n",
       "\n",
       "                   LEU-DEG2-PWY: L-leucine degradation I  \\\n",
       "SKST006_6_G102964                                    0.0   \n",
       "SKST006_7_G102965                                    0.0   \n",
       "SKST006_4_G102962                                    0.0   \n",
       "SKST006_5_G102963                                    0.0   \n",
       "SKST006_2_G102960                                    0.0   \n",
       "\n",
       "                   PWY-7373: superpathway of demethylmenaquinol-6 biosynthesis II  \\\n",
       "SKST006_6_G102964                                                0.0                \n",
       "SKST006_7_G102965                                                0.0                \n",
       "SKST006_4_G102962                                                0.0                \n",
       "SKST006_5_G102963                                                0.0                \n",
       "SKST006_2_G102960                                                0.0                \n",
       "\n",
       "                   PWY-7420: monoacylglycerol metabolism (yeast)  \\\n",
       "SKST006_6_G102964                                            0.0   \n",
       "SKST006_7_G102965                                            0.0   \n",
       "SKST006_4_G102962                                            0.0   \n",
       "SKST006_5_G102963                                            0.0   \n",
       "SKST006_2_G102960                                            0.0   \n",
       "\n",
       "                   ALL-CHORISMATE-PWY: superpathway of chorismate metabolism  \n",
       "SKST006_6_G102964                                                0.0          \n",
       "SKST006_7_G102965                                                0.0          \n",
       "SKST006_4_G102962                                                0.0          \n",
       "SKST006_5_G102963                                                0.0          \n",
       "SKST006_2_G102960                                                0.0          \n",
       "\n",
       "[5 rows x 510 columns]"
      ]
     },
     "execution_count": 231,
     "metadata": {},
     "output_type": "execute_result"
    }
   ],
   "source": [
    "feat.head()"
   ]
  },
  {
   "cell_type": "code",
   "execution_count": 232,
   "id": "4b9fafc2-b1b4-4b7c-a54e-a220449dc401",
   "metadata": {},
   "outputs": [
    {
     "data": {
      "text/plain": [
       "IBD        2085\n",
       "control     796\n",
       "Name: study_condition, dtype: int64"
      ]
     },
     "execution_count": 232,
     "metadata": {},
     "output_type": "execute_result"
    }
   ],
   "source": [
    "lab.study_condition.value_counts()"
   ]
  },
  {
   "cell_type": "code",
   "execution_count": 233,
   "id": "cb8d702f-971d-4712-a969-6f2bd2919d17",
   "metadata": {},
   "outputs": [
    {
     "data": {
      "text/plain": [
       "True"
      ]
     },
     "execution_count": 233,
     "metadata": {},
     "output_type": "execute_result"
    }
   ],
   "source": [
    "np.array_equal(feat.index.values, lab.index.values)"
   ]
  },
  {
   "cell_type": "code",
   "execution_count": 234,
   "id": "c68122bf-cf0b-4b49-a9b5-56fae1afd81b",
   "metadata": {},
   "outputs": [
    {
     "data": {
      "text/plain": [
       "Pipeline(steps=[('calib_rf',\n",
       "                 CalibratedClassifierCV(base_estimator=RandomForestClassifier(max_features='sqrt',\n",
       "                                                                              n_estimators=500),\n",
       "                                        cv=5))])"
      ]
     },
     "execution_count": 234,
     "metadata": {},
     "output_type": "execute_result"
    }
   ],
   "source": [
    "X, y = prior_preprocess(feat, lab, \"study_condition\", \"IBD\")\n",
    "pipe = create_pipeline(False)\n",
    "pipe"
   ]
  },
  {
   "cell_type": "code",
   "execution_count": 222,
   "id": "fde751dc-fe23-4d16-9c06-ad64e43bd9f8",
   "metadata": {},
   "outputs": [
    {
     "ename": "ValueError",
     "evalue": "Found input variables with inconsistent numbers of samples: [2870, 2881]",
     "output_type": "error",
     "traceback": [
      "\u001b[0;31m---------------------------------------------------------------------------\u001b[0m",
      "\u001b[0;31mValueError\u001b[0m                                Traceback (most recent call last)",
      "Input \u001b[0;32mIn [222]\u001b[0m, in \u001b[0;36m<cell line: 2>\u001b[0;34m()\u001b[0m\n\u001b[1;32m      1\u001b[0m start \u001b[38;5;241m=\u001b[39m timeit\u001b[38;5;241m.\u001b[39mdefault_timer()\n\u001b[0;32m----> 2\u001b[0m scores \u001b[38;5;241m=\u001b[39m \u001b[43mcross_validate\u001b[49m\u001b[43m(\u001b[49m\u001b[43mpipe\u001b[49m\u001b[43m,\u001b[49m\u001b[43m \u001b[49m\u001b[43mX\u001b[49m\u001b[43m,\u001b[49m\u001b[43m \u001b[49m\u001b[43my\u001b[49m\u001b[43m,\u001b[49m\u001b[43m \u001b[49m\u001b[43mcv\u001b[49m\u001b[43m \u001b[49m\u001b[38;5;241;43m=\u001b[39;49m\u001b[43m \u001b[49m\u001b[38;5;241;43m5\u001b[39;49m\u001b[43m,\u001b[49m\u001b[43m \u001b[49m\u001b[43mscoring\u001b[49m\u001b[38;5;241;43m=\u001b[39;49m\u001b[43m[\u001b[49m\u001b[38;5;124;43m\"\u001b[39;49m\u001b[38;5;124;43mbalanced_accuracy\u001b[39;49m\u001b[38;5;124;43m\"\u001b[39;49m\u001b[43m,\u001b[49m\u001b[43m \u001b[49m\u001b[38;5;124;43m\"\u001b[39;49m\u001b[38;5;124;43mneg_brier_score\u001b[39;49m\u001b[38;5;124;43m\"\u001b[39;49m\u001b[43m]\u001b[49m\u001b[43m)\u001b[49m\n\u001b[1;32m      3\u001b[0m stop \u001b[38;5;241m=\u001b[39m timeit\u001b[38;5;241m.\u001b[39mdefault_timer()\n\u001b[1;32m      4\u001b[0m \u001b[38;5;28mprint\u001b[39m(\u001b[38;5;124m'\u001b[39m\u001b[38;5;124mTime: \u001b[39m\u001b[38;5;124m'\u001b[39m, stop \u001b[38;5;241m-\u001b[39m start)\n",
      "File \u001b[0;32m~/miniconda3/envs/pred_models/lib/python3.9/site-packages/sklearn/model_selection/_validation.py:253\u001b[0m, in \u001b[0;36mcross_validate\u001b[0;34m(estimator, X, y, groups, scoring, cv, n_jobs, verbose, fit_params, pre_dispatch, return_train_score, return_estimator, error_score)\u001b[0m\n\u001b[1;32m     48\u001b[0m \u001b[38;5;28;01mdef\u001b[39;00m \u001b[38;5;21mcross_validate\u001b[39m(\n\u001b[1;32m     49\u001b[0m     estimator,\n\u001b[1;32m     50\u001b[0m     X,\n\u001b[0;32m   (...)\u001b[0m\n\u001b[1;32m     62\u001b[0m     error_score\u001b[38;5;241m=\u001b[39mnp\u001b[38;5;241m.\u001b[39mnan,\n\u001b[1;32m     63\u001b[0m ):\n\u001b[1;32m     64\u001b[0m     \u001b[38;5;124;03m\"\"\"Evaluate metric(s) by cross-validation and also record fit/score times.\u001b[39;00m\n\u001b[1;32m     65\u001b[0m \n\u001b[1;32m     66\u001b[0m \u001b[38;5;124;03m    Read more in the :ref:`User Guide <multimetric_cross_validation>`.\u001b[39;00m\n\u001b[0;32m   (...)\u001b[0m\n\u001b[1;32m    251\u001b[0m \n\u001b[1;32m    252\u001b[0m \u001b[38;5;124;03m    \"\"\"\u001b[39;00m\n\u001b[0;32m--> 253\u001b[0m     X, y, groups \u001b[38;5;241m=\u001b[39m \u001b[43mindexable\u001b[49m\u001b[43m(\u001b[49m\u001b[43mX\u001b[49m\u001b[43m,\u001b[49m\u001b[43m \u001b[49m\u001b[43my\u001b[49m\u001b[43m,\u001b[49m\u001b[43m \u001b[49m\u001b[43mgroups\u001b[49m\u001b[43m)\u001b[49m\n\u001b[1;32m    255\u001b[0m     cv \u001b[38;5;241m=\u001b[39m check_cv(cv, y, classifier\u001b[38;5;241m=\u001b[39mis_classifier(estimator))\n\u001b[1;32m    257\u001b[0m     \u001b[38;5;28;01mif\u001b[39;00m callable(scoring):\n",
      "File \u001b[0;32m~/miniconda3/envs/pred_models/lib/python3.9/site-packages/sklearn/utils/validation.py:378\u001b[0m, in \u001b[0;36mindexable\u001b[0;34m(*iterables)\u001b[0m\n\u001b[1;32m    359\u001b[0m \u001b[38;5;124;03m\"\"\"Make arrays indexable for cross-validation.\u001b[39;00m\n\u001b[1;32m    360\u001b[0m \n\u001b[1;32m    361\u001b[0m \u001b[38;5;124;03mChecks consistent length, passes through None, and ensures that everything\u001b[39;00m\n\u001b[0;32m   (...)\u001b[0m\n\u001b[1;32m    374\u001b[0m \u001b[38;5;124;03m    sparse matrix, or dataframe) or `None`.\u001b[39;00m\n\u001b[1;32m    375\u001b[0m \u001b[38;5;124;03m\"\"\"\u001b[39;00m\n\u001b[1;32m    377\u001b[0m result \u001b[38;5;241m=\u001b[39m [_make_indexable(X) \u001b[38;5;28;01mfor\u001b[39;00m X \u001b[38;5;129;01min\u001b[39;00m iterables]\n\u001b[0;32m--> 378\u001b[0m \u001b[43mcheck_consistent_length\u001b[49m\u001b[43m(\u001b[49m\u001b[38;5;241;43m*\u001b[39;49m\u001b[43mresult\u001b[49m\u001b[43m)\u001b[49m\n\u001b[1;32m    379\u001b[0m \u001b[38;5;28;01mreturn\u001b[39;00m result\n",
      "File \u001b[0;32m~/miniconda3/envs/pred_models/lib/python3.9/site-packages/sklearn/utils/validation.py:332\u001b[0m, in \u001b[0;36mcheck_consistent_length\u001b[0;34m(*arrays)\u001b[0m\n\u001b[1;32m    330\u001b[0m uniques \u001b[38;5;241m=\u001b[39m np\u001b[38;5;241m.\u001b[39munique(lengths)\n\u001b[1;32m    331\u001b[0m \u001b[38;5;28;01mif\u001b[39;00m \u001b[38;5;28mlen\u001b[39m(uniques) \u001b[38;5;241m>\u001b[39m \u001b[38;5;241m1\u001b[39m:\n\u001b[0;32m--> 332\u001b[0m     \u001b[38;5;28;01mraise\u001b[39;00m \u001b[38;5;167;01mValueError\u001b[39;00m(\n\u001b[1;32m    333\u001b[0m         \u001b[38;5;124m\"\u001b[39m\u001b[38;5;124mFound input variables with inconsistent numbers of samples: \u001b[39m\u001b[38;5;132;01m%r\u001b[39;00m\u001b[38;5;124m\"\u001b[39m\n\u001b[1;32m    334\u001b[0m         \u001b[38;5;241m%\u001b[39m [\u001b[38;5;28mint\u001b[39m(l) \u001b[38;5;28;01mfor\u001b[39;00m l \u001b[38;5;129;01min\u001b[39;00m lengths]\n\u001b[1;32m    335\u001b[0m     )\n",
      "\u001b[0;31mValueError\u001b[0m: Found input variables with inconsistent numbers of samples: [2870, 2881]"
     ]
    }
   ],
   "source": [
    "start = timeit.default_timer()\n",
    "scores = cross_validate(pipe, X, y, cv = 5, scoring=[\"balanced_accuracy\", \"neg_brier_score\"])\n",
    "stop = timeit.default_timer()\n",
    "print('Time: ', stop - start)  "
   ]
  },
  {
   "cell_type": "code",
   "execution_count": 174,
   "id": "f097ea9c-c62d-489e-b8ea-93e4079a3ebe",
   "metadata": {},
   "outputs": [
    {
     "data": {
      "text/plain": [
       "{'fit_time': array([31.81757092, 27.94704795, 29.37093401, 37.14344192, 42.3275609 ]),\n",
       " 'score_time': array([1.07529712, 0.71661019, 0.83429813, 0.83321214, 0.75956297]),\n",
       " 'test_balanced_accuracy': array([0.5, 0.5, 0.5, 0.5, 0.5]),\n",
       " 'test_neg_brier_score': array([-0.19708296, -0.20105617, -0.20265902, -0.2004177 , -0.18731096])}"
      ]
     },
     "execution_count": 174,
     "metadata": {},
     "output_type": "execute_result"
    }
   ],
   "source": [
    "scores"
   ]
  },
  {
   "cell_type": "code",
   "execution_count": 239,
   "id": "341287eb-365f-4be5-a621-79b72edc90ff",
   "metadata": {},
   "outputs": [
    {
     "data": {
      "text/plain": [
       "Pipeline(steps=[('functiontransformer',\n",
       "                 FunctionTransformer(func=<function clr_transform at 0x16b52af70>,\n",
       "                                     validate=True)),\n",
       "                ('logisticregression',\n",
       "                 LogisticRegression(C=0.1, l1_ratio=0.5, penalty='elasticnet',\n",
       "                                    solver='saga'))])"
      ]
     },
     "execution_count": 239,
     "metadata": {},
     "output_type": "execute_result"
    }
   ],
   "source": [
    "pipe2 = make_pipeline(FunctionTransformer(clr_transform, validate=True), \n",
    "                      LogisticRegression(penalty='elasticnet', C = 0.1, l1_ratio = 0.5, \n",
    "                                        solver = 'saga'))\n",
    "pipe2"
   ]
  },
  {
   "cell_type": "code",
   "execution_count": 240,
   "id": "091e0da3-0dd1-436c-b1b0-e73aa714f6dc",
   "metadata": {},
   "outputs": [
    {
     "name": "stderr",
     "output_type": "stream",
     "text": [
      "/Users/quangnguyen/miniconda3/envs/pred_models/lib/python3.9/site-packages/sklearn/linear_model/_sag.py:352: ConvergenceWarning: The max_iter was reached which means the coef_ did not converge\n",
      "  warnings.warn(\n",
      "/Users/quangnguyen/miniconda3/envs/pred_models/lib/python3.9/site-packages/sklearn/linear_model/_sag.py:352: ConvergenceWarning: The max_iter was reached which means the coef_ did not converge\n",
      "  warnings.warn(\n",
      "/Users/quangnguyen/miniconda3/envs/pred_models/lib/python3.9/site-packages/sklearn/linear_model/_sag.py:352: ConvergenceWarning: The max_iter was reached which means the coef_ did not converge\n",
      "  warnings.warn(\n",
      "/Users/quangnguyen/miniconda3/envs/pred_models/lib/python3.9/site-packages/sklearn/linear_model/_sag.py:352: ConvergenceWarning: The max_iter was reached which means the coef_ did not converge\n",
      "  warnings.warn(\n",
      "/Users/quangnguyen/miniconda3/envs/pred_models/lib/python3.9/site-packages/sklearn/linear_model/_sag.py:352: ConvergenceWarning: The max_iter was reached which means the coef_ did not converge\n",
      "  warnings.warn(\n"
     ]
    },
    {
     "data": {
      "text/plain": [
       "{'fit_time': array([1.28187799, 1.31699491, 1.28686929, 1.30763006, 1.2992928 ]),\n",
       " 'score_time': array([0.00876093, 0.00545001, 0.00581193, 0.00697899, 0.00564003]),\n",
       " 'test_score': array([-0.24725573, -0.21607755, -0.24980183, -0.22237276, -0.20137799])}"
      ]
     },
     "execution_count": 240,
     "metadata": {},
     "output_type": "execute_result"
    }
   ],
   "source": [
    "X = X\n",
    "cross_validate(pipe2, X, y, cv = 5, scoring = \"neg_brier_score\")"
   ]
  },
  {
   "cell_type": "code",
   "execution_count": 187,
   "id": "9d10ee4f-d4e6-4743-85ec-31db0f80dc47",
   "metadata": {},
   "outputs": [
    {
     "data": {
      "text/html": [
       "<div>\n",
       "<style scoped>\n",
       "    .dataframe tbody tr th:only-of-type {\n",
       "        vertical-align: middle;\n",
       "    }\n",
       "\n",
       "    .dataframe tbody tr th {\n",
       "        vertical-align: top;\n",
       "    }\n",
       "\n",
       "    .dataframe thead th {\n",
       "        text-align: right;\n",
       "    }\n",
       "</style>\n",
       "<table border=\"1\" class=\"dataframe\">\n",
       "  <thead>\n",
       "    <tr style=\"text-align: right;\">\n",
       "      <th></th>\n",
       "      <th>test</th>\n",
       "      <th>fold</th>\n",
       "      <th>brier</th>\n",
       "      <th>roc_auc</th>\n",
       "    </tr>\n",
       "  </thead>\n",
       "  <tbody>\n",
       "    <tr>\n",
       "      <th>0</th>\n",
       "      <td>test</td>\n",
       "      <td>1</td>\n",
       "      <td>0.197083</td>\n",
       "      <td>0.5</td>\n",
       "    </tr>\n",
       "    <tr>\n",
       "      <th>1</th>\n",
       "      <td>test</td>\n",
       "      <td>2</td>\n",
       "      <td>0.201056</td>\n",
       "      <td>0.5</td>\n",
       "    </tr>\n",
       "    <tr>\n",
       "      <th>2</th>\n",
       "      <td>test</td>\n",
       "      <td>3</td>\n",
       "      <td>0.202659</td>\n",
       "      <td>0.5</td>\n",
       "    </tr>\n",
       "    <tr>\n",
       "      <th>3</th>\n",
       "      <td>test</td>\n",
       "      <td>4</td>\n",
       "      <td>0.200418</td>\n",
       "      <td>0.5</td>\n",
       "    </tr>\n",
       "    <tr>\n",
       "      <th>4</th>\n",
       "      <td>test</td>\n",
       "      <td>5</td>\n",
       "      <td>0.187311</td>\n",
       "      <td>0.5</td>\n",
       "    </tr>\n",
       "  </tbody>\n",
       "</table>\n",
       "</div>"
      ],
      "text/plain": [
       "   test  fold     brier  roc_auc\n",
       "0  test     1  0.197083      0.5\n",
       "1  test     2  0.201056      0.5\n",
       "2  test     3  0.202659      0.5\n",
       "3  test     4  0.200418      0.5\n",
       "4  test     5  0.187311      0.5"
      ]
     },
     "execution_count": 187,
     "metadata": {},
     "output_type": "execute_result"
    }
   ],
   "source": [
    "\n"
   ]
  }
 ],
 "metadata": {
  "kernelspec": {
   "display_name": "Python [conda env:pred_models]",
   "language": "python",
   "name": "conda-env-pred_models-py"
  },
  "language_info": {
   "codemirror_mode": {
    "name": "ipython",
    "version": 3
   },
   "file_extension": ".py",
   "mimetype": "text/x-python",
   "name": "python",
   "nbconvert_exporter": "python",
   "pygments_lexer": "ipython3",
   "version": "3.9.12"
  }
 },
 "nbformat": 4,
 "nbformat_minor": 5
}
