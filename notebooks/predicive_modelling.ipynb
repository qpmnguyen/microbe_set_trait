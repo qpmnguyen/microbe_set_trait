{
 "cells": [
  {
   "cell_type": "markdown",
   "id": "05d89de4-812c-44cf-a1ba-b223d8c216bc",
   "metadata": {},
   "source": [
    "# Interactive predictive model fitting for classifying case/control  "
   ]
  },
  {
   "cell_type": "markdown",
   "id": "2b270c28-cf39-4a18-af02-be1c7f54ebf7",
   "metadata": {},
   "source": [
    "Quang Nguyen   \n",
    "Last updated 2022-05-03"
   ]
  },
  {
   "cell_type": "code",
   "execution_count": 9,
   "id": "c4be1348-0ea9-451a-9249-55bf6cfc81be",
   "metadata": {},
   "outputs": [],
   "source": [
    "import numpy as np \n",
    "import pandas as pd\n",
    "import sys\n",
    "import matplotlib.pyplot as plt\n",
    "from sklearn.ensemble import RandomForestClassifier\n",
    "from sklearn.calibration import CalibratedClassifierCV\n",
    "from sklearn.model_selection import KFold, cross_val_score, cross_validate, train_test_split\n",
    "from sklearn.preprocessing import FunctionTransformer\n",
    "from sklearn.metrics import accuracy_score, brier_score_loss, roc_auc_score\n",
    "from sklearn.inspection import permutation_importance\n",
    "from skbio.stats.composition import clr, multiplicative_replacement\n",
    "from sklearn.pipeline import Pipeline, make_pipeline\n",
    "from sklearn import preprocessing\n",
    "from sklearn.linear_model import LogisticRegression\n",
    "import pickle\n",
    "import timeit"
   ]
  },
  {
   "cell_type": "markdown",
   "id": "6650d197-3f55-492e-985a-a60512c5b1c8",
   "metadata": {},
   "source": [
    "Loading custom functions from the `pred_eval` model"
   ]
  },
  {
   "cell_type": "code",
   "execution_count": 5,
   "id": "62754d66-e9c3-4c29-a694-9df70570b95d",
   "metadata": {},
   "outputs": [],
   "source": [
    "sys.path.insert(1, '../python/')\n",
    "from pred_eval import prior_preprocess, clr_transform, create_pipeline"
   ]
  },
  {
   "cell_type": "code",
   "execution_count": 4,
   "id": "ee18b54c-f861-4cde-b146-501971b40c5c",
   "metadata": {},
   "outputs": [],
   "source": [
    "np.random.seed(160497)"
   ]
  },
  {
   "cell_type": "markdown",
   "id": "01585c7f-3840-46db-852e-6a373d0f75a1",
   "metadata": {},
   "source": [
    "## Example using IBD pathways data "
   ]
  },
  {
   "cell_type": "code",
   "execution_count": 7,
   "id": "4e68db8e-ae2a-4ee0-a71b-13967ef9a55a",
   "metadata": {},
   "outputs": [],
   "source": [
    "feat = pd.read_csv(\"../data/pred_pathway_ibd_feat.csv\", index_col=0)\n",
    "lab = pd.read_csv(\"../data/pred_pathway_ibd_metadata.csv\", index_col=0)"
   ]
  },
  {
   "cell_type": "code",
   "execution_count": 8,
   "id": "5ac866e6-d886-4590-aa47-41257040191e",
   "metadata": {},
   "outputs": [
    {
     "data": {
      "text/plain": [
       "Pipeline(steps=[('clr_transformer',\n",
       "                 FunctionTransformer(func=<function clr_transform at 0x7f39c0236040>,\n",
       "                                     validate=True)),\n",
       "                ('calib_rf',\n",
       "                 CalibratedClassifierCV(base_estimator=RandomForestClassifier(max_features='sqrt',\n",
       "                                                                              n_estimators=500),\n",
       "                                        cv=5))])"
      ]
     },
     "execution_count": 8,
     "metadata": {},
     "output_type": "execute_result"
    }
   ],
   "source": [
    "X, y = prior_preprocess(feat, lab, \"study_condition\", \"IBD\")\n",
    "pipe = create_pipeline(True)\n",
    "pipe"
   ]
  },
  {
   "cell_type": "code",
   "execution_count": 10,
   "id": "f96ffae5-ba2c-4140-8ed0-4042aeb978b7",
   "metadata": {},
   "outputs": [],
   "source": [
    "X_train, X_test, y_train, y_test = train_test_split(X, y)"
   ]
  },
  {
   "cell_type": "code",
   "execution_count": 13,
   "id": "4b9fafc2-b1b4-4b7c-a54e-a220449dc401",
   "metadata": {},
   "outputs": [],
   "source": [
    "fitted_mod = pipe.fit(X_train, y_train)"
   ]
  },
  {
   "cell_type": "code",
   "execution_count": null,
   "id": "82a2e232-8342-4748-bd9d-65b51155bcdb",
   "metadata": {},
   "outputs": [],
   "source": [
    "r = permutation_importance(fitted_mod, X_test, y_test, n_repeats = 5, n_jobs = 2, scoring = \"roc_auc\")"
   ]
  },
  {
   "cell_type": "code",
   "execution_count": null,
   "id": "d1a927aa-fc90-4ee7-8e86-9620dbbd2a3f",
   "metadata": {},
   "outputs": [],
   "source": [
    "r"
   ]
  },
  {
   "cell_type": "markdown",
   "id": "8c0749b2-79a3-4637-8032-d9a2194df8d2",
   "metadata": {},
   "source": [
    "## Calibration curves"
   ]
  },
  {
   "cell_type": "code",
   "execution_count": null,
   "id": "662c7078-fe75-47cd-ab34-86b047f9abc0",
   "metadata": {},
   "outputs": [],
   "source": [
    "y_pred = fitted_mod.predict_proba()"
   ]
  },
  {
   "cell_type": "code",
   "execution_count": null,
   "id": "0e59a379-9bb4-4710-8d56-f3d9598cab99",
   "metadata": {},
   "outputs": [],
   "source": [
    "help(fitted_mod.predict_proba)"
   ]
  },
  {
   "cell_type": "markdown",
   "id": "1d0cf7ff-ed8c-4d18-9a6d-19e150fc4241",
   "metadata": {},
   "source": [
    "# Performing the same analysis for other datasets"
   ]
  }
 ],
 "metadata": {
  "kernelspec": {
   "display_name": "Python 3 (ipykernel)",
   "language": "python",
   "name": "python3"
  },
  "language_info": {
   "codemirror_mode": {
    "name": "ipython",
    "version": 3
   },
   "file_extension": ".py",
   "mimetype": "text/x-python",
   "name": "python",
   "nbconvert_exporter": "python",
   "pygments_lexer": "ipython3",
   "version": "3.9.12"
  }
 },
 "nbformat": 4,
 "nbformat_minor": 5
}
