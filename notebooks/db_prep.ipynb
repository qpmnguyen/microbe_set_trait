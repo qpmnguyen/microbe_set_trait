{
 "cells": [
  {
   "cell_type": "markdown",
   "id": "700fed53",
   "metadata": {},
   "source": [
    "# Converting and updating the main trait database"
   ]
  },
  {
   "cell_type": "markdown",
   "id": "3fa2de55",
   "metadata": {},
   "source": [
    "Last Updated: 2022-04-14  \n",
    "Quang Nguyen  \n",
    "\n",
    "This notebook was obtained using a conda environment with `r-base=4.1.2` and packages managed via `renv`"
   ]
  },
  {
   "cell_type": "markdown",
   "id": "6df2c866",
   "metadata": {},
   "source": [
    "The role of this script is to take raw tables from Madin et al. and Weissman et al. and merge them. Additionally, include the updated version of the GOLD data set as well. \n",
    "\n",
    "We're prepping the latest database for export for evaluation. For this manuscript, we're merging a couple of existing databases:  \n",
    "\n",
    "1. The comprehensive synthesis of trait-database from [Madin et al. 2020](https://www.ncbi.nlm.nih.gov/pmc/articles/PMC7275036/). This database was last updated in 2020. Most of the database's sources are static sources, with the exception of the [GOLD database](https://gold.jgi.doe.gov/downloads). As such, we're merging the existing release of the Madin et al. database with the most recent GOLD release (2022-03-12).  \n",
    "2. Manual curation of bergey's manual by [Weissman et al.](https://bmcbioinformatics.biomedcentral.com/articles/10.1186/s12859-021-04216-2). This database contains manual curation of the Bergey's manual specific to human-associated microbiomes.   \n",
    "\n",
    "The way we're trying to combine these disparate sources would be to perform something similar to Madin et al. using the [R code](https://github.com/bacteria-archaea-traits/bacteria-archaea-traits/blob/master/R/functions.R) on GitHub. We're going to apply relevant transformations and mappings where apply.  \n",
    "\n",
    "For all large files, please create a directory called `large_data` first before continuing.  "
   ]
  },
  {
   "cell_type": "code",
   "execution_count": 52,
   "id": "1c6cf6da",
   "metadata": {},
   "outputs": [
    {
     "name": "stderr",
     "output_type": "stream",
     "text": [
      "here() starts at /dartfs-hpc/rc/home/k/f00345k/research/microbe_set_trait\n",
      "\n"
     ]
    }
   ],
   "source": [
    "library(data.table)\n",
    "library(dtplyr)\n",
    "library(here)\n",
    "library(stringdist)\n",
    "library(tidyverse)\n",
    "library(taxizedb)\n",
    "library(BiocParallel)\n",
    "here::i_am(\"notebooks/db_prep.ipynb\");\n",
    "setDTthreads(4)"
   ]
  },
  {
   "cell_type": "code",
   "execution_count": 53,
   "id": "f5ef1dc0",
   "metadata": {},
   "outputs": [
    {
     "name": "stderr",
     "output_type": "stream",
     "text": [
      "Database already exists, returning old file\n",
      "\n"
     ]
    },
    {
     "data": {
      "text/html": [
       "'~/.cache/R/taxizedb/NCBI.sql'"
      ],
      "text/latex": [
       "'\\textasciitilde{}/.cache/R/taxizedb/NCBI.sql'"
      ],
      "text/markdown": [
       "'~/.cache/R/taxizedb/NCBI.sql'"
      ],
      "text/plain": [
       "[1] \"~/.cache/R/taxizedb/NCBI.sql\""
      ]
     },
     "metadata": {},
     "output_type": "display_data"
    }
   ],
   "source": [
    "library(taxizedb)\n",
    "db_download_ncbi(overwrite = FALSE)"
   ]
  },
  {
   "cell_type": "markdown",
   "id": "8662f50a",
   "metadata": {},
   "source": [
    "This code is used to upload data onto GitHub using `piggyback` R package\n",
    "```r\n",
    "piggyback::pb_upload(file = here(\"large_files\", \"goldData.xlsx\"), tag = \"0.1\", overwrite = TRUE)\n",
    "```"
   ]
  },
  {
   "cell_type": "markdown",
   "id": "93ef27e2",
   "metadata": {},
   "source": [
    "# Analysis"
   ]
  },
  {
   "cell_type": "code",
   "execution_count": 54,
   "id": "4696b67e",
   "metadata": {},
   "outputs": [
    {
     "name": "stderr",
     "output_type": "stream",
     "text": [
      "\u001b[1mRows: \u001b[22m\u001b[34m14893\u001b[39m \u001b[1mColumns: \u001b[22m\u001b[34m79\u001b[39m\n",
      "\u001b[36m──\u001b[39m \u001b[1mColumn specification\u001b[22m \u001b[36m────────────────────────────────────────────────────────\u001b[39m\n",
      "\u001b[1mDelimiter:\u001b[22m \",\"\n",
      "\u001b[31mchr\u001b[39m (19): species, genus, family, order, class, phylum, superkingdom, gram_s...\n",
      "\u001b[32mdbl\u001b[39m (60): species_tax_id, d1_lo, d1_up, d2_lo, d2_up, doubling_h, genome_siz...\n",
      "\n",
      "\u001b[36mℹ\u001b[39m Use `spec()` to retrieve the full column specification for this data.\n",
      "\u001b[36mℹ\u001b[39m Specify the column types or set `show_col_types = FALSE` to quiet this message.\n"
     ]
    }
   ],
   "source": [
    "base <- read_csv(here(\"data\", \"condensed_species_NCBI.txt\")) %>% \n",
    "    select(species_tax_id, superkingdom, phylum, class, order, family, \n",
    "           genus, species, metabolism, gram_stain, pathways, \n",
    "           carbon_substrates, sporulation, motility, cell_shape) %>% \n",
    "    rename(\"substrate\" = carbon_substrates)"
   ]
  },
  {
   "cell_type": "markdown",
   "id": "ddc29903",
   "metadata": {},
   "source": [
    "## GOLD and Weissman data processing"
   ]
  },
  {
   "cell_type": "markdown",
   "id": "75b5455d",
   "metadata": {},
   "source": [
    "Before we merge our data sets, we have to prep all each of the individual GOLD and Weissman et al. database to unify both approaches. Check out the notebooks `notebook/gold_proc.ipynb` and `notebook/weissman_proc.ipynb`. "
   ]
  },
  {
   "cell_type": "code",
   "execution_count": 55,
   "id": "e56c218e",
   "metadata": {},
   "outputs": [],
   "source": [
    "gold <- readRDS(file = here(\"output\", \"databases\", \"gold_proc.rds\"))\n",
    "weissman <- readRDS(file = here(\"output\", \"databases\", \"weissman_proc.rds\"))"
   ]
  },
  {
   "cell_type": "markdown",
   "id": "fe81d2ed",
   "metadata": {},
   "source": [
    "## Checking for duplicates"
   ]
  },
  {
   "cell_type": "markdown",
   "id": "0a4799ed",
   "metadata": {},
   "source": [
    "First, we define a function to check for similar sounding names across all the unique pathways and substrates for all the data sets. Here, we use the `stringdist` function from the `stringdist` package. We use the standard OSA metric (also called the Damerau-Levenshtein distance) to query for potential similarly sounding names of identical pathways or compounds. "
   ]
  },
  {
   "cell_type": "code",
   "execution_count": 56,
   "id": "8c3233b9",
   "metadata": {},
   "outputs": [],
   "source": [
    "check_matches <- function(df, type=c(\"pathways\",\"substrates\")){\n",
    "    b_val <- base %>% pull(!!type) %>% unique() %>% str_split(pattern = \", \") %>%\n",
    "        unlist() %>% unique() %>% na.omit() %>% as.vector()\n",
    "    \n",
    "    q_val <- df %>% pull(!!type) %>% unique() %>% str_split(pattern = \", \") %>% \n",
    "        unlist() %>% unique() %>% na.omit() %>% as.vector()\n",
    "    \n",
    "    check <- map(q_val, ~{\n",
    "        match <- stringdist(a = .x, b = b_val)\n",
    "        # match 0 is the same, and match > 2 is too different \n",
    "        ret <- b_val[match > 0 & match <= 2]\n",
    "        if (length(ret) == 0){\n",
    "            return(NA)\n",
    "        } else {\n",
    "            out <- tibble(\n",
    "                query = rep(.x, length(ret)),\n",
    "                ref = ret\n",
    "            )\n",
    "        }\n",
    "    })\n",
    "    check <- check[!sapply(check, function(x) all(is.na(x)))]\n",
    "    \n",
    "    return(check)\n",
    "}"
   ]
  },
  {
   "cell_type": "code",
   "execution_count": 57,
   "id": "62994af8",
   "metadata": {},
   "outputs": [
    {
     "data": {
      "text/html": [
       "<table class=\"dataframe\">\n",
       "<caption>A tibble: 2 × 2</caption>\n",
       "<thead>\n",
       "\t<tr><th scope=col>query</th><th scope=col>ref</th></tr>\n",
       "\t<tr><th scope=col>&lt;chr&gt;</th><th scope=col>&lt;chr&gt;</th></tr>\n",
       "</thead>\n",
       "<tbody>\n",
       "\t<tr><td>elastin_degradation</td><td>plastic_degradation</td></tr>\n",
       "\t<tr><td>elastin_degradation</td><td>gelatin_degradation</td></tr>\n",
       "</tbody>\n",
       "</table>\n"
      ],
      "text/latex": [
       "A tibble: 2 × 2\n",
       "\\begin{tabular}{ll}\n",
       " query & ref\\\\\n",
       " <chr> & <chr>\\\\\n",
       "\\hline\n",
       "\t elastin\\_degradation & plastic\\_degradation\\\\\n",
       "\t elastin\\_degradation & gelatin\\_degradation\\\\\n",
       "\\end{tabular}\n"
      ],
      "text/markdown": [
       "\n",
       "A tibble: 2 × 2\n",
       "\n",
       "| query &lt;chr&gt; | ref &lt;chr&gt; |\n",
       "|---|---|\n",
       "| elastin_degradation | plastic_degradation |\n",
       "| elastin_degradation | gelatin_degradation |\n",
       "\n"
      ],
      "text/plain": [
       "  query               ref                \n",
       "1 elastin_degradation plastic_degradation\n",
       "2 elastin_degradation gelatin_degradation"
      ]
     },
     "metadata": {},
     "output_type": "display_data"
    },
    {
     "data": {
      "text/html": [
       "<table class=\"dataframe\">\n",
       "<caption>A tibble: 55 × 2</caption>\n",
       "<thead>\n",
       "\t<tr><th scope=col>query</th><th scope=col>ref</th></tr>\n",
       "\t<tr><th scope=col>&lt;chr&gt;</th><th scope=col>&lt;chr&gt;</th></tr>\n",
       "</thead>\n",
       "<tbody>\n",
       "\t<tr><td>sucrose            </td><td>fucose             </td></tr>\n",
       "\t<tr><td>butanol            </td><td>2-butanol          </td></tr>\n",
       "\t<tr><td>butanol            </td><td>1-butanol          </td></tr>\n",
       "\t<tr><td>ethanol            </td><td>methanol           </td></tr>\n",
       "\t<tr><td>glucose            </td><td>fucose             </td></tr>\n",
       "\t<tr><td>mannose            </td><td>maltose            </td></tr>\n",
       "\t<tr><td>fructose           </td><td>fucose             </td></tr>\n",
       "\t<tr><td>lactose            </td><td>lactate            </td></tr>\n",
       "\t<tr><td>lactose            </td><td>galactose          </td></tr>\n",
       "\t<tr><td>lactose            </td><td>maltose            </td></tr>\n",
       "\t<tr><td>2_3_butanediol     </td><td>2,3-butanediol     </td></tr>\n",
       "\t<tr><td>lactate            </td><td>acetate            </td></tr>\n",
       "\t<tr><td>lactate            </td><td>lactose            </td></tr>\n",
       "\t<tr><td>acetate            </td><td>lactate            </td></tr>\n",
       "\t<tr><td>caprate            </td><td>citrate            </td></tr>\n",
       "\t<tr><td>citrate            </td><td>caprate            </td></tr>\n",
       "\t<tr><td>malate             </td><td>malonate           </td></tr>\n",
       "\t<tr><td>malonate           </td><td>malate             </td></tr>\n",
       "\t<tr><td>galactose          </td><td>lactose            </td></tr>\n",
       "\t<tr><td>maltose            </td><td>lactose            </td></tr>\n",
       "\t<tr><td>maltose            </td><td>mannose            </td></tr>\n",
       "\t<tr><td>fucose             </td><td>fructose           </td></tr>\n",
       "\t<tr><td>fucose             </td><td>glucose            </td></tr>\n",
       "\t<tr><td>fucose             </td><td>sucrose            </td></tr>\n",
       "\t<tr><td>2_ketogluconate    </td><td>2-ketogluconate    </td></tr>\n",
       "\t<tr><td>2_ketogluconate    </td><td>5-ketogluconate    </td></tr>\n",
       "\t<tr><td>Tween_80           </td><td>Tween 20           </td></tr>\n",
       "\t<tr><td>Tween_80           </td><td>Tween 40           </td></tr>\n",
       "\t<tr><td>Tween_80           </td><td>Tween 80           </td></tr>\n",
       "\t<tr><td>Tween_80           </td><td>Tween 60           </td></tr>\n",
       "\t<tr><td>3_hydroxybutyrate  </td><td>3-hydroxybutyrate  </td></tr>\n",
       "\t<tr><td>4_hydroxybenzoate  </td><td>3-hydroxybenzoate  </td></tr>\n",
       "\t<tr><td>4_hydroxybenzoate  </td><td>4-hydroxbenzoate   </td></tr>\n",
       "\t<tr><td>5_ketogluconate    </td><td>2-ketogluconate    </td></tr>\n",
       "\t<tr><td>5_ketogluconate    </td><td>5-ketogluconate    </td></tr>\n",
       "\t<tr><td>Tween_20           </td><td>Tween 20           </td></tr>\n",
       "\t<tr><td>Tween_20           </td><td>Tween 40           </td></tr>\n",
       "\t<tr><td>Tween_20           </td><td>Tween 80           </td></tr>\n",
       "\t<tr><td>Tween_20           </td><td>Tween 60           </td></tr>\n",
       "\t<tr><td>Tween_40           </td><td>Tween 20           </td></tr>\n",
       "\t<tr><td>Tween_40           </td><td>Tween 40           </td></tr>\n",
       "\t<tr><td>Tween_40           </td><td>Tween 80           </td></tr>\n",
       "\t<tr><td>Tween_40           </td><td>Tween 60           </td></tr>\n",
       "\t<tr><td>Tween_60           </td><td>Tween 20           </td></tr>\n",
       "\t<tr><td>Tween_60           </td><td>Tween 40           </td></tr>\n",
       "\t<tr><td>Tween_60           </td><td>Tween 80           </td></tr>\n",
       "\t<tr><td>Tween_60           </td><td>Tween 60           </td></tr>\n",
       "\t<tr><td>myo_inositol       </td><td>myo-inositol       </td></tr>\n",
       "\t<tr><td>N_acetylglucosamine</td><td>N-acetylgulcosamine</td></tr>\n",
       "\t<tr><td>methyl_pyruvate    </td><td>methyl pyruvate    </td></tr>\n",
       "\t<tr><td>quinic_acid        </td><td>quinic acid        </td></tr>\n",
       "\t<tr><td>alpha_cyclodextrin </td><td>alpha-cyclodextrin </td></tr>\n",
       "\t<tr><td>3_hydroxybenzoate  </td><td>3-hydroxybenzoate  </td></tr>\n",
       "\t<tr><td>2_aminethanol      </td><td>2-aminethanol      </td></tr>\n",
       "\t<tr><td>trisodium_citrate  </td><td>trisodium citrate  </td></tr>\n",
       "</tbody>\n",
       "</table>\n"
      ],
      "text/latex": [
       "A tibble: 55 × 2\n",
       "\\begin{tabular}{ll}\n",
       " query & ref\\\\\n",
       " <chr> & <chr>\\\\\n",
       "\\hline\n",
       "\t sucrose             & fucose             \\\\\n",
       "\t butanol             & 2-butanol          \\\\\n",
       "\t butanol             & 1-butanol          \\\\\n",
       "\t ethanol             & methanol           \\\\\n",
       "\t glucose             & fucose             \\\\\n",
       "\t mannose             & maltose            \\\\\n",
       "\t fructose            & fucose             \\\\\n",
       "\t lactose             & lactate            \\\\\n",
       "\t lactose             & galactose          \\\\\n",
       "\t lactose             & maltose            \\\\\n",
       "\t 2\\_3\\_butanediol      & 2,3-butanediol     \\\\\n",
       "\t lactate             & acetate            \\\\\n",
       "\t lactate             & lactose            \\\\\n",
       "\t acetate             & lactate            \\\\\n",
       "\t caprate             & citrate            \\\\\n",
       "\t citrate             & caprate            \\\\\n",
       "\t malate              & malonate           \\\\\n",
       "\t malonate            & malate             \\\\\n",
       "\t galactose           & lactose            \\\\\n",
       "\t maltose             & lactose            \\\\\n",
       "\t maltose             & mannose            \\\\\n",
       "\t fucose              & fructose           \\\\\n",
       "\t fucose              & glucose            \\\\\n",
       "\t fucose              & sucrose            \\\\\n",
       "\t 2\\_ketogluconate     & 2-ketogluconate    \\\\\n",
       "\t 2\\_ketogluconate     & 5-ketogluconate    \\\\\n",
       "\t Tween\\_80            & Tween 20           \\\\\n",
       "\t Tween\\_80            & Tween 40           \\\\\n",
       "\t Tween\\_80            & Tween 80           \\\\\n",
       "\t Tween\\_80            & Tween 60           \\\\\n",
       "\t 3\\_hydroxybutyrate   & 3-hydroxybutyrate  \\\\\n",
       "\t 4\\_hydroxybenzoate   & 3-hydroxybenzoate  \\\\\n",
       "\t 4\\_hydroxybenzoate   & 4-hydroxbenzoate   \\\\\n",
       "\t 5\\_ketogluconate     & 2-ketogluconate    \\\\\n",
       "\t 5\\_ketogluconate     & 5-ketogluconate    \\\\\n",
       "\t Tween\\_20            & Tween 20           \\\\\n",
       "\t Tween\\_20            & Tween 40           \\\\\n",
       "\t Tween\\_20            & Tween 80           \\\\\n",
       "\t Tween\\_20            & Tween 60           \\\\\n",
       "\t Tween\\_40            & Tween 20           \\\\\n",
       "\t Tween\\_40            & Tween 40           \\\\\n",
       "\t Tween\\_40            & Tween 80           \\\\\n",
       "\t Tween\\_40            & Tween 60           \\\\\n",
       "\t Tween\\_60            & Tween 20           \\\\\n",
       "\t Tween\\_60            & Tween 40           \\\\\n",
       "\t Tween\\_60            & Tween 80           \\\\\n",
       "\t Tween\\_60            & Tween 60           \\\\\n",
       "\t myo\\_inositol        & myo-inositol       \\\\\n",
       "\t N\\_acetylglucosamine & N-acetylgulcosamine\\\\\n",
       "\t methyl\\_pyruvate     & methyl pyruvate    \\\\\n",
       "\t quinic\\_acid         & quinic acid        \\\\\n",
       "\t alpha\\_cyclodextrin  & alpha-cyclodextrin \\\\\n",
       "\t 3\\_hydroxybenzoate   & 3-hydroxybenzoate  \\\\\n",
       "\t 2\\_aminethanol       & 2-aminethanol      \\\\\n",
       "\t trisodium\\_citrate   & trisodium citrate  \\\\\n",
       "\\end{tabular}\n"
      ],
      "text/markdown": [
       "\n",
       "A tibble: 55 × 2\n",
       "\n",
       "| query &lt;chr&gt; | ref &lt;chr&gt; |\n",
       "|---|---|\n",
       "| sucrose             | fucose              |\n",
       "| butanol             | 2-butanol           |\n",
       "| butanol             | 1-butanol           |\n",
       "| ethanol             | methanol            |\n",
       "| glucose             | fucose              |\n",
       "| mannose             | maltose             |\n",
       "| fructose            | fucose              |\n",
       "| lactose             | lactate             |\n",
       "| lactose             | galactose           |\n",
       "| lactose             | maltose             |\n",
       "| 2_3_butanediol      | 2,3-butanediol      |\n",
       "| lactate             | acetate             |\n",
       "| lactate             | lactose             |\n",
       "| acetate             | lactate             |\n",
       "| caprate             | citrate             |\n",
       "| citrate             | caprate             |\n",
       "| malate              | malonate            |\n",
       "| malonate            | malate              |\n",
       "| galactose           | lactose             |\n",
       "| maltose             | lactose             |\n",
       "| maltose             | mannose             |\n",
       "| fucose              | fructose            |\n",
       "| fucose              | glucose             |\n",
       "| fucose              | sucrose             |\n",
       "| 2_ketogluconate     | 2-ketogluconate     |\n",
       "| 2_ketogluconate     | 5-ketogluconate     |\n",
       "| Tween_80            | Tween 20            |\n",
       "| Tween_80            | Tween 40            |\n",
       "| Tween_80            | Tween 80            |\n",
       "| Tween_80            | Tween 60            |\n",
       "| 3_hydroxybutyrate   | 3-hydroxybutyrate   |\n",
       "| 4_hydroxybenzoate   | 3-hydroxybenzoate   |\n",
       "| 4_hydroxybenzoate   | 4-hydroxbenzoate    |\n",
       "| 5_ketogluconate     | 2-ketogluconate     |\n",
       "| 5_ketogluconate     | 5-ketogluconate     |\n",
       "| Tween_20            | Tween 20            |\n",
       "| Tween_20            | Tween 40            |\n",
       "| Tween_20            | Tween 80            |\n",
       "| Tween_20            | Tween 60            |\n",
       "| Tween_40            | Tween 20            |\n",
       "| Tween_40            | Tween 40            |\n",
       "| Tween_40            | Tween 80            |\n",
       "| Tween_40            | Tween 60            |\n",
       "| Tween_60            | Tween 20            |\n",
       "| Tween_60            | Tween 40            |\n",
       "| Tween_60            | Tween 80            |\n",
       "| Tween_60            | Tween 60            |\n",
       "| myo_inositol        | myo-inositol        |\n",
       "| N_acetylglucosamine | N-acetylgulcosamine |\n",
       "| methyl_pyruvate     | methyl pyruvate     |\n",
       "| quinic_acid         | quinic acid         |\n",
       "| alpha_cyclodextrin  | alpha-cyclodextrin  |\n",
       "| 3_hydroxybenzoate   | 3-hydroxybenzoate   |\n",
       "| 2_aminethanol       | 2-aminethanol       |\n",
       "| trisodium_citrate   | trisodium citrate   |\n",
       "\n"
      ],
      "text/plain": [
       "   query               ref                \n",
       "1  sucrose             fucose             \n",
       "2  butanol             2-butanol          \n",
       "3  butanol             1-butanol          \n",
       "4  ethanol             methanol           \n",
       "5  glucose             fucose             \n",
       "6  mannose             maltose            \n",
       "7  fructose            fucose             \n",
       "8  lactose             lactate            \n",
       "9  lactose             galactose          \n",
       "10 lactose             maltose            \n",
       "11 2_3_butanediol      2,3-butanediol     \n",
       "12 lactate             acetate            \n",
       "13 lactate             lactose            \n",
       "14 acetate             lactate            \n",
       "15 caprate             citrate            \n",
       "16 citrate             caprate            \n",
       "17 malate              malonate           \n",
       "18 malonate            malate             \n",
       "19 galactose           lactose            \n",
       "20 maltose             lactose            \n",
       "21 maltose             mannose            \n",
       "22 fucose              fructose           \n",
       "23 fucose              glucose            \n",
       "24 fucose              sucrose            \n",
       "25 2_ketogluconate     2-ketogluconate    \n",
       "26 2_ketogluconate     5-ketogluconate    \n",
       "27 Tween_80            Tween 20           \n",
       "28 Tween_80            Tween 40           \n",
       "29 Tween_80            Tween 80           \n",
       "30 Tween_80            Tween 60           \n",
       "31 3_hydroxybutyrate   3-hydroxybutyrate  \n",
       "32 4_hydroxybenzoate   3-hydroxybenzoate  \n",
       "33 4_hydroxybenzoate   4-hydroxbenzoate   \n",
       "34 5_ketogluconate     2-ketogluconate    \n",
       "35 5_ketogluconate     5-ketogluconate    \n",
       "36 Tween_20            Tween 20           \n",
       "37 Tween_20            Tween 40           \n",
       "38 Tween_20            Tween 80           \n",
       "39 Tween_20            Tween 60           \n",
       "40 Tween_40            Tween 20           \n",
       "41 Tween_40            Tween 40           \n",
       "42 Tween_40            Tween 80           \n",
       "43 Tween_40            Tween 60           \n",
       "44 Tween_60            Tween 20           \n",
       "45 Tween_60            Tween 40           \n",
       "46 Tween_60            Tween 80           \n",
       "47 Tween_60            Tween 60           \n",
       "48 myo_inositol        myo-inositol       \n",
       "49 N_acetylglucosamine N-acetylgulcosamine\n",
       "50 methyl_pyruvate     methyl pyruvate    \n",
       "51 quinic_acid         quinic acid        \n",
       "52 alpha_cyclodextrin  alpha-cyclodextrin \n",
       "53 3_hydroxybenzoate   3-hydroxybenzoate  \n",
       "54 2_aminethanol       2-aminethanol      \n",
       "55 trisodium_citrate   trisodium citrate  "
      ]
     },
     "metadata": {},
     "output_type": "display_data"
    }
   ],
   "source": [
    "Reduce(check_matches(weissman, \"pathways\"), f = rbind)\n",
    "Reduce(check_matches(weissman, \"substrate\"), f = rbind)"
   ]
  },
  {
   "cell_type": "markdown",
   "id": "9e5bc9a0",
   "metadata": {},
   "source": [
    "We can see that for a lot of the compounds the names might be the same but they're actually different. However, there are certain conventions such as \"_\" for spaces or \"-\" that we might need to address for the final merge.  \n",
    "\n",
    "Let's check the GOLD database for similar sounding names. Since GOLD does not have substrate information, we only check for pathways"
   ]
  },
  {
   "cell_type": "code",
   "execution_count": 58,
   "id": "fbd93681",
   "metadata": {},
   "outputs": [
    {
     "data": {
      "text/html": [
       "<table class=\"dataframe\">\n",
       "<caption>A tibble: 6 × 2</caption>\n",
       "<thead>\n",
       "\t<tr><th scope=col>query</th><th scope=col>ref</th></tr>\n",
       "\t<tr><th scope=col>&lt;chr&gt;</th><th scope=col>&lt;chr&gt;</th></tr>\n",
       "</thead>\n",
       "<tbody>\n",
       "\t<tr><td>Nitrogen fixation </td><td>nitrogen_fixation </td></tr>\n",
       "\t<tr><td>Methane oxidation </td><td>methane_oxidation </td></tr>\n",
       "\t<tr><td>Chitin degradation</td><td>chitin_degradation</td></tr>\n",
       "\t<tr><td>Chitin_degradation</td><td>chitin_degradation</td></tr>\n",
       "\t<tr><td>Nitrogen_fixation </td><td>nitrogen_fixation </td></tr>\n",
       "\t<tr><td>Methane_oxidation </td><td>methane_oxidation </td></tr>\n",
       "</tbody>\n",
       "</table>\n"
      ],
      "text/latex": [
       "A tibble: 6 × 2\n",
       "\\begin{tabular}{ll}\n",
       " query & ref\\\\\n",
       " <chr> & <chr>\\\\\n",
       "\\hline\n",
       "\t Nitrogen fixation  & nitrogen\\_fixation \\\\\n",
       "\t Methane oxidation  & methane\\_oxidation \\\\\n",
       "\t Chitin degradation & chitin\\_degradation\\\\\n",
       "\t Chitin\\_degradation & chitin\\_degradation\\\\\n",
       "\t Nitrogen\\_fixation  & nitrogen\\_fixation \\\\\n",
       "\t Methane\\_oxidation  & methane\\_oxidation \\\\\n",
       "\\end{tabular}\n"
      ],
      "text/markdown": [
       "\n",
       "A tibble: 6 × 2\n",
       "\n",
       "| query &lt;chr&gt; | ref &lt;chr&gt; |\n",
       "|---|---|\n",
       "| Nitrogen fixation  | nitrogen_fixation  |\n",
       "| Methane oxidation  | methane_oxidation  |\n",
       "| Chitin degradation | chitin_degradation |\n",
       "| Chitin_degradation | chitin_degradation |\n",
       "| Nitrogen_fixation  | nitrogen_fixation  |\n",
       "| Methane_oxidation  | methane_oxidation  |\n",
       "\n"
      ],
      "text/plain": [
       "  query              ref               \n",
       "1 Nitrogen fixation  nitrogen_fixation \n",
       "2 Methane oxidation  methane_oxidation \n",
       "3 Chitin degradation chitin_degradation\n",
       "4 Chitin_degradation chitin_degradation\n",
       "5 Nitrogen_fixation  nitrogen_fixation \n",
       "6 Methane_oxidation  methane_oxidation "
      ]
     },
     "metadata": {},
     "output_type": "display_data"
    }
   ],
   "source": [
    "Reduce(check_matches(gold, \"pathways\"), f = rbind)"
   ]
  },
  {
   "cell_type": "code",
   "execution_count": 59,
   "id": "7b76b40c",
   "metadata": {},
   "outputs": [],
   "source": [
    "trim_path <- function(vec){\n",
    "    vec <- vec %>% tolower() %>% \n",
    "        str_split(pattern = \"(, |\\\\|)\") %>% \n",
    "        map(~{\n",
    "            str_trim(.x) %>% str_replace_all(\"\\\\-\", \"\") %>%\n",
    "                str_replace_all(\" \", \"_\") %>% unique()\n",
    "        })\n",
    "    return(vec)\n",
    "}\n",
    "\n",
    "\n",
    "gold$pathways <- trim_path(gold$pathways)\n",
    "base$pathways <- trim_path(base$pathways)\n",
    "weissman$pathways <- trim_path(weissman$pathways)\n",
    "weissman$substrate <- trim_path(weissman$substrate)\n",
    "base$substrate <- trim_path(base$substrate)"
   ]
  },
  {
   "cell_type": "markdown",
   "id": "8f7130bd",
   "metadata": {},
   "source": [
    "## Combine all data frames"
   ]
  },
  {
   "cell_type": "markdown",
   "id": "58d7e035",
   "metadata": {},
   "source": [
    "After munging, let's combine all of the names! The strategy is very similar to handling multiple entries for GOLD. First, we bind all of our databases together. Then, we `group_by` and nest all our trait data into a list. Then we process these lists and return `unique` rows (deduplicated). If the rows are not unique, then we process the non-unique rows by either concatenating the traits together or vote on consensus using the top most represented trait.  "
   ]
  },
  {
   "cell_type": "code",
   "execution_count": 60,
   "id": "cf0abdd7",
   "metadata": {},
   "outputs": [],
   "source": [
    "complete <- bind_rows(\n",
    "    base %>% mutate(substrate = map_chr(substrate, ~{paste0(.x, collapse = \",\")}), \n",
    "                    pathways = map_chr(pathways, ~{paste0(.x, collapse = \",\")})) %>% \n",
    "            mutate(source = \"madin\"), \n",
    "    gold %>% mutate(pathways = map_chr(pathways, ~{paste0(.x, collapse = \",\")})) %>% \n",
    "            mutate(source = \"gold\"), \n",
    "    weissman %>% mutate(substrate = map_chr(substrate, ~{paste0(.x, collapse = \",\")}), \n",
    "                        pathways = map_chr(pathways, ~{paste0(.x, collapse = \",\")})) %>% \n",
    "            mutate(source = \"weissman\")\n",
    ")\n",
    "complete <- complete %>% filter(!is.na(species)) %>% \n",
    "    group_by(species_tax_id) %>%\n",
    "    nest(names = c(superkingdom, phylum, class, order, family, genus, species), \n",
    "         data = c(metabolism, gram_stain, pathways, substrate, sporulation, motility, cell_shape, source)) %>%\n",
    "    ungroup() %>%\n",
    "    mutate(row_data = map_dbl(data, ~{nrow(.x)}))"
   ]
  },
  {
   "cell_type": "code",
   "execution_count": 61,
   "id": "5b38ae87",
   "metadata": {},
   "outputs": [
    {
     "data": {
      "text/html": [
       "<table class=\"dataframe\">\n",
       "<caption>A tibble: 6 × 4</caption>\n",
       "<thead>\n",
       "\t<tr><th scope=col>species_tax_id</th><th scope=col>names</th><th scope=col>data</th><th scope=col>row_data</th></tr>\n",
       "\t<tr><th scope=col>&lt;dbl&gt;</th><th scope=col>&lt;list&gt;</th><th scope=col>&lt;list&gt;</th><th scope=col>&lt;dbl&gt;</th></tr>\n",
       "</thead>\n",
       "<tbody>\n",
       "\t<tr><td>1243001</td><td>Bacteria                       , Bacteria                       , Actinobacteria                 , Actinobacteria                 , Actinobacteria                 , Actinomycetia                  , Propionibacteriales            , Propionibacteriales            , Propionibacteriaceae           , Propionibacteriaceae           , Acidipropionibacterium         , Acidipropionibacterium         , Acidipropionibacterium damnosum, Acidipropionibacterium damnosum</td><td>microaerophilic, microaerophilic, NA             , positive       , NA             , NA             , NA             , NA             , NA             , NA             , NA             , NA             , NA             , NA             , madin          , gold           </td><td>2</td></tr>\n",
       "\t<tr><td>1679466</td><td>Bacteria            , Bacteria            , Bacteroidetes       , Bacteroidetes       , Flavobacteriia      , Flavobacteriia      , Flavobacteriales    , Flavobacteriales    , Flavobacteriaceae   , Weeksellaceae       , Apibacter           , Apibacter           , Apibacter adventoris, Apibacter adventoris</td><td>microaerophilic, NA             , NA             , NA             , NA             , NA             , NA             , NA             , NA             , NA             , NA             , NA             , NA             , NA             , madin          , gold           </td><td>2</td></tr>\n",
       "\t<tr><td>1591092</td><td>Bacteria          , Proteobacteria    , Betaproteobacteria, Neisseriales      , Chromobacteriaceae, Aquaspirillum     , Aquaspirillum soli</td><td>microaerophilic, NA             , NA             , NA             , NA             , NA             , NA             , madin          </td><td>1</td></tr>\n",
       "\t<tr><td>1904463</td><td>Bacteria                     , Bacteria                     , Proteobacteria               , Proteobacteria               , Epsilonproteobacteria        , Epsilonproteobacteria        , Campylobacterales            , Campylobacterales            , Campylobacteraceae           , Arcobacteraceae              , Arcobacter                   , Poseidonibacter              , Arcobacter lekithochrous     , Poseidonibacter lekithochrous</td><td>microaerophilic, NA             , NA             , NA             , NA             , NA             , NA             , NA             , NA             , NA             , NA             , NA             , NA             , NA             , madin          , gold           </td><td>2</td></tr>\n",
       "\t<tr><td>1935204</td><td>Bacteria             , Bacteria             , Proteobacteria       , Proteobacteria       , Epsilonproteobacteria, Epsilonproteobacteria, Campylobacterales    , Campylobacterales    , Campylobacteraceae   , Arcobacteraceae      , Arcobacter           , Aliarcobacter        , Arcobacter porcinus  , [Arcobacter] porcinus</td><td>microaerophilic, NA             , NA             , NA             , NA             , NA             , NA             , NA             , NA             , NA             , NA             , NA             , NA             , NA             , madin          , gold           </td><td>2</td></tr>\n",
       "\t<tr><td> 209458</td><td>Bacteria               , Firmicutes             , Bacilli                , Bacillales             , Bacillaceae            , Bacillus               , Bacillus arbutinivorans</td><td>microaerophilic, NA             , NA             , NA             , NA             , NA             , NA             , madin          </td><td>1</td></tr>\n",
       "</tbody>\n",
       "</table>\n"
      ],
      "text/latex": [
       "A tibble: 6 × 4\n",
       "\\begin{tabular}{llll}\n",
       " species\\_tax\\_id & names & data & row\\_data\\\\\n",
       " <dbl> & <list> & <list> & <dbl>\\\\\n",
       "\\hline\n",
       "\t 1243001 & Bacteria                       , Bacteria                       , Actinobacteria                 , Actinobacteria                 , Actinobacteria                 , Actinomycetia                  , Propionibacteriales            , Propionibacteriales            , Propionibacteriaceae           , Propionibacteriaceae           , Acidipropionibacterium         , Acidipropionibacterium         , Acidipropionibacterium damnosum, Acidipropionibacterium damnosum & microaerophilic, microaerophilic, NA             , positive       , NA             , NA             , NA             , NA             , NA             , NA             , NA             , NA             , NA             , NA             , madin          , gold            & 2\\\\\n",
       "\t 1679466 & Bacteria            , Bacteria            , Bacteroidetes       , Bacteroidetes       , Flavobacteriia      , Flavobacteriia      , Flavobacteriales    , Flavobacteriales    , Flavobacteriaceae   , Weeksellaceae       , Apibacter           , Apibacter           , Apibacter adventoris, Apibacter adventoris & microaerophilic, NA             , NA             , NA             , NA             , NA             , NA             , NA             , NA             , NA             , NA             , NA             , NA             , NA             , madin          , gold            & 2\\\\\n",
       "\t 1591092 & Bacteria          , Proteobacteria    , Betaproteobacteria, Neisseriales      , Chromobacteriaceae, Aquaspirillum     , Aquaspirillum soli & microaerophilic, NA             , NA             , NA             , NA             , NA             , NA             , madin           & 1\\\\\n",
       "\t 1904463 & Bacteria                     , Bacteria                     , Proteobacteria               , Proteobacteria               , Epsilonproteobacteria        , Epsilonproteobacteria        , Campylobacterales            , Campylobacterales            , Campylobacteraceae           , Arcobacteraceae              , Arcobacter                   , Poseidonibacter              , Arcobacter lekithochrous     , Poseidonibacter lekithochrous & microaerophilic, NA             , NA             , NA             , NA             , NA             , NA             , NA             , NA             , NA             , NA             , NA             , NA             , NA             , madin          , gold            & 2\\\\\n",
       "\t 1935204 & Bacteria             , Bacteria             , Proteobacteria       , Proteobacteria       , Epsilonproteobacteria, Epsilonproteobacteria, Campylobacterales    , Campylobacterales    , Campylobacteraceae   , Arcobacteraceae      , Arcobacter           , Aliarcobacter        , Arcobacter porcinus  , {[}Arcobacter{]} porcinus & microaerophilic, NA             , NA             , NA             , NA             , NA             , NA             , NA             , NA             , NA             , NA             , NA             , NA             , NA             , madin          , gold            & 2\\\\\n",
       "\t  209458 & Bacteria               , Firmicutes             , Bacilli                , Bacillales             , Bacillaceae            , Bacillus               , Bacillus arbutinivorans & microaerophilic, NA             , NA             , NA             , NA             , NA             , NA             , madin           & 1\\\\\n",
       "\\end{tabular}\n"
      ],
      "text/markdown": [
       "\n",
       "A tibble: 6 × 4\n",
       "\n",
       "| species_tax_id &lt;dbl&gt; | names &lt;list&gt; | data &lt;list&gt; | row_data &lt;dbl&gt; |\n",
       "|---|---|---|---|\n",
       "| 1243001 | Bacteria                       , Bacteria                       , Actinobacteria                 , Actinobacteria                 , Actinobacteria                 , Actinomycetia                  , Propionibacteriales            , Propionibacteriales            , Propionibacteriaceae           , Propionibacteriaceae           , Acidipropionibacterium         , Acidipropionibacterium         , Acidipropionibacterium damnosum, Acidipropionibacterium damnosum | microaerophilic, microaerophilic, NA             , positive       , NA             , NA             , NA             , NA             , NA             , NA             , NA             , NA             , NA             , NA             , madin          , gold            | 2 |\n",
       "| 1679466 | Bacteria            , Bacteria            , Bacteroidetes       , Bacteroidetes       , Flavobacteriia      , Flavobacteriia      , Flavobacteriales    , Flavobacteriales    , Flavobacteriaceae   , Weeksellaceae       , Apibacter           , Apibacter           , Apibacter adventoris, Apibacter adventoris | microaerophilic, NA             , NA             , NA             , NA             , NA             , NA             , NA             , NA             , NA             , NA             , NA             , NA             , NA             , madin          , gold            | 2 |\n",
       "| 1591092 | Bacteria          , Proteobacteria    , Betaproteobacteria, Neisseriales      , Chromobacteriaceae, Aquaspirillum     , Aquaspirillum soli | microaerophilic, NA             , NA             , NA             , NA             , NA             , NA             , madin           | 1 |\n",
       "| 1904463 | Bacteria                     , Bacteria                     , Proteobacteria               , Proteobacteria               , Epsilonproteobacteria        , Epsilonproteobacteria        , Campylobacterales            , Campylobacterales            , Campylobacteraceae           , Arcobacteraceae              , Arcobacter                   , Poseidonibacter              , Arcobacter lekithochrous     , Poseidonibacter lekithochrous | microaerophilic, NA             , NA             , NA             , NA             , NA             , NA             , NA             , NA             , NA             , NA             , NA             , NA             , NA             , madin          , gold            | 2 |\n",
       "| 1935204 | Bacteria             , Bacteria             , Proteobacteria       , Proteobacteria       , Epsilonproteobacteria, Epsilonproteobacteria, Campylobacterales    , Campylobacterales    , Campylobacteraceae   , Arcobacteraceae      , Arcobacter           , Aliarcobacter        , Arcobacter porcinus  , [Arcobacter] porcinus | microaerophilic, NA             , NA             , NA             , NA             , NA             , NA             , NA             , NA             , NA             , NA             , NA             , NA             , NA             , madin          , gold            | 2 |\n",
       "|  209458 | Bacteria               , Firmicutes             , Bacilli                , Bacillales             , Bacillaceae            , Bacillus               , Bacillus arbutinivorans | microaerophilic, NA             , NA             , NA             , NA             , NA             , NA             , madin           | 1 |\n",
       "\n"
      ],
      "text/plain": [
       "  species_tax_id\n",
       "1 1243001       \n",
       "2 1679466       \n",
       "3 1591092       \n",
       "4 1904463       \n",
       "5 1935204       \n",
       "6  209458       \n",
       "  names                                                                                                                                                                                                                                                                                                                                                                                                                                                                       \n",
       "1 Bacteria                       , Bacteria                       , Actinobacteria                 , Actinobacteria                 , Actinobacteria                 , Actinomycetia                  , Propionibacteriales            , Propionibacteriales            , Propionibacteriaceae           , Propionibacteriaceae           , Acidipropionibacterium         , Acidipropionibacterium         , Acidipropionibacterium damnosum, Acidipropionibacterium damnosum\n",
       "2 Bacteria            , Bacteria            , Bacteroidetes       , Bacteroidetes       , Flavobacteriia      , Flavobacteriia      , Flavobacteriales    , Flavobacteriales    , Flavobacteriaceae   , Weeksellaceae       , Apibacter           , Apibacter           , Apibacter adventoris, Apibacter adventoris                                                                                                                                                          \n",
       "3 Bacteria          , Proteobacteria    , Betaproteobacteria, Neisseriales      , Chromobacteriaceae, Aquaspirillum     , Aquaspirillum soli                                                                                                                                                                                                                                                                                                                                  \n",
       "4 Bacteria                     , Bacteria                     , Proteobacteria               , Proteobacteria               , Epsilonproteobacteria        , Epsilonproteobacteria        , Campylobacterales            , Campylobacterales            , Campylobacteraceae           , Arcobacteraceae              , Arcobacter                   , Poseidonibacter              , Arcobacter lekithochrous     , Poseidonibacter lekithochrous                            \n",
       "5 Bacteria             , Bacteria             , Proteobacteria       , Proteobacteria       , Epsilonproteobacteria, Epsilonproteobacteria, Campylobacterales    , Campylobacterales    , Campylobacteraceae   , Arcobacteraceae      , Arcobacter           , Aliarcobacter        , Arcobacter porcinus  , [Arcobacter] porcinus                                                                                                                                            \n",
       "6 Bacteria               , Firmicutes             , Bacilli                , Bacillales             , Bacillaceae            , Bacillus               , Bacillus arbutinivorans                                                                                                                                                                                                                                                                                               \n",
       "  data                                                                                                                                                                                                                                                                          \n",
       "1 microaerophilic, microaerophilic, NA             , positive       , NA             , NA             , NA             , NA             , NA             , NA             , NA             , NA             , NA             , NA             , madin          , gold           \n",
       "2 microaerophilic, NA             , NA             , NA             , NA             , NA             , NA             , NA             , NA             , NA             , NA             , NA             , NA             , NA             , madin          , gold           \n",
       "3 microaerophilic, NA             , NA             , NA             , NA             , NA             , NA             , madin                                                                                                                                                  \n",
       "4 microaerophilic, NA             , NA             , NA             , NA             , NA             , NA             , NA             , NA             , NA             , NA             , NA             , NA             , NA             , madin          , gold           \n",
       "5 microaerophilic, NA             , NA             , NA             , NA             , NA             , NA             , NA             , NA             , NA             , NA             , NA             , NA             , NA             , madin          , gold           \n",
       "6 microaerophilic, NA             , NA             , NA             , NA             , NA             , NA             , madin                                                                                                                                                  \n",
       "  row_data\n",
       "1 2       \n",
       "2 2       \n",
       "3 1       \n",
       "4 2       \n",
       "5 2       \n",
       "6 1       "
      ]
     },
     "metadata": {},
     "output_type": "display_data"
    }
   ],
   "source": [
    "head(complete)"
   ]
  },
  {
   "cell_type": "code",
   "execution_count": 62,
   "id": "1c397777",
   "metadata": {},
   "outputs": [
    {
     "data": {
      "text/html": [
       "12342"
      ],
      "text/latex": [
       "12342"
      ],
      "text/markdown": [
       "12342"
      ],
      "text/plain": [
       "[1] 12342"
      ]
     },
     "metadata": {},
     "output_type": "display_data"
    }
   ],
   "source": [
    "multiple_rows <- complete %>% filter(row_data >= 2) %>% pull(species_tax_id)\n",
    "length(multiple_rows)"
   ]
  },
  {
   "cell_type": "code",
   "execution_count": 63,
   "id": "57e20a83",
   "metadata": {},
   "outputs": [],
   "source": [
    "reconcile <- complete %>% filter(species_tax_id %in% multiple_rows)"
   ]
  },
  {
   "cell_type": "code",
   "execution_count": 64,
   "id": "a6b082da",
   "metadata": {},
   "outputs": [
    {
     "data": {
      "text/html": [
       "<table class=\"dataframe\">\n",
       "<caption>A tibble: 6 × 4</caption>\n",
       "<thead>\n",
       "\t<tr><th scope=col>species_tax_id</th><th scope=col>names</th><th scope=col>data</th><th scope=col>row_data</th></tr>\n",
       "\t<tr><th scope=col>&lt;dbl&gt;</th><th scope=col>&lt;list&gt;</th><th scope=col>&lt;list&gt;</th><th scope=col>&lt;dbl&gt;</th></tr>\n",
       "</thead>\n",
       "<tbody>\n",
       "\t<tr><td>1243001</td><td>Bacteria                       , Bacteria                       , Actinobacteria                 , Actinobacteria                 , Actinobacteria                 , Actinomycetia                  , Propionibacteriales            , Propionibacteriales            , Propionibacteriaceae           , Propionibacteriaceae           , Acidipropionibacterium         , Acidipropionibacterium         , Acidipropionibacterium damnosum, Acidipropionibacterium damnosum</td><td>microaerophilic, microaerophilic, NA             , positive       , NA             , NA             , NA             , NA             , NA             , NA             , NA             , NA             , NA             , NA             , madin          , gold           </td><td>2</td></tr>\n",
       "\t<tr><td>1679466</td><td>Bacteria            , Bacteria            , Bacteroidetes       , Bacteroidetes       , Flavobacteriia      , Flavobacteriia      , Flavobacteriales    , Flavobacteriales    , Flavobacteriaceae   , Weeksellaceae       , Apibacter           , Apibacter           , Apibacter adventoris, Apibacter adventoris</td><td>microaerophilic, NA             , NA             , NA             , NA             , NA             , NA             , NA             , NA             , NA             , NA             , NA             , NA             , NA             , madin          , gold           </td><td>2</td></tr>\n",
       "\t<tr><td>1904463</td><td>Bacteria                     , Bacteria                     , Proteobacteria               , Proteobacteria               , Epsilonproteobacteria        , Epsilonproteobacteria        , Campylobacterales            , Campylobacterales            , Campylobacteraceae           , Arcobacteraceae              , Arcobacter                   , Poseidonibacter              , Arcobacter lekithochrous     , Poseidonibacter lekithochrous</td><td>microaerophilic, NA             , NA             , NA             , NA             , NA             , NA             , NA             , NA             , NA             , NA             , NA             , NA             , NA             , madin          , gold           </td><td>2</td></tr>\n",
       "\t<tr><td>1935204</td><td>Bacteria             , Bacteria             , Proteobacteria       , Proteobacteria       , Epsilonproteobacteria, Epsilonproteobacteria, Campylobacterales    , Campylobacterales    , Campylobacteraceae   , Arcobacteraceae      , Arcobacter           , Aliarcobacter        , Arcobacter porcinus  , [Arcobacter] porcinus</td><td>microaerophilic, NA             , NA             , NA             , NA             , NA             , NA             , NA             , NA             , NA             , NA             , NA             , NA             , NA             , madin          , gold           </td><td>2</td></tr>\n",
       "\t<tr><td>1780362</td><td>Bacteria                 , Bacteria                 , Proteobacteria           , Proteobacteria           , Epsilonproteobacteria    , Epsilonproteobacteria    , Campylobacterales        , Campylobacterales        , Campylobacteraceae       , Campylobacteraceae       , Campylobacter            , Campylobacter            , Campylobacter geochelonis, Campylobacter geochelonis</td><td>microaerophilic, NA             , NA             , NA             , NA             , NA             , NA             , NA             , NA             , NA             , NA             , NA             , NA             , NA             , madin          , gold           </td><td>2</td></tr>\n",
       "\t<tr><td>1848766</td><td>Bacteria                 , Bacteria                 , Proteobacteria           , Proteobacteria           , Epsilonproteobacteria    , Epsilonproteobacteria    , Campylobacterales        , Campylobacterales        , Campylobacteraceae       , Campylobacteraceae       , Campylobacter            , Campylobacter            , Campylobacter ornithocola, Campylobacter ornithocola</td><td>microaerophilic, NA             , NA             , NA             , NA             , NA             , NA             , NA             , NA             , NA             , NA             , NA             , NA             , NA             , madin          , gold           </td><td>2</td></tr>\n",
       "</tbody>\n",
       "</table>\n"
      ],
      "text/latex": [
       "A tibble: 6 × 4\n",
       "\\begin{tabular}{llll}\n",
       " species\\_tax\\_id & names & data & row\\_data\\\\\n",
       " <dbl> & <list> & <list> & <dbl>\\\\\n",
       "\\hline\n",
       "\t 1243001 & Bacteria                       , Bacteria                       , Actinobacteria                 , Actinobacteria                 , Actinobacteria                 , Actinomycetia                  , Propionibacteriales            , Propionibacteriales            , Propionibacteriaceae           , Propionibacteriaceae           , Acidipropionibacterium         , Acidipropionibacterium         , Acidipropionibacterium damnosum, Acidipropionibacterium damnosum & microaerophilic, microaerophilic, NA             , positive       , NA             , NA             , NA             , NA             , NA             , NA             , NA             , NA             , NA             , NA             , madin          , gold            & 2\\\\\n",
       "\t 1679466 & Bacteria            , Bacteria            , Bacteroidetes       , Bacteroidetes       , Flavobacteriia      , Flavobacteriia      , Flavobacteriales    , Flavobacteriales    , Flavobacteriaceae   , Weeksellaceae       , Apibacter           , Apibacter           , Apibacter adventoris, Apibacter adventoris & microaerophilic, NA             , NA             , NA             , NA             , NA             , NA             , NA             , NA             , NA             , NA             , NA             , NA             , NA             , madin          , gold            & 2\\\\\n",
       "\t 1904463 & Bacteria                     , Bacteria                     , Proteobacteria               , Proteobacteria               , Epsilonproteobacteria        , Epsilonproteobacteria        , Campylobacterales            , Campylobacterales            , Campylobacteraceae           , Arcobacteraceae              , Arcobacter                   , Poseidonibacter              , Arcobacter lekithochrous     , Poseidonibacter lekithochrous & microaerophilic, NA             , NA             , NA             , NA             , NA             , NA             , NA             , NA             , NA             , NA             , NA             , NA             , NA             , madin          , gold            & 2\\\\\n",
       "\t 1935204 & Bacteria             , Bacteria             , Proteobacteria       , Proteobacteria       , Epsilonproteobacteria, Epsilonproteobacteria, Campylobacterales    , Campylobacterales    , Campylobacteraceae   , Arcobacteraceae      , Arcobacter           , Aliarcobacter        , Arcobacter porcinus  , {[}Arcobacter{]} porcinus & microaerophilic, NA             , NA             , NA             , NA             , NA             , NA             , NA             , NA             , NA             , NA             , NA             , NA             , NA             , madin          , gold            & 2\\\\\n",
       "\t 1780362 & Bacteria                 , Bacteria                 , Proteobacteria           , Proteobacteria           , Epsilonproteobacteria    , Epsilonproteobacteria    , Campylobacterales        , Campylobacterales        , Campylobacteraceae       , Campylobacteraceae       , Campylobacter            , Campylobacter            , Campylobacter geochelonis, Campylobacter geochelonis & microaerophilic, NA             , NA             , NA             , NA             , NA             , NA             , NA             , NA             , NA             , NA             , NA             , NA             , NA             , madin          , gold            & 2\\\\\n",
       "\t 1848766 & Bacteria                 , Bacteria                 , Proteobacteria           , Proteobacteria           , Epsilonproteobacteria    , Epsilonproteobacteria    , Campylobacterales        , Campylobacterales        , Campylobacteraceae       , Campylobacteraceae       , Campylobacter            , Campylobacter            , Campylobacter ornithocola, Campylobacter ornithocola & microaerophilic, NA             , NA             , NA             , NA             , NA             , NA             , NA             , NA             , NA             , NA             , NA             , NA             , NA             , madin          , gold            & 2\\\\\n",
       "\\end{tabular}\n"
      ],
      "text/markdown": [
       "\n",
       "A tibble: 6 × 4\n",
       "\n",
       "| species_tax_id &lt;dbl&gt; | names &lt;list&gt; | data &lt;list&gt; | row_data &lt;dbl&gt; |\n",
       "|---|---|---|---|\n",
       "| 1243001 | Bacteria                       , Bacteria                       , Actinobacteria                 , Actinobacteria                 , Actinobacteria                 , Actinomycetia                  , Propionibacteriales            , Propionibacteriales            , Propionibacteriaceae           , Propionibacteriaceae           , Acidipropionibacterium         , Acidipropionibacterium         , Acidipropionibacterium damnosum, Acidipropionibacterium damnosum | microaerophilic, microaerophilic, NA             , positive       , NA             , NA             , NA             , NA             , NA             , NA             , NA             , NA             , NA             , NA             , madin          , gold            | 2 |\n",
       "| 1679466 | Bacteria            , Bacteria            , Bacteroidetes       , Bacteroidetes       , Flavobacteriia      , Flavobacteriia      , Flavobacteriales    , Flavobacteriales    , Flavobacteriaceae   , Weeksellaceae       , Apibacter           , Apibacter           , Apibacter adventoris, Apibacter adventoris | microaerophilic, NA             , NA             , NA             , NA             , NA             , NA             , NA             , NA             , NA             , NA             , NA             , NA             , NA             , madin          , gold            | 2 |\n",
       "| 1904463 | Bacteria                     , Bacteria                     , Proteobacteria               , Proteobacteria               , Epsilonproteobacteria        , Epsilonproteobacteria        , Campylobacterales            , Campylobacterales            , Campylobacteraceae           , Arcobacteraceae              , Arcobacter                   , Poseidonibacter              , Arcobacter lekithochrous     , Poseidonibacter lekithochrous | microaerophilic, NA             , NA             , NA             , NA             , NA             , NA             , NA             , NA             , NA             , NA             , NA             , NA             , NA             , madin          , gold            | 2 |\n",
       "| 1935204 | Bacteria             , Bacteria             , Proteobacteria       , Proteobacteria       , Epsilonproteobacteria, Epsilonproteobacteria, Campylobacterales    , Campylobacterales    , Campylobacteraceae   , Arcobacteraceae      , Arcobacter           , Aliarcobacter        , Arcobacter porcinus  , [Arcobacter] porcinus | microaerophilic, NA             , NA             , NA             , NA             , NA             , NA             , NA             , NA             , NA             , NA             , NA             , NA             , NA             , madin          , gold            | 2 |\n",
       "| 1780362 | Bacteria                 , Bacteria                 , Proteobacteria           , Proteobacteria           , Epsilonproteobacteria    , Epsilonproteobacteria    , Campylobacterales        , Campylobacterales        , Campylobacteraceae       , Campylobacteraceae       , Campylobacter            , Campylobacter            , Campylobacter geochelonis, Campylobacter geochelonis | microaerophilic, NA             , NA             , NA             , NA             , NA             , NA             , NA             , NA             , NA             , NA             , NA             , NA             , NA             , madin          , gold            | 2 |\n",
       "| 1848766 | Bacteria                 , Bacteria                 , Proteobacteria           , Proteobacteria           , Epsilonproteobacteria    , Epsilonproteobacteria    , Campylobacterales        , Campylobacterales        , Campylobacteraceae       , Campylobacteraceae       , Campylobacter            , Campylobacter            , Campylobacter ornithocola, Campylobacter ornithocola | microaerophilic, NA             , NA             , NA             , NA             , NA             , NA             , NA             , NA             , NA             , NA             , NA             , NA             , NA             , madin          , gold            | 2 |\n",
       "\n"
      ],
      "text/plain": [
       "  species_tax_id\n",
       "1 1243001       \n",
       "2 1679466       \n",
       "3 1904463       \n",
       "4 1935204       \n",
       "5 1780362       \n",
       "6 1848766       \n",
       "  names                                                                                                                                                                                                                                                                                                                                                                                                                                                                       \n",
       "1 Bacteria                       , Bacteria                       , Actinobacteria                 , Actinobacteria                 , Actinobacteria                 , Actinomycetia                  , Propionibacteriales            , Propionibacteriales            , Propionibacteriaceae           , Propionibacteriaceae           , Acidipropionibacterium         , Acidipropionibacterium         , Acidipropionibacterium damnosum, Acidipropionibacterium damnosum\n",
       "2 Bacteria            , Bacteria            , Bacteroidetes       , Bacteroidetes       , Flavobacteriia      , Flavobacteriia      , Flavobacteriales    , Flavobacteriales    , Flavobacteriaceae   , Weeksellaceae       , Apibacter           , Apibacter           , Apibacter adventoris, Apibacter adventoris                                                                                                                                                          \n",
       "3 Bacteria                     , Bacteria                     , Proteobacteria               , Proteobacteria               , Epsilonproteobacteria        , Epsilonproteobacteria        , Campylobacterales            , Campylobacterales            , Campylobacteraceae           , Arcobacteraceae              , Arcobacter                   , Poseidonibacter              , Arcobacter lekithochrous     , Poseidonibacter lekithochrous                            \n",
       "4 Bacteria             , Bacteria             , Proteobacteria       , Proteobacteria       , Epsilonproteobacteria, Epsilonproteobacteria, Campylobacterales    , Campylobacterales    , Campylobacteraceae   , Arcobacteraceae      , Arcobacter           , Aliarcobacter        , Arcobacter porcinus  , [Arcobacter] porcinus                                                                                                                                            \n",
       "5 Bacteria                 , Bacteria                 , Proteobacteria           , Proteobacteria           , Epsilonproteobacteria    , Epsilonproteobacteria    , Campylobacterales        , Campylobacterales        , Campylobacteraceae       , Campylobacteraceae       , Campylobacter            , Campylobacter            , Campylobacter geochelonis, Campylobacter geochelonis                                                                                    \n",
       "6 Bacteria                 , Bacteria                 , Proteobacteria           , Proteobacteria           , Epsilonproteobacteria    , Epsilonproteobacteria    , Campylobacterales        , Campylobacterales        , Campylobacteraceae       , Campylobacteraceae       , Campylobacter            , Campylobacter            , Campylobacter ornithocola, Campylobacter ornithocola                                                                                    \n",
       "  data                                                                                                                                                                                                                                                                          \n",
       "1 microaerophilic, microaerophilic, NA             , positive       , NA             , NA             , NA             , NA             , NA             , NA             , NA             , NA             , NA             , NA             , madin          , gold           \n",
       "2 microaerophilic, NA             , NA             , NA             , NA             , NA             , NA             , NA             , NA             , NA             , NA             , NA             , NA             , NA             , madin          , gold           \n",
       "3 microaerophilic, NA             , NA             , NA             , NA             , NA             , NA             , NA             , NA             , NA             , NA             , NA             , NA             , NA             , madin          , gold           \n",
       "4 microaerophilic, NA             , NA             , NA             , NA             , NA             , NA             , NA             , NA             , NA             , NA             , NA             , NA             , NA             , madin          , gold           \n",
       "5 microaerophilic, NA             , NA             , NA             , NA             , NA             , NA             , NA             , NA             , NA             , NA             , NA             , NA             , NA             , madin          , gold           \n",
       "6 microaerophilic, NA             , NA             , NA             , NA             , NA             , NA             , NA             , NA             , NA             , NA             , NA             , NA             , NA             , madin          , gold           \n",
       "  row_data\n",
       "1 2       \n",
       "2 2       \n",
       "3 2       \n",
       "4 2       \n",
       "5 2       \n",
       "6 2       "
      ]
     },
     "metadata": {},
     "output_type": "display_data"
    }
   ],
   "source": [
    "head(reconcile)"
   ]
  },
  {
   "cell_type": "markdown",
   "id": "cd1b97eb",
   "metadata": {},
   "source": [
    "Let's collapse traits of the same species similar to before and merge everything together to save to a database. Since Weissman et al. is a manually curated source, we're going to prefer Weissman et al. above other sources if there are conflicts. The second preference would be Madin et al. since Madin et al. also has curated static sources while GOLD relies on community submissions. In the case where there are multiple Weissman et al. traits per taxa, we concatenate pathways/substrates"
   ]
  },
  {
   "cell_type": "code",
   "execution_count": 65,
   "id": "399eb876",
   "metadata": {},
   "outputs": [],
   "source": [
    "#' @param data This is a data frame of multiple columns, where the columns of \n",
    "#'     pathways and substrates are themselves lists \n",
    "reconcile_trait <- function(data, species_tax_id, names, ...){\n",
    "    nonlist <- c(\"metabolism\", \"gram_stain\", \"sporulation\", \"motility\", \n",
    "                 \"cell_shape\")    \n",
    "    \n",
    "    weissman_idx <- which(data$source == \"weissman\")\n",
    "    # reconcile each non-pathway-substrate trait \n",
    "    out <- suppressMessages(map_dfc(nonlist, ~{\n",
    "        # for each data frame\n",
    "        traits <- data %>% pull(.x)        \n",
    "        traits <- as.data.frame(table(traits))\n",
    "        if (nrow(traits) == 1){\n",
    "            return(data %>% filter(!!as.symbol(.x) == traits$traits) %>% pull(.x) %>% unique())\n",
    "        } else if (nrow(traits) == 0){\n",
    "            return(NA_character_)\n",
    "        } else {\n",
    "            w_source <- data %>% slice(weissman_idx) %>% pull(.x) \n",
    "            w_source <- na.omit(unique(w_source))\n",
    "            if (length(w_source) >= 2) {\n",
    "                # if there are conflicting weissman et al. information \n",
    "                # first, let's check that the names are accurate according to the species_tax_id \n",
    "                query_name <- taxizedb::taxid2name(species_tax_id)\n",
    "                # second, let's extract the name to match and if there is only one name, attach the genus\n",
    "                spec <- names %>% slice(weissman_idx) %>% pull(species)\n",
    "                gen <- names %>% slice(weissman_idx) %>% pull(genus)\n",
    "                check_name <- map_dbl(spec, ~length(str_split(.x,pattern = \" \")[[1]]))\n",
    "                spec[which(check_name == 1)] <- paste(gen[which(check_name == 1)], spec[which(check_name == 1)])\n",
    "                # third, now check with the query name \n",
    "                match_idx <- which(spec == query_name)\n",
    "                # if there is over 2 matches or only 0 matches, then return NA due to confusion\n",
    "                if (length(match_idx) == 1){\n",
    "                    return(w_source[match_idx])\n",
    "                } else {\n",
    "                    return(NA_character_)\n",
    "                }\n",
    "            }\n",
    "            if (is_empty(w_source)){\n",
    "                return(data %>% filter(source == \"madin\") %>% pull(.x))\n",
    "            } else if (is.na(w_source)) {\n",
    "                return(data %>% filter(source == \"madin\") %>% pull(.x))\n",
    "            } else {\n",
    "                return(w_source)\n",
    "            }\n",
    "        }\n",
    "    }))\n",
    "    names(out) <- nonlist\n",
    "    # process pathway and substrate traits\n",
    "    path_vec <- data %>% pull(\"pathways\") %>% \n",
    "        map(., ~{ str_split(.x, ',')[[1]] }) %>% \n",
    "        Reduce(f = c, x = .) %>% unique()\n",
    "    path_vec <- path_vec[!path_vec %in% c(\"NA\", NA_character_)]\n",
    "    if (length(path_vec) == 0){\n",
    "        out$pathways <- NA_character_\n",
    "    } else {\n",
    "        out$pathways <- paste(path_vec, collapse = \",\")\n",
    "    }\n",
    "    \n",
    "    path_substr <- data %>% pull(\"substrate\") %>% \n",
    "        map(., ~{ str_split(.x, ',')[[1]] }) %>% \n",
    "        Reduce(f = c, x = .) %>% unique()\n",
    "    path_substr <- path_substr[!path_substr %in% c(\"NA\", NA_character_)]\n",
    "    if (length(path_substr) == 0){\n",
    "        out$substrate <- NA_character_\n",
    "    } else {\n",
    "        out$substrate <- paste(path_substr, collapse = \",\")\n",
    "    }\n",
    "    return(out)\n",
    "}"
   ]
  },
  {
   "cell_type": "code",
   "execution_count": 66,
   "id": "783f4d43-3792-4290-bf61-cfb9064c43d3",
   "metadata": {},
   "outputs": [
    {
     "data": {
      "text/html": [
       "<table class=\"dataframe\">\n",
       "<caption>A tibble: 6 × 3</caption>\n",
       "<thead>\n",
       "\t<tr><th scope=col>species_tax_id</th><th scope=col>names</th><th scope=col>data</th></tr>\n",
       "\t<tr><th scope=col>&lt;dbl&gt;</th><th scope=col>&lt;list&gt;</th><th scope=col>&lt;list&gt;</th></tr>\n",
       "</thead>\n",
       "<tbody>\n",
       "\t<tr><td>1243001</td><td>Bacteria                       , Bacteria                       , Actinobacteria                 , Actinobacteria                 , Actinobacteria                 , Actinomycetia                  , Propionibacteriales            , Propionibacteriales            , Propionibacteriaceae           , Propionibacteriaceae           , Acidipropionibacterium         , Acidipropionibacterium         , Acidipropionibacterium damnosum, Acidipropionibacterium damnosum</td><td>microaerophilic, microaerophilic, NA             , positive       , NA             , NA             , NA             , NA             , NA             , NA             , NA             , NA             , NA             , NA             , madin          , gold           </td></tr>\n",
       "\t<tr><td>1679466</td><td>Bacteria            , Bacteria            , Bacteroidetes       , Bacteroidetes       , Flavobacteriia      , Flavobacteriia      , Flavobacteriales    , Flavobacteriales    , Flavobacteriaceae   , Weeksellaceae       , Apibacter           , Apibacter           , Apibacter adventoris, Apibacter adventoris</td><td>microaerophilic, NA             , NA             , NA             , NA             , NA             , NA             , NA             , NA             , NA             , NA             , NA             , NA             , NA             , madin          , gold           </td></tr>\n",
       "\t<tr><td>1904463</td><td>Bacteria                     , Bacteria                     , Proteobacteria               , Proteobacteria               , Epsilonproteobacteria        , Epsilonproteobacteria        , Campylobacterales            , Campylobacterales            , Campylobacteraceae           , Arcobacteraceae              , Arcobacter                   , Poseidonibacter              , Arcobacter lekithochrous     , Poseidonibacter lekithochrous</td><td>microaerophilic, NA             , NA             , NA             , NA             , NA             , NA             , NA             , NA             , NA             , NA             , NA             , NA             , NA             , madin          , gold           </td></tr>\n",
       "\t<tr><td>1935204</td><td>Bacteria             , Bacteria             , Proteobacteria       , Proteobacteria       , Epsilonproteobacteria, Epsilonproteobacteria, Campylobacterales    , Campylobacterales    , Campylobacteraceae   , Arcobacteraceae      , Arcobacter           , Aliarcobacter        , Arcobacter porcinus  , [Arcobacter] porcinus</td><td>microaerophilic, NA             , NA             , NA             , NA             , NA             , NA             , NA             , NA             , NA             , NA             , NA             , NA             , NA             , madin          , gold           </td></tr>\n",
       "\t<tr><td>1780362</td><td>Bacteria                 , Bacteria                 , Proteobacteria           , Proteobacteria           , Epsilonproteobacteria    , Epsilonproteobacteria    , Campylobacterales        , Campylobacterales        , Campylobacteraceae       , Campylobacteraceae       , Campylobacter            , Campylobacter            , Campylobacter geochelonis, Campylobacter geochelonis</td><td>microaerophilic, NA             , NA             , NA             , NA             , NA             , NA             , NA             , NA             , NA             , NA             , NA             , NA             , NA             , madin          , gold           </td></tr>\n",
       "\t<tr><td>1848766</td><td>Bacteria                 , Bacteria                 , Proteobacteria           , Proteobacteria           , Epsilonproteobacteria    , Epsilonproteobacteria    , Campylobacterales        , Campylobacterales        , Campylobacteraceae       , Campylobacteraceae       , Campylobacter            , Campylobacter            , Campylobacter ornithocola, Campylobacter ornithocola</td><td>microaerophilic, NA             , NA             , NA             , NA             , NA             , NA             , NA             , NA             , NA             , NA             , NA             , NA             , NA             , madin          , gold           </td></tr>\n",
       "</tbody>\n",
       "</table>\n"
      ],
      "text/latex": [
       "A tibble: 6 × 3\n",
       "\\begin{tabular}{lll}\n",
       " species\\_tax\\_id & names & data\\\\\n",
       " <dbl> & <list> & <list>\\\\\n",
       "\\hline\n",
       "\t 1243001 & Bacteria                       , Bacteria                       , Actinobacteria                 , Actinobacteria                 , Actinobacteria                 , Actinomycetia                  , Propionibacteriales            , Propionibacteriales            , Propionibacteriaceae           , Propionibacteriaceae           , Acidipropionibacterium         , Acidipropionibacterium         , Acidipropionibacterium damnosum, Acidipropionibacterium damnosum & microaerophilic, microaerophilic, NA             , positive       , NA             , NA             , NA             , NA             , NA             , NA             , NA             , NA             , NA             , NA             , madin          , gold           \\\\\n",
       "\t 1679466 & Bacteria            , Bacteria            , Bacteroidetes       , Bacteroidetes       , Flavobacteriia      , Flavobacteriia      , Flavobacteriales    , Flavobacteriales    , Flavobacteriaceae   , Weeksellaceae       , Apibacter           , Apibacter           , Apibacter adventoris, Apibacter adventoris & microaerophilic, NA             , NA             , NA             , NA             , NA             , NA             , NA             , NA             , NA             , NA             , NA             , NA             , NA             , madin          , gold           \\\\\n",
       "\t 1904463 & Bacteria                     , Bacteria                     , Proteobacteria               , Proteobacteria               , Epsilonproteobacteria        , Epsilonproteobacteria        , Campylobacterales            , Campylobacterales            , Campylobacteraceae           , Arcobacteraceae              , Arcobacter                   , Poseidonibacter              , Arcobacter lekithochrous     , Poseidonibacter lekithochrous & microaerophilic, NA             , NA             , NA             , NA             , NA             , NA             , NA             , NA             , NA             , NA             , NA             , NA             , NA             , madin          , gold           \\\\\n",
       "\t 1935204 & Bacteria             , Bacteria             , Proteobacteria       , Proteobacteria       , Epsilonproteobacteria, Epsilonproteobacteria, Campylobacterales    , Campylobacterales    , Campylobacteraceae   , Arcobacteraceae      , Arcobacter           , Aliarcobacter        , Arcobacter porcinus  , {[}Arcobacter{]} porcinus & microaerophilic, NA             , NA             , NA             , NA             , NA             , NA             , NA             , NA             , NA             , NA             , NA             , NA             , NA             , madin          , gold           \\\\\n",
       "\t 1780362 & Bacteria                 , Bacteria                 , Proteobacteria           , Proteobacteria           , Epsilonproteobacteria    , Epsilonproteobacteria    , Campylobacterales        , Campylobacterales        , Campylobacteraceae       , Campylobacteraceae       , Campylobacter            , Campylobacter            , Campylobacter geochelonis, Campylobacter geochelonis & microaerophilic, NA             , NA             , NA             , NA             , NA             , NA             , NA             , NA             , NA             , NA             , NA             , NA             , NA             , madin          , gold           \\\\\n",
       "\t 1848766 & Bacteria                 , Bacteria                 , Proteobacteria           , Proteobacteria           , Epsilonproteobacteria    , Epsilonproteobacteria    , Campylobacterales        , Campylobacterales        , Campylobacteraceae       , Campylobacteraceae       , Campylobacter            , Campylobacter            , Campylobacter ornithocola, Campylobacter ornithocola & microaerophilic, NA             , NA             , NA             , NA             , NA             , NA             , NA             , NA             , NA             , NA             , NA             , NA             , NA             , madin          , gold           \\\\\n",
       "\\end{tabular}\n"
      ],
      "text/markdown": [
       "\n",
       "A tibble: 6 × 3\n",
       "\n",
       "| species_tax_id &lt;dbl&gt; | names &lt;list&gt; | data &lt;list&gt; |\n",
       "|---|---|---|\n",
       "| 1243001 | Bacteria                       , Bacteria                       , Actinobacteria                 , Actinobacteria                 , Actinobacteria                 , Actinomycetia                  , Propionibacteriales            , Propionibacteriales            , Propionibacteriaceae           , Propionibacteriaceae           , Acidipropionibacterium         , Acidipropionibacterium         , Acidipropionibacterium damnosum, Acidipropionibacterium damnosum | microaerophilic, microaerophilic, NA             , positive       , NA             , NA             , NA             , NA             , NA             , NA             , NA             , NA             , NA             , NA             , madin          , gold            |\n",
       "| 1679466 | Bacteria            , Bacteria            , Bacteroidetes       , Bacteroidetes       , Flavobacteriia      , Flavobacteriia      , Flavobacteriales    , Flavobacteriales    , Flavobacteriaceae   , Weeksellaceae       , Apibacter           , Apibacter           , Apibacter adventoris, Apibacter adventoris | microaerophilic, NA             , NA             , NA             , NA             , NA             , NA             , NA             , NA             , NA             , NA             , NA             , NA             , NA             , madin          , gold            |\n",
       "| 1904463 | Bacteria                     , Bacteria                     , Proteobacteria               , Proteobacteria               , Epsilonproteobacteria        , Epsilonproteobacteria        , Campylobacterales            , Campylobacterales            , Campylobacteraceae           , Arcobacteraceae              , Arcobacter                   , Poseidonibacter              , Arcobacter lekithochrous     , Poseidonibacter lekithochrous | microaerophilic, NA             , NA             , NA             , NA             , NA             , NA             , NA             , NA             , NA             , NA             , NA             , NA             , NA             , madin          , gold            |\n",
       "| 1935204 | Bacteria             , Bacteria             , Proteobacteria       , Proteobacteria       , Epsilonproteobacteria, Epsilonproteobacteria, Campylobacterales    , Campylobacterales    , Campylobacteraceae   , Arcobacteraceae      , Arcobacter           , Aliarcobacter        , Arcobacter porcinus  , [Arcobacter] porcinus | microaerophilic, NA             , NA             , NA             , NA             , NA             , NA             , NA             , NA             , NA             , NA             , NA             , NA             , NA             , madin          , gold            |\n",
       "| 1780362 | Bacteria                 , Bacteria                 , Proteobacteria           , Proteobacteria           , Epsilonproteobacteria    , Epsilonproteobacteria    , Campylobacterales        , Campylobacterales        , Campylobacteraceae       , Campylobacteraceae       , Campylobacter            , Campylobacter            , Campylobacter geochelonis, Campylobacter geochelonis | microaerophilic, NA             , NA             , NA             , NA             , NA             , NA             , NA             , NA             , NA             , NA             , NA             , NA             , NA             , madin          , gold            |\n",
       "| 1848766 | Bacteria                 , Bacteria                 , Proteobacteria           , Proteobacteria           , Epsilonproteobacteria    , Epsilonproteobacteria    , Campylobacterales        , Campylobacterales        , Campylobacteraceae       , Campylobacteraceae       , Campylobacter            , Campylobacter            , Campylobacter ornithocola, Campylobacter ornithocola | microaerophilic, NA             , NA             , NA             , NA             , NA             , NA             , NA             , NA             , NA             , NA             , NA             , NA             , NA             , madin          , gold            |\n",
       "\n"
      ],
      "text/plain": [
       "  species_tax_id\n",
       "1 1243001       \n",
       "2 1679466       \n",
       "3 1904463       \n",
       "4 1935204       \n",
       "5 1780362       \n",
       "6 1848766       \n",
       "  names                                                                                                                                                                                                                                                                                                                                                                                                                                                                       \n",
       "1 Bacteria                       , Bacteria                       , Actinobacteria                 , Actinobacteria                 , Actinobacteria                 , Actinomycetia                  , Propionibacteriales            , Propionibacteriales            , Propionibacteriaceae           , Propionibacteriaceae           , Acidipropionibacterium         , Acidipropionibacterium         , Acidipropionibacterium damnosum, Acidipropionibacterium damnosum\n",
       "2 Bacteria            , Bacteria            , Bacteroidetes       , Bacteroidetes       , Flavobacteriia      , Flavobacteriia      , Flavobacteriales    , Flavobacteriales    , Flavobacteriaceae   , Weeksellaceae       , Apibacter           , Apibacter           , Apibacter adventoris, Apibacter adventoris                                                                                                                                                          \n",
       "3 Bacteria                     , Bacteria                     , Proteobacteria               , Proteobacteria               , Epsilonproteobacteria        , Epsilonproteobacteria        , Campylobacterales            , Campylobacterales            , Campylobacteraceae           , Arcobacteraceae              , Arcobacter                   , Poseidonibacter              , Arcobacter lekithochrous     , Poseidonibacter lekithochrous                            \n",
       "4 Bacteria             , Bacteria             , Proteobacteria       , Proteobacteria       , Epsilonproteobacteria, Epsilonproteobacteria, Campylobacterales    , Campylobacterales    , Campylobacteraceae   , Arcobacteraceae      , Arcobacter           , Aliarcobacter        , Arcobacter porcinus  , [Arcobacter] porcinus                                                                                                                                            \n",
       "5 Bacteria                 , Bacteria                 , Proteobacteria           , Proteobacteria           , Epsilonproteobacteria    , Epsilonproteobacteria    , Campylobacterales        , Campylobacterales        , Campylobacteraceae       , Campylobacteraceae       , Campylobacter            , Campylobacter            , Campylobacter geochelonis, Campylobacter geochelonis                                                                                    \n",
       "6 Bacteria                 , Bacteria                 , Proteobacteria           , Proteobacteria           , Epsilonproteobacteria    , Epsilonproteobacteria    , Campylobacterales        , Campylobacterales        , Campylobacteraceae       , Campylobacteraceae       , Campylobacter            , Campylobacter            , Campylobacter ornithocola, Campylobacter ornithocola                                                                                    \n",
       "  data                                                                                                                                                                                                                                                                          \n",
       "1 microaerophilic, microaerophilic, NA             , positive       , NA             , NA             , NA             , NA             , NA             , NA             , NA             , NA             , NA             , NA             , madin          , gold           \n",
       "2 microaerophilic, NA             , NA             , NA             , NA             , NA             , NA             , NA             , NA             , NA             , NA             , NA             , NA             , NA             , madin          , gold           \n",
       "3 microaerophilic, NA             , NA             , NA             , NA             , NA             , NA             , NA             , NA             , NA             , NA             , NA             , NA             , NA             , madin          , gold           \n",
       "4 microaerophilic, NA             , NA             , NA             , NA             , NA             , NA             , NA             , NA             , NA             , NA             , NA             , NA             , NA             , madin          , gold           \n",
       "5 microaerophilic, NA             , NA             , NA             , NA             , NA             , NA             , NA             , NA             , NA             , NA             , NA             , NA             , NA             , madin          , gold           \n",
       "6 microaerophilic, NA             , NA             , NA             , NA             , NA             , NA             , NA             , NA             , NA             , NA             , NA             , NA             , NA             , madin          , gold           "
      ]
     },
     "metadata": {},
     "output_type": "display_data"
    }
   ],
   "source": [
    "reconcile <- reconcile %>% select(-row_data)\n",
    "head(reconcile)"
   ]
  },
  {
   "cell_type": "code",
   "execution_count": 67,
   "id": "5ecf5548-c250-4fc0-a009-a78148f415b2",
   "metadata": {},
   "outputs": [
    {
     "data": {
      "text/html": [
       "<table class=\"dataframe\">\n",
       "<caption>A tibble: 2 × 8</caption>\n",
       "<thead>\n",
       "\t<tr><th scope=col>metabolism</th><th scope=col>gram_stain</th><th scope=col>pathways</th><th scope=col>substrate</th><th scope=col>sporulation</th><th scope=col>motility</th><th scope=col>cell_shape</th><th scope=col>source</th></tr>\n",
       "\t<tr><th scope=col>&lt;chr&gt;</th><th scope=col>&lt;chr&gt;</th><th scope=col>&lt;chr&gt;</th><th scope=col>&lt;chr&gt;</th><th scope=col>&lt;chr&gt;</th><th scope=col>&lt;chr&gt;</th><th scope=col>&lt;chr&gt;</th><th scope=col>&lt;chr&gt;</th></tr>\n",
       "</thead>\n",
       "<tbody>\n",
       "\t<tr><td>microaerophilic</td><td>NA      </td><td>NA</td><td>NA</td><td>NA</td><td>NA</td><td>NA</td><td>madin</td></tr>\n",
       "\t<tr><td>microaerophilic</td><td>positive</td><td>NA</td><td>NA</td><td>NA</td><td>NA</td><td>NA</td><td>gold </td></tr>\n",
       "</tbody>\n",
       "</table>\n"
      ],
      "text/latex": [
       "A tibble: 2 × 8\n",
       "\\begin{tabular}{llllllll}\n",
       " metabolism & gram\\_stain & pathways & substrate & sporulation & motility & cell\\_shape & source\\\\\n",
       " <chr> & <chr> & <chr> & <chr> & <chr> & <chr> & <chr> & <chr>\\\\\n",
       "\\hline\n",
       "\t microaerophilic & NA       & NA & NA & NA & NA & NA & madin\\\\\n",
       "\t microaerophilic & positive & NA & NA & NA & NA & NA & gold \\\\\n",
       "\\end{tabular}\n"
      ],
      "text/markdown": [
       "\n",
       "A tibble: 2 × 8\n",
       "\n",
       "| metabolism &lt;chr&gt; | gram_stain &lt;chr&gt; | pathways &lt;chr&gt; | substrate &lt;chr&gt; | sporulation &lt;chr&gt; | motility &lt;chr&gt; | cell_shape &lt;chr&gt; | source &lt;chr&gt; |\n",
       "|---|---|---|---|---|---|---|---|\n",
       "| microaerophilic | NA       | NA | NA | NA | NA | NA | madin |\n",
       "| microaerophilic | positive | NA | NA | NA | NA | NA | gold  |\n",
       "\n"
      ],
      "text/plain": [
       "  metabolism      gram_stain pathways substrate sporulation motility cell_shape\n",
       "1 microaerophilic NA         NA       NA        NA          NA       NA        \n",
       "2 microaerophilic positive   NA       NA        NA          NA       NA        \n",
       "  source\n",
       "1 madin \n",
       "2 gold  "
      ]
     },
     "metadata": {},
     "output_type": "display_data"
    },
    {
     "data": {
      "text/html": [
       "<table class=\"dataframe\">\n",
       "<caption>A tibble: 2 × 8</caption>\n",
       "<thead>\n",
       "\t<tr><th scope=col>metabolism</th><th scope=col>gram_stain</th><th scope=col>pathways</th><th scope=col>substrate</th><th scope=col>sporulation</th><th scope=col>motility</th><th scope=col>cell_shape</th><th scope=col>source</th></tr>\n",
       "\t<tr><th scope=col>&lt;chr&gt;</th><th scope=col>&lt;chr&gt;</th><th scope=col>&lt;chr&gt;</th><th scope=col>&lt;chr&gt;</th><th scope=col>&lt;chr&gt;</th><th scope=col>&lt;chr&gt;</th><th scope=col>&lt;chr&gt;</th><th scope=col>&lt;chr&gt;</th></tr>\n",
       "</thead>\n",
       "<tbody>\n",
       "\t<tr><td>microaerophilic</td><td>NA      </td><td>NA</td><td>NA</td><td>NA</td><td>NA</td><td>NA</td><td>madin</td></tr>\n",
       "\t<tr><td>microaerophilic</td><td>positive</td><td>NA</td><td>NA</td><td>NA</td><td>NA</td><td>NA</td><td>gold </td></tr>\n",
       "</tbody>\n",
       "</table>\n"
      ],
      "text/latex": [
       "A tibble: 2 × 8\n",
       "\\begin{tabular}{llllllll}\n",
       " metabolism & gram\\_stain & pathways & substrate & sporulation & motility & cell\\_shape & source\\\\\n",
       " <chr> & <chr> & <chr> & <chr> & <chr> & <chr> & <chr> & <chr>\\\\\n",
       "\\hline\n",
       "\t microaerophilic & NA       & NA & NA & NA & NA & NA & madin\\\\\n",
       "\t microaerophilic & positive & NA & NA & NA & NA & NA & gold \\\\\n",
       "\\end{tabular}\n"
      ],
      "text/markdown": [
       "\n",
       "A tibble: 2 × 8\n",
       "\n",
       "| metabolism &lt;chr&gt; | gram_stain &lt;chr&gt; | pathways &lt;chr&gt; | substrate &lt;chr&gt; | sporulation &lt;chr&gt; | motility &lt;chr&gt; | cell_shape &lt;chr&gt; | source &lt;chr&gt; |\n",
       "|---|---|---|---|---|---|---|---|\n",
       "| microaerophilic | NA       | NA | NA | NA | NA | NA | madin |\n",
       "| microaerophilic | positive | NA | NA | NA | NA | NA | gold  |\n",
       "\n"
      ],
      "text/plain": [
       "  metabolism      gram_stain pathways substrate sporulation motility cell_shape\n",
       "1 microaerophilic NA         NA       NA        NA          NA       NA        \n",
       "2 microaerophilic positive   NA       NA        NA          NA       NA        \n",
       "  source\n",
       "1 madin \n",
       "2 gold  "
      ]
     },
     "metadata": {},
     "output_type": "display_data"
    },
    {
     "data": {
      "text/html": [
       "<style>\n",
       ".list-inline {list-style: none; margin:0; padding: 0}\n",
       ".list-inline>li {display: inline-block}\n",
       ".list-inline>li:not(:last-child)::after {content: \"\\00b7\"; padding: 0 .5ex}\n",
       "</style>\n",
       "<ol class=list-inline><li>'species_tax_id'</li><li>'superkingdom'</li><li>'phylum'</li><li>'class'</li><li>'order'</li><li>'family'</li><li>'genus'</li><li>'species'</li><li>'gram_stain'</li><li>'pathways'</li><li>'metabolism'</li><li>'sporulation'</li><li>'motility'</li><li>'cell_shape'</li></ol>\n"
      ],
      "text/latex": [
       "\\begin{enumerate*}\n",
       "\\item 'species\\_tax\\_id'\n",
       "\\item 'superkingdom'\n",
       "\\item 'phylum'\n",
       "\\item 'class'\n",
       "\\item 'order'\n",
       "\\item 'family'\n",
       "\\item 'genus'\n",
       "\\item 'species'\n",
       "\\item 'gram\\_stain'\n",
       "\\item 'pathways'\n",
       "\\item 'metabolism'\n",
       "\\item 'sporulation'\n",
       "\\item 'motility'\n",
       "\\item 'cell\\_shape'\n",
       "\\end{enumerate*}\n"
      ],
      "text/markdown": [
       "1. 'species_tax_id'\n",
       "2. 'superkingdom'\n",
       "3. 'phylum'\n",
       "4. 'class'\n",
       "5. 'order'\n",
       "6. 'family'\n",
       "7. 'genus'\n",
       "8. 'species'\n",
       "9. 'gram_stain'\n",
       "10. 'pathways'\n",
       "11. 'metabolism'\n",
       "12. 'sporulation'\n",
       "13. 'motility'\n",
       "14. 'cell_shape'\n",
       "\n",
       "\n"
      ],
      "text/plain": [
       " [1] \"species_tax_id\" \"superkingdom\"   \"phylum\"         \"class\"         \n",
       " [5] \"order\"          \"family\"         \"genus\"          \"species\"       \n",
       " [9] \"gram_stain\"     \"pathways\"       \"metabolism\"     \"sporulation\"   \n",
       "[13] \"motility\"       \"cell_shape\"    "
      ]
     },
     "metadata": {},
     "output_type": "display_data"
    },
    {
     "data": {
      "text/html": [
       "<style>\n",
       ".list-inline {list-style: none; margin:0; padding: 0}\n",
       ".list-inline>li {display: inline-block}\n",
       ".list-inline>li:not(:last-child)::after {content: \"\\00b7\"; padding: 0 .5ex}\n",
       "</style>\n",
       "<ol class=list-inline><li>'species_tax_id'</li><li>'superkingdom'</li><li>'phylum'</li><li>'class'</li><li>'order'</li><li>'family'</li><li>'genus'</li><li>'species'</li><li>'motility'</li><li>'metabolism'</li><li>'cell_shape'</li><li>'substrate'</li><li>'pathways'</li></ol>\n"
      ],
      "text/latex": [
       "\\begin{enumerate*}\n",
       "\\item 'species\\_tax\\_id'\n",
       "\\item 'superkingdom'\n",
       "\\item 'phylum'\n",
       "\\item 'class'\n",
       "\\item 'order'\n",
       "\\item 'family'\n",
       "\\item 'genus'\n",
       "\\item 'species'\n",
       "\\item 'motility'\n",
       "\\item 'metabolism'\n",
       "\\item 'cell\\_shape'\n",
       "\\item 'substrate'\n",
       "\\item 'pathways'\n",
       "\\end{enumerate*}\n"
      ],
      "text/markdown": [
       "1. 'species_tax_id'\n",
       "2. 'superkingdom'\n",
       "3. 'phylum'\n",
       "4. 'class'\n",
       "5. 'order'\n",
       "6. 'family'\n",
       "7. 'genus'\n",
       "8. 'species'\n",
       "9. 'motility'\n",
       "10. 'metabolism'\n",
       "11. 'cell_shape'\n",
       "12. 'substrate'\n",
       "13. 'pathways'\n",
       "\n",
       "\n"
      ],
      "text/plain": [
       " [1] \"species_tax_id\" \"superkingdom\"   \"phylum\"         \"class\"         \n",
       " [5] \"order\"          \"family\"         \"genus\"          \"species\"       \n",
       " [9] \"motility\"       \"metabolism\"     \"cell_shape\"     \"substrate\"     \n",
       "[13] \"pathways\"      "
      ]
     },
     "metadata": {},
     "output_type": "display_data"
    }
   ],
   "source": [
    "reconcile %>% pull(data) %>% .[[1]]\n",
    "complete %>% pull(data) %>% .[[1]]\n",
    "colnames(gold)\n",
    "colnames(weissman)"
   ]
  },
  {
   "cell_type": "code",
   "execution_count": 68,
   "id": "d5a44b92",
   "metadata": {},
   "outputs": [],
   "source": [
    "reconcile <- reconcile %>% mutate(traits = pmap(reconcile, reconcile_trait));"
   ]
  },
  {
   "cell_type": "code",
   "execution_count": 69,
   "id": "20b4eaca",
   "metadata": {},
   "outputs": [
    {
     "data": {
      "text/html": [
       "<style>\n",
       ".list-inline {list-style: none; margin:0; padding: 0}\n",
       ".list-inline>li {display: inline-block}\n",
       ".list-inline>li:not(:last-child)::after {content: \"\\00b7\"; padding: 0 .5ex}\n",
       "</style>\n",
       "<ol class=list-inline><li>12342</li><li>3</li></ol>\n"
      ],
      "text/latex": [
       "\\begin{enumerate*}\n",
       "\\item 12342\n",
       "\\item 3\n",
       "\\end{enumerate*}\n"
      ],
      "text/markdown": [
       "1. 12342\n",
       "2. 3\n",
       "\n",
       "\n"
      ],
      "text/plain": [
       "[1] 12342     3"
      ]
     },
     "metadata": {},
     "output_type": "display_data"
    },
    {
     "data": {
      "text/html": [
       "<table class=\"dataframe\">\n",
       "<caption>A tibble: 6 × 3</caption>\n",
       "<thead>\n",
       "\t<tr><th scope=col>species_tax_id</th><th scope=col>names</th><th scope=col>traits</th></tr>\n",
       "\t<tr><th scope=col>&lt;dbl&gt;</th><th scope=col>&lt;list&gt;</th><th scope=col>&lt;list&gt;</th></tr>\n",
       "</thead>\n",
       "<tbody>\n",
       "\t<tr><td>1243001</td><td>Bacteria                       , Bacteria                       , Actinobacteria                 , Actinobacteria                 , Actinobacteria                 , Actinomycetia                  , Propionibacteriales            , Propionibacteriales            , Propionibacteriaceae           , Propionibacteriaceae           , Acidipropionibacterium         , Acidipropionibacterium         , Acidipropionibacterium damnosum, Acidipropionibacterium damnosum</td><td>microaerophilic, positive       , NA             , NA             , NA             , NA             , NA             </td></tr>\n",
       "\t<tr><td>1679466</td><td>Bacteria            , Bacteria            , Bacteroidetes       , Bacteroidetes       , Flavobacteriia      , Flavobacteriia      , Flavobacteriales    , Flavobacteriales    , Flavobacteriaceae   , Weeksellaceae       , Apibacter           , Apibacter           , Apibacter adventoris, Apibacter adventoris</td><td>microaerophilic, NA             , NA             , NA             , NA             , NA             , NA             </td></tr>\n",
       "\t<tr><td>1904463</td><td>Bacteria                     , Bacteria                     , Proteobacteria               , Proteobacteria               , Epsilonproteobacteria        , Epsilonproteobacteria        , Campylobacterales            , Campylobacterales            , Campylobacteraceae           , Arcobacteraceae              , Arcobacter                   , Poseidonibacter              , Arcobacter lekithochrous     , Poseidonibacter lekithochrous</td><td>microaerophilic, NA             , NA             , NA             , NA             , NA             , NA             </td></tr>\n",
       "\t<tr><td>1935204</td><td>Bacteria             , Bacteria             , Proteobacteria       , Proteobacteria       , Epsilonproteobacteria, Epsilonproteobacteria, Campylobacterales    , Campylobacterales    , Campylobacteraceae   , Arcobacteraceae      , Arcobacter           , Aliarcobacter        , Arcobacter porcinus  , [Arcobacter] porcinus</td><td>microaerophilic, NA             , NA             , NA             , NA             , NA             , NA             </td></tr>\n",
       "\t<tr><td>1780362</td><td>Bacteria                 , Bacteria                 , Proteobacteria           , Proteobacteria           , Epsilonproteobacteria    , Epsilonproteobacteria    , Campylobacterales        , Campylobacterales        , Campylobacteraceae       , Campylobacteraceae       , Campylobacter            , Campylobacter            , Campylobacter geochelonis, Campylobacter geochelonis</td><td>microaerophilic, NA             , NA             , NA             , NA             , NA             , NA             </td></tr>\n",
       "\t<tr><td>1848766</td><td>Bacteria                 , Bacteria                 , Proteobacteria           , Proteobacteria           , Epsilonproteobacteria    , Epsilonproteobacteria    , Campylobacterales        , Campylobacterales        , Campylobacteraceae       , Campylobacteraceae       , Campylobacter            , Campylobacter            , Campylobacter ornithocola, Campylobacter ornithocola</td><td>microaerophilic, NA             , NA             , NA             , NA             , NA             , NA             </td></tr>\n",
       "</tbody>\n",
       "</table>\n"
      ],
      "text/latex": [
       "A tibble: 6 × 3\n",
       "\\begin{tabular}{lll}\n",
       " species\\_tax\\_id & names & traits\\\\\n",
       " <dbl> & <list> & <list>\\\\\n",
       "\\hline\n",
       "\t 1243001 & Bacteria                       , Bacteria                       , Actinobacteria                 , Actinobacteria                 , Actinobacteria                 , Actinomycetia                  , Propionibacteriales            , Propionibacteriales            , Propionibacteriaceae           , Propionibacteriaceae           , Acidipropionibacterium         , Acidipropionibacterium         , Acidipropionibacterium damnosum, Acidipropionibacterium damnosum & microaerophilic, positive       , NA             , NA             , NA             , NA             , NA             \\\\\n",
       "\t 1679466 & Bacteria            , Bacteria            , Bacteroidetes       , Bacteroidetes       , Flavobacteriia      , Flavobacteriia      , Flavobacteriales    , Flavobacteriales    , Flavobacteriaceae   , Weeksellaceae       , Apibacter           , Apibacter           , Apibacter adventoris, Apibacter adventoris & microaerophilic, NA             , NA             , NA             , NA             , NA             , NA             \\\\\n",
       "\t 1904463 & Bacteria                     , Bacteria                     , Proteobacteria               , Proteobacteria               , Epsilonproteobacteria        , Epsilonproteobacteria        , Campylobacterales            , Campylobacterales            , Campylobacteraceae           , Arcobacteraceae              , Arcobacter                   , Poseidonibacter              , Arcobacter lekithochrous     , Poseidonibacter lekithochrous & microaerophilic, NA             , NA             , NA             , NA             , NA             , NA             \\\\\n",
       "\t 1935204 & Bacteria             , Bacteria             , Proteobacteria       , Proteobacteria       , Epsilonproteobacteria, Epsilonproteobacteria, Campylobacterales    , Campylobacterales    , Campylobacteraceae   , Arcobacteraceae      , Arcobacter           , Aliarcobacter        , Arcobacter porcinus  , {[}Arcobacter{]} porcinus & microaerophilic, NA             , NA             , NA             , NA             , NA             , NA             \\\\\n",
       "\t 1780362 & Bacteria                 , Bacteria                 , Proteobacteria           , Proteobacteria           , Epsilonproteobacteria    , Epsilonproteobacteria    , Campylobacterales        , Campylobacterales        , Campylobacteraceae       , Campylobacteraceae       , Campylobacter            , Campylobacter            , Campylobacter geochelonis, Campylobacter geochelonis & microaerophilic, NA             , NA             , NA             , NA             , NA             , NA             \\\\\n",
       "\t 1848766 & Bacteria                 , Bacteria                 , Proteobacteria           , Proteobacteria           , Epsilonproteobacteria    , Epsilonproteobacteria    , Campylobacterales        , Campylobacterales        , Campylobacteraceae       , Campylobacteraceae       , Campylobacter            , Campylobacter            , Campylobacter ornithocola, Campylobacter ornithocola & microaerophilic, NA             , NA             , NA             , NA             , NA             , NA             \\\\\n",
       "\\end{tabular}\n"
      ],
      "text/markdown": [
       "\n",
       "A tibble: 6 × 3\n",
       "\n",
       "| species_tax_id &lt;dbl&gt; | names &lt;list&gt; | traits &lt;list&gt; |\n",
       "|---|---|---|\n",
       "| 1243001 | Bacteria                       , Bacteria                       , Actinobacteria                 , Actinobacteria                 , Actinobacteria                 , Actinomycetia                  , Propionibacteriales            , Propionibacteriales            , Propionibacteriaceae           , Propionibacteriaceae           , Acidipropionibacterium         , Acidipropionibacterium         , Acidipropionibacterium damnosum, Acidipropionibacterium damnosum | microaerophilic, positive       , NA             , NA             , NA             , NA             , NA              |\n",
       "| 1679466 | Bacteria            , Bacteria            , Bacteroidetes       , Bacteroidetes       , Flavobacteriia      , Flavobacteriia      , Flavobacteriales    , Flavobacteriales    , Flavobacteriaceae   , Weeksellaceae       , Apibacter           , Apibacter           , Apibacter adventoris, Apibacter adventoris | microaerophilic, NA             , NA             , NA             , NA             , NA             , NA              |\n",
       "| 1904463 | Bacteria                     , Bacteria                     , Proteobacteria               , Proteobacteria               , Epsilonproteobacteria        , Epsilonproteobacteria        , Campylobacterales            , Campylobacterales            , Campylobacteraceae           , Arcobacteraceae              , Arcobacter                   , Poseidonibacter              , Arcobacter lekithochrous     , Poseidonibacter lekithochrous | microaerophilic, NA             , NA             , NA             , NA             , NA             , NA              |\n",
       "| 1935204 | Bacteria             , Bacteria             , Proteobacteria       , Proteobacteria       , Epsilonproteobacteria, Epsilonproteobacteria, Campylobacterales    , Campylobacterales    , Campylobacteraceae   , Arcobacteraceae      , Arcobacter           , Aliarcobacter        , Arcobacter porcinus  , [Arcobacter] porcinus | microaerophilic, NA             , NA             , NA             , NA             , NA             , NA              |\n",
       "| 1780362 | Bacteria                 , Bacteria                 , Proteobacteria           , Proteobacteria           , Epsilonproteobacteria    , Epsilonproteobacteria    , Campylobacterales        , Campylobacterales        , Campylobacteraceae       , Campylobacteraceae       , Campylobacter            , Campylobacter            , Campylobacter geochelonis, Campylobacter geochelonis | microaerophilic, NA             , NA             , NA             , NA             , NA             , NA              |\n",
       "| 1848766 | Bacteria                 , Bacteria                 , Proteobacteria           , Proteobacteria           , Epsilonproteobacteria    , Epsilonproteobacteria    , Campylobacterales        , Campylobacterales        , Campylobacteraceae       , Campylobacteraceae       , Campylobacter            , Campylobacter            , Campylobacter ornithocola, Campylobacter ornithocola | microaerophilic, NA             , NA             , NA             , NA             , NA             , NA              |\n",
       "\n"
      ],
      "text/plain": [
       "  species_tax_id\n",
       "1 1243001       \n",
       "2 1679466       \n",
       "3 1904463       \n",
       "4 1935204       \n",
       "5 1780362       \n",
       "6 1848766       \n",
       "  names                                                                                                                                                                                                                                                                                                                                                                                                                                                                       \n",
       "1 Bacteria                       , Bacteria                       , Actinobacteria                 , Actinobacteria                 , Actinobacteria                 , Actinomycetia                  , Propionibacteriales            , Propionibacteriales            , Propionibacteriaceae           , Propionibacteriaceae           , Acidipropionibacterium         , Acidipropionibacterium         , Acidipropionibacterium damnosum, Acidipropionibacterium damnosum\n",
       "2 Bacteria            , Bacteria            , Bacteroidetes       , Bacteroidetes       , Flavobacteriia      , Flavobacteriia      , Flavobacteriales    , Flavobacteriales    , Flavobacteriaceae   , Weeksellaceae       , Apibacter           , Apibacter           , Apibacter adventoris, Apibacter adventoris                                                                                                                                                          \n",
       "3 Bacteria                     , Bacteria                     , Proteobacteria               , Proteobacteria               , Epsilonproteobacteria        , Epsilonproteobacteria        , Campylobacterales            , Campylobacterales            , Campylobacteraceae           , Arcobacteraceae              , Arcobacter                   , Poseidonibacter              , Arcobacter lekithochrous     , Poseidonibacter lekithochrous                            \n",
       "4 Bacteria             , Bacteria             , Proteobacteria       , Proteobacteria       , Epsilonproteobacteria, Epsilonproteobacteria, Campylobacterales    , Campylobacterales    , Campylobacteraceae   , Arcobacteraceae      , Arcobacter           , Aliarcobacter        , Arcobacter porcinus  , [Arcobacter] porcinus                                                                                                                                            \n",
       "5 Bacteria                 , Bacteria                 , Proteobacteria           , Proteobacteria           , Epsilonproteobacteria    , Epsilonproteobacteria    , Campylobacterales        , Campylobacterales        , Campylobacteraceae       , Campylobacteraceae       , Campylobacter            , Campylobacter            , Campylobacter geochelonis, Campylobacter geochelonis                                                                                    \n",
       "6 Bacteria                 , Bacteria                 , Proteobacteria           , Proteobacteria           , Epsilonproteobacteria    , Epsilonproteobacteria    , Campylobacterales        , Campylobacterales        , Campylobacteraceae       , Campylobacteraceae       , Campylobacter            , Campylobacter            , Campylobacter ornithocola, Campylobacter ornithocola                                                                                    \n",
       "  traits                                                                                                               \n",
       "1 microaerophilic, positive       , NA             , NA             , NA             , NA             , NA             \n",
       "2 microaerophilic, NA             , NA             , NA             , NA             , NA             , NA             \n",
       "3 microaerophilic, NA             , NA             , NA             , NA             , NA             , NA             \n",
       "4 microaerophilic, NA             , NA             , NA             , NA             , NA             , NA             \n",
       "5 microaerophilic, NA             , NA             , NA             , NA             , NA             , NA             \n",
       "6 microaerophilic, NA             , NA             , NA             , NA             , NA             , NA             "
      ]
     },
     "metadata": {},
     "output_type": "display_data"
    }
   ],
   "source": [
    "reconcile <- reconcile %>% select(-data)\n",
    "\n",
    "dim(reconcile)\n",
    "head(reconcile)"
   ]
  },
  {
   "cell_type": "code",
   "execution_count": 70,
   "id": "0e2d7eeb",
   "metadata": {},
   "outputs": [
    {
     "data": {
      "text/html": [
       "<table class=\"dataframe\">\n",
       "<caption>A tibble: 6 × 4</caption>\n",
       "<thead>\n",
       "\t<tr><th scope=col>species_tax_id</th><th scope=col>names</th><th scope=col>traits</th><th scope=col>row_data</th></tr>\n",
       "\t<tr><th scope=col>&lt;dbl&gt;</th><th scope=col>&lt;list&gt;</th><th scope=col>&lt;list&gt;</th><th scope=col>&lt;dbl&gt;</th></tr>\n",
       "</thead>\n",
       "<tbody>\n",
       "\t<tr><td>1591092</td><td>Bacteria          , Proteobacteria    , Betaproteobacteria, Neisseriales      , Chromobacteriaceae, Aquaspirillum     , Aquaspirillum soli</td><td>microaerophilic, NA             , NA             , NA             , NA             , NA             , NA             , madin          </td><td>1</td></tr>\n",
       "\t<tr><td> 209458</td><td>Bacteria               , Firmicutes             , Bacilli                , Bacillales             , Bacillaceae            , Bacillus               , Bacillus arbutinivorans</td><td>microaerophilic, NA             , NA             , NA             , NA             , NA             , NA             , madin          </td><td>1</td></tr>\n",
       "\t<tr><td>1735111</td><td>Bacteria           , Bacteroidetes      , Flavobacteriia     , Flavobacteriales   , Flavobacteriaceae  , Bergeyella         , Bergeyella porcorum</td><td>microaerophilic, NA             , NA             , NA             , NA             , NA             , NA             , madin          </td><td>1</td></tr>\n",
       "\t<tr><td>1460875</td><td>Bacteria            , Proteobacteria      , Gammaproteobacteria , Pasteurellales      , Pasteurellaceae     , Bisgaardia          , Bisgaardia miroungae</td><td>microaerophilic, NA             , NA             , NA             , NA             , NA             , NA             , madin          </td><td>1</td></tr>\n",
       "\t<tr><td>1448267</td><td>Bacteria                 , Actinobacteria           , Actinobacteria           , Corynebacteriales        , Corynebacteriaceae       , Corynebacterium          , Corynebacterium nasicanis</td><td>microaerophilic, NA             , NA             , NA             , NA             , NA             , NA             , madin          </td><td>1</td></tr>\n",
       "\t<tr><td> 913829</td><td>Bacteria                     , Proteobacteria               , Gammaproteobacteria          , Chromatiales                 , Thioalkalispiraceae          , Endothiovibrio               , Endothiovibrio diazotrophicus</td><td>microaerophilic, NA             , NA             , NA             , NA             , NA             , NA             , madin          </td><td>1</td></tr>\n",
       "</tbody>\n",
       "</table>\n"
      ],
      "text/latex": [
       "A tibble: 6 × 4\n",
       "\\begin{tabular}{llll}\n",
       " species\\_tax\\_id & names & traits & row\\_data\\\\\n",
       " <dbl> & <list> & <list> & <dbl>\\\\\n",
       "\\hline\n",
       "\t 1591092 & Bacteria          , Proteobacteria    , Betaproteobacteria, Neisseriales      , Chromobacteriaceae, Aquaspirillum     , Aquaspirillum soli & microaerophilic, NA             , NA             , NA             , NA             , NA             , NA             , madin           & 1\\\\\n",
       "\t  209458 & Bacteria               , Firmicutes             , Bacilli                , Bacillales             , Bacillaceae            , Bacillus               , Bacillus arbutinivorans & microaerophilic, NA             , NA             , NA             , NA             , NA             , NA             , madin           & 1\\\\\n",
       "\t 1735111 & Bacteria           , Bacteroidetes      , Flavobacteriia     , Flavobacteriales   , Flavobacteriaceae  , Bergeyella         , Bergeyella porcorum & microaerophilic, NA             , NA             , NA             , NA             , NA             , NA             , madin           & 1\\\\\n",
       "\t 1460875 & Bacteria            , Proteobacteria      , Gammaproteobacteria , Pasteurellales      , Pasteurellaceae     , Bisgaardia          , Bisgaardia miroungae & microaerophilic, NA             , NA             , NA             , NA             , NA             , NA             , madin           & 1\\\\\n",
       "\t 1448267 & Bacteria                 , Actinobacteria           , Actinobacteria           , Corynebacteriales        , Corynebacteriaceae       , Corynebacterium          , Corynebacterium nasicanis & microaerophilic, NA             , NA             , NA             , NA             , NA             , NA             , madin           & 1\\\\\n",
       "\t  913829 & Bacteria                     , Proteobacteria               , Gammaproteobacteria          , Chromatiales                 , Thioalkalispiraceae          , Endothiovibrio               , Endothiovibrio diazotrophicus & microaerophilic, NA             , NA             , NA             , NA             , NA             , NA             , madin           & 1\\\\\n",
       "\\end{tabular}\n"
      ],
      "text/markdown": [
       "\n",
       "A tibble: 6 × 4\n",
       "\n",
       "| species_tax_id &lt;dbl&gt; | names &lt;list&gt; | traits &lt;list&gt; | row_data &lt;dbl&gt; |\n",
       "|---|---|---|---|\n",
       "| 1591092 | Bacteria          , Proteobacteria    , Betaproteobacteria, Neisseriales      , Chromobacteriaceae, Aquaspirillum     , Aquaspirillum soli | microaerophilic, NA             , NA             , NA             , NA             , NA             , NA             , madin           | 1 |\n",
       "|  209458 | Bacteria               , Firmicutes             , Bacilli                , Bacillales             , Bacillaceae            , Bacillus               , Bacillus arbutinivorans | microaerophilic, NA             , NA             , NA             , NA             , NA             , NA             , madin           | 1 |\n",
       "| 1735111 | Bacteria           , Bacteroidetes      , Flavobacteriia     , Flavobacteriales   , Flavobacteriaceae  , Bergeyella         , Bergeyella porcorum | microaerophilic, NA             , NA             , NA             , NA             , NA             , NA             , madin           | 1 |\n",
       "| 1460875 | Bacteria            , Proteobacteria      , Gammaproteobacteria , Pasteurellales      , Pasteurellaceae     , Bisgaardia          , Bisgaardia miroungae | microaerophilic, NA             , NA             , NA             , NA             , NA             , NA             , madin           | 1 |\n",
       "| 1448267 | Bacteria                 , Actinobacteria           , Actinobacteria           , Corynebacteriales        , Corynebacteriaceae       , Corynebacterium          , Corynebacterium nasicanis | microaerophilic, NA             , NA             , NA             , NA             , NA             , NA             , madin           | 1 |\n",
       "|  913829 | Bacteria                     , Proteobacteria               , Gammaproteobacteria          , Chromatiales                 , Thioalkalispiraceae          , Endothiovibrio               , Endothiovibrio diazotrophicus | microaerophilic, NA             , NA             , NA             , NA             , NA             , NA             , madin           | 1 |\n",
       "\n"
      ],
      "text/plain": [
       "  species_tax_id\n",
       "1 1591092       \n",
       "2  209458       \n",
       "3 1735111       \n",
       "4 1460875       \n",
       "5 1448267       \n",
       "6  913829       \n",
       "  names                                                                                                                                                                                                                  \n",
       "1 Bacteria          , Proteobacteria    , Betaproteobacteria, Neisseriales      , Chromobacteriaceae, Aquaspirillum     , Aquaspirillum soli                                                                             \n",
       "2 Bacteria               , Firmicutes             , Bacilli                , Bacillales             , Bacillaceae            , Bacillus               , Bacillus arbutinivorans                                          \n",
       "3 Bacteria           , Bacteroidetes      , Flavobacteriia     , Flavobacteriales   , Flavobacteriaceae  , Bergeyella         , Bergeyella porcorum                                                                      \n",
       "4 Bacteria            , Proteobacteria      , Gammaproteobacteria , Pasteurellales      , Pasteurellaceae     , Bisgaardia          , Bisgaardia miroungae                                                               \n",
       "5 Bacteria                 , Actinobacteria           , Actinobacteria           , Corynebacteriales        , Corynebacteriaceae       , Corynebacterium          , Corynebacterium nasicanis                            \n",
       "6 Bacteria                     , Proteobacteria               , Gammaproteobacteria          , Chromatiales                 , Thioalkalispiraceae          , Endothiovibrio               , Endothiovibrio diazotrophicus\n",
       "  traits                                                                                                                                \n",
       "1 microaerophilic, NA             , NA             , NA             , NA             , NA             , NA             , madin          \n",
       "2 microaerophilic, NA             , NA             , NA             , NA             , NA             , NA             , madin          \n",
       "3 microaerophilic, NA             , NA             , NA             , NA             , NA             , NA             , madin          \n",
       "4 microaerophilic, NA             , NA             , NA             , NA             , NA             , NA             , madin          \n",
       "5 microaerophilic, NA             , NA             , NA             , NA             , NA             , NA             , madin          \n",
       "6 microaerophilic, NA             , NA             , NA             , NA             , NA             , NA             , madin          \n",
       "  row_data\n",
       "1 1       \n",
       "2 1       \n",
       "3 1       \n",
       "4 1       \n",
       "5 1       \n",
       "6 1       "
      ]
     },
     "metadata": {},
     "output_type": "display_data"
    }
   ],
   "source": [
    "complete <- complete %>% rename(\"traits\" = \"data\") %>% filter(!species_tax_id %in% multiple_rows)\n",
    "head(complete)"
   ]
  },
  {
   "cell_type": "code",
   "execution_count": null,
   "id": "3d844ac8-b975-440d-b199-77dee5d7db85",
   "metadata": {},
   "outputs": [],
   "source": []
  },
  {
   "cell_type": "code",
   "execution_count": 71,
   "id": "c8ad43d7-b007-4ba2-b485-ac616ab98c74",
   "metadata": {},
   "outputs": [],
   "source": [
    "complete <- complete %>% select(-row_data) %>% mutate(traits = map(traits, ~{.x %>% select(-source)})) "
   ]
  },
  {
   "cell_type": "code",
   "execution_count": 72,
   "id": "b3b05e87-0652-4e30-8880-f00aa97308d2",
   "metadata": {},
   "outputs": [
    {
     "data": {
      "text/html": [
       "<table class=\"dataframe\">\n",
       "<caption>A tibble: 6 × 3</caption>\n",
       "<thead>\n",
       "\t<tr><th scope=col>species_tax_id</th><th scope=col>names</th><th scope=col>traits</th></tr>\n",
       "\t<tr><th scope=col>&lt;dbl&gt;</th><th scope=col>&lt;list&gt;</th><th scope=col>&lt;list&gt;</th></tr>\n",
       "</thead>\n",
       "<tbody>\n",
       "\t<tr><td>1591092</td><td>Bacteria          , Proteobacteria    , Betaproteobacteria, Neisseriales      , Chromobacteriaceae, Aquaspirillum     , Aquaspirillum soli</td><td>microaerophilic, NA             , NA             , NA             , NA             , NA             , NA             </td></tr>\n",
       "\t<tr><td> 209458</td><td>Bacteria               , Firmicutes             , Bacilli                , Bacillales             , Bacillaceae            , Bacillus               , Bacillus arbutinivorans</td><td>microaerophilic, NA             , NA             , NA             , NA             , NA             , NA             </td></tr>\n",
       "\t<tr><td>1735111</td><td>Bacteria           , Bacteroidetes      , Flavobacteriia     , Flavobacteriales   , Flavobacteriaceae  , Bergeyella         , Bergeyella porcorum</td><td>microaerophilic, NA             , NA             , NA             , NA             , NA             , NA             </td></tr>\n",
       "\t<tr><td>1460875</td><td>Bacteria            , Proteobacteria      , Gammaproteobacteria , Pasteurellales      , Pasteurellaceae     , Bisgaardia          , Bisgaardia miroungae</td><td>microaerophilic, NA             , NA             , NA             , NA             , NA             , NA             </td></tr>\n",
       "\t<tr><td>1448267</td><td>Bacteria                 , Actinobacteria           , Actinobacteria           , Corynebacteriales        , Corynebacteriaceae       , Corynebacterium          , Corynebacterium nasicanis</td><td>microaerophilic, NA             , NA             , NA             , NA             , NA             , NA             </td></tr>\n",
       "\t<tr><td> 913829</td><td>Bacteria                     , Proteobacteria               , Gammaproteobacteria          , Chromatiales                 , Thioalkalispiraceae          , Endothiovibrio               , Endothiovibrio diazotrophicus</td><td>microaerophilic, NA             , NA             , NA             , NA             , NA             , NA             </td></tr>\n",
       "</tbody>\n",
       "</table>\n"
      ],
      "text/latex": [
       "A tibble: 6 × 3\n",
       "\\begin{tabular}{lll}\n",
       " species\\_tax\\_id & names & traits\\\\\n",
       " <dbl> & <list> & <list>\\\\\n",
       "\\hline\n",
       "\t 1591092 & Bacteria          , Proteobacteria    , Betaproteobacteria, Neisseriales      , Chromobacteriaceae, Aquaspirillum     , Aquaspirillum soli & microaerophilic, NA             , NA             , NA             , NA             , NA             , NA             \\\\\n",
       "\t  209458 & Bacteria               , Firmicutes             , Bacilli                , Bacillales             , Bacillaceae            , Bacillus               , Bacillus arbutinivorans & microaerophilic, NA             , NA             , NA             , NA             , NA             , NA             \\\\\n",
       "\t 1735111 & Bacteria           , Bacteroidetes      , Flavobacteriia     , Flavobacteriales   , Flavobacteriaceae  , Bergeyella         , Bergeyella porcorum & microaerophilic, NA             , NA             , NA             , NA             , NA             , NA             \\\\\n",
       "\t 1460875 & Bacteria            , Proteobacteria      , Gammaproteobacteria , Pasteurellales      , Pasteurellaceae     , Bisgaardia          , Bisgaardia miroungae & microaerophilic, NA             , NA             , NA             , NA             , NA             , NA             \\\\\n",
       "\t 1448267 & Bacteria                 , Actinobacteria           , Actinobacteria           , Corynebacteriales        , Corynebacteriaceae       , Corynebacterium          , Corynebacterium nasicanis & microaerophilic, NA             , NA             , NA             , NA             , NA             , NA             \\\\\n",
       "\t  913829 & Bacteria                     , Proteobacteria               , Gammaproteobacteria          , Chromatiales                 , Thioalkalispiraceae          , Endothiovibrio               , Endothiovibrio diazotrophicus & microaerophilic, NA             , NA             , NA             , NA             , NA             , NA             \\\\\n",
       "\\end{tabular}\n"
      ],
      "text/markdown": [
       "\n",
       "A tibble: 6 × 3\n",
       "\n",
       "| species_tax_id &lt;dbl&gt; | names &lt;list&gt; | traits &lt;list&gt; |\n",
       "|---|---|---|\n",
       "| 1591092 | Bacteria          , Proteobacteria    , Betaproteobacteria, Neisseriales      , Chromobacteriaceae, Aquaspirillum     , Aquaspirillum soli | microaerophilic, NA             , NA             , NA             , NA             , NA             , NA              |\n",
       "|  209458 | Bacteria               , Firmicutes             , Bacilli                , Bacillales             , Bacillaceae            , Bacillus               , Bacillus arbutinivorans | microaerophilic, NA             , NA             , NA             , NA             , NA             , NA              |\n",
       "| 1735111 | Bacteria           , Bacteroidetes      , Flavobacteriia     , Flavobacteriales   , Flavobacteriaceae  , Bergeyella         , Bergeyella porcorum | microaerophilic, NA             , NA             , NA             , NA             , NA             , NA              |\n",
       "| 1460875 | Bacteria            , Proteobacteria      , Gammaproteobacteria , Pasteurellales      , Pasteurellaceae     , Bisgaardia          , Bisgaardia miroungae | microaerophilic, NA             , NA             , NA             , NA             , NA             , NA              |\n",
       "| 1448267 | Bacteria                 , Actinobacteria           , Actinobacteria           , Corynebacteriales        , Corynebacteriaceae       , Corynebacterium          , Corynebacterium nasicanis | microaerophilic, NA             , NA             , NA             , NA             , NA             , NA              |\n",
       "|  913829 | Bacteria                     , Proteobacteria               , Gammaproteobacteria          , Chromatiales                 , Thioalkalispiraceae          , Endothiovibrio               , Endothiovibrio diazotrophicus | microaerophilic, NA             , NA             , NA             , NA             , NA             , NA              |\n",
       "\n"
      ],
      "text/plain": [
       "  species_tax_id\n",
       "1 1591092       \n",
       "2  209458       \n",
       "3 1735111       \n",
       "4 1460875       \n",
       "5 1448267       \n",
       "6  913829       \n",
       "  names                                                                                                                                                                                                                  \n",
       "1 Bacteria          , Proteobacteria    , Betaproteobacteria, Neisseriales      , Chromobacteriaceae, Aquaspirillum     , Aquaspirillum soli                                                                             \n",
       "2 Bacteria               , Firmicutes             , Bacilli                , Bacillales             , Bacillaceae            , Bacillus               , Bacillus arbutinivorans                                          \n",
       "3 Bacteria           , Bacteroidetes      , Flavobacteriia     , Flavobacteriales   , Flavobacteriaceae  , Bergeyella         , Bergeyella porcorum                                                                      \n",
       "4 Bacteria            , Proteobacteria      , Gammaproteobacteria , Pasteurellales      , Pasteurellaceae     , Bisgaardia          , Bisgaardia miroungae                                                               \n",
       "5 Bacteria                 , Actinobacteria           , Actinobacteria           , Corynebacteriales        , Corynebacteriaceae       , Corynebacterium          , Corynebacterium nasicanis                            \n",
       "6 Bacteria                     , Proteobacteria               , Gammaproteobacteria          , Chromatiales                 , Thioalkalispiraceae          , Endothiovibrio               , Endothiovibrio diazotrophicus\n",
       "  traits                                                                                                               \n",
       "1 microaerophilic, NA             , NA             , NA             , NA             , NA             , NA             \n",
       "2 microaerophilic, NA             , NA             , NA             , NA             , NA             , NA             \n",
       "3 microaerophilic, NA             , NA             , NA             , NA             , NA             , NA             \n",
       "4 microaerophilic, NA             , NA             , NA             , NA             , NA             , NA             \n",
       "5 microaerophilic, NA             , NA             , NA             , NA             , NA             , NA             \n",
       "6 microaerophilic, NA             , NA             , NA             , NA             , NA             , NA             "
      ]
     },
     "metadata": {},
     "output_type": "display_data"
    }
   ],
   "source": [
    "complete <- bind_rows(complete, reconcile)\n",
    "head(complete)"
   ]
  },
  {
   "cell_type": "markdown",
   "id": "0b4f2bbf-6fc8-4396-8318-44c30ee9b9e5",
   "metadata": {},
   "source": [
    "Let's check whether all traits are properly collapsed by counting the number of rows per trait item in the list"
   ]
  },
  {
   "cell_type": "code",
   "execution_count": 73,
   "id": "36e185dc-fb95-44d3-bb60-a63666a57ef2",
   "metadata": {},
   "outputs": [
    {
     "data": {
      "text/html": [
       "<table class=\"dataframe\">\n",
       "<caption>A tibble: 0 × 4</caption>\n",
       "<thead>\n",
       "\t<tr><th scope=col>species_tax_id</th><th scope=col>names</th><th scope=col>traits</th><th scope=col>t_rows</th></tr>\n",
       "\t<tr><th scope=col>&lt;dbl&gt;</th><th scope=col>&lt;list&gt;</th><th scope=col>&lt;list&gt;</th><th scope=col>&lt;dbl&gt;</th></tr>\n",
       "</thead>\n",
       "<tbody>\n",
       "</tbody>\n",
       "</table>\n"
      ],
      "text/latex": [
       "A tibble: 0 × 4\n",
       "\\begin{tabular}{llll}\n",
       " species\\_tax\\_id & names & traits & t\\_rows\\\\\n",
       " <dbl> & <list> & <list> & <dbl>\\\\\n",
       "\\hline\n",
       "\\end{tabular}\n"
      ],
      "text/markdown": [
       "\n",
       "A tibble: 0 × 4\n",
       "\n",
       "| species_tax_id &lt;dbl&gt; | names &lt;list&gt; | traits &lt;list&gt; | t_rows &lt;dbl&gt; |\n",
       "|---|---|---|---|\n",
       "\n"
      ],
      "text/plain": [
       "     species_tax_id names traits t_rows"
      ]
     },
     "metadata": {},
     "output_type": "display_data"
    },
    {
     "data": {
      "text/html": [
       "<style>\n",
       ".list-inline {list-style: none; margin:0; padding: 0}\n",
       ".list-inline>li {display: inline-block}\n",
       ".list-inline>li:not(:last-child)::after {content: \"\\00b7\"; padding: 0 .5ex}\n",
       "</style>\n",
       "<ol class=list-inline><li>103138</li><li>3</li></ol>\n"
      ],
      "text/latex": [
       "\\begin{enumerate*}\n",
       "\\item 103138\n",
       "\\item 3\n",
       "\\end{enumerate*}\n"
      ],
      "text/markdown": [
       "1. 103138\n",
       "2. 3\n",
       "\n",
       "\n"
      ],
      "text/plain": [
       "[1] 103138      3"
      ]
     },
     "metadata": {},
     "output_type": "display_data"
    }
   ],
   "source": [
    "complete %>% mutate(t_rows = map_dbl(traits, ~nrow(.x))) %>% filter(t_rows > 1)\n",
    "complete %>% dim()"
   ]
  },
  {
   "cell_type": "markdown",
   "id": "69bfbfed",
   "metadata": {},
   "source": [
    "Even though we have a nice set of traits and associated NCBI ids, we also want to make sure the names are up-to-date. "
   ]
  },
  {
   "cell_type": "code",
   "execution_count": 74,
   "id": "84abba9b",
   "metadata": {},
   "outputs": [],
   "source": [
    "#' This function takes an NCBI species_tax_id, run `classification` through it (from taxizedb) \n",
    "#' and retrieve all the ranks from superkingdom to species\n",
    "#' @param species_tax_id A string representing NCBIids\n",
    "#' @param names A data.frame representing one or multiple hypothetical names. \n",
    "#'     for use mostly when NCBIids do not resolve\n",
    "collapse_name <- function(species_tax_id, names, ...) {\n",
    "    names <- names %>% dplyr::distinct() \n",
    "    query_ranks <- classification(species_tax_id, db = \"ncbi\", verbose = FALSE)[[1]]\n",
    "    # if query via species_tax_id does not work. \n",
    "    # do this reverse query thing where the name is re-queried back to get NCBIids\n",
    "    if (nrow(query_ranks) == 0){\n",
    "        # first we loop through each candidate species name and\n",
    "        # annotate or return NA if there is ambiguity\n",
    "        cand_ids = vector(length = nrow(names))\n",
    "        for (i in seq_len(nrow(names))){\n",
    "            # rev_query here is a data frame\n",
    "            rev_query <- name2taxid(names$species, out_type = \"summary\")\n",
    "            if (nrow(rev_query) != 1){\n",
    "                # if there are ambiguous names or if there are no matches, return NA\n",
    "                cand_ids[i] <- NA_character_\n",
    "            } else {\n",
    "                cand_ids[i] <- rev_query$id\n",
    "            }\n",
    "        }\n",
    "        # remove NAs and get only unique ids\n",
    "        cand_ids <- unique(na.omit(cand_ids))\n",
    "        if (length(cand_ids) >= 2){\n",
    "            # if more than one name then just concatenate all the names together \n",
    "            reconciled_names <- as_tibble(map(names, ~{ paste0(.x, collapse = \"|\") }))\n",
    "        } else if (length(cand_ids) == 1) {\n",
    "            reconciled_names <- classification(cand_ids, db = \"ncbi\")[[1]] %>% \n",
    "                filter(!rank %in% c(\"no rank\", \"clade\")) %>% \n",
    "                select(-id) %>% pivot_wider(names_from = rank, values_from = name)\n",
    "        } else {\n",
    "            # create an empty final names\n",
    "            reconciled_names <- matrix(rep(NA_character_, ncol(names)), nrow = 1, ncol = ncol(names))\n",
    "            colnames(reconciled_names) <- colnames(names)\n",
    "            reconciled_names <- as_tibble(reconciled_names)\n",
    "        }\n",
    "    # second case where queried ranks do work\n",
    "    } else {\n",
    "        reconciled_names <- query_ranks %>% filter(!rank %in% c(\"no rank\", \"clade\")) %>% select(-id) %>% \n",
    "            pivot_wider(names_from = rank, values_from = name)\n",
    "    }\n",
    "    return(reconciled_names)\n",
    "}\n",
    "\n",
    "#' This function is similar to collapse_names but only there to repair\n",
    "#' tax ids that are defunct (and do not need to resolve names) \n",
    "fix_ids <- function(species_tax_id, names, ...) {\n",
    "    names <- names %>% dplyr::distinct() \n",
    "    query_ranks <- taxizedb::classification(species_tax_id, db = \"ncbi\", verbose = FALSE)[[1]]\n",
    "    if (nrow(query_ranks) == 0){\n",
    "        out <- species_tax_id\n",
    "    } else {\n",
    "        # if there is no match, we perform a reverse query\n",
    "        cand_ids = vector(length = nrow(names))\n",
    "        # for each name in the list of possible names get the identifiers \n",
    "        for (i in seq_len(nrow(names))){\n",
    "            # rev_query here is a data frame\n",
    "            rev_query <- name2taxid(names$species, out_type = \"summary\")\n",
    "            if (nrow(rev_query) != 1){\n",
    "                # if there are ambiguous names or if there are no matches, return NA\n",
    "                cand_ids[i] <- NA_character_\n",
    "            } else {\n",
    "                cand_ids[i] <- rev_query$id\n",
    "            }\n",
    "        }\n",
    "        # remove NAs and get only unique ids\n",
    "        cand_ids <- unique(na.omit(cand_ids))\n",
    "        if (length(cand_ids) == 1) {\n",
    "            out <- cand_ids\n",
    "        } else {\n",
    "            # if more than one possible cand_ids, then also return NA due to unresolvable names\n",
    "            out <- NA_character_\n",
    "        }\n",
    "    }\n",
    "    return(out)\n",
    "}\n",
    "\n",
    "\n",
    "\n",
    "#' Only the reverse query part \n",
    "#' @param spec_names rep\n",
    "rev_query <- function(names) {\n",
    "    cand_ids <- vector(length = nrow(names))\n",
    "    # spec_names is a vector \n",
    "    for (i in seq_len(nrow(names))){\n",
    "        rev_query <- name2taxid(names %>% slice(i) %>% pull(species), out_type = \"summary\")\n",
    "        if (nrow(rev_query) != 1){\n",
    "            # if there are ambiguous names or if there are no matches, return NA\n",
    "            cand_ids[i] <- NA_character_\n",
    "        } else {\n",
    "            cand_ids[i] <- rev_query$id\n",
    "        } \n",
    "    }\n",
    "    cand_ids <- unique(na.omit(cand_ids))\n",
    "    if (length(cand_ids) != 1){\n",
    "        return(NA_character_)\n",
    "    } else {\n",
    "        return(cand_ids)\n",
    "    }\n",
    "}"
   ]
  },
  {
   "cell_type": "markdown",
   "id": "e0a2434a-b459-4a31-ac9f-5bd10eb10e9e",
   "metadata": {},
   "source": [
    "Let's loop through every single `species_tax_id` and correct their names. We perform this procedure in parallel using the `BiocParallel` package.  "
   ]
  },
  {
   "cell_type": "code",
   "execution_count": 75,
   "id": "4ae84675-d3b0-4a52-bd3b-e92037a4f433",
   "metadata": {},
   "outputs": [
    {
     "data": {
      "text/html": [
       "103138"
      ],
      "text/latex": [
       "103138"
      ],
      "text/markdown": [
       "103138"
      ],
      "text/plain": [
       "[1] 103138"
      ]
     },
     "metadata": {},
     "output_type": "display_data"
    },
    {
     "data": {
      "text/html": [
       "103138"
      ],
      "text/latex": [
       "103138"
      ],
      "text/markdown": [
       "103138"
      ],
      "text/plain": [
       "[1] 103138"
      ]
     },
     "metadata": {},
     "output_type": "display_data"
    }
   ],
   "source": [
    "length(complete$species_tax_id)\n",
    "length(complete$names)"
   ]
  },
  {
   "cell_type": "markdown",
   "id": "a8217dc4-5df2-43b1-a844-88cf001a04ac",
   "metadata": {},
   "source": [
    "We retreived all the classified names for each tax id, extract those that are NAs, and reverse query the names to identify NAs"
   ]
  },
  {
   "cell_type": "code",
   "execution_count": 76,
   "id": "8bd19d03-f879-457e-8e5e-2a3d94c4bd41",
   "metadata": {},
   "outputs": [],
   "source": [
    "class <- classification(complete$species_tax_id)"
   ]
  },
  {
   "cell_type": "code",
   "execution_count": 77,
   "id": "fdf5b4db-3d4a-4d52-ad84-a9740cfa7b7d",
   "metadata": {},
   "outputs": [
    {
     "data": {
      "text/html": [
       "892"
      ],
      "text/latex": [
       "892"
      ],
      "text/markdown": [
       "892"
      ],
      "text/plain": [
       "[1] 892"
      ]
     },
     "metadata": {},
     "output_type": "display_data"
    }
   ],
   "source": [
    "na_idx <- which(is.na(class))\n",
    "length(na_idx)"
   ]
  },
  {
   "cell_type": "code",
   "execution_count": 78,
   "id": "a55dea1f-066a-4919-aabd-d0ccd12d2f88",
   "metadata": {},
   "outputs": [
    {
     "data": {
      "text/html": [
       "<style>\n",
       ".list-inline {list-style: none; margin:0; padding: 0}\n",
       ".list-inline>li {display: inline-block}\n",
       ".list-inline>li:not(:last-child)::after {content: \"\\00b7\"; padding: 0 .5ex}\n",
       "</style>\n",
       "<ol class=list-inline><li>'1858794'</li><li>NA</li><li>'1005724'</li><li>'1538102'</li><li>'61651'</li><li>'55404'</li><li>'2608262'</li><li>'1073996'</li><li>'1629334'</li><li>'1379903'</li></ol>\n"
      ],
      "text/latex": [
       "\\begin{enumerate*}\n",
       "\\item '1858794'\n",
       "\\item NA\n",
       "\\item '1005724'\n",
       "\\item '1538102'\n",
       "\\item '61651'\n",
       "\\item '55404'\n",
       "\\item '2608262'\n",
       "\\item '1073996'\n",
       "\\item '1629334'\n",
       "\\item '1379903'\n",
       "\\end{enumerate*}\n"
      ],
      "text/markdown": [
       "1. '1858794'\n",
       "2. NA\n",
       "3. '1005724'\n",
       "4. '1538102'\n",
       "5. '61651'\n",
       "6. '55404'\n",
       "7. '2608262'\n",
       "8. '1073996'\n",
       "9. '1629334'\n",
       "10. '1379903'\n",
       "\n",
       "\n"
      ],
      "text/plain": [
       " [1] \"1858794\" NA        \"1005724\" \"1538102\" \"61651\"   \"55404\"   \"2608262\"\n",
       " [8] \"1073996\" \"1629334\" \"1379903\""
      ]
     },
     "metadata": {},
     "output_type": "display_data"
    }
   ],
   "source": [
    "id_corrected <- vector(length = length(na_idx))\n",
    "for (i in seq_along(id_corrected)){\n",
    "    id_corrected[i] <- rev_query(complete$names[na_idx[i]][[1]])\n",
    "}\n",
    "id_corrected[1:10]"
   ]
  },
  {
   "cell_type": "code",
   "execution_count": 79,
   "id": "88f2b66d-e1f8-480f-ad1c-5b71a44ddc9c",
   "metadata": {},
   "outputs": [],
   "source": [
    "complete$species_tax_id[na_idx] <- id_corrected"
   ]
  },
  {
   "cell_type": "markdown",
   "id": "11b160c7",
   "metadata": {},
   "source": [
    "We remove taxa names (because they can be not-updated depending on the species_tax_id, remove all NAs and unnest traits"
   ]
  },
  {
   "cell_type": "code",
   "execution_count": 80,
   "id": "26e22e40-0edf-4055-b55c-26b271c4a6c9",
   "metadata": {},
   "outputs": [],
   "source": [
    "complete <- complete %>% drop_na(species_tax_id) %>% select(-names) %>% unnest(traits)"
   ]
  },
  {
   "cell_type": "code",
   "execution_count": null,
   "id": "6fa2b074-564f-4af6-88ed-705f1cc0b485",
   "metadata": {},
   "outputs": [],
   "source": [
    "head(complete)\n",
    "dim(complete)"
   ]
  },
  {
   "cell_type": "code",
   "execution_count": 129,
   "id": "ba271eb2",
   "metadata": {},
   "outputs": [],
   "source": [
    "saveRDS(complete, file = here(\"output\", \"databases\", \"db_merged.rds\"))\n",
    "write_csv(x = complete, file = here(\"output\", \"databases\", \"db_merged.csv\"))"
   ]
  }
 ],
 "metadata": {
  "kernelspec": {
   "display_name": "R",
   "language": "R",
   "name": "ir"
  },
  "language_info": {
   "codemirror_mode": "r",
   "file_extension": ".r",
   "mimetype": "text/x-r-source",
   "name": "R",
   "pygments_lexer": "r",
   "version": "4.1.2"
  }
 },
 "nbformat": 4,
 "nbformat_minor": 5
}
