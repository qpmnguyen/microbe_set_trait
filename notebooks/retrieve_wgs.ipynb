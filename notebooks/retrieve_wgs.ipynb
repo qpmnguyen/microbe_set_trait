{
 "cells": [
  {
   "cell_type": "markdown",
   "id": "79dfa81f-24cd-4a5d-a06f-7632bfc18b8b",
   "metadata": {},
   "source": [
    "# Process and export WGS data sets from Human Microbiome"
   ]
  }
 ],
 "metadata": {
  "kernelspec": {
   "display_name": "R",
   "language": "R",
   "name": "ir"
  },
  "language_info": {
   "codemirror_mode": "r",
   "file_extension": ".r",
   "mimetype": "text/x-r-source",
   "name": "R",
   "pygments_lexer": "r",
   "version": "4.1.2"
  }
 },
 "nbformat": 4,
 "nbformat_minor": 5
}
