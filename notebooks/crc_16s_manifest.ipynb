{
 "cells": [
  {
   "cell_type": "markdown",
   "id": "078ac89d-c5b9-41d6-9744-45daf7df6093",
   "metadata": {},
   "source": [
    "# Processing CRC 16S Data"
   ]
  },
  {
   "cell_type": "markdown",
   "id": "c23c87b3-c21a-46cd-b514-88fd7299b742",
   "metadata": {},
   "source": [
    "Last updated 2022-04-12.   \n",
    "Quang Nguyen    "
   ]
  },
  {
   "cell_type": "markdown",
   "id": "fa9ac081-b49c-4af4-aacf-25ff865a03e8",
   "metadata": {},
   "source": [
    "This script processes 16S rRNA gene sequencing data from Zeller et al. 2014 paper with [ENA Project ID: PREJEB13679](https://www.ebi.ac.uk/ena/browser/view/PRJEB13679?show=reads). Script used to download raw data can be found in the `python` folder (file `download_crc.py`). The manifest file (`python/crc_16s.tsv`) can be downloaded directly from the ENA website. Paper link can be found [here](https://www.ncbi.nlm.nih.gov/pmc/articles/PMC4299606/)   "
   ]
  },
  {
   "cell_type": "code",
   "execution_count": 180,
   "id": "afde1db8-22f4-4fc8-8ddf-cac3e2fbc604",
   "metadata": {},
   "outputs": [],
   "source": [
    "from q2_types.per_sample_sequences import PairedEndFastqManifestPhred33V2\n",
    "from qiime2 import Artifact\n",
    "from qiime2.plugins.dada2.methods import denoise_single\n",
    "import qiime2.plugins.demux.actions as demux_actions\n",
    "import pandas as pd\n",
    "import os\n",
    "import biom\n",
    "dpaths = \"/dartfs-hpc/rc/lab/H/HoenA/Lab/QNguyen/ResultsFiles/data/crc_16s/\""
   ]
  },
  {
   "cell_type": "code",
   "execution_count": 181,
   "id": "6b74058e-1590-4155-acc8-e7a4223f7c81",
   "metadata": {},
   "outputs": [
    {
     "data": {
      "text/html": [
       "<div>\n",
       "<style scoped>\n",
       "    .dataframe tbody tr th:only-of-type {\n",
       "        vertical-align: middle;\n",
       "    }\n",
       "\n",
       "    .dataframe tbody tr th {\n",
       "        vertical-align: top;\n",
       "    }\n",
       "\n",
       "    .dataframe thead th {\n",
       "        text-align: right;\n",
       "    }\n",
       "</style>\n",
       "<table border=\"1\" class=\"dataframe\">\n",
       "  <thead>\n",
       "    <tr style=\"text-align: right;\">\n",
       "      <th></th>\n",
       "      <th>host subject id</th>\n",
       "      <th>run_accession</th>\n",
       "      <th>sample_accession</th>\n",
       "      <th>diagnosis</th>\n",
       "      <th>sample name</th>\n",
       "      <th>sex</th>\n",
       "      <th>age</th>\n",
       "    </tr>\n",
       "  </thead>\n",
       "  <tbody>\n",
       "    <tr>\n",
       "      <th>0</th>\n",
       "      <td>DE-069</td>\n",
       "      <td>ERR674170</td>\n",
       "      <td>ERS581126</td>\n",
       "      <td>NaN</td>\n",
       "      <td>NaN</td>\n",
       "      <td>NaN</td>\n",
       "      <td>71</td>\n",
       "    </tr>\n",
       "    <tr>\n",
       "      <th>1</th>\n",
       "      <td>DE-068</td>\n",
       "      <td>ERR674169</td>\n",
       "      <td>ERS581125</td>\n",
       "      <td>NaN</td>\n",
       "      <td>NaN</td>\n",
       "      <td>NaN</td>\n",
       "      <td>66</td>\n",
       "    </tr>\n",
       "    <tr>\n",
       "      <th>2</th>\n",
       "      <td>DE-066</td>\n",
       "      <td>ERR674168</td>\n",
       "      <td>ERS581124</td>\n",
       "      <td>NaN</td>\n",
       "      <td>NaN</td>\n",
       "      <td>NaN</td>\n",
       "      <td>36</td>\n",
       "    </tr>\n",
       "    <tr>\n",
       "      <th>5</th>\n",
       "      <td>DE-001</td>\n",
       "      <td>ERR674075</td>\n",
       "      <td>ERS581031</td>\n",
       "      <td>NaN</td>\n",
       "      <td>NaN</td>\n",
       "      <td>NaN</td>\n",
       "      <td>82</td>\n",
       "    </tr>\n",
       "    <tr>\n",
       "      <th>6</th>\n",
       "      <td>DE-053</td>\n",
       "      <td>ERR674158</td>\n",
       "      <td>ERS581114</td>\n",
       "      <td>NaN</td>\n",
       "      <td>NaN</td>\n",
       "      <td>NaN</td>\n",
       "      <td>77</td>\n",
       "    </tr>\n",
       "  </tbody>\n",
       "</table>\n",
       "</div>"
      ],
      "text/plain": [
       "  host subject id run_accession sample_accession diagnosis sample name  sex  \\\n",
       "0          DE-069     ERR674170        ERS581126       NaN         NaN  NaN   \n",
       "1          DE-068     ERR674169        ERS581125       NaN         NaN  NaN   \n",
       "2          DE-066     ERR674168        ERS581124       NaN         NaN  NaN   \n",
       "5          DE-001     ERR674075        ERS581031       NaN         NaN  NaN   \n",
       "6          DE-053     ERR674158        ERS581114       NaN         NaN  NaN   \n",
       "\n",
       "   age  \n",
       "0   71  \n",
       "1   66  \n",
       "2   36  \n",
       "5   82  \n",
       "6   77  "
      ]
     },
     "execution_count": 181,
     "metadata": {},
     "output_type": "execute_result"
    }
   ],
   "source": [
    "metadata = pd.read_csv(\"../metadata/crc_16s_metadata.csv\", index_col=0)\n",
    "metadata.head()"
   ]
  },
  {
   "cell_type": "code",
   "execution_count": 182,
   "id": "67c01189-cf2a-4056-aeb3-a92ffeaf429b",
   "metadata": {},
   "outputs": [
    {
     "data": {
      "text/html": [
       "<div>\n",
       "<style scoped>\n",
       "    .dataframe tbody tr th:only-of-type {\n",
       "        vertical-align: middle;\n",
       "    }\n",
       "\n",
       "    .dataframe tbody tr th {\n",
       "        vertical-align: top;\n",
       "    }\n",
       "\n",
       "    .dataframe thead th {\n",
       "        text-align: right;\n",
       "    }\n",
       "</style>\n",
       "<table border=\"1\" class=\"dataframe\">\n",
       "  <thead>\n",
       "    <tr style=\"text-align: right;\">\n",
       "      <th></th>\n",
       "      <th>sample-id</th>\n",
       "      <th>diagnosis</th>\n",
       "      <th>seq_sample_id</th>\n",
       "      <th>age</th>\n",
       "    </tr>\n",
       "  </thead>\n",
       "  <tbody>\n",
       "    <tr>\n",
       "      <th>0</th>\n",
       "      <td>DE-069</td>\n",
       "      <td>NaN</td>\n",
       "      <td>NaN</td>\n",
       "      <td>71</td>\n",
       "    </tr>\n",
       "    <tr>\n",
       "      <th>1</th>\n",
       "      <td>DE-068</td>\n",
       "      <td>NaN</td>\n",
       "      <td>NaN</td>\n",
       "      <td>66</td>\n",
       "    </tr>\n",
       "    <tr>\n",
       "      <th>2</th>\n",
       "      <td>DE-066</td>\n",
       "      <td>NaN</td>\n",
       "      <td>NaN</td>\n",
       "      <td>36</td>\n",
       "    </tr>\n",
       "    <tr>\n",
       "      <th>5</th>\n",
       "      <td>DE-001</td>\n",
       "      <td>NaN</td>\n",
       "      <td>NaN</td>\n",
       "      <td>82</td>\n",
       "    </tr>\n",
       "    <tr>\n",
       "      <th>6</th>\n",
       "      <td>DE-053</td>\n",
       "      <td>NaN</td>\n",
       "      <td>NaN</td>\n",
       "      <td>77</td>\n",
       "    </tr>\n",
       "  </tbody>\n",
       "</table>\n",
       "</div>"
      ],
      "text/plain": [
       "  sample-id diagnosis seq_sample_id  age\n",
       "0    DE-069       NaN           NaN   71\n",
       "1    DE-068       NaN           NaN   66\n",
       "2    DE-066       NaN           NaN   36\n",
       "5    DE-001       NaN           NaN   82\n",
       "6    DE-053       NaN           NaN   77"
      ]
     },
     "execution_count": 182,
     "metadata": {},
     "output_type": "execute_result"
    }
   ],
   "source": [
    "metadata = metadata[[\"host subject id\", \"diagnosis\", \"sample name\", \"age\"]]\n",
    "metadata = metadata.rename(columns = {\"host subject id\" : \"sample-id\", \"sample name\" : \"seq_sample_id\"})\n",
    "metadata.head()"
   ]
  },
  {
   "cell_type": "markdown",
   "id": "66f8130b-d151-4c7f-9416-58ec6033d23b",
   "metadata": {},
   "source": [
    "All patients without any diagnosis are all `NA` values.  From the supplementary materials found in the manuscript, all DE designated patients are Cancer patients. We download the data directly from the supplementary materials and extract the relevant tabs. "
   ]
  },
  {
   "cell_type": "code",
   "execution_count": 183,
   "id": "2626b35b-a42d-489f-bc6a-67d5ed0b9457",
   "metadata": {},
   "outputs": [
    {
     "data": {
      "text/html": [
       "<div>\n",
       "<style scoped>\n",
       "    .dataframe tbody tr th:only-of-type {\n",
       "        vertical-align: middle;\n",
       "    }\n",
       "\n",
       "    .dataframe tbody tr th {\n",
       "        vertical-align: top;\n",
       "    }\n",
       "\n",
       "    .dataframe thead th {\n",
       "        text-align: right;\n",
       "    }\n",
       "</style>\n",
       "<table border=\"1\" class=\"dataframe\">\n",
       "  <thead>\n",
       "    <tr style=\"text-align: right;\">\n",
       "      <th></th>\n",
       "      <th>Subject ID</th>\n",
       "      <th>Sample ID</th>\n",
       "      <th>Age (years)</th>\n",
       "      <th>Gender</th>\n",
       "      <th>BMI (kg/m²)</th>\n",
       "      <th>Country of Residence</th>\n",
       "      <th>Diagnosis</th>\n",
       "      <th>AJCC Stage</th>\n",
       "      <th>TNM Stage</th>\n",
       "      <th>Localization</th>\n",
       "      <th>Unnamed: 10</th>\n",
       "      <th>Unnamed: 11</th>\n",
       "    </tr>\n",
       "  </thead>\n",
       "  <tbody>\n",
       "    <tr>\n",
       "      <th>0</th>\n",
       "      <td>DE-079</td>\n",
       "      <td>CCMD88272491ST-21-0</td>\n",
       "      <td>72.0</td>\n",
       "      <td>M</td>\n",
       "      <td>28.0</td>\n",
       "      <td>Germany</td>\n",
       "      <td>Cancer</td>\n",
       "      <td>0</td>\n",
       "      <td>TisN0M0</td>\n",
       "      <td>Rectum</td>\n",
       "      <td>NaN</td>\n",
       "      <td>NaN</td>\n",
       "    </tr>\n",
       "    <tr>\n",
       "      <th>1</th>\n",
       "      <td>DE-080</td>\n",
       "      <td>CCMD87156761ST-21-0</td>\n",
       "      <td>55.0</td>\n",
       "      <td>M</td>\n",
       "      <td>28.0</td>\n",
       "      <td>Germany</td>\n",
       "      <td>Cancer</td>\n",
       "      <td>I</td>\n",
       "      <td>T2N0M0</td>\n",
       "      <td>LC</td>\n",
       "      <td>NaN</td>\n",
       "      <td>NaN</td>\n",
       "    </tr>\n",
       "    <tr>\n",
       "      <th>2</th>\n",
       "      <td>DE-081</td>\n",
       "      <td>CCMD86707194ST-21-0</td>\n",
       "      <td>53.0</td>\n",
       "      <td>F</td>\n",
       "      <td>31.0</td>\n",
       "      <td>Germany</td>\n",
       "      <td>Cancer</td>\n",
       "      <td>I</td>\n",
       "      <td>T1N0M0</td>\n",
       "      <td>RC</td>\n",
       "      <td>NaN</td>\n",
       "      <td>NaN</td>\n",
       "    </tr>\n",
       "    <tr>\n",
       "      <th>3</th>\n",
       "      <td>DE-082</td>\n",
       "      <td>CCMD82866709ST-21-0</td>\n",
       "      <td>77.0</td>\n",
       "      <td>F</td>\n",
       "      <td>26.0</td>\n",
       "      <td>Germany</td>\n",
       "      <td>Cancer</td>\n",
       "      <td>II</td>\n",
       "      <td>T3N0M0</td>\n",
       "      <td>LC</td>\n",
       "      <td>NaN</td>\n",
       "      <td>NaN</td>\n",
       "    </tr>\n",
       "    <tr>\n",
       "      <th>4</th>\n",
       "      <td>DE-083</td>\n",
       "      <td>CCMD79987997ST-21-0</td>\n",
       "      <td>70.0</td>\n",
       "      <td>M</td>\n",
       "      <td>25.0</td>\n",
       "      <td>Germany</td>\n",
       "      <td>Cancer</td>\n",
       "      <td>I</td>\n",
       "      <td>T2N0M0</td>\n",
       "      <td>Sigma</td>\n",
       "      <td>NaN</td>\n",
       "      <td>NaN</td>\n",
       "    </tr>\n",
       "  </tbody>\n",
       "</table>\n",
       "</div>"
      ],
      "text/plain": [
       "  Subject ID            Sample ID  Age (years) Gender  BMI (kg/m²)  \\\n",
       "0     DE-079  CCMD88272491ST-21-0         72.0      M         28.0   \n",
       "1     DE-080  CCMD87156761ST-21-0         55.0      M         28.0   \n",
       "2     DE-081  CCMD86707194ST-21-0         53.0      F         31.0   \n",
       "3     DE-082  CCMD82866709ST-21-0         77.0      F         26.0   \n",
       "4     DE-083  CCMD79987997ST-21-0         70.0      M         25.0   \n",
       "\n",
       "  Country of Residence Diagnosis AJCC Stage TNM Stage Localization  \\\n",
       "0              Germany    Cancer          0   TisN0M0       Rectum   \n",
       "1              Germany    Cancer          I    T2N0M0           LC   \n",
       "2              Germany    Cancer          I    T1N0M0           RC   \n",
       "3              Germany    Cancer         II    T3N0M0           LC   \n",
       "4              Germany    Cancer          I    T2N0M0        Sigma   \n",
       "\n",
       "   Unnamed: 10  Unnamed: 11  \n",
       "0          NaN          NaN  \n",
       "1          NaN          NaN  \n",
       "2          NaN          NaN  \n",
       "3          NaN          NaN  \n",
       "4          NaN          NaN  "
      ]
     },
     "execution_count": 183,
     "metadata": {},
     "output_type": "execute_result"
    }
   ],
   "source": [
    "de_patients = pd.read_csv(\"../metadata/crc_16s_DE_subjects_metadata.csv\")\n",
    "de_patients.head()"
   ]
  },
  {
   "cell_type": "code",
   "execution_count": 184,
   "id": "de9d7fcb-7111-4243-91ff-adf9a0fad7b7",
   "metadata": {},
   "outputs": [
    {
     "data": {
      "text/html": [
       "<div>\n",
       "<style scoped>\n",
       "    .dataframe tbody tr th:only-of-type {\n",
       "        vertical-align: middle;\n",
       "    }\n",
       "\n",
       "    .dataframe tbody tr th {\n",
       "        vertical-align: top;\n",
       "    }\n",
       "\n",
       "    .dataframe thead th {\n",
       "        text-align: right;\n",
       "    }\n",
       "</style>\n",
       "<table border=\"1\" class=\"dataframe\">\n",
       "  <thead>\n",
       "    <tr style=\"text-align: right;\">\n",
       "      <th></th>\n",
       "      <th>sample-id</th>\n",
       "      <th>age</th>\n",
       "      <th>diagnosis</th>\n",
       "      <th>seq_sample_id</th>\n",
       "    </tr>\n",
       "  </thead>\n",
       "  <tbody>\n",
       "    <tr>\n",
       "      <th>0</th>\n",
       "      <td>DE-079</td>\n",
       "      <td>72.0</td>\n",
       "      <td>Cancer</td>\n",
       "      <td>CCMD88272491ST-21-0</td>\n",
       "    </tr>\n",
       "    <tr>\n",
       "      <th>1</th>\n",
       "      <td>DE-080</td>\n",
       "      <td>55.0</td>\n",
       "      <td>Cancer</td>\n",
       "      <td>CCMD87156761ST-21-0</td>\n",
       "    </tr>\n",
       "    <tr>\n",
       "      <th>2</th>\n",
       "      <td>DE-081</td>\n",
       "      <td>53.0</td>\n",
       "      <td>Cancer</td>\n",
       "      <td>CCMD86707194ST-21-0</td>\n",
       "    </tr>\n",
       "    <tr>\n",
       "      <th>3</th>\n",
       "      <td>DE-082</td>\n",
       "      <td>77.0</td>\n",
       "      <td>Cancer</td>\n",
       "      <td>CCMD82866709ST-21-0</td>\n",
       "    </tr>\n",
       "    <tr>\n",
       "      <th>4</th>\n",
       "      <td>DE-083</td>\n",
       "      <td>70.0</td>\n",
       "      <td>Cancer</td>\n",
       "      <td>CCMD79987997ST-21-0</td>\n",
       "    </tr>\n",
       "  </tbody>\n",
       "</table>\n",
       "</div>"
      ],
      "text/plain": [
       "  sample-id   age diagnosis        seq_sample_id\n",
       "0    DE-079  72.0    Cancer  CCMD88272491ST-21-0\n",
       "1    DE-080  55.0    Cancer  CCMD87156761ST-21-0\n",
       "2    DE-081  53.0    Cancer  CCMD86707194ST-21-0\n",
       "3    DE-082  77.0    Cancer  CCMD82866709ST-21-0\n",
       "4    DE-083  70.0    Cancer  CCMD79987997ST-21-0"
      ]
     },
     "execution_count": 184,
     "metadata": {},
     "output_type": "execute_result"
    }
   ],
   "source": [
    "de_patients = de_patients[[\"Subject ID\", \"Age (years)\", \"Diagnosis\", \"Sample ID\"]]\n",
    "de_patients = de_patients.rename(columns = {\"Subject ID\" : \"sample-id\", \n",
    "                                            \"Age (years)\" : \"age\", \n",
    "                                            \"Diagnosis\" : \"diagnosis\", \n",
    "                                            \"Sample ID\" : \"seq_sample_id\"})\n",
    "de_patients.head()"
   ]
  },
  {
   "cell_type": "code",
   "execution_count": 185,
   "id": "1d493f58-1988-47ef-90fd-56ebf560c56d",
   "metadata": {},
   "outputs": [
    {
     "data": {
      "text/plain": [
       "['DE-049',\n",
       " 'DE-045',\n",
       " 'DE-034',\n",
       " 'DE-013',\n",
       " 'DE-046',\n",
       " 'DE-044',\n",
       " 'DE-039',\n",
       " 'DE-038',\n",
       " 'DE-037',\n",
       " 'DE-031',\n",
       " 'DE-029',\n",
       " 'DE-062']"
      ]
     },
     "execution_count": 185,
     "metadata": {},
     "output_type": "execute_result"
    }
   ],
   "source": [
    "de_in_metadata = [f for f in metadata[\"sample-id\"].tolist() if f in de_patients[\"sample-id\"].dropna().tolist()]\n",
    "de_in_metadata"
   ]
  },
  {
   "cell_type": "code",
   "execution_count": 186,
   "id": "0476c251-ac34-4d7e-b232-b6c5bddcb4ac",
   "metadata": {},
   "outputs": [],
   "source": [
    "metadata = metadata[pd.notna(metadata.diagnosis)].reset_index().drop(\"index\", axis = 1)\n",
    "de_patients = de_patients[de_patients[\"sample-id\"].isin(de_in_metadata)]\n"
   ]
  },
  {
   "cell_type": "code",
   "execution_count": 187,
   "id": "4bc39f11-6d2e-4a2f-b76c-13a2589a6c6a",
   "metadata": {},
   "outputs": [],
   "source": [
    "metadata = metadata.append(de_patients)"
   ]
  },
  {
   "cell_type": "code",
   "execution_count": 188,
   "id": "eaa7ffb4-0f3a-4cf6-ba99-9b035f00db75",
   "metadata": {},
   "outputs": [
    {
     "data": {
      "text/plain": [
       "(141, 4)"
      ]
     },
     "execution_count": 188,
     "metadata": {},
     "output_type": "execute_result"
    }
   ],
   "source": [
    "metadata.head()\n",
    "metadata.shape"
   ]
  },
  {
   "cell_type": "code",
   "execution_count": 203,
   "id": "a6d6ac75-c2bd-4e02-8fae-d5cc09129942",
   "metadata": {},
   "outputs": [],
   "source": [
    "metadata[\"forward-absolute-filepath\"] = dpaths + metadata[\"sample-id\"] + \"_R1_001.fastq.gz\"\n",
    "metadata[\"reverse-absolute-filepath\"] = dpaths + metadata[\"sample-id\"] + \"_R2_001.fastq.gz\""
   ]
  },
  {
   "cell_type": "code",
   "execution_count": 207,
   "id": "a6b4938d-9bda-46a9-8842-53cf1f5722cc",
   "metadata": {},
   "outputs": [],
   "source": [
    "metadata.to_csv(\"../metadata/crc_qiime2_metadata.tsv\", sep = \"\\t\", index=False)"
   ]
  },
  {
   "cell_type": "markdown",
   "id": "49df6572-c0e1-4133-aa9f-a3fe16ab0dd7",
   "metadata": {},
   "source": [
    "Let's visualize the quality profile of this manifest and put it into QIIME 2 View"
   ]
  },
  {
   "cell_type": "code",
   "execution_count": 208,
   "id": "438dbd04-fe05-4a32-a3f7-691a0fd2d7aa",
   "metadata": {},
   "outputs": [],
   "source": [
    "sequences = Artifact.import_data('SampleData[PairedEndSequencesWithQuality]', \n",
    "                                 \"../metadata/crc_qiime2_metadata.tsv\",\n",
    "                                PairedEndFastqManifestPhred33V2)"
   ]
  },
  {
   "cell_type": "code",
   "execution_count": 210,
   "id": "e68784b2-f87c-41b3-b0f8-c9305179b897",
   "metadata": {},
   "outputs": [],
   "source": [
    "if not os.path.exists(\"../output/sequence_process_16s/crc_16s/demux_viz.qzv\"):\n",
    "    seq_viz = demux_actions.summarize(sequences)\n",
    "    seq_viz.visualization.save(\"../output/sequence_process_16s/crc_16s/demux_viz.qzv\")"
   ]
  },
  {
   "cell_type": "markdown",
   "id": "72ca26ba-2088-4e0a-a327-38be99c7f5c9",
   "metadata": {},
   "source": [
    "Similarly, we have visualization via QIIME 2 View [URL]()"
   ]
  }
 ],
 "metadata": {
  "kernelspec": {
   "display_name": "Python [conda env:.conda-qiime2_2022.2]",
   "language": "python",
   "name": "conda-env-.conda-qiime2_2022.2-py"
  },
  "language_info": {
   "codemirror_mode": {
    "name": "ipython",
    "version": 3
   },
   "file_extension": ".py",
   "mimetype": "text/x-python",
   "name": "python",
   "nbconvert_exporter": "python",
   "pygments_lexer": "ipython3",
   "version": "3.8.12"
  }
 },
 "nbformat": 4,
 "nbformat_minor": 5
}
