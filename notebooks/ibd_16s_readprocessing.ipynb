{
 "cells": [
  {
   "cell_type": "markdown",
   "id": "38bd6b4e-5405-423e-b079-66578f8ddecc",
   "metadata": {},
   "source": [
    "# Processing 16s IBD datasets\n",
    "Last updated: 2020-04-08  \n",
    "Quang Nguyen"
   ]
  },
  {
   "cell_type": "markdown",
   "id": "3f01a8ac-104b-469f-a153-86bdd4074f38",
   "metadata": {},
   "source": [
    "Here we're using `dada2` plugin within `qiime2` in order to process all our sequences. This data is from the Gevers et al. study and is publicly available online from ENA (project: PRJEB13679). All metadata was downloaded from the [associated `Qiita` study](https://qiita.ucsd.edu/study/description/1939). \n",
    "\n",
    "We use the metadata as a guide for which samples to download by creating a data processing manifest. We essentially use all samples under the same body site (Terminal Illeum) and using dada2 to denoise our samples and obtain asv sequences.  \n",
    "\n",
    "This notebook was ran using the qiime2-2022.2 conda environment. In-line visualization of artifacts were enabled using the command `jupyter serverextension enable --py qiime2 --sys-prefix`. See [this thread].(https://forum.qiime2.org/t/update-on-embedding-visualizations-in-jupyter/10092/2)"
   ]
  },
  {
   "cell_type": "code",
   "execution_count": 54,
   "id": "f78e2fc0-6a3a-43ba-8f04-311492bf462f",
   "metadata": {},
   "outputs": [],
   "source": [
    "from q2_types.per_sample_sequences import SingleEndFastqManifestPhred33V2\n",
    "from qiime2 import Artifact\n",
    "from qiime2.plugins.dada2.methods import denoise_single\n",
    "import qiime2.plugins.demux.actions as demux_actions\n",
    "from qiime2 import Visualization\n",
    "import pandas as pd\n",
    "import os\n",
    "import biom\n",
    "import skbio.io\n",
    "dpaths = \"/dartfs-hpc/rc/lab/H/HoenA/Lab/QNguyen/ResultsFiles/data/gevers_data/fastq/\""
   ]
  },
  {
   "cell_type": "code",
   "execution_count": 6,
   "id": "952c9b0a-5efb-4f9e-9882-d44642fb9063",
   "metadata": {},
   "outputs": [
    {
     "data": {
      "text/plain": [
       "Index(['sample_name', 'age', 'age_unit', 'altitude', 'anonymized_name',\n",
       "       'antibiotics', 'b_cat', 'biologics', 'biopsy_location', 'birthdate',\n",
       "       'body_habitat', 'body_product', 'body_site', 'collection',\n",
       "       'collection_timestamp', 'country', 'depth', 'description', 'diagnosis',\n",
       "       'disease_duration', 'disease_extent', 'disease_stat', 'diseasesubtype',\n",
       "       'dna_extracted', 'elevation', 'env_biome', 'env_feature',\n",
       "       'env_material', 'env_package', 'gastric_involvement',\n",
       "       'gastrointest_disord', 'geo_loc_name', 'host_common_name',\n",
       "       'host_scientific_name', 'host_subject_id', 'host_taxid',\n",
       "       'ileal_invovlement', 'immunosup', 'inflammationstatus', 'latitude',\n",
       "       'longitude', 'mesalamine', 'orig_name', 'perianal',\n",
       "       'physical_specimen_location', 'physical_specimen_remaining', 'public',\n",
       "       'qiita_empo_1', 'qiita_empo_2', 'qiita_empo_3', 'qiita_study_id',\n",
       "       'race', 'sample_type', 'scientific_name', 'sex', 'smoking', 'steroids',\n",
       "       'taxon_id', 'title', 'type_sample'],\n",
       "      dtype='object')"
      ]
     },
     "execution_count": 6,
     "metadata": {},
     "output_type": "execute_result"
    }
   ],
   "source": [
    "metadata = pd.read_csv(\"../metadata/gevers_metadata.tsv\", sep = \"\\t\")\n",
    "metadata.columns"
   ]
  },
  {
   "cell_type": "code",
   "execution_count": 7,
   "id": "044490d0-e78b-4097-8160-81dead73d1cd",
   "metadata": {},
   "outputs": [
    {
     "data": {
      "text/html": [
       "<div>\n",
       "<style scoped>\n",
       "    .dataframe tbody tr th:only-of-type {\n",
       "        vertical-align: middle;\n",
       "    }\n",
       "\n",
       "    .dataframe tbody tr th {\n",
       "        vertical-align: top;\n",
       "    }\n",
       "\n",
       "    .dataframe thead th {\n",
       "        text-align: right;\n",
       "    }\n",
       "</style>\n",
       "<table border=\"1\" class=\"dataframe\">\n",
       "  <thead>\n",
       "    <tr style=\"text-align: right;\">\n",
       "      <th></th>\n",
       "      <th>sample-id</th>\n",
       "      <th>age</th>\n",
       "      <th>biopsy_location</th>\n",
       "      <th>body_site</th>\n",
       "      <th>diseasesubtype</th>\n",
       "      <th>host_subject_id</th>\n",
       "    </tr>\n",
       "  </thead>\n",
       "  <tbody>\n",
       "    <tr>\n",
       "      <th>0</th>\n",
       "      <td>1939.MGH100079</td>\n",
       "      <td>53.0</td>\n",
       "      <td>Terminal ileum</td>\n",
       "      <td>UBERON:ileum</td>\n",
       "      <td>iCD</td>\n",
       "      <td>7161</td>\n",
       "    </tr>\n",
       "    <tr>\n",
       "      <th>1</th>\n",
       "      <td>1939.MGH100698</td>\n",
       "      <td>75.0</td>\n",
       "      <td>Terminal ileum</td>\n",
       "      <td>UBERON:ileum</td>\n",
       "      <td>iCD</td>\n",
       "      <td>7225</td>\n",
       "    </tr>\n",
       "    <tr>\n",
       "      <th>2</th>\n",
       "      <td>1939.MGH100896.a</td>\n",
       "      <td>34.0</td>\n",
       "      <td>Terminal ileum</td>\n",
       "      <td>UBERON:ileum</td>\n",
       "      <td>iCD</td>\n",
       "      <td>7094</td>\n",
       "    </tr>\n",
       "    <tr>\n",
       "      <th>3</th>\n",
       "      <td>1939.MGH100896.b</td>\n",
       "      <td>34.0</td>\n",
       "      <td>Terminal ileum</td>\n",
       "      <td>UBERON:ileum</td>\n",
       "      <td>iCD</td>\n",
       "      <td>7094</td>\n",
       "    </tr>\n",
       "    <tr>\n",
       "      <th>4</th>\n",
       "      <td>1939.MGH101010</td>\n",
       "      <td>30.0</td>\n",
       "      <td>Terminal ileum</td>\n",
       "      <td>UBERON:ileum</td>\n",
       "      <td>iCD</td>\n",
       "      <td>7141</td>\n",
       "    </tr>\n",
       "  </tbody>\n",
       "</table>\n",
       "</div>"
      ],
      "text/plain": [
       "          sample-id   age biopsy_location     body_site diseasesubtype  \\\n",
       "0    1939.MGH100079  53.0  Terminal ileum  UBERON:ileum            iCD   \n",
       "1    1939.MGH100698  75.0  Terminal ileum  UBERON:ileum            iCD   \n",
       "2  1939.MGH100896.a  34.0  Terminal ileum  UBERON:ileum            iCD   \n",
       "3  1939.MGH100896.b  34.0  Terminal ileum  UBERON:ileum            iCD   \n",
       "4    1939.MGH101010  30.0  Terminal ileum  UBERON:ileum            iCD   \n",
       "\n",
       "  host_subject_id  \n",
       "0            7161  \n",
       "1            7225  \n",
       "2            7094  \n",
       "3            7094  \n",
       "4            7141  "
      ]
     },
     "execution_count": 7,
     "metadata": {},
     "output_type": "execute_result"
    }
   ],
   "source": [
    "metadata = metadata[[\"sample_name\", \"age\", \"biopsy_location\", \"body_site\", \n",
    "                     \"diseasesubtype\", \"host_subject_id\"]][\n",
    "                    metadata.biopsy_location == \"Terminal ileum\"].reset_index().drop(\"index\", axis = 1)\n",
    "metadata = metadata.rename(columns = {\"sample_name\" : \"sample-id\"})\n",
    "metadata.head()"
   ]
  },
  {
   "cell_type": "code",
   "execution_count": 8,
   "id": "1b4b5930-fa70-4b60-b83d-c8d43977eb9d",
   "metadata": {},
   "outputs": [
    {
     "data": {
      "text/plain": [
       "iCD    251\n",
       "no     194\n",
       "UC      72\n",
       "cCD     70\n",
       "IC      34\n",
       "CD      18\n",
       "Name: diseasesubtype, dtype: int64"
      ]
     },
     "execution_count": 8,
     "metadata": {},
     "output_type": "execute_result"
    }
   ],
   "source": [
    "metadata.diseasesubtype.value_counts()"
   ]
  },
  {
   "cell_type": "code",
   "execution_count": 9,
   "id": "3991a573-a97e-405b-b04b-2dfefc2eef6c",
   "metadata": {},
   "outputs": [
    {
     "data": {
      "text/html": [
       "<div>\n",
       "<style scoped>\n",
       "    .dataframe tbody tr th:only-of-type {\n",
       "        vertical-align: middle;\n",
       "    }\n",
       "\n",
       "    .dataframe tbody tr th {\n",
       "        vertical-align: top;\n",
       "    }\n",
       "\n",
       "    .dataframe thead th {\n",
       "        text-align: right;\n",
       "    }\n",
       "</style>\n",
       "<table border=\"1\" class=\"dataframe\">\n",
       "  <thead>\n",
       "    <tr style=\"text-align: right;\">\n",
       "      <th></th>\n",
       "      <th>sample-id</th>\n",
       "      <th>age</th>\n",
       "      <th>biopsy_location</th>\n",
       "      <th>body_site</th>\n",
       "      <th>diseasesubtype</th>\n",
       "      <th>host_subject_id</th>\n",
       "      <th>absolute-filepath</th>\n",
       "    </tr>\n",
       "  </thead>\n",
       "  <tbody>\n",
       "    <tr>\n",
       "      <th>0</th>\n",
       "      <td>1939.MGH100079</td>\n",
       "      <td>53.0</td>\n",
       "      <td>Terminal ileum</td>\n",
       "      <td>UBERON:ileum</td>\n",
       "      <td>iCD</td>\n",
       "      <td>7161</td>\n",
       "      <td>/dartfs-hpc/rc/lab/H/HoenA/Lab/QNguyen/Results...</td>\n",
       "    </tr>\n",
       "    <tr>\n",
       "      <th>1</th>\n",
       "      <td>1939.MGH100698</td>\n",
       "      <td>75.0</td>\n",
       "      <td>Terminal ileum</td>\n",
       "      <td>UBERON:ileum</td>\n",
       "      <td>iCD</td>\n",
       "      <td>7225</td>\n",
       "      <td>/dartfs-hpc/rc/lab/H/HoenA/Lab/QNguyen/Results...</td>\n",
       "    </tr>\n",
       "    <tr>\n",
       "      <th>2</th>\n",
       "      <td>1939.MGH100896.a</td>\n",
       "      <td>34.0</td>\n",
       "      <td>Terminal ileum</td>\n",
       "      <td>UBERON:ileum</td>\n",
       "      <td>iCD</td>\n",
       "      <td>7094</td>\n",
       "      <td>/dartfs-hpc/rc/lab/H/HoenA/Lab/QNguyen/Results...</td>\n",
       "    </tr>\n",
       "    <tr>\n",
       "      <th>3</th>\n",
       "      <td>1939.MGH100896.b</td>\n",
       "      <td>34.0</td>\n",
       "      <td>Terminal ileum</td>\n",
       "      <td>UBERON:ileum</td>\n",
       "      <td>iCD</td>\n",
       "      <td>7094</td>\n",
       "      <td>/dartfs-hpc/rc/lab/H/HoenA/Lab/QNguyen/Results...</td>\n",
       "    </tr>\n",
       "    <tr>\n",
       "      <th>4</th>\n",
       "      <td>1939.MGH101010</td>\n",
       "      <td>30.0</td>\n",
       "      <td>Terminal ileum</td>\n",
       "      <td>UBERON:ileum</td>\n",
       "      <td>iCD</td>\n",
       "      <td>7141</td>\n",
       "      <td>/dartfs-hpc/rc/lab/H/HoenA/Lab/QNguyen/Results...</td>\n",
       "    </tr>\n",
       "  </tbody>\n",
       "</table>\n",
       "</div>"
      ],
      "text/plain": [
       "          sample-id   age biopsy_location     body_site diseasesubtype  \\\n",
       "0    1939.MGH100079  53.0  Terminal ileum  UBERON:ileum            iCD   \n",
       "1    1939.MGH100698  75.0  Terminal ileum  UBERON:ileum            iCD   \n",
       "2  1939.MGH100896.a  34.0  Terminal ileum  UBERON:ileum            iCD   \n",
       "3  1939.MGH100896.b  34.0  Terminal ileum  UBERON:ileum            iCD   \n",
       "4    1939.MGH101010  30.0  Terminal ileum  UBERON:ileum            iCD   \n",
       "\n",
       "  host_subject_id                                  absolute-filepath  \n",
       "0            7161  /dartfs-hpc/rc/lab/H/HoenA/Lab/QNguyen/Results...  \n",
       "1            7225  /dartfs-hpc/rc/lab/H/HoenA/Lab/QNguyen/Results...  \n",
       "2            7094  /dartfs-hpc/rc/lab/H/HoenA/Lab/QNguyen/Results...  \n",
       "3            7094  /dartfs-hpc/rc/lab/H/HoenA/Lab/QNguyen/Results...  \n",
       "4            7141  /dartfs-hpc/rc/lab/H/HoenA/Lab/QNguyen/Results...  "
      ]
     },
     "execution_count": 9,
     "metadata": {},
     "output_type": "execute_result"
    }
   ],
   "source": [
    "metadata[\"absolute-filepath\"] = dpaths + metadata[\"sample-id\"] + \".fastq.gz\"\n",
    "metadata.head()"
   ]
  },
  {
   "cell_type": "code",
   "execution_count": 10,
   "id": "5b0e126e-dd14-498c-9a5c-54be957430a4",
   "metadata": {},
   "outputs": [],
   "source": [
    "metadata.to_csv(\"../metadata/ibd_qiime2_metadata.tsv\", sep=\"\\t\", index=False)"
   ]
  },
  {
   "cell_type": "markdown",
   "id": "70eea1bc",
   "metadata": {},
   "source": [
    "We load sequences using the qiime2 Artifact API"
   ]
  },
  {
   "cell_type": "code",
   "execution_count": 11,
   "id": "a0f4206c-0f38-407a-b7f4-0b06a167db1f",
   "metadata": {},
   "outputs": [],
   "source": [
    "sequences = Artifact.import_data('SampleData[SequencesWithQuality]', \n",
    "                                 \"../metadata/ibd_qiime2_metadata.tsv\", \n",
    "                                 SingleEndFastqManifestPhred33V2)"
   ]
  },
  {
   "cell_type": "code",
   "execution_count": 8,
   "id": "92fa1332-58b2-4329-93ed-d2320634a185",
   "metadata": {},
   "outputs": [],
   "source": [
    "# usually ran once to obtain visualizations \n",
    "if not os.path.exists(\"../output/sequence_process_16s/ibd_16s/demux_viz.qzv\"):\n",
    "    seq_viz = demux_actions.summarize(sequences)\n",
    "    seq_viz.visualization.save(\"../output/sequence_process_16s/ibd_16s/demux_viz.qzv\")\n"
   ]
  },
  {
   "cell_type": "markdown",
   "id": "308cb849",
   "metadata": {},
   "source": [
    "`QIIME2 View` [link](https://view.qiime2.org/visualization/?src=b3e90925-0235-402b-94e4-4d32eb1cc950&type=html) "
   ]
  },
  {
   "cell_type": "markdown",
   "id": "4b617c11",
   "metadata": {},
   "source": [
    "We can see that our reads are actually pretty good on the left, but unfortunately some nucleotides on the right hand has low quality. We're going to trim right 15 nucleotides and use mostly default options from the `dada2` R tutorials"
   ]
  },
  {
   "cell_type": "code",
   "execution_count": 13,
   "id": "3c4658a1",
   "metadata": {},
   "outputs": [
    {
     "name": "stdout",
     "output_type": "stream",
     "text": [
      "Running external command line application(s). This may print messages to stdout and/or stderr.\n",
      "The command(s) being run are below. These commands cannot be manually re-run as they will depend on temporary files that no longer exist.\n",
      "\n",
      "Command: run_dada_single.R /scratch/qiime2-archive-5t18wbxt/1cdabe70-41f4-4988-a43f-7242dd6245f7/data /scratch/tmphpkbv_tb/output.tsv.biom /scratch/tmphpkbv_tb/track.tsv /scratch/tmphpkbv_tb 160 0 2 2 Inf pseudo pooled 1.0 10 1000000 NULL 16\n",
      "\n"
     ]
    },
    {
     "name": "stderr",
     "output_type": "stream",
     "text": [
      "Warning message:\n",
      "Project requested Python version '3.8.9' but '3.6.8' is currently being used \n",
      "Loading required package: Rcpp\n"
     ]
    },
    {
     "name": "stdout",
     "output_type": "stream",
     "text": [
      "R version 4.1.2 (2021-11-01) \n",
      "DADA2: 1.22.0 / Rcpp: 1.0.8 / RcppParallel: 5.1.5 \n",
      "1) Filtering ...............................................................................................................................................................................................................................................................................................................................................................................................................................................................................................................................................................................................................................................................\n",
      "2) Learning Error Rates\n",
      "164399840 total bases in 1027499 reads from 44 samples will be used for learning the error rates.\n",
      "3) Denoise samples ...............................................................................................................................................................................................................................................................................................................................................................................................................................................................................................................................................................................................................................................................\n",
      "  Pseudo-pool step ...............................................................................................................................................................................................................................................................................................................................................................................................................................................................................................................................................................................................................................................................\n",
      "4) Remove chimeras (method = pooled)\n",
      "5) Report read numbers through the pipeline\n",
      "6) Write output\n"
     ]
    }
   ],
   "source": [
    "if not os.path.exists(\"../output/sequence_process_16s/ibd_16s/feature_table/feature-table.biom\"):\n",
    "    feat_table, asv_sequences, dada_stats = denoise_single(demultiplexed_seqs = sequences, trunc_len=160, max_ee=2, \n",
    "                                                           trunc_q=2, pooling_method=\"pseudo\", chimera_method=\"pooled\", \n",
    "                                                           n_threads=10)\n",
    "    feat_table.export_data(\"../output/sequence_process_16s/ibd_16s/feature_table\")\n",
    "    asv_sequences.export_data(\"../output/sequence_process_16s/ibd_16s/seqs\")\n",
    "    dada_stats.export_data(\"../output/seqence_process_16s/ibd_16s/dada2_stats\")"
   ]
  },
  {
   "cell_type": "markdown",
   "id": "90934b81",
   "metadata": {},
   "source": [
    "Export primary tables for downstream analysis and PICRUSt2 but keep qza back-ups"
   ]
  },
  {
   "cell_type": "code",
   "execution_count": 59,
   "id": "28f4e0ce-dc7b-4952-aa1b-4d4ffed1fa47",
   "metadata": {},
   "outputs": [],
   "source": []
  },
  {
   "cell_type": "markdown",
   "id": "c5235815",
   "metadata": {},
   "source": [
    "Let's classify sequences for taxonomic reference"
   ]
  },
  {
   "cell_type": "code",
   "execution_count": null,
   "id": "bb47dcdc",
   "metadata": {},
   "outputs": [],
   "source": []
  }
 ],
 "metadata": {
  "kernelspec": {
   "display_name": "Python 3 (ipykernel)",
   "language": "python",
   "name": "python3"
  },
  "language_info": {
   "codemirror_mode": {
    "name": "ipython",
    "version": 3
   },
   "file_extension": ".py",
   "mimetype": "text/x-python",
   "name": "python",
   "nbconvert_exporter": "python",
   "pygments_lexer": "ipython3",
   "version": "3.10.4"
  }
 },
 "nbformat": 4,
 "nbformat_minor": 5
}
