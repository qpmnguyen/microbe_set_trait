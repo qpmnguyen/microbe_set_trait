{
 "cells": [
  {
   "cell_type": "code",
   "execution_count": 1,
   "id": "30a4ac24",
   "metadata": {},
   "outputs": [
    {
     "name": "stderr",
     "output_type": "stream",
     "text": [
      "/scratch/ipykernel_73820/3739418518.py:1: TqdmExperimentalWarning: Using `tqdm.autonotebook.tqdm` in notebook mode. Use `tqdm.tqdm` instead to force console mode (e.g. in jupyter console)\n",
      "  from tqdm.autonotebook import tqdm\n"
     ]
    }
   ],
   "source": [
    "from tqdm.autonotebook import tqdm\n",
    "import pandas as pd \n",
    "import os\n",
    "import matplotlib.pyplot as plt\n",
    "import subprocess\n",
    "import time\n",
    "import sys\n",
    "from multiprocessing import Pool\n",
    "basepath = \"/dartfs-hpc/rc/lab/H/HoenA/Lab/QNguyen/ResultsFiles/data\"\n",
    "asp_key = \"/dartfs-hpc/rc/home/k/f00345k/.aspera/connect/etc/asperaweb_id_dsa.openssh\"\n",
    "asp_cmd = \"ascp -k 1 -QT -l 300m -P33001 -i\" "
   ]
  },
  {
   "cell_type": "code",
   "execution_count": 2,
   "id": "4b21b151-9560-402c-87e7-f7cf1a8353c5",
   "metadata": {},
   "outputs": [
    {
     "name": "stdout",
     "output_type": "stream",
     "text": [
      "/dartfs-hpc/rc/home/k/f00345k/research/microbe_set_trait/analysis\n"
     ]
    }
   ],
   "source": [
    "!pwd"
   ]
  },
  {
   "cell_type": "markdown",
   "id": "4b0b091a",
   "metadata": {},
   "source": [
    "## Getting CRC data "
   ]
  },
  {
   "cell_type": "markdown",
   "id": "ecb7035b",
   "metadata": {},
   "source": [
    "First, we're processing and filtering the manifest data from ENA"
   ]
  },
  {
   "cell_type": "code",
   "execution_count": 18,
   "id": "2c94f605",
   "metadata": {},
   "outputs": [],
   "source": [
    "manifest = pd.read_csv(\"crc_16s.tsv\", sep=\"\\t\")\n",
    "manifest = manifest[manifest.library_strategy == \"AMPLICON\"]\n",
    "manifest = manifest[manifest.groupby(\"sample_title\")['read_count'].transform('max') == manifest['read_count']]\n",
    "manifest = manifest.reset_index().drop('index', axis = 1)\n",
    "\n",
    "crc_path = basepath + \"/crc_16s\""
   ]
  },
  {
   "cell_type": "markdown",
   "id": "be33072f",
   "metadata": {},
   "source": [
    "Then we go through each ftp or aspera link and download"
   ]
  },
  {
   "cell_type": "code",
   "execution_count": 19,
   "id": "a81ee8a4",
   "metadata": {},
   "outputs": [],
   "source": [
    "# cmd = \"{} {} {} {}\".format(asp_cmd, asp_key, url, crc_path) for aspera - however \n",
    "# as of this current version aspera doesn't work due to permission issues \n",
    "\n",
    "def download_sample(idx):\n",
    "    print(manifest.head)\n",
    "    failed = []\n",
    "    for j in range(0,2):\n",
    "        url = manifest.iloc[idx].fastq_ftp.split(\";\")[j]\n",
    "        sname = sname = manifest.iloc[idx].sample_title.split(\" \")[-1]\n",
    "        if j == 1:\n",
    "            fname = sname + \"_R2_001.fastq.gz\"\n",
    "        else:\n",
    "            fname = sname + \"_R1_001.fastq.gz\"\n",
    "        fullname = crc_path + \"/\" + fname\n",
    "        cmd = \"wget {} -O {}\".format(url, crc_path + \"/\" + fname)\n",
    "        if os.path.exists(fullname):\n",
    "            pass\n",
    "        else:\n",
    "            print(\"Downloading {}\".format(fname))\n",
    "            if idx % 10 == 0 & idx >= 10:\n",
    "                time.sleep(10)\n",
    "            subprocess.run(args=[\"wget\", url, \"-O\", fullname, \"--quiet\"], stdout=subprocess.DEVNULL)\n",
    "            if os.path.getsize(fullname) == 0:\n",
    "                print(\"For some reason this is not downloading, retrying...\")\n",
    "                subprocess.run(args=[\"wget\", url, \"-O\", fullname, \"--quiet\"], stdout=subprocess.DEVNULL)\n",
    "                if os.path.getsize(fullname) == 0:\n",
    "                    print(\"This file is dud\")\n",
    "                    failed.append(url)\n",
    "                    pass\n",
    "        return(failed)"
   ]
  },
  {
   "cell_type": "markdown",
   "id": "53efe5a4-1b04-4647-8e0f-2a9833d09d89",
   "metadata": {},
   "source": [
    "This code is run in parallel using the `multiprocessing` package across 5 cores using `nohup` on the Dartmouth Polaris server"
   ]
  },
  {
   "cell_type": "markdown",
   "id": "26d2ceef",
   "metadata": {},
   "source": [
    "## Getting HMP data "
   ]
  },
  {
   "cell_type": "markdown",
   "id": "f3907762-c484-430f-a4e5-2408f36760ca",
   "metadata": {},
   "source": [
    "HMP data can't be download directly using ENA due to unspecified restrictions. The raw 16S rRNA gene sequencing data files are available on their [website](https://www.hmpdacc.org/hmp/HMR16S/). As such we're hand-curating the manifest file for data download. "
   ]
  },
  {
   "cell_type": "code",
   "execution_count": 13,
   "id": "f0dce406",
   "metadata": {},
   "outputs": [],
   "source": [
    "urls = [\"http://downloads.ihmpdcc.org/data/HMR16S/SRR0\" + str(i) + \"tar.bz2\" for i in range(40,51)]\n",
    "samples = [\"SRR0{}000_SR0{}999\".format(i,i) for i in range(40, 50)]\n",
    "samples.append(\"SRR050000_SRR059999\")"
   ]
  },
  {
   "cell_type": "code",
   "execution_count": 14,
   "id": "9abb376a-4b84-4a00-95a9-876b2f746a77",
   "metadata": {},
   "outputs": [],
   "source": [
    "hmp_manifest = pd.DataFrame(\n",
    "    {\n",
    "        \"samples\":pd.Series(samples),\n",
    "        \"urls\":pd.Series(urls)\n",
    "    }\n",
    ")\n",
    "hmp_manifest\n",
    "hmp_manifest.to_csv(\"../python/hmp_urls.csv\")"
   ]
  },
  {
   "cell_type": "markdown",
   "id": "f46db901-2a05-498c-899f-cbc4ad27991f",
   "metadata": {},
   "source": [
    "Similar to files above, this is ran asynchronously across 5 cores using `multiprocessing` and `nohup` through the python script `download_hmp.py`"
   ]
  }
 ],
 "metadata": {
  "kernelspec": {
   "display_name": "Python 3 (ipykernel)",
   "language": "python",
   "name": "python3"
  },
  "language_info": {
   "codemirror_mode": {
    "name": "ipython",
    "version": 3
   },
   "file_extension": ".py",
   "mimetype": "text/x-python",
   "name": "python",
   "nbconvert_exporter": "python",
   "pygments_lexer": "ipython3",
   "version": "3.8.12"
  }
 },
 "nbformat": 4,
 "nbformat_minor": 5
}
