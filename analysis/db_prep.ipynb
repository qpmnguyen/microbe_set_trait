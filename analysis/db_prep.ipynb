{
 "cells": [
  {
   "cell_type": "code",
   "execution_count": 7,
   "id": "9ccdb52d-d39f-4a8a-a34b-2b5384327ac6",
   "metadata": {},
   "outputs": [
    {
     "name": "stderr",
     "output_type": "stream",
     "text": [
      "here() starts at /dartfs-hpc/rc/home/k/f00345k/research/microbe_set_trait\n",
      "\n"
     ]
    }
   ],
   "source": [
    "library(piggyback)\n",
    "library(data.table)\n",
    "library(dtplyr)\n",
    "library(targets)\n",
    "library(here)\n",
    "library(stringdist)\n",
    "library(tidyverse)\n",
    "here::i_am(\"analysis/db_prep.ipynb\");"
   ]
  },
  {
   "cell_type": "markdown",
   "id": "337a0c71-c546-4cfa-b99b-c00a642cc328",
   "metadata": {},
   "source": [
    "This code is used to upload data onto GitHub using `piggyback` R package\n",
    "```r\n",
    "piggyback::pb_upload(file = here(\"large_files\", \"goldData.xlsx\"), tag = \"0.1\", overwrite = TRUE)\n",
    "```"
   ]
  },
  {
   "cell_type": "code",
   "execution_count": null,
   "id": "3fea43ab-45a4-49c5-ac24-07c966b2c75e",
   "metadata": {},
   "outputs": [],
   "source": []
  },
  {
   "cell_type": "code",
   "execution_count": null,
   "id": "2183aa73-b0af-4a4a-91f6-0d65abc201ba",
   "metadata": {},
   "outputs": [],
   "source": []
  }
 ],
 "metadata": {
  "kernelspec": {
   "display_name": "R",
   "language": "R",
   "name": "ir"
  },
  "language_info": {
   "codemirror_mode": "r",
   "file_extension": ".r",
   "mimetype": "text/x-r-source",
   "name": "R",
   "pygments_lexer": "r",
   "version": "4.1.2"
  }
 },
 "nbformat": 4,
 "nbformat_minor": 5
}
