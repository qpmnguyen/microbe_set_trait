{
 "cells": [
  {
   "cell_type": "code",
   "execution_count": 2,
   "id": "9ccdb52d-d39f-4a8a-a34b-2b5384327ac6",
   "metadata": {},
   "outputs": [
    {
     "name": "stderr",
     "output_type": "stream",
     "text": [
      "here() starts at /dartfs-hpc/rc/home/k/f00345k/research/microbe_set_trait\n",
      "\n",
      "── \u001b[1mAttaching packages\u001b[22m ───────────────────────────────────────────────────────────────────── tidyverse 1.3.1 ──\n",
      "\n",
      "\u001b[32m✔\u001b[39m \u001b[34mggplot2\u001b[39m 3.3.5     \u001b[32m✔\u001b[39m \u001b[34mpurrr  \u001b[39m 0.3.4\n",
      "\u001b[32m✔\u001b[39m \u001b[34mtibble \u001b[39m 3.1.6     \u001b[32m✔\u001b[39m \u001b[34mdplyr  \u001b[39m 1.0.8\n",
      "\u001b[32m✔\u001b[39m \u001b[34mtidyr  \u001b[39m 1.2.0     \u001b[32m✔\u001b[39m \u001b[34mstringr\u001b[39m 1.4.0\n",
      "\u001b[32m✔\u001b[39m \u001b[34mreadr  \u001b[39m 2.1.2     \u001b[32m✔\u001b[39m \u001b[34mforcats\u001b[39m 0.5.1\n",
      "\n",
      "── \u001b[1mConflicts\u001b[22m ──────────────────────────────────────────────────────────────────────── tidyverse_conflicts() ──\n",
      "\u001b[31m✖\u001b[39m \u001b[34mdplyr\u001b[39m::\u001b[32mbetween()\u001b[39m   masks \u001b[34mdata.table\u001b[39m::between()\n",
      "\u001b[31m✖\u001b[39m \u001b[34mtidyr\u001b[39m::\u001b[32mextract()\u001b[39m   masks \u001b[34mstringdist\u001b[39m::extract()\n",
      "\u001b[31m✖\u001b[39m \u001b[34mdplyr\u001b[39m::\u001b[32mfilter()\u001b[39m    masks \u001b[34mstats\u001b[39m::filter()\n",
      "\u001b[31m✖\u001b[39m \u001b[34mdplyr\u001b[39m::\u001b[32mfirst()\u001b[39m     masks \u001b[34mdata.table\u001b[39m::first()\n",
      "\u001b[31m✖\u001b[39m \u001b[34mdplyr\u001b[39m::\u001b[32mlag()\u001b[39m       masks \u001b[34mstats\u001b[39m::lag()\n",
      "\u001b[31m✖\u001b[39m \u001b[34mdplyr\u001b[39m::\u001b[32mlast()\u001b[39m      masks \u001b[34mdata.table\u001b[39m::last()\n",
      "\u001b[31m✖\u001b[39m \u001b[34mpurrr\u001b[39m::\u001b[32mtranspose()\u001b[39m masks \u001b[34mdata.table\u001b[39m::transpose()\n",
      "\n",
      "here() starts at /dartfs-hpc/rc/home/k/f00345k/research/microbe_set_trait\n",
      "\n"
     ]
    }
   ],
   "source": [
    "library(piggyback)\n",
    "library(data.table)\n",
    "library(dtplyr)\n",
    "library(targets)\n",
    "library(here)\n",
    "library(stringdist)\n",
    "library(tidyverse)\n",
    "here::i_am(\"analysis/db_prep.ipynb\");"
   ]
  },
  {
   "cell_type": "markdown",
   "id": "337a0c71-c546-4cfa-b99b-c00a642cc328",
   "metadata": {},
   "source": [
    "This code is used to upload data onto GitHub using `piggyback` R package\n",
    "```r\n",
    "piggyback::pb_upload(file = here(\"large_files\", \"goldData.xlsx\"), tag = \"0.1\", overwrite = TRUE)\n",
    "```"
   ]
  },
  {
   "cell_type": "code",
   "execution_count": 8,
   "id": "3fea43ab-45a4-49c5-ac24-07c966b2c75e",
   "metadata": {},
   "outputs": [
    {
     "name": "stderr",
     "output_type": "stream",
     "text": [
      "\u001b[1mRows: \u001b[22m\u001b[34m14893\u001b[39m \u001b[1mColumns: \u001b[22m\u001b[34m79\u001b[39m\n",
      "\u001b[36m──\u001b[39m \u001b[1mColumn specification\u001b[22m \u001b[36m──────────────────────────────────────────────────────────────────────────────────────\u001b[39m\n",
      "\u001b[1mDelimiter:\u001b[22m \",\"\n",
      "\u001b[31mchr\u001b[39m (19): species, genus, family, order, class, phylum, superkingdom, gram_s...\n",
      "\u001b[32mdbl\u001b[39m (60): species_tax_id, d1_lo, d1_up, d2_lo, d2_up, doubling_h, genome_siz...\n",
      "\n",
      "\u001b[36mℹ\u001b[39m Use `spec()` to retrieve the full column specification for this data.\n",
      "\u001b[36mℹ\u001b[39m Specify the column types or set `show_col_types = FALSE` to quiet this message.\n"
     ]
    }
   ],
   "source": [
    "base <- read_csv(here(\"data\", \"condensed_species_NCBI.txt\")) %>% \n",
    "    select(species_tax_id, superkingdom, phylum, class, order, family, \n",
    "           genus, species, metabolism, gram_stain, pathways, \n",
    "           carbon_substrates, sporulation, motility, cell_shape) %>% \n",
    "    rename(\"substrate\" = carbon_substrates)"
   ]
  },
  {
   "cell_type": "code",
   "execution_count": 5,
   "id": "2183aa73-b0af-4a4a-91f6-0d65abc201ba",
   "metadata": {},
   "outputs": [
    {
     "name": "stderr",
     "output_type": "stream",
     "text": [
      "Warning message:\n",
      "“One or more parsing issues, see `problems()` for details”\n",
      "\u001b[1mRows: \u001b[22m\u001b[34m428241\u001b[39m \u001b[1mColumns: \u001b[22m\u001b[34m42\u001b[39m\n",
      "\u001b[36m──\u001b[39m \u001b[1mColumn specification\u001b[22m \u001b[36m──────────────────────────────────────────────────────────────────────────────────────\u001b[39m\n",
      "\u001b[1mDelimiter:\u001b[22m \",\"\n",
      "\u001b[31mchr\u001b[39m (35): ORGANISM GOLD ID, ORGANISM NAME, ORGANISM NCBI SUPERKINGDOM, ORGAN...\n",
      "\u001b[32mdbl\u001b[39m  (4): ORGANISM NCBI TAX ID, ORGANISM ISOLATION PUBMED ID, ORGANISM ECOSY...\n",
      "\u001b[33mlgl\u001b[39m  (3): ORGANISM SALINITY CONCENTRATION, ORGANISM PRESSURE, ORGANISM CARBO...\n",
      "\n",
      "\u001b[36mℹ\u001b[39m Use `spec()` to retrieve the full column specification for this data.\n",
      "\u001b[36mℹ\u001b[39m Specify the column types or set `show_col_types = FALSE` to quiet this message.\n"
     ]
    }
   ],
   "source": [
    "pth <- here(\"large_files\", \"goldData.csv\")\n",
    "if (!file.exists(pth)){\n",
    "    piggyback::pb_download(file = \"goldData.xlsx\", dest = here(\"large_files\"), tag = \"0.1\", repo = \"qpmnguyen/microbe_set_trait\")\n",
    "    gold <- readxl::read_xlsx(path = here(\"large_files\", \"goldData.xlsx\"), sheet = \"Organism\")\n",
    "    readr::write_csv(x = gold, file = pth)\n",
    "}\n",
    "gold <- read_csv(file = pth);"
   ]
  },
  {
   "cell_type": "code",
   "execution_count": 7,
   "id": "e3f269bb-e1f4-451f-8e74-cdae17ab60f2",
   "metadata": {},
   "outputs": [
    {
     "data": {
      "text/plain": [
       "\u001b[1mSource: \u001b[22mlocal data table [11,177 x 9]\n",
       "\u001b[1mGroups: \u001b[22mspecies_tax_id, superkingdom, phylum, order, family, genus, species\n",
       "\u001b[1mCall:\u001b[22m\n",
       "  _DT4 <- `_DT3`[, .(species_tax_id, superkingdom, phylum, class, order, family, genus,\n",
       "  _DT4 <-   species, gram_stain, pathways, metabolism, sporulation, motility, cell_shape)][\n",
       "  _DT4 <-   , .(traits = .(.SD)), by = .(species_tax_id, superkingdom, phylum, class,\n",
       "  _DT4 <-     order, family, genus, species)]\n",
       "  `_DT4`[`_DT4`[, .I[map_lgl(traits, ~{\n",
       "    nrow(.x) > 1\n",
       "})], by = .(species_tax_id, superkingdom, phylum, order, family, \n",
       "    genus, species)]$V1]\n",
       "\n",
       "  species_tax_id superkingdom phylum       class      order family genus species\n",
       "           \u001b[3m\u001b[90m<dbl>\u001b[39m\u001b[23m \u001b[3m\u001b[90m<chr>\u001b[39m\u001b[23m        \u001b[3m\u001b[90m<chr>\u001b[39m\u001b[23m        \u001b[3m\u001b[90m<chr>\u001b[39m\u001b[23m      \u001b[3m\u001b[90m<chr>\u001b[39m\u001b[23m \u001b[3m\u001b[90m<chr>\u001b[39m\u001b[23m  \u001b[3m\u001b[90m<chr>\u001b[39m\u001b[23m \u001b[3m\u001b[90m<chr>\u001b[39m\u001b[23m  \n",
       "\u001b[90m1\u001b[39m          \u001b[4m5\u001b[24m\u001b[4m4\u001b[24m005 Bacteria     Firmicutes   Tissierel… Tiss… Pepto… Pept… Pepton…\n",
       "\u001b[90m2\u001b[39m           \u001b[4m1\u001b[24m280 Bacteria     Firmicutes   Bacilli    Baci… Staph… Stap… Staphy…\n",
       "\u001b[90m3\u001b[39m         \u001b[4m4\u001b[24m\u001b[4m6\u001b[24m\u001b[4m4\u001b[24m988 Eukaryota    \u001b[31mNA\u001b[39m           Cryptophy… Cryp… Hemis… Hemi… Hemise…\n",
       "\u001b[90m4\u001b[39m           \u001b[4m5\u001b[24m011 Eukaryota    Ascomycota   Taphrinom… Taph… Taphr… Taph… Taphri…\n",
       "\u001b[90m5\u001b[39m           \u001b[4m5\u001b[24m865 Eukaryota    Apicomplexa  Aconoidas… Piro… Babes… Babe… Babesi…\n",
       "\u001b[90m6\u001b[39m          \u001b[4m2\u001b[24m\u001b[4m9\u001b[24m760 Eukaryota    Streptophyta Magnoliop… Vita… Vitac… Vitis Vitis …\n",
       "\u001b[90m# … with 11,171 more rows, and 1 more variable: traits <list>\u001b[39m\n",
       "\n",
       "\u001b[90m# Use as.data.table()/as.data.frame()/as_tibble() to access results\u001b[39m"
      ]
     },
     "metadata": {},
     "output_type": "display_data"
    }
   ],
   "source": [
    "# convert names \n",
    "colnames(gold) <- colnames(gold) %>% \n",
    "    gsub(x = ., pattern = \" \", replacement = \"_\") %>% \n",
    "    tolower() %>% \n",
    "    gsub(x = ., pattern = \"organism_\", replacement = \"\")\n",
    "\n",
    "\n",
    "gold_reduced <- gold %>% \n",
    "    select(ncbi_tax_id, ncbi_superkingdom,  \n",
    "            ncbi_phylum, ncbi_class, ncbi_order, ncbi_family, ncbi_genus, ncbi_species, \n",
    "            name, gram_stain, metabolism, oxygen_requirement, \n",
    "            sporulation, motility, cell_shape) %>% \n",
    "    rename(\"species_tax_id\" = ncbi_tax_id,\n",
    "           \"superkingdom\" = ncbi_superkingdom,\n",
    "           \"phylum\" = ncbi_phylum,\n",
    "           \"class\" = ncbi_class,\n",
    "           \"order\" = ncbi_order,\n",
    "           \"family\" = ncbi_family,\n",
    "           \"genus\" = ncbi_genus,\n",
    "           \"species\" = ncbi_species,\n",
    "           \"pathways\" = metabolism,\n",
    "           \"metabolism\" = oxygen_requirement) %>% as.data.table()\n",
    "\n",
    "# nest traits \n",
    "tbl <- gold_reduced %>%\n",
    "    select(-name) %>%\n",
    "    group_by(species_tax_id, superkingdom, phylum, order, \n",
    "             family, genus, species) %>%\n",
    "    nest(traits = c(gram_stain, pathways, metabolism, \n",
    "           cell_shape, motility, sporulation))\n",
    "    \n",
    "\n",
    "# a subset of the table that has more than one row per trait nested values \n",
    "tbl_munge <- tbl %>% filter(map_lgl(traits, ~{nrow(.x) > 1}))\n",
    "\n",
    "tbl_munge"
   ]
  },
  {
   "cell_type": "code",
   "execution_count": 8,
   "id": "65abc3cd-34e9-45af-8765-420924248f3d",
   "metadata": {},
   "outputs": [],
   "source": [
    "# This function takes a data frame and a column \n",
    "# and selects the response with the highest frequency\n",
    "select_best <- function(df, column){\n",
    "    vec <- unlist(df[,..column])\n",
    "    freq <- as.data.frame(table(vec))\n",
    "    if (nrow(freq) == 0){\n",
    "        return(NA_character_)\n",
    "    } else {\n",
    "        freq <- freq %>% mutate(prop = Freq/sum(Freq)) %>%\n",
    "            filter(prop >= 0.5) %>% top_n(n = 1, wt = prop)\n",
    "        return(freq %>% pull(vec) %>% as.vector())\n",
    "    }\n",
    "}\n",
    "\n",
    "# This function then utilizes select_best\n",
    "# to process entries with duplicates (more than one row)\n",
    "# for pathways, the goal is to concatenate them\n",
    "process_duplicates <- function(df){\n",
    "    # get only unique rows\n",
    "    df <- unique(df)\n",
    "    if (nrow(df) == 1){\n",
    "        return(df)\n",
    "    }\n",
    "    v <- c(\"gram_stain\", \"pathways\", \"metabolism\", \n",
    "           \"sporulation\", \"motility\", \"cell_shape\")\n",
    "    suppressMessages(res <- map_dfc(v, ~{\n",
    "        if (.x == \"pathways\"){\n",
    "            str_vec <- na.omit(df$pathways) %>% as.vector()\n",
    "            if (length(str_vec) == 0){\n",
    "                out <- NA_character_\n",
    "            } else {\n",
    "                out <- str_replace(str_vec, pattern = \" \", \n",
    "                                   replacement = \"_\") %>% \n",
    "                    paste(collapse = \", \")\n",
    "            }\n",
    "        } else {\n",
    "            out <- select_best(df, .x)\n",
    "        }\n",
    "        return(out)\n",
    "    }))\n",
    "    colnames(res) <- v\n",
    "    res <- as.data.table(res)\n",
    "    return(res)\n",
    "}"
   ]
  },
  {
   "cell_type": "code",
   "execution_count": 9,
   "id": "fe53e875-27f4-4fa7-b65b-0e110a1a0906",
   "metadata": {},
   "outputs": [],
   "source": [
    "tbl_munge <- tbl_munge %>% \n",
    "    mutate(traits = map(traits, process_duplicates)) %>% as_tibble() %>%\n",
    "    unnest(traits)\n",
    "\n",
    "tbl_munge"
   ]
  },
  {
   "cell_type": "code",
   "execution_count": null,
   "id": "f798b661-7e03-4f5a-87e6-f98ae68f73fc",
   "metadata": {},
   "outputs": [],
   "source": [
    "ids <- tbl_munge %>% pull(species_tax_id)\n",
    "\n",
    "gold_final <- tbl %>% filter(!species_tax_id %in% ids) %>% \n",
    "    as_tibble() %>% \n",
    "    unnest(traits) %>% bind_rows(tbl_munge)\n",
    "\n",
    "# final cleaning\n",
    "gold_final <- gold_final %>% \n",
    "    mutate(metabolism = tolower(metabolism), \n",
    "           gram_stain = if_else(gram_stain == \"Gram-\", \"negative\", \"positive\"), \n",
    "           sporulation = if_else(sporulation == \"Nonsporulating\", \"no\", \"yes\"), \n",
    "           motility = case_when(\n",
    "               motility == \"Nonmotile\" ~ \"no\", \n",
    "               motility == \"Motile\" ~ \"yes\", \n",
    "               TRUE ~ motility\n",
    "           ), \n",
    "           cell_shape = tolower(str_replace(cell_shape,\"-shaped\",\"\")),\n",
    "           cell_shape = case_when(\n",
    "               cell_shape %in% c(\"rod\") ~ \"bacillus\",\n",
    "               cell_shape %in% c(\"sphere\", \"oval\", \n",
    "                                 \"bean\", \"coccoid\", \"ovoid\", \n",
    "                                 \"spore\") ~ \"coccus\", \n",
    "               cell_shape %in% c(\"helical\") ~ \"spiral\", \n",
    "               cell_shape %in% c(\"curved\") ~ \"vibrio\", \n",
    "               cell_shape %in% c(\"flask\", \"open-ring\", \"lancet\") ~ \"irregular\", \n",
    "               # only Mycoplasma genitalium for flask and \n",
    "               # only Thiomicrospira cyclica for open-ring\n",
    "               # only Nitrolancea hollandica for lancet\n",
    "               TRUE ~ cell_shape\n",
    "           ))\n",
    "\n",
    "head(gold_final)\n",
    "# pray not to crash\n",
    "rm(gold)\n",
    "rm(gold_reduced)\n",
    "rm(tbl)\n",
    "rm(tbl_munge)\n",
    "gc()"
   ]
  },
  {
   "cell_type": "markdown",
   "id": "6361b335-d30f-4f83-a391-733e1896b083",
   "metadata": {},
   "source": [
    "## Processing Weissman et al.  "
   ]
  },
  {
   "cell_type": "code",
   "execution_count": 10,
   "id": "0f68a3fa-de07-4e16-ab50-7c0a64cfef2a",
   "metadata": {},
   "outputs": [
    {
     "name": "stderr",
     "output_type": "stream",
     "text": [
      "\u001b[1mRows: \u001b[22m\u001b[34m3369\u001b[39m \u001b[1mColumns: \u001b[22m\u001b[34m174\u001b[39m\n",
      "\u001b[36m──\u001b[39m \u001b[1mColumn specification\u001b[22m \u001b[36m──────────────────────────────────────────────────────────────────────────────────────\u001b[39m\n",
      "\u001b[1mDelimiter:\u001b[22m \",\"\n",
      "\u001b[31mchr\u001b[39m  (16): Organism, kingdom, phylum, class, order, family, genus, species, ...\n",
      "\u001b[32mdbl\u001b[39m (158): taxid_kingdom, taxid_phylum, taxid_class, taxid_order, taxid_fami...\n",
      "\n",
      "\u001b[36mℹ\u001b[39m Use `spec()` to retrieve the full column specification for this data.\n",
      "\u001b[36mℹ\u001b[39m Specify the column types or set `show_col_types = FALSE` to quiet this message.\n"
     ]
    }
   ],
   "source": [
    "weissman <- read_csv(here(\"data\", \"weissman.csv\"))\n",
    "\n",
    "# select the relevant columns\n",
    "weissman <- weissman %>% select(c(\"taxid_species\",\n",
    "                                  \"kingdom\", \"phylum\", \"class\", \"order\", \"family\", \"genus\", \"species\",\n",
    "                                  \"Motility_general\", \"Oxygen.Preference\", \"Cell.Shape\", \"Cell.Aggregation\",\n",
    "                                  starts_with(\"Enzyme.Assays\"), \n",
    "                                  starts_with(\"Volatile.Gas.Production\"), \n",
    "                                  starts_with(\"Substrate.Utilization\")))"
   ]
  },
  {
   "cell_type": "code",
   "execution_count": null,
   "id": "e7040e11-1614-4812-8efa-71ad151269aa",
   "metadata": {},
   "outputs": [],
   "source": [
    "weissman <- weissman %>% group_by(taxid_species, kingdom, phylum, \n",
    "                      class, order, family, genus, species) %>%\n",
    "    nest(pathways = starts_with(c(\"Enzyme.Assays\", \"Volatile.Gas.Production\")), \n",
    "         substrate = starts_with(\"Substrate.Utilization\")) %>% ungroup() %>% \n",
    "    mutate(across(where(is.character), ~na_if(., \"0\"))) %>% \n",
    "    rename(\"species_tax_id\" = taxid_species, \"superkingdom\" = kingdom, \n",
    "           \"metabolism\" = Oxygen.Preference,\n",
    "           \"motility\" = Motility_general, \n",
    "           \"cell_shape\" = Cell.Shape, \"cell_aggregation\" = Cell.Aggregation)\n",
    "\n",
    "# motility, cell shape, metabolism\n",
    "weissman$cell_shape %>% unique()\n",
    "\n",
    "weissman <- weissman %>% \n",
    "    mutate(motility = if_else(motility == \"non-motile\", \"yes\", \"no\"), \n",
    "                    cell_shape = case_when(\n",
    "                        cell_shape == \"rod\" ~ \"bacillus\",\n",
    "                        cell_shape == \"ovoid/coccobacillus\" ~ \"coccus\", \n",
    "                        cell_shape == \"spirillum/corkscrew\" ~ \"spiral\",\n",
    "                        TRUE ~ cell_shape\n",
    "                    ), \n",
    "                    metabolism = case_when(\n",
    "                        metabolism == \"microaerophile\" ~ \"microaerophilic\",\n",
    "                        TRUE ~ metabolism\n",
    "                    ), \n",
    "                    metabolism = str_replace(metabolism, \n",
    "                                             pattern = \"obe$\", replacement = \"obic\"))"
   ]
  },
  {
   "cell_type": "code",
   "execution_count": null,
   "id": "2e092ef3-b0c5-42cb-b2bc-501f8813b7c6",
   "metadata": {},
   "outputs": [],
   "source": [
    "#' @param unit A single unit from a list of trait data frames\n",
    "proc_pathways <- function(unit){\n",
    "    string <- unit %>% pivot_longer(everything()) %>% \n",
    "        filter(value != 0)\n",
    "    if (nrow(string) == 0){\n",
    "        return(NA)\n",
    "    } else {\n",
    "        string <- string %>% \n",
    "            mutate(name = str_replace(name, pattern = \"Enzyme.Assays..\", replacement = \"\")) %>%\n",
    "            mutate(name = str_replace(name, pattern = \"Volatile.Gas.Production..\", replacement = \"synthesis_\")) %>%\n",
    "            mutate(name = str_replace(name, pattern = \"\\\\.$\", \"\")) %>%\n",
    "            mutate(name = str_replace(name, pattern = \"\\\\.\\\\.(.*)$\", \"\")) %>%\n",
    "            mutate(name = str_replace_all(name, pattern = \"\\\\.\", \"_\")) %>% \n",
    "            rowwise() %>%\n",
    "            mutate(name = if_else(str_detect(name, \"synthesis_\"), \n",
    "                                  true = paste(rev(str_split(name, pattern = \"_\", \n",
    "                                                             n = 2)[[1]]), \n",
    "                                               collapse = \"_\"),\n",
    "                                  false = name)) %>% \n",
    "            ungroup() %>%\n",
    "            pull(name) %>% paste(., collapse = \", \")\n",
    "    }\n",
    "        \n",
    "    return(string)\n",
    "}\n",
    "\n",
    "proc_substrate <- function(unit){\n",
    "    string <- unit %>% pivot_longer(everything()) %>% filter(value != 0)\n",
    "    if (nrow(string) == 0){\n",
    "        return(NA)\n",
    "    } else {\n",
    "        string <- string %>% mutate(name = str_split(name, pattern = \"\\\\.\\\\.\", \n",
    "                                           n = 2, simplify = TRUE)[,2]) %>%\n",
    "            mutate(name = str_replace(name, \"(\\\\.\\\\.|\\\\.)$\", \"\")) %>% \n",
    "            mutate(name = str_replace_all(name, \"(\\\\.\\\\.|\\\\.)\", \"_\")) %>% \n",
    "            pull(name) %>% paste(., collapse = \", \")\n",
    "    }\n",
    "    return(string)\n",
    "}\n"
   ]
  },
  {
   "cell_type": "code",
   "execution_count": null,
   "id": "32eef30c-8a7b-4cdd-894c-5846fc9e5aaf",
   "metadata": {},
   "outputs": [],
   "source": [
    "substr <- map_chr(weissman$substrate, proc_substrate)\n",
    "pthway <- map_chr(weissman$pathways, proc_pathways)\n",
    "\n",
    "weissman <- weissman %>% select(-c(pathways, substrate)) %>% \n",
    "  mutate(substrate = substr, pathways = pthway)"
   ]
  },
  {
   "cell_type": "markdown",
   "id": "7176929f-21e8-4cbf-b0aa-f17abfbe0a95",
   "metadata": {},
   "source": [
    "## Checking for duplicates"
   ]
  },
  {
   "cell_type": "code",
   "execution_count": null,
   "id": "486b46a6-0635-4839-b69c-a1f63f0bdbc7",
   "metadata": {},
   "outputs": [],
   "source": [
    "check_matches <- function(df, type=c(\"pathways\",\"substrates\")){\n",
    "    b_val <- base %>% pull(!!type) %>% unique() %>% str_split(pattern = \", \") %>%\n",
    "        unlist() %>% unique() %>% na.omit() %>% as.vector()\n",
    "    \n",
    "    q_val <- df %>% pull(!!type) %>% unique() %>% str_split(pattern = \", \") %>% \n",
    "        unlist() %>% unique() %>% na.omit() %>% as.vector()\n",
    "    \n",
    "    check <- map(q_val, ~{\n",
    "        match <- stringdist(a = .x, b = b_val)\n",
    "        # match 0 is the same, and match > 2 is too different \n",
    "        ret <- b_val[match > 0 & match <= 2]\n",
    "        if (length(ret) == 0){\n",
    "            return(NA)\n",
    "        } else {\n",
    "            out <- tibble(\n",
    "                query = rep(.x, length(ret)),\n",
    "                ref = ret\n",
    "            )\n",
    "        }\n",
    "    })\n",
    "    check <- check[!sapply(check, function(x) all(is.na(x)))]\n",
    "    \n",
    "    return(check)\n",
    "}"
   ]
  },
  {
   "cell_type": "code",
   "execution_count": null,
   "id": "cffde190-4627-4bcb-a1f4-1944d087c73a",
   "metadata": {},
   "outputs": [],
   "source": [
    "Reduce(check_matches(weissman, \"pathways\"), f = rbind)\n",
    "Reduce(check_matches(weissman, \"substrate\"), f = rbind)"
   ]
  },
  {
   "cell_type": "code",
   "execution_count": null,
   "id": "4df57ee5-53a6-47e7-ae7b-53d1348ec0d2",
   "metadata": {},
   "outputs": [],
   "source": [
    "Reduce(check_matches(gold_final, \"pathways\"), f = rbind)"
   ]
  },
  {
   "cell_type": "code",
   "execution_count": null,
   "id": "49c300c6-c2ec-4908-b7ff-b0d585ba2a72",
   "metadata": {},
   "outputs": [],
   "source": [
    "trim_path <- function(vec){\n",
    "    vec <- vec %>% tolower() %>% \n",
    "        str_split(pattern = \"(, |\\\\|)\") %>% \n",
    "        map(~{\n",
    "            str_trim(.x) %>% str_replace_all(\"\\\\-\", \"\") %>%\n",
    "                str_replace_all(\" \", \"_\") %>% unique()\n",
    "        })\n",
    "    return(vec)\n",
    "}\n",
    "\n",
    "\n",
    "gold_final$pathways <- trim_path(gold_final$pathways)\n",
    "base$pathways <- trim_path(base$pathways)\n",
    "weissman$pathways <- trim_path(weissman$pathways)\n",
    "weissman$substrate <- trim_path(weissman$substrate)\n",
    "base$substrate <- trim_path(base$substrate)"
   ]
  },
  {
   "cell_type": "markdown",
   "id": "8e443012-7910-4907-a713-816fec4f7713",
   "metadata": {},
   "source": [
    "## Combine all data frames"
   ]
  },
  {
   "cell_type": "code",
   "execution_count": null,
   "id": "baee5fcb-8847-4fd4-a168-51c9286cc010",
   "metadata": {},
   "outputs": [],
   "source": [
    "complete <- bind_rows(\n",
    "    base %>% mutate(source = \"madin\"), \n",
    "    gold_final %>% mutate(source = \"gold\"), \n",
    "    weissman %>% mutate(source = \"weissman\")\n",
    ")\n",
    "\n",
    "tally <- complete %>% filter(!is.na(species)) %>% \n",
    "    group_by(species_tax_id, superkingdom, phylum, class, order, \n",
    "             family, genus, species) %>% \n",
    "    tally()\n",
    "\n",
    "\n",
    "multiple_rows <- tally %>% filter(n >= 2) %>% pull(species_tax_id)\n",
    "\n",
    "reconcile <- complete %>% filter(species_tax_id %in% multiple_rows)\n",
    "\n",
    "reconcile <- reconcile %>% group_by(species_tax_id, superkingdom, phylum, class, order,\n",
    "                       family, genus, species, metabolism) %>%\n",
    "    nest(data = c(metabolism, gram_stain, pathways, substrate, sporulation, motility, cell_shape, cell_aggregation, source)) %>% ungroup()"
   ]
  },
  {
   "cell_type": "code",
   "execution_count": null,
   "id": "c6946fce-d594-44d2-bd52-415b8e7e234e",
   "metadata": {},
   "outputs": [],
   "source": [
    "#' @param df This is a data frame of multiple columns, where the columns of \n",
    "#'     pathways and substrates are themselves lists \n",
    "collapse_trait <- function(df){\n",
    "    nonlist <- c(\"metabolism\", \"gram_stain\", \"sporulation\", \"motility\", \n",
    "                 \"cell_shape\", \"cell_aggregation\")    \n",
    "    out <- suppressMessages(map_dfc(nonlist, ~{\n",
    "        traits <- df %>% pull(.x)\n",
    "        traits <- as.data.frame(table(traits))\n",
    "        if (nrow(traits) >= 1){\n",
    "            return(traits %>% \n",
    "                       mutate(prop = Freq/sum(Freq)) %>%\n",
    "                       filter(prop == max(prop) & prop >= 0.5) %>% \n",
    "                       pull(traits) %>% as.vector()\n",
    "            )\n",
    "        } else {\n",
    "            return(NA_character_)\n",
    "        }\n",
    "    }))\n",
    "    names(out) <- nonlist\n",
    "    out$pathways <- list(df %>% pull(\"pathways\") %>% \n",
    "                             Reduce(f = c, x = .) %>% unique())\n",
    "    out$substrate <- list(df %>% pull(\"substrate\") %>% \n",
    "                              Reduce(f = c, x = .) %>% \n",
    "                              unique())\n",
    "    return(out)\n",
    "}\n",
    "\n",
    "reconcile <- reconcile %>% mutate(traits = map(data, collapse_trait)) %>% \n",
    "    select(-data)"
   ]
  },
  {
   "cell_type": "code",
   "execution_count": null,
   "id": "b687ec7b-088a-49e6-aea8-d1dcb497534c",
   "metadata": {},
   "outputs": [],
   "source": [
    "complete <- bind_rows(reconcile %>% unnest(traits), \n",
    "          complete %>% filter(!species_tax_id %in% multiple_rows))\n",
    "\n",
    "saveRDS(complete, file = here(\"output\", \"db_merged.rds\"))\n",
    "complete %>% mutate(\n",
    "    pathways = map_chr(pathways, ~{\n",
    "        paste(.x, collapse = \", \")\n",
    "    }), \n",
    "    substrate = map_chr(substrate, ~{\n",
    "        paste(.x, collapse = \", \")\n",
    "    })\n",
    ") %>% write_csv(x = ., file = here(\"output\", \"db_merged.csv\"))"
   ]
  }
 ],
 "metadata": {
  "kernelspec": {
   "display_name": "R",
   "language": "R",
   "name": "ir"
  },
  "language_info": {
   "codemirror_mode": "r",
   "file_extension": ".r",
   "mimetype": "text/x-r-source",
   "name": "R",
   "pygments_lexer": "r",
   "version": "4.1.2"
  }
 },
 "nbformat": 4,
 "nbformat_minor": 5
}
