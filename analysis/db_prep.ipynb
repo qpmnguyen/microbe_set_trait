{
 "cells": [
  {
   "cell_type": "markdown",
   "id": "816fc472",
   "metadata": {},
   "source": [
    "# Converting and updating the main trait database"
   ]
  },
  {
   "cell_type": "markdown",
   "id": "7b8fb872",
   "metadata": {},
   "source": [
    "Last Updated: 2022-04-05  \n",
    "Quang Nguyen"
   ]
  },
  {
   "cell_type": "markdown",
   "id": "2da06ad9",
   "metadata": {},
   "source": [
    "The role of this script is to take raw tables from Madin et al. and Weissman et al. and merge them. Additionally, include the updated version of the GOLD data set as well. \n",
    "\n",
    "We're prepping the latest database for export for evaluation. For this manuscript, we're merging a couple of existing databases:  \n",
    "\n",
    "1. The comprehensive synthesis of trait-database from [Madin et al. 2020](https://www.ncbi.nlm.nih.gov/pmc/articles/PMC7275036/). This database was last updated in 2020. Most of the database's sources are static sources, with the exception of the [GOLD database](https://gold.jgi.doe.gov/downloads). As such, we're merging the existing release of the Madin et al. database with the most recent GOLD release (2022-03-12).  \n",
    "2. Manual curation of bergey's manual by [Weissman et al.](https://bmcbioinformatics.biomedcentral.com/articles/10.1186/s12859-021-04216-2). This database contains manual curation of the Bergey's manual specific to human-associated microbiomes.   \n",
    "\n",
    "The way we're trying to combine these disparate sources would be to perform something similar to Madin et al. using the [R code](https://github.com/bacteria-archaea-traits/bacteria-archaea-traits/blob/master/R/functions.R) on GitHub. We're going to apply relevant transformations and mappings where apply.  "
   ]
  },
  {
   "cell_type": "code",
   "execution_count": 1,
   "id": "f17afacb",
   "metadata": {},
   "outputs": [
    {
     "name": "stderr",
     "output_type": "stream",
     "text": [
      "here() starts at /dartfs-hpc/rc/home/k/f00345k/research/microbe_set_trait\n",
      "\n",
      "── \u001b[1mAttaching packages\u001b[22m ─────────────────────────────────────── tidyverse 1.3.1 ──\n",
      "\n",
      "\u001b[32m✔\u001b[39m \u001b[34mggplot2\u001b[39m 3.3.5     \u001b[32m✔\u001b[39m \u001b[34mpurrr  \u001b[39m 0.3.4\n",
      "\u001b[32m✔\u001b[39m \u001b[34mtibble \u001b[39m 3.1.6     \u001b[32m✔\u001b[39m \u001b[34mdplyr  \u001b[39m 1.0.8\n",
      "\u001b[32m✔\u001b[39m \u001b[34mtidyr  \u001b[39m 1.2.0     \u001b[32m✔\u001b[39m \u001b[34mstringr\u001b[39m 1.4.0\n",
      "\u001b[32m✔\u001b[39m \u001b[34mreadr  \u001b[39m 2.1.2     \u001b[32m✔\u001b[39m \u001b[34mforcats\u001b[39m 0.5.1\n",
      "\n",
      "── \u001b[1mConflicts\u001b[22m ────────────────────────────────────────── tidyverse_conflicts() ──\n",
      "\u001b[31m✖\u001b[39m \u001b[34mdplyr\u001b[39m::\u001b[32mbetween()\u001b[39m   masks \u001b[34mdata.table\u001b[39m::between()\n",
      "\u001b[31m✖\u001b[39m \u001b[34mtidyr\u001b[39m::\u001b[32mextract()\u001b[39m   masks \u001b[34mstringdist\u001b[39m::extract()\n",
      "\u001b[31m✖\u001b[39m \u001b[34mdplyr\u001b[39m::\u001b[32mfilter()\u001b[39m    masks \u001b[34mstats\u001b[39m::filter()\n",
      "\u001b[31m✖\u001b[39m \u001b[34mdplyr\u001b[39m::\u001b[32mfirst()\u001b[39m     masks \u001b[34mdata.table\u001b[39m::first()\n",
      "\u001b[31m✖\u001b[39m \u001b[34mdplyr\u001b[39m::\u001b[32mlag()\u001b[39m       masks \u001b[34mstats\u001b[39m::lag()\n",
      "\u001b[31m✖\u001b[39m \u001b[34mdplyr\u001b[39m::\u001b[32mlast()\u001b[39m      masks \u001b[34mdata.table\u001b[39m::last()\n",
      "\u001b[31m✖\u001b[39m \u001b[34mpurrr\u001b[39m::\u001b[32mtranspose()\u001b[39m masks \u001b[34mdata.table\u001b[39m::transpose()\n",
      "\n",
      "here() starts at /dartfs-hpc/rc/home/k/f00345k/research/microbe_set_trait\n",
      "\n"
     ]
    }
   ],
   "source": [
    "library(piggyback)\n",
    "library(data.table)\n",
    "library(dtplyr)\n",
    "library(targets)\n",
    "library(here)\n",
    "library(stringdist)\n",
    "library(tidyverse)\n",
    "here::i_am(\"analysis/db_prep.ipynb\");\n",
    "setDTthreads(4)"
   ]
  },
  {
   "cell_type": "markdown",
   "id": "9fbe86d4",
   "metadata": {},
   "source": [
    "This code is used to upload data onto GitHub using `piggyback` R package\n",
    "```r\n",
    "piggyback::pb_upload(file = here(\"large_files\", \"goldData.xlsx\"), tag = \"0.1\", overwrite = TRUE)\n",
    "```"
   ]
  },
  {
   "cell_type": "markdown",
   "id": "257d5f78",
   "metadata": {},
   "source": [
    "## Analysis"
   ]
  },
  {
   "cell_type": "code",
   "execution_count": 2,
   "id": "a3a213c9",
   "metadata": {},
   "outputs": [
    {
     "name": "stderr",
     "output_type": "stream",
     "text": [
      "\u001b[1mRows: \u001b[22m\u001b[34m14893\u001b[39m \u001b[1mColumns: \u001b[22m\u001b[34m79\u001b[39m\n",
      "\u001b[36m──\u001b[39m \u001b[1mColumn specification\u001b[22m \u001b[36m────────────────────────────────────────────────────────\u001b[39m\n",
      "\u001b[1mDelimiter:\u001b[22m \",\"\n",
      "\u001b[31mchr\u001b[39m (19): species, genus, family, order, class, phylum, superkingdom, gram_s...\n",
      "\u001b[32mdbl\u001b[39m (60): species_tax_id, d1_lo, d1_up, d2_lo, d2_up, doubling_h, genome_siz...\n",
      "\n",
      "\u001b[36mℹ\u001b[39m Use `spec()` to retrieve the full column specification for this data.\n",
      "\u001b[36mℹ\u001b[39m Specify the column types or set `show_col_types = FALSE` to quiet this message.\n"
     ]
    }
   ],
   "source": [
    "base <- read_csv(here(\"data\", \"condensed_species_NCBI.txt\")) %>% \n",
    "    select(species_tax_id, superkingdom, phylum, class, order, family, \n",
    "           genus, species, metabolism, gram_stain, pathways, \n",
    "           carbon_substrates, sporulation, motility, cell_shape) %>% \n",
    "    rename(\"substrate\" = carbon_substrates)"
   ]
  },
  {
   "cell_type": "markdown",
   "id": "cd65d7d5",
   "metadata": {},
   "source": [
    "### GOLD data processing"
   ]
  },
  {
   "cell_type": "markdown",
   "id": "83c74e99",
   "metadata": {},
   "source": [
    "Let's process GOLD. First, load data from `piggyback` (this is cached). Script follows existing processing pipeline [here](https://github.com/bacteria-archaea-traits/bacteria-archaea-traits/blob/master/R/preparation/gold.R) from Madin et al.  "
   ]
  },
  {
   "cell_type": "code",
   "execution_count": 3,
   "id": "52ddf4ad",
   "metadata": {},
   "outputs": [
    {
     "name": "stderr",
     "output_type": "stream",
     "text": [
      "Warning message:\n",
      "“One or more parsing issues, see `problems()` for details”\n",
      "\u001b[1mRows: \u001b[22m\u001b[34m428241\u001b[39m \u001b[1mColumns: \u001b[22m\u001b[34m42\u001b[39m\n",
      "\u001b[36m──\u001b[39m \u001b[1mColumn specification\u001b[22m \u001b[36m────────────────────────────────────────────────────────\u001b[39m\n",
      "\u001b[1mDelimiter:\u001b[22m \",\"\n",
      "\u001b[31mchr\u001b[39m (35): ORGANISM GOLD ID, ORGANISM NAME, ORGANISM NCBI SUPERKINGDOM, ORGAN...\n",
      "\u001b[32mdbl\u001b[39m  (4): ORGANISM NCBI TAX ID, ORGANISM ISOLATION PUBMED ID, ORGANISM ECOSY...\n",
      "\u001b[33mlgl\u001b[39m  (3): ORGANISM SALINITY CONCENTRATION, ORGANISM PRESSURE, ORGANISM CARBO...\n",
      "\n",
      "\u001b[36mℹ\u001b[39m Use `spec()` to retrieve the full column specification for this data.\n",
      "\u001b[36mℹ\u001b[39m Specify the column types or set `show_col_types = FALSE` to quiet this message.\n"
     ]
    }
   ],
   "source": [
    "pth <- here(\"large_files\", \"goldData.csv\")\n",
    "if (!file.exists(pth)){\n",
    "    piggyback::pb_download(file = \"goldData.xlsx\", dest = here(\"large_files\"), tag = \"0.1\", repo = \"qpmnguyen/microbe_set_trait\")\n",
    "    gold <- readxl::read_xlsx(path = here(\"large_files\", \"goldData.xlsx\"), sheet = \"Organism\")\n",
    "    readr::write_csv(x = gold, file = pth)\n",
    "}\n",
    "gold <- read_csv(file = pth);"
   ]
  },
  {
   "cell_type": "markdown",
   "id": "67a9784c",
   "metadata": {},
   "source": [
    "We convert all column names to lower case and replace spaces with `_`. We also rename all columns to be similar to the original base database from Madin et al. Finally, we nest all relevant traits into a column called `traits`"
   ]
  },
  {
   "cell_type": "code",
   "execution_count": 4,
   "id": "10cedb22",
   "metadata": {},
   "outputs": [],
   "source": [
    "# convert names \n",
    "colnames(gold) <- colnames(gold) %>% \n",
    "    gsub(x = ., pattern = \" \", replacement = \"_\") %>% \n",
    "    tolower() %>% \n",
    "    gsub(x = ., pattern = \"organism_\", replacement = \"\")\n",
    "\n",
    "\n",
    "gold_reduced <- gold %>% \n",
    "    select(ncbi_tax_id, ncbi_superkingdom,  \n",
    "            ncbi_phylum, ncbi_class, ncbi_order, ncbi_family, ncbi_genus, ncbi_species, \n",
    "            name, gram_stain, metabolism, oxygen_requirement, \n",
    "            sporulation, motility, cell_shape) %>% \n",
    "    rename(\"species_tax_id\" = ncbi_tax_id,\n",
    "           \"superkingdom\" = ncbi_superkingdom,\n",
    "           \"phylum\" = ncbi_phylum,\n",
    "           \"class\" = ncbi_class,\n",
    "           \"order\" = ncbi_order,\n",
    "           \"family\" = ncbi_family,\n",
    "           \"genus\" = ncbi_genus,\n",
    "           \"species\" = ncbi_species,\n",
    "           \"pathways\" = metabolism,\n",
    "           \"metabolism\" = oxygen_requirement) %>% \n",
    "    mutate(metabolism = tolower(metabolism), \n",
    "           gram_stain = if_else(gram_stain == \"Gram-\", \"negative\", \"positive\"), \n",
    "           sporulation = if_else(sporulation == \"Nonsporulating\", \"no\", \"yes\"), \n",
    "           motility = case_when(\n",
    "               motility == \"Nonmotile\" ~ \"no\", \n",
    "               motility == \"Motile\" ~ \"yes\", \n",
    "               TRUE ~ motility\n",
    "           ), \n",
    "           cell_shape = tolower(str_replace(cell_shape,\"-shaped\",\"\")),\n",
    "           cell_shape = case_when(\n",
    "               cell_shape %in% c(\"rod\") ~ \"bacillus\",\n",
    "               cell_shape %in% c(\"sphere\", \"oval\", \n",
    "                                 \"bean\", \"coccoid\", \"ovoid\", \n",
    "                                 \"spore\", \"Coccus-shaped\") ~ \"coccus\", \n",
    "               cell_shape %in% c(\"helical\") ~ \"spiral\", \n",
    "               cell_shape %in% c(\"curved\") ~ \"vibrio\", \n",
    "               cell_shape %in% c(\"flask\", \"open-ring\", \"lancet\") ~ \"irregular\", \n",
    "               # only Mycoplasma genitalium for flask \n",
    "               # only Thiomicrospira cyclica for open-ring\n",
    "               # only Nitrolancea hollandica for lancet\n",
    "               TRUE ~ cell_shape\n",
    "           )) %>% \n",
    "    as.data.table()"
   ]
  },
  {
   "cell_type": "code",
   "execution_count": 5,
   "id": "6b773dd0",
   "metadata": {},
   "outputs": [
    {
     "data": {
      "text/plain": [
       "\u001b[1mSource: \u001b[22mlocal data table [11,177 x 9]\n",
       "\u001b[1mGroups: \u001b[22mspecies_tax_id, superkingdom, phylum, class, order, family, genus, species\n",
       "\u001b[1mCall:\u001b[22m\n",
       "  _DT2 <- `_DT1`[, .(species_tax_id, superkingdom, phylum, class, order, family, genus,\n",
       "  _DT2 <-   species, gram_stain, pathways, metabolism, sporulation, motility, cell_shape)][\n",
       "  _DT2 <-   , .(traits = .(.SD)), by = .(species_tax_id, superkingdom, phylum, class,\n",
       "  _DT2 <-     order, family, genus, species)]\n",
       "  na.omit(`_DT2`[`_DT2`[, .I[map_lgl(traits, ~{\n",
       "    nrow(.x) > 1\n",
       "})], by = .(species_tax_id, superkingdom, phylum, class, order, \n",
       "    family, genus, species)]$V1], cols = \"species_tax_id\")\n",
       "\n",
       "  species_tax_id superkingdom phylum       class      order family genus species\n",
       "           \u001b[3m\u001b[90m<dbl>\u001b[39m\u001b[23m \u001b[3m\u001b[90m<chr>\u001b[39m\u001b[23m        \u001b[3m\u001b[90m<chr>\u001b[39m\u001b[23m        \u001b[3m\u001b[90m<chr>\u001b[39m\u001b[23m      \u001b[3m\u001b[90m<chr>\u001b[39m\u001b[23m \u001b[3m\u001b[90m<chr>\u001b[39m\u001b[23m  \u001b[3m\u001b[90m<chr>\u001b[39m\u001b[23m \u001b[3m\u001b[90m<chr>\u001b[39m\u001b[23m  \n",
       "\u001b[90m1\u001b[39m          \u001b[4m5\u001b[24m\u001b[4m4\u001b[24m005 Bacteria     Firmicutes   Tissierel… Tiss… Pepto… Pept… Pepton…\n",
       "\u001b[90m2\u001b[39m           \u001b[4m1\u001b[24m280 Bacteria     Firmicutes   Bacilli    Baci… Staph… Stap… Staphy…\n",
       "\u001b[90m3\u001b[39m         \u001b[4m4\u001b[24m\u001b[4m6\u001b[24m\u001b[4m4\u001b[24m988 Eukaryota    \u001b[31mNA\u001b[39m           Cryptophy… Cryp… Hemis… Hemi… Hemise…\n",
       "\u001b[90m4\u001b[39m           \u001b[4m5\u001b[24m011 Eukaryota    Ascomycota   Taphrinom… Taph… Taphr… Taph… Taphri…\n",
       "\u001b[90m5\u001b[39m           \u001b[4m5\u001b[24m865 Eukaryota    Apicomplexa  Aconoidas… Piro… Babes… Babe… Babesi…\n",
       "\u001b[90m6\u001b[39m          \u001b[4m2\u001b[24m\u001b[4m9\u001b[24m760 Eukaryota    Streptophyta Magnoliop… Vita… Vitac… Vitis Vitis …\n",
       "\u001b[90m# … with 11,171 more rows, and 1 more variable: traits <list>\u001b[39m\n",
       "\n",
       "\u001b[90m# Use as.data.table()/as.data.frame()/as_tibble() to access results\u001b[39m"
      ]
     },
     "metadata": {},
     "output_type": "display_data"
    }
   ],
   "source": [
    "# nest traits \n",
    "tbl <- gold_reduced %>%\n",
    "    select(-name) %>%\n",
    "    group_by(species_tax_id, superkingdom, phylum, class, order, \n",
    "             family, genus, species) %>%\n",
    "    nest(traits = c(gram_stain, pathways, metabolism, \n",
    "           cell_shape, motility, sporulation))\n",
    "    \n",
    "\n",
    "# a subset of the table that has more than one row per trait nested values \n",
    "tbl_munge <- tbl %>% filter(map_lgl(traits, ~{nrow(.x) > 1})) %>% drop_na(species_tax_id)\n",
    "tbl_munge"
   ]
  },
  {
   "cell_type": "markdown",
   "id": "25e39c1e",
   "metadata": {},
   "source": [
    "`tbl_munge` is a subset of the GOLD database where more than one row of traits for each species identifier (presumably conflicting information or due to multiple strains within species). Within this, for `gram_stain`, `metabolism`, `sporulation`, `motility`, and `cell_shape`, the trait for the species will be the top trait, assuming that trait is represented more than 50\\% of the rows. A lof of the times, the trait vectors are actually identical and we're merely collapsing duplicates. For `pathways` we simply append all the relevant pathways and then return only the uniquely identified ones. "
   ]
  },
  {
   "cell_type": "code",
   "execution_count": 6,
   "id": "dc8b9afe",
   "metadata": {},
   "outputs": [],
   "source": [
    "# This function takes a data frame and a column \n",
    "# and selects the response with the highest frequency\n",
    "select_best <- function(df, column){\n",
    "    vec <- unlist(df[,..column])\n",
    "    freq <- as.data.frame(table(vec))\n",
    "    if (nrow(freq) == 0){\n",
    "        return(NA_character_)\n",
    "    } else {\n",
    "        freq <- freq %>% mutate(prop = Freq/sum(Freq)) %>%\n",
    "            filter(prop > 0.5) %>% top_n(n = 1, wt = prop)\n",
    "        return(freq %>% pull(vec) %>% as.vector())\n",
    "    }\n",
    "}\n",
    "\n",
    "# This function then utilizes select_best\n",
    "# to process entries with duplicates (more than one row)\n",
    "# for pathways, the goal is to concatenate them\n",
    "process_duplicates <- function(df){\n",
    "    # get only unique rows\n",
    "    df <- unique(df)\n",
    "    if (nrow(df) == 1){\n",
    "        return(df)\n",
    "    }\n",
    "    v <- c(\"gram_stain\", \"pathways\", \"metabolism\", \n",
    "           \"sporulation\", \"motility\", \"cell_shape\")\n",
    "    suppressMessages(res <- map_dfc(v, ~{\n",
    "        if (.x == \"pathways\"){\n",
    "            str_vec <- na.omit(df$pathways) %>% as.vector()\n",
    "            if (length(str_vec) == 0){\n",
    "                out <- NA_character_\n",
    "            } else {\n",
    "                out <- str_replace(str_vec, pattern = \" \", \n",
    "                                   replacement = \"_\") %>% \n",
    "                    paste(collapse = \", \")\n",
    "            }\n",
    "        } else {\n",
    "            out <- select_best(df, .x)\n",
    "        }\n",
    "        return(out)\n",
    "    }))\n",
    "    colnames(res) <- v\n",
    "    res <- as.data.table(res)\n",
    "    return(res)\n",
    "}"
   ]
  },
  {
   "cell_type": "code",
   "execution_count": 7,
   "id": "e6cb3478",
   "metadata": {},
   "outputs": [
    {
     "data": {
      "text/plain": [
       "\u001b[1mSource: \u001b[22mlocal data table [6 x 9]\n",
       "\u001b[1mGroups: \u001b[22mspecies_tax_id, superkingdom, phylum, class, order, family, genus, species\n",
       "\u001b[1mCall:\u001b[22m\n",
       "  _DT2 <- `_DT1`[, .(species_tax_id, superkingdom, phylum, class, order, family, genus,\n",
       "  _DT2 <-   species, gram_stain, pathways, metabolism, sporulation, motility, cell_shape)][\n",
       "  _DT2 <-   , .(traits = .(.SD)), by = .(species_tax_id, superkingdom, phylum, class,\n",
       "  _DT2 <-     order, family, genus, species)]\n",
       "  head(na.omit(`_DT2`[`_DT2`[, .I[map_lgl(traits, ~{\n",
       "    nrow(.x) > 1\n",
       "})], by = .(species_tax_id, superkingdom, phylum, class, order, \n",
       "    family, genus, species)]$V1], cols = \"species_tax_id\")[, \n",
       "    `:=`(traits = map(traits, ..process_duplicates)), by = .(species_tax_id, \n",
       "        superkingdom, phylum, class, order, family, genus, species)], \n",
       "    n = 6L)\n",
       "\n",
       "  species_tax_id superkingdom phylum       class      order family genus species\n",
       "           \u001b[3m\u001b[90m<dbl>\u001b[39m\u001b[23m \u001b[3m\u001b[90m<chr>\u001b[39m\u001b[23m        \u001b[3m\u001b[90m<chr>\u001b[39m\u001b[23m        \u001b[3m\u001b[90m<chr>\u001b[39m\u001b[23m      \u001b[3m\u001b[90m<chr>\u001b[39m\u001b[23m \u001b[3m\u001b[90m<chr>\u001b[39m\u001b[23m  \u001b[3m\u001b[90m<chr>\u001b[39m\u001b[23m \u001b[3m\u001b[90m<chr>\u001b[39m\u001b[23m  \n",
       "\u001b[90m1\u001b[39m          \u001b[4m5\u001b[24m\u001b[4m4\u001b[24m005 Bacteria     Firmicutes   Tissierel… Tiss… Pepto… Pept… Pepton…\n",
       "\u001b[90m2\u001b[39m           \u001b[4m1\u001b[24m280 Bacteria     Firmicutes   Bacilli    Baci… Staph… Stap… Staphy…\n",
       "\u001b[90m3\u001b[39m         \u001b[4m4\u001b[24m\u001b[4m6\u001b[24m\u001b[4m4\u001b[24m988 Eukaryota    \u001b[31mNA\u001b[39m           Cryptophy… Cryp… Hemis… Hemi… Hemise…\n",
       "\u001b[90m4\u001b[39m           \u001b[4m5\u001b[24m011 Eukaryota    Ascomycota   Taphrinom… Taph… Taphr… Taph… Taphri…\n",
       "\u001b[90m5\u001b[39m           \u001b[4m5\u001b[24m865 Eukaryota    Apicomplexa  Aconoidas… Piro… Babes… Babe… Babesi…\n",
       "\u001b[90m6\u001b[39m          \u001b[4m2\u001b[24m\u001b[4m9\u001b[24m760 Eukaryota    Streptophyta Magnoliop… Vita… Vitac… Vitis Vitis …\n",
       "\u001b[90m# … with 1 more variable: traits <list>\u001b[39m\n",
       "\n",
       "\u001b[90m# Use as.data.table()/as.data.frame()/as_tibble() to access results\u001b[39m"
      ]
     },
     "metadata": {},
     "output_type": "display_data"
    }
   ],
   "source": [
    "tbl_munge_proc <- tbl_munge %>% \n",
    "    mutate(traits = map(traits, process_duplicates)) \n",
    "\n",
    "head(tbl_munge_proc)"
   ]
  },
  {
   "cell_type": "markdown",
   "id": "fa56223c",
   "metadata": {},
   "source": [
    "We merge by extracting the `species_tax_id` column out of `tbl`, remove all rows with that identifier and then replace that with those from the `tbl_munge` database. We also process some of the trait names themselves and attempt to unify it according to the nomenclature stated in Madin et al. base database. "
   ]
  },
  {
   "cell_type": "code",
   "execution_count": null,
   "id": "1c300f43",
   "metadata": {},
   "outputs": [],
   "source": [
    "ids <- tbl_munge_proc %>% pull(species_tax_id)\n",
    "\n",
    "gold_final <- tbl %>% filter(!species_tax_id %in% ids) %>% \n",
    "    bind_rows(tbl_munge_proc) %>% \n",
    "    as_tibble() %>% \n",
    "    unnest(traits) %>% bind_rows(tbl_munge_proc)\n",
    "\n",
    "\n",
    "head(gold_final)"
   ]
  },
  {
   "cell_type": "code",
   "execution_count": null,
   "id": "94147723",
   "metadata": {},
   "outputs": [],
   "source": [
    "# cleaning\n",
    "# pray not to crash\n",
    "rm(gold)\n",
    "rm(gold_reduced)\n",
    "rm(tbl)\n",
    "rm(tbl_munge)\n",
    "gc()"
   ]
  },
  {
   "cell_type": "code",
   "execution_count": null,
   "id": "a231f4e7",
   "metadata": {},
   "outputs": [],
   "source": [
    "test_df <- tbl_munge %>% filter(species_tax_id == \"1280\") %>% as_tibble() %>% pull(traits) %>% .[[1]]"
   ]
  },
  {
   "cell_type": "code",
   "execution_count": null,
   "id": "6a02d0a6",
   "metadata": {},
   "outputs": [],
   "source": [
    "gold_final %>% tbl"
   ]
  },
  {
   "cell_type": "markdown",
   "id": "a9f009b9",
   "metadata": {},
   "source": [
    "## Processing Weissman et al.  "
   ]
  },
  {
   "cell_type": "code",
   "execution_count": null,
   "id": "a1eded3d",
   "metadata": {},
   "outputs": [],
   "source": [
    "weissman <- read_csv(here(\"data\", \"weissman.csv\"))\n",
    "\n",
    "# select the relevant columns\n",
    "weissman <- weissman %>% select(c(\"taxid_species\",\n",
    "                                  \"kingdom\", \"phylum\", \"class\", \"order\", \"family\", \"genus\", \"species\",\n",
    "                                  \"Motility_general\", \"Oxygen.Preference\", \"Cell.Shape\", \"Cell.Aggregation\",\n",
    "                                  starts_with(\"Enzyme.Assays\"), \n",
    "                                  starts_with(\"Volatile.Gas.Production\"), \n",
    "                                  starts_with(\"Substrate.Utilization\")))"
   ]
  },
  {
   "cell_type": "markdown",
   "id": "8467a427",
   "metadata": {},
   "source": [
    "Here, we're going to re-format it similar to Madin et al. `Enzyme.Assays` and `Volatile.Gas.Production` is equivalent to `pathways` while `Substrate.Utililization` is equivalent to `carbon_substrates`. Since there might be non-carbon compounds here, we're going to rename Madin et al.'s `carbon_substrates` into just `substrate` here similar to Weissman's database.  "
   ]
  },
  {
   "cell_type": "code",
   "execution_count": null,
   "id": "5b3ae171",
   "metadata": {},
   "outputs": [],
   "source": [
    "weissman <- weissman %>% group_by(taxid_species, kingdom, phylum, \n",
    "                      class, order, family, genus, species) %>%\n",
    "    nest(pathways = starts_with(c(\"Enzyme.Assays\", \"Volatile.Gas.Production\")), \n",
    "         substrate = starts_with(\"Substrate.Utilization\")) %>% ungroup() %>% \n",
    "    mutate(across(where(is.character), ~na_if(., \"0\"))) %>% \n",
    "    rename(\"species_tax_id\" = taxid_species, \"superkingdom\" = kingdom, \n",
    "           \"metabolism\" = Oxygen.Preference,\n",
    "           \"motility\" = Motility_general, \n",
    "           \"cell_shape\" = Cell.Shape)\n",
    "\n",
    "# motility, cell shape, metabolism\n",
    "weissman$cell_shape %>% unique()\n",
    "\n",
    "weissman <- weissman %>% \n",
    "    mutate(motility = if_else(motility == \"non-motile\", \"yes\", \"no\"), \n",
    "                    cell_shape = case_when(\n",
    "                        cell_shape == \"rod\" ~ \"bacillus\",\n",
    "                        cell_shape == \"ovoid/coccobacillus\" ~ \"coccus\", \n",
    "                        cell_shape == \"spirillum/corkscrew\" ~ \"spiral\",\n",
    "                        TRUE ~ cell_shape\n",
    "                    ), \n",
    "                    metabolism = case_when(\n",
    "                        metabolism == \"microaerophile\" ~ \"microaerophilic\",\n",
    "                        TRUE ~ metabolism\n",
    "                    ), \n",
    "                    metabolism = str_replace(metabolism, \n",
    "                                             pattern = \"obe$\", replacement = \"obic\"))"
   ]
  },
  {
   "cell_type": "markdown",
   "id": "e926be6e",
   "metadata": {},
   "source": [
    "Here we're going to define some functions to process the traits that is internal (collapse into one column) for pathways and for substrates"
   ]
  },
  {
   "cell_type": "code",
   "execution_count": null,
   "id": "20f65f00",
   "metadata": {},
   "outputs": [],
   "source": [
    "#' @param unit A single unit from a list of trait data frames\n",
    "proc_pathways <- function(unit){\n",
    "    string <- unit %>% pivot_longer(everything()) %>% \n",
    "        filter(value != 0)\n",
    "    if (nrow(string) == 0){\n",
    "        return(NA)\n",
    "    } else {\n",
    "        string <- string %>% \n",
    "            mutate(name = str_replace(name, pattern = \"Enzyme.Assays..\", replacement = \"\")) %>%\n",
    "            mutate(name = str_replace(name, pattern = \"Volatile.Gas.Production..\", replacement = \"synthesis_\")) %>%\n",
    "            mutate(name = str_replace(name, pattern = \"\\\\.$\", \"\")) %>%\n",
    "            mutate(name = str_replace(name, pattern = \"\\\\.\\\\.(.*)$\", \"\")) %>%\n",
    "            mutate(name = str_replace_all(name, pattern = \"\\\\.\", \"_\")) %>% \n",
    "            rowwise() %>%\n",
    "            mutate(name = if_else(str_detect(name, \"synthesis_\"), \n",
    "                                  true = paste(rev(str_split(name, pattern = \"_\", \n",
    "                                                             n = 2)[[1]]), \n",
    "                                               collapse = \"_\"),\n",
    "                                  false = name)) %>% \n",
    "            ungroup() %>%\n",
    "            pull(name) %>% paste(., collapse = \", \")\n",
    "    }\n",
    "        \n",
    "    return(string)\n",
    "}\n",
    "\n",
    "proc_substrate <- function(unit){\n",
    "    string <- unit %>% pivot_longer(everything()) %>% filter(value != 0)\n",
    "    if (nrow(string) == 0){\n",
    "        return(NA)\n",
    "    } else {\n",
    "        string <- string %>% mutate(name = str_split(name, pattern = \"\\\\.\\\\.\", \n",
    "                                           n = 2, simplify = TRUE)[,2]) %>%\n",
    "            mutate(name = str_replace(name, \"(\\\\.\\\\.|\\\\.)$\", \"\")) %>% \n",
    "            mutate(name = str_replace_all(name, \"(\\\\.\\\\.|\\\\.)\", \"_\")) %>% \n",
    "            pull(name) %>% paste(., collapse = \", \")\n",
    "    }\n",
    "    return(string)\n",
    "}\n"
   ]
  },
  {
   "cell_type": "code",
   "execution_count": null,
   "id": "1f42501b",
   "metadata": {},
   "outputs": [],
   "source": [
    "substr <- map_chr(weissman$substrate, proc_substrate)\n",
    "pthway <- map_chr(weissman$pathways, proc_pathways)\n",
    "\n",
    "weissman <- weissman %>% select(-c(pathways, substrate)) %>% \n",
    "  mutate(substrate = substr, pathways = pthway)"
   ]
  },
  {
   "cell_type": "markdown",
   "id": "8f3b6408",
   "metadata": {},
   "source": [
    "## Checking for duplicates"
   ]
  },
  {
   "cell_type": "markdown",
   "id": "cef943d4",
   "metadata": {},
   "source": [
    "First, we define a function to check for similar sounding names across all the unique pathways and substrates for all the data sets. Here, we use the `stringdist` function from the `stringdist` package. We use the standard OSA metric (also called the Damerau-Levenshtein distance) to query for potential similarly sounding names of identical pathways or compounds. "
   ]
  },
  {
   "cell_type": "code",
   "execution_count": null,
   "id": "7b606849",
   "metadata": {},
   "outputs": [],
   "source": [
    "check_matches <- function(df, type=c(\"pathways\",\"substrates\")){\n",
    "    b_val <- base %>% pull(!!type) %>% unique() %>% str_split(pattern = \", \") %>%\n",
    "        unlist() %>% unique() %>% na.omit() %>% as.vector()\n",
    "    \n",
    "    q_val <- df %>% pull(!!type) %>% unique() %>% str_split(pattern = \", \") %>% \n",
    "        unlist() %>% unique() %>% na.omit() %>% as.vector()\n",
    "    \n",
    "    check <- map(q_val, ~{\n",
    "        match <- stringdist(a = .x, b = b_val)\n",
    "        # match 0 is the same, and match > 2 is too different \n",
    "        ret <- b_val[match > 0 & match <= 2]\n",
    "        if (length(ret) == 0){\n",
    "            return(NA)\n",
    "        } else {\n",
    "            out <- tibble(\n",
    "                query = rep(.x, length(ret)),\n",
    "                ref = ret\n",
    "            )\n",
    "        }\n",
    "    })\n",
    "    check <- check[!sapply(check, function(x) all(is.na(x)))]\n",
    "    \n",
    "    return(check)\n",
    "}"
   ]
  },
  {
   "cell_type": "code",
   "execution_count": null,
   "id": "2bc3e805",
   "metadata": {},
   "outputs": [],
   "source": [
    "Reduce(check_matches(weissman, \"pathways\"), f = rbind)\n",
    "Reduce(check_matches(weissman, \"substrate\"), f = rbind)"
   ]
  },
  {
   "cell_type": "markdown",
   "id": "cf1b9276",
   "metadata": {},
   "source": [
    "We can see that for a lot of the compounds the names might be the same but they're actually different. However, there are certain conventions such as \"_\" for spaces or \"-\" that we might need to address for the final merge.  \n",
    "\n",
    "Let's check the GOLD database for similar sounding names. Since GOLD does not have substrate information, we only check for pathways"
   ]
  },
  {
   "cell_type": "code",
   "execution_count": null,
   "id": "5839d851",
   "metadata": {},
   "outputs": [],
   "source": [
    "Reduce(check_matches(gold_final, \"pathways\"), f = rbind)"
   ]
  },
  {
   "cell_type": "code",
   "execution_count": null,
   "id": "5167215f",
   "metadata": {},
   "outputs": [],
   "source": [
    "trim_path <- function(vec){\n",
    "    vec <- vec %>% tolower() %>% \n",
    "        str_split(pattern = \"(, |\\\\|)\") %>% \n",
    "        map(~{\n",
    "            str_trim(.x) %>% str_replace_all(\"\\\\-\", \"\") %>%\n",
    "                str_replace_all(\" \", \"_\") %>% unique()\n",
    "        })\n",
    "    return(vec)\n",
    "}\n",
    "\n",
    "\n",
    "gold_final$pathways <- trim_path(gold_final$pathways)\n",
    "base$pathways <- trim_path(base$pathways)\n",
    "weissman$pathways <- trim_path(weissman$pathways)\n",
    "weissman$substrate <- trim_path(weissman$substrate)\n",
    "base$substrate <- trim_path(base$substrate)"
   ]
  },
  {
   "cell_type": "markdown",
   "id": "57e1a034",
   "metadata": {},
   "source": [
    "## Combine all data frames"
   ]
  },
  {
   "cell_type": "markdown",
   "id": "b078550c",
   "metadata": {},
   "source": [
    "After munging, let's combine all of the names! The strategy is very similar to handling multiple entries for GOLD. First, we bind all of our databases together. Then, we `group_by` and nest all our trait data into a list. Then we process these lists and return `unique` rows (deduplicated). If the rows are not unique, then we process the non-unique rows by either concatenating the traits together or vote on consensus using the top most represented trait.  "
   ]
  },
  {
   "cell_type": "code",
   "execution_count": null,
   "id": "b16a128e",
   "metadata": {},
   "outputs": [],
   "source": [
    "complete <- bind_rows(\n",
    "    base %>% mutate(source = \"madin\"), \n",
    "    gold_final %>% mutate(source = \"gold\"), \n",
    "    weissman %>% mutate(source = \"weissman\")\n",
    ")\n",
    "\n",
    "tally <- complete %>% filter(!is.na(species)) %>% \n",
    "    group_by(species_tax_id, superkingdom, phylum, class, order, \n",
    "             family, genus, species) %>% \n",
    "    tally()\n",
    "\n",
    "\n",
    "multiple_rows <- tally %>% filter(n >= 2) %>% pull(species_tax_id)\n",
    "\n",
    "reconcile <- complete %>% filter(species_tax_id %in% multiple_rows)\n",
    "\n",
    "reconcile <- reconcile %>% group_by(species_tax_id, superkingdom, phylum, class, order,\n",
    "                       family, genus, species, metabolism) %>%\n",
    "    nest(data = c(metabolism, gram_stain, pathways, substrate, sporulation, motility, cell_shape, cell_aggregation, source)) %>% ungroup()"
   ]
  },
  {
   "cell_type": "markdown",
   "id": "d4f6f7c1",
   "metadata": {},
   "source": [
    "Let's collapse traits of the same species similar to before and merge everything together to save to a database"
   ]
  },
  {
   "cell_type": "code",
   "execution_count": null,
   "id": "c4720778",
   "metadata": {},
   "outputs": [],
   "source": [
    "#' @param df This is a data frame of multiple columns, where the columns of \n",
    "#'     pathways and substrates are themselves lists \n",
    "collapse_trait <- function(df){\n",
    "    nonlist <- c(\"metabolism\", \"gram_stain\", \"sporulation\", \"motility\", \n",
    "                 \"cell_shape\", \"cell_aggregation\")    \n",
    "    out <- suppressMessages(map_dfc(nonlist, ~{\n",
    "        traits <- df %>% pull(.x)\n",
    "        traits <- as.data.frame(table(traits))\n",
    "        if (nrow(traits) >= 1){\n",
    "            return(traits %>% \n",
    "                       mutate(prop = Freq/sum(Freq)) %>%\n",
    "                       filter(prop == max(prop) & prop >= 0.5) %>% \n",
    "                       pull(traits) %>% as.vector()\n",
    "            )\n",
    "        } else {\n",
    "            return(NA_character_)\n",
    "        }\n",
    "    }))\n",
    "    names(out) <- nonlist\n",
    "    out$pathways <- list(df %>% pull(\"pathways\") %>% \n",
    "                             Reduce(f = c, x = .) %>% unique())\n",
    "    out$substrate <- list(df %>% pull(\"substrate\") %>% \n",
    "                              Reduce(f = c, x = .) %>% \n",
    "                              unique())\n",
    "    return(out)\n",
    "}\n",
    "\n",
    "reconcile <- reconcile %>% mutate(traits = map(data, collapse_trait)) %>% \n",
    "    select(-data)"
   ]
  },
  {
   "cell_type": "code",
   "execution_count": null,
   "id": "9fbfc525",
   "metadata": {},
   "outputs": [],
   "source": [
    "complete <- bind_rows(reconcile %>% unnest(traits), \n",
    "          complete %>% filter(!species_tax_id %in% multiple_rows))\n",
    "\n",
    "saveRDS(complete, file = here(\"output\", \"db_merged.rds\"))\n",
    "complete %>% mutate(\n",
    "    pathways = map_chr(pathways, ~{\n",
    "        paste(.x, collapse = \", \")\n",
    "    }), \n",
    "    substrate = map_chr(substrate, ~{\n",
    "        paste(.x, collapse = \", \")\n",
    "    })\n",
    ") %>% write_csv(x = ., file = here(\"output\", \"db_merged.csv\"))"
   ]
  }
 ],
 "metadata": {
  "kernelspec": {
   "display_name": "R",
   "language": "R",
   "name": "ir"
  },
  "language_info": {
   "codemirror_mode": "r",
   "file_extension": ".r",
   "mimetype": "text/x-r-source",
   "name": "R",
   "pygments_lexer": "r",
   "version": "4.1.2"
  }
 },
 "nbformat": 4,
 "nbformat_minor": 5
}
