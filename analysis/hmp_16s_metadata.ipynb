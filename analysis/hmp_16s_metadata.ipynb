{
 "cells": [
  {
   "cell_type": "markdown",
   "id": "2cb02701-3ee5-4175-9ade-711b61eea1f0",
   "metadata": {},
   "source": [
    "## Processing lmd files for 16S rRNA metadata from HMP "
   ]
  },
  {
   "cell_type": "markdown",
   "id": "ee869a96-c907-4933-a602-623cac88c127",
   "metadata": {},
   "source": [
    "In this notebook, we retrieve all metadata downloaded from the [raw data page of the human microbiome project](http://downloads.ihmpdcc.org/data/HMR16S/SRP002395_metadata_lmd.tar.gz). A SOP describing the contents of these `lmd` files can also be [found on the page](https://www.hmpdacc.org/hmp/doc/SFF_LibraryMetadataFiles_SOP.pdf). Here, we access the already downloaded and un-zipped folder (using `tar`) and retrieve all relevant metadata. For our project, body site is the most important variable.  "
   ]
  },
  {
   "cell_type": "code",
   "execution_count": 1,
   "id": "04393356-2729-4157-a06a-bfd66ba0c5ad",
   "metadata": {},
   "outputs": [
    {
     "name": "stdout",
     "output_type": "stream",
     "text": [
      "/dartfs-hpc/rc/home/k/f00345k/research/microbe_set_trait/analysis\n"
     ]
    }
   ],
   "source": [
    "import pandas as pd\n",
    "import os\n",
    "!pwd\n",
    "dpath = \"/dartfs-hpc/rc/lab/H/HoenA/Lab/QNguyen/ResultsFiles/data/hmp_16s\""
   ]
  },
  {
   "cell_type": "code",
   "execution_count": 69,
   "id": "7ba046ba-7717-4c4b-8d42-58ea672c8909",
   "metadata": {},
   "outputs": [],
   "source": [
    "metadata = pd.read_csv(\"../python/hmp_16s.txt\")\n",
    "metadata = metadata.rename(columns={\"Run\": \"srr\", \"gene (exp)\" : \"region\", \n",
    "                 \"analyte_type\":\"body_site\", \n",
    "                 \"Sample Name\": \"sample_name\", \"Bases\": \"bases\"})\n",
    "metadata = metadata[[\"srr\", \"bases\"]]"
   ]
  },
  {
   "cell_type": "markdown",
   "id": "ba1fbbd2-a8a4-4942-a586-18967a4993b9",
   "metadata": {},
   "source": [
    "Even though this csv file has a lot of good information, details on specific region of sequencing and body site information is slightly better in the full `lmd` metadata files. "
   ]
  },
  {
   "cell_type": "code",
   "execution_count": 4,
   "id": "87d94a52-bf21-4e5e-aa5c-3f3f266c1d7e",
   "metadata": {},
   "outputs": [],
   "source": [
    "lmdfiles = os.listdir(r\"../python/hmp_metadata\");"
   ]
  },
  {
   "cell_type": "markdown",
   "id": "0bc7efd2-62a3-4ce4-a11b-ab69a3ae4cc3",
   "metadata": {},
   "source": [
    "We define a function that retreives all the relevant metadata per `lmd` file. Note that each `lmd` file contains information for all runs within an experiment, and some files might have multiple sample runs that have not been demultiplexed. Here, we retain only samples that have one run associated with them. "
   ]
  },
  {
   "cell_type": "code",
   "execution_count": 5,
   "id": "292246c4-d042-43b4-a406-37ca7ed8750e",
   "metadata": {},
   "outputs": [],
   "source": [
    "def process_lmd(path):\n",
    "    data = pd.read_csv(path, sep = \"\\t\", header=None)\n",
    "    srr = data.dropna()\n",
    "    if srr.shape[0] >= 2 or srr.shape[0] == 0:\n",
    "        return(None)\n",
    "    else: \n",
    "        sample = srr.iloc[0]\n",
    "        d = {\"srr\": sample[0], \"region\" : sample[7], \"body_site\": sample[11], \"sample_id\": sample[12], \n",
    "            \"subject_id\" : sample[10], \"reverse_primer\": sample[8]}\n",
    "        return(pd.Series(d))"
   ]
  },
  {
   "cell_type": "code",
   "execution_count": 6,
   "id": "9c63ed16-066b-4f09-af6b-7238e6408b0c",
   "metadata": {},
   "outputs": [
    {
     "name": "stdout",
     "output_type": "stream",
     "text": [
      "0\n",
      "1000\n",
      "2000\n",
      "3000\n",
      "4000\n",
      "5000\n",
      "6000\n",
      "7000\n"
     ]
    }
   ],
   "source": [
    "lmddata = []\n",
    "for idx, val  in enumerate(lmdfiles):\n",
    "    if idx % 1000 == 0:\n",
    "        print(idx)\n",
    "    lmddata.append(process_lmd(\"../python/hmp_metadata/\" + val))"
   ]
  },
  {
   "cell_type": "code",
   "execution_count": 70,
   "id": "3ba05539-72b4-4293-b4c3-7c4bc19c0a59",
   "metadata": {},
   "outputs": [],
   "source": [
    "metapd = pd.DataFrame([i for i in lmddata if isinstance(i, pd.Series)])\n",
    "metapd = metapd.astype({'sample_id': 'string', 'subject_id' : 'string'})\n",
    "metapd = metapd[metapd.region.isin([\"V5-V3\",\"V3-V5\"])]"
   ]
  },
  {
   "cell_type": "markdown",
   "id": "8f1ccec6-c2b6-44e6-86c9-4c8215298222",
   "metadata": {},
   "source": [
    "We merge the two data frames for the purpose of getting total number of base pairs per sequencing run and extract the maximum for multiple runs of the same sample (same `sample_id`)"
   ]
  },
  {
   "cell_type": "code",
   "execution_count": 71,
   "id": "24b6becc-0eab-4383-94d7-0e0ee4faf4ad",
   "metadata": {},
   "outputs": [
    {
     "data": {
      "text/html": [
       "<div>\n",
       "<style scoped>\n",
       "    .dataframe tbody tr th:only-of-type {\n",
       "        vertical-align: middle;\n",
       "    }\n",
       "\n",
       "    .dataframe tbody tr th {\n",
       "        vertical-align: top;\n",
       "    }\n",
       "\n",
       "    .dataframe thead th {\n",
       "        text-align: right;\n",
       "    }\n",
       "</style>\n",
       "<table border=\"1\" class=\"dataframe\">\n",
       "  <thead>\n",
       "    <tr style=\"text-align: right;\">\n",
       "      <th></th>\n",
       "      <th>srr</th>\n",
       "      <th>region</th>\n",
       "      <th>body_site</th>\n",
       "      <th>sample_id</th>\n",
       "      <th>subject_id</th>\n",
       "      <th>reverse_primer</th>\n",
       "      <th>bases</th>\n",
       "    </tr>\n",
       "  </thead>\n",
       "  <tbody>\n",
       "    <tr>\n",
       "      <th>0</th>\n",
       "      <td>SRR041296</td>\n",
       "      <td>V5-V3</td>\n",
       "      <td>Anterior nares</td>\n",
       "      <td>700033977.0</td>\n",
       "      <td>159510762.0</td>\n",
       "      <td>CCGTCAATTCMTTTRAGT</td>\n",
       "      <td>1175722.0</td>\n",
       "    </tr>\n",
       "    <tr>\n",
       "      <th>1</th>\n",
       "      <td>SRR044244</td>\n",
       "      <td>V3-V5</td>\n",
       "      <td>Palatine Tonsils</td>\n",
       "      <td>700024179.0</td>\n",
       "      <td>764245047.0</td>\n",
       "      <td>CCGTCAATTCMTTTRAGT</td>\n",
       "      <td>6266240.0</td>\n",
       "    </tr>\n",
       "    <tr>\n",
       "      <th>2</th>\n",
       "      <td>SRR046510</td>\n",
       "      <td>V3-V5</td>\n",
       "      <td>L_Antecubital fossa</td>\n",
       "      <td>700023584.0</td>\n",
       "      <td>763860675.0</td>\n",
       "      <td>CCGTCAATTCMTTTRAGT</td>\n",
       "      <td>517709.0</td>\n",
       "    </tr>\n",
       "    <tr>\n",
       "      <th>3</th>\n",
       "      <td>SRR041518</td>\n",
       "      <td>V5-V3</td>\n",
       "      <td>R_Retroauricular crease</td>\n",
       "      <td>700016810.0</td>\n",
       "      <td>159268001.0</td>\n",
       "      <td>CCGTCAATTCMTTTRAGT</td>\n",
       "      <td>2662468.0</td>\n",
       "    </tr>\n",
       "    <tr>\n",
       "      <th>4</th>\n",
       "      <td>SRR042831</td>\n",
       "      <td>V5-V3</td>\n",
       "      <td>Throat</td>\n",
       "      <td>700032266.0</td>\n",
       "      <td>159753524.0</td>\n",
       "      <td>CCGTCAATTCMTTTRAGT</td>\n",
       "      <td>1225.0</td>\n",
       "    </tr>\n",
       "    <tr>\n",
       "      <th>...</th>\n",
       "      <td>...</td>\n",
       "      <td>...</td>\n",
       "      <td>...</td>\n",
       "      <td>...</td>\n",
       "      <td>...</td>\n",
       "      <td>...</td>\n",
       "      <td>...</td>\n",
       "    </tr>\n",
       "    <tr>\n",
       "      <th>4460</th>\n",
       "      <td>SRR041489</td>\n",
       "      <td>V5-V3</td>\n",
       "      <td>R_Retroauricular crease</td>\n",
       "      <td>700032117.0</td>\n",
       "      <td>159672603.0</td>\n",
       "      <td>CCGTCAATTCMTTTRAGT</td>\n",
       "      <td>3212382.0</td>\n",
       "    </tr>\n",
       "    <tr>\n",
       "      <th>4461</th>\n",
       "      <td>SRR044423</td>\n",
       "      <td>V3-V5</td>\n",
       "      <td>Stool</td>\n",
       "      <td>700024866.0</td>\n",
       "      <td>764649650.0</td>\n",
       "      <td>CCGTCAATTCMTTTRAGT</td>\n",
       "      <td>5046645.0</td>\n",
       "    </tr>\n",
       "    <tr>\n",
       "      <th>4462</th>\n",
       "      <td>SRR048147</td>\n",
       "      <td>V3-V5</td>\n",
       "      <td>Palatine Tonsils</td>\n",
       "      <td>700095449.0</td>\n",
       "      <td>158418336.0</td>\n",
       "      <td>CCGTCAATTCMTTTRAGT</td>\n",
       "      <td>NaN</td>\n",
       "    </tr>\n",
       "    <tr>\n",
       "      <th>4463</th>\n",
       "      <td>SRR044387</td>\n",
       "      <td>V3-V5</td>\n",
       "      <td>Posterior fornix</td>\n",
       "      <td>700024882.0</td>\n",
       "      <td>764649650.0</td>\n",
       "      <td>CCGTCAATTCMTTTRAGT</td>\n",
       "      <td>3738153.0</td>\n",
       "    </tr>\n",
       "    <tr>\n",
       "      <th>4464</th>\n",
       "      <td>SRR042019</td>\n",
       "      <td>V5-V3</td>\n",
       "      <td>Throat</td>\n",
       "      <td>700016401.0</td>\n",
       "      <td>159328691.0</td>\n",
       "      <td>CCGTCAATTCMTTTRAGT</td>\n",
       "      <td>3494362.0</td>\n",
       "    </tr>\n",
       "  </tbody>\n",
       "</table>\n",
       "<p>4465 rows × 7 columns</p>\n",
       "</div>"
      ],
      "text/plain": [
       "            srr region                body_site    sample_id   subject_id  \\\n",
       "0     SRR041296  V5-V3           Anterior nares  700033977.0  159510762.0   \n",
       "1     SRR044244  V3-V5         Palatine Tonsils  700024179.0  764245047.0   \n",
       "2     SRR046510  V3-V5      L_Antecubital fossa  700023584.0  763860675.0   \n",
       "3     SRR041518  V5-V3  R_Retroauricular crease  700016810.0  159268001.0   \n",
       "4     SRR042831  V5-V3                   Throat  700032266.0  159753524.0   \n",
       "...         ...    ...                      ...          ...          ...   \n",
       "4460  SRR041489  V5-V3  R_Retroauricular crease  700032117.0  159672603.0   \n",
       "4461  SRR044423  V3-V5                    Stool  700024866.0  764649650.0   \n",
       "4462  SRR048147  V3-V5         Palatine Tonsils  700095449.0  158418336.0   \n",
       "4463  SRR044387  V3-V5         Posterior fornix  700024882.0  764649650.0   \n",
       "4464  SRR042019  V5-V3                   Throat  700016401.0  159328691.0   \n",
       "\n",
       "          reverse_primer      bases  \n",
       "0     CCGTCAATTCMTTTRAGT  1175722.0  \n",
       "1     CCGTCAATTCMTTTRAGT  6266240.0  \n",
       "2     CCGTCAATTCMTTTRAGT   517709.0  \n",
       "3     CCGTCAATTCMTTTRAGT  2662468.0  \n",
       "4     CCGTCAATTCMTTTRAGT     1225.0  \n",
       "...                  ...        ...  \n",
       "4460  CCGTCAATTCMTTTRAGT  3212382.0  \n",
       "4461  CCGTCAATTCMTTTRAGT  5046645.0  \n",
       "4462  CCGTCAATTCMTTTRAGT        NaN  \n",
       "4463  CCGTCAATTCMTTTRAGT  3738153.0  \n",
       "4464  CCGTCAATTCMTTTRAGT  3494362.0  \n",
       "\n",
       "[4465 rows x 7 columns]"
      ]
     },
     "execution_count": 71,
     "metadata": {},
     "output_type": "execute_result"
    }
   ],
   "source": [
    "metadata = pd.merge(metapd, metadata, how=\"left\", on=\"srr\")\n",
    "metadata"
   ]
  },
  {
   "cell_type": "code",
   "execution_count": 72,
   "id": "8ca37dc9-c0f7-4411-b3aa-6047baeb32ad",
   "metadata": {},
   "outputs": [],
   "source": [
    "metadata = metadata[metadata.groupby('sample_id')['bases'].transform(max) == metadata.bases]\n",
    "metadata = metadata.reset_index().drop('index', axis = 1)"
   ]
  },
  {
   "cell_type": "code",
   "execution_count": 74,
   "id": "a7e18667-5a54-4d0d-b563-ce59c525b041",
   "metadata": {},
   "outputs": [
    {
     "data": {
      "text/plain": [
       "(2553, 7)"
      ]
     },
     "execution_count": 74,
     "metadata": {},
     "output_type": "execute_result"
    }
   ],
   "source": [
    "metadata.shape"
   ]
  },
  {
   "cell_type": "markdown",
   "id": "7b96808c-c022-4d53-b57b-1e422f1dfa78",
   "metadata": {},
   "source": [
    "The result is around 2553 files of data to be unpacked and preprocess"
   ]
  },
  {
   "cell_type": "code",
   "execution_count": 88,
   "id": "7fded63a-3bc8-4b42-aa90-807112ac230c",
   "metadata": {},
   "outputs": [],
   "source": [
    "num_identifier = [int(x.split(\"SRR0\")[1]) for x in metadata.srr.tolist()]"
   ]
  },
  {
   "cell_type": "code",
   "execution_count": 90,
   "id": "769ac759-47e0-42d9-8ae9-a2e5dfab40d9",
   "metadata": {},
   "outputs": [
    {
     "name": "stdout",
     "output_type": "stream",
     "text": [
      "Samples ranging from 40576 to 51587\n"
     ]
    }
   ],
   "source": [
    "print(\"Samples ranging from {} to {}\".format(min(num_identifier), max(num_identifier)))"
   ]
  },
  {
   "cell_type": "code",
   "execution_count": 102,
   "id": "1000ead0-d3f8-4c76-8582-c5de02c268a7",
   "metadata": {},
   "outputs": [],
   "source": [
    "ranges = {\n",
    "    \"r1\" : [40000, 40999],\n",
    "    \"r2\" : [41000, 41999],\n",
    "    \"r3\" : [42000, 42999],\n",
    "    \"r4\" : [43000, 43999], \n",
    "    \"r5\": [44000, 44999], \n",
    "    \"r6\": [45000, 45999],\n",
    "    \"r7\": [46000, 46999], \n",
    "    \"r8\": [47000, 47999], \n",
    "    \"r9\": [48000, 48999],\n",
    "    \"r10\": [49000, 49999],\n",
    "    \"r11\": [50000, 59999],\n",
    "}"
   ]
  },
  {
   "cell_type": "code",
   "execution_count": 103,
   "id": "f5f0ce56-53ec-4240-89b8-4a04b61a2de0",
   "metadata": {},
   "outputs": [
    {
     "name": "stdout",
     "output_type": "stream",
     "text": [
      "r1\n",
      "r2\n",
      "r3\n",
      "r4\n",
      "r5\n",
      "r6\n",
      "r7\n",
      "r8\n",
      "r9\n",
      "r10\n",
      "r11\n"
     ]
    }
   ],
   "source": [
    "for key in ranges:\n",
    "    query = [x for x in num_identifier if x <= ranges[key][1] and x >= ranges[key][0]]\n",
    "    if len(query) >= 1:\n",
    "        print(key)"
   ]
  },
  {
   "cell_type": "code",
   "execution_count": 105,
   "id": "1a72ba16-4eb7-48c9-a4c9-fea9502deada",
   "metadata": {},
   "outputs": [],
   "source": [
    "metadata.to_csv(\"../metadata/hmp_16s_metadata.csv\")"
   ]
  }
 ],
 "metadata": {
  "kernelspec": {
   "display_name": "Python 3 (ipykernel)",
   "language": "python",
   "name": "python3"
  },
  "language_info": {
   "codemirror_mode": {
    "name": "ipython",
    "version": 3
   },
   "file_extension": ".py",
   "mimetype": "text/x-python",
   "name": "python",
   "nbconvert_exporter": "python",
   "pygments_lexer": "ipython3",
   "version": "3.8.12"
  }
 },
 "nbformat": 4,
 "nbformat_minor": 5
}
