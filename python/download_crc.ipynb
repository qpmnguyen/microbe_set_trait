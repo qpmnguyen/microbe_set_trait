{
 "cells": [
  {
   "cell_type": "code",
   "execution_count": 8,
   "id": "30a4ac24",
   "metadata": {},
   "outputs": [],
   "source": [
    "from tqdm.autonotebook import tqdm\n",
    "import pandas as pd \n",
    "import os\n",
    "import matplotlib.pyplot as plt\n",
    "import subprocess\n",
    "import time\n",
    "basepath = \"/dartfs-hpc/rc/lab/H/HoenA/Lab/QNguyen/ResultsFiles/data\"\n",
    "asp_key = \"/dartfs-hpc/rc/home/k/f00345k/.aspera/connect/etc/asperaweb_id_dsa.openssh\"\n",
    "asp_cmd = \"ascp -k 1 -QT -l 300m -P33001 -i\" \n",
    "wget_cmd = \"wget\""
   ]
  },
  {
   "cell_type": "markdown",
   "id": "4b0b091a",
   "metadata": {},
   "source": [
    "## Getting CRC data "
   ]
  },
  {
   "cell_type": "markdown",
   "id": "ecb7035b",
   "metadata": {},
   "source": [
    "First, we're processing and filtering the manifest data from ENA"
   ]
  },
  {
   "cell_type": "code",
   "execution_count": 9,
   "id": "2c94f605",
   "metadata": {},
   "outputs": [],
   "source": [
    "manifest = pd.read_csv(\"crc_16s.tsv\", sep=\"\\t\")\n",
    "manifest = manifest[manifest.library_strategy == \"AMPLICON\"]\n",
    "manifest = manifest[manifest.groupby(\"sample_title\")['read_count'].transform('max') == manifest['read_count']]\n",
    "manifest = manifest.reset_index().drop('index', axis = 1)\n",
    "\n",
    "crc_path = basepath + \"/crc_16s\""
   ]
  },
  {
   "cell_type": "markdown",
   "id": "be33072f",
   "metadata": {},
   "source": [
    "Then we go through each ftp or aspera link and download"
   ]
  },
  {
   "cell_type": "code",
   "execution_count": 10,
   "id": "a81ee8a4",
   "metadata": {},
   "outputs": [],
   "source": [
    "# cmd = \"{} {} {} {}\".format(asp_cmd, asp_key, url, crc_path) for aspera - however \n",
    "# as of this current version aspera doesn't work due to permission issues \n",
    "\n",
    "def download_sample(idx):\n",
    "    print(manifest.head)\n",
    "    failed = []\n",
    "    for j in range(0,2):\n",
    "        url = manifest.iloc[idx].fastq_ftp.split(\";\")[j]\n",
    "        sname = sname = manifest.iloc[idx].sample_title.split(\" \")[-1]\n",
    "        if j == 1:\n",
    "            fname = sname + \"_R2_001.fastq.gz\"\n",
    "        else:\n",
    "            fname = sname + \"_R1_001.fastq.gz\"\n",
    "        fullname = crc_path + \"/\" + fname\n",
    "        cmd = \"wget {} -O {}\".format(url, crc_path + \"/\" + fname)\n",
    "        if os.path.exists(fullname):\n",
    "            pass\n",
    "        else:\n",
    "            print(\"Downloading {}\".format(fname))\n",
    "            if idx % 10 == 0 & idx >= 10:\n",
    "                time.sleep(10)\n",
    "            subprocess.run(args=[\"wget\", url, \"-O\", fullname, \"--quiet\"], stdout=subprocess.DEVNULL)\n",
    "            if os.path.getsize(fullname) == 0:\n",
    "                print(\"For some reason this is not downloading, retrying...\")\n",
    "                subprocess.run(args=[\"wget\", url, \"-O\", fullname, \"--quiet\"], stdout=subprocess.DEVNULL)\n",
    "                if os.path.getsize(fullname) == 0:\n",
    "                    print(\"This file is dud\")\n",
    "                    failed.append(url)\n",
    "                    pass\n",
    "        return(failed)"
   ]
  },
  {
   "cell_type": "code",
   "execution_count": null,
   "id": "79c4a91c-f489-4c66-8ce9-d4cf54cd17de",
   "metadata": {},
   "outputs": [],
   "source": [
    "for i in tqdm(range(0, manifest.shape[0]):\n",
    "    download_sample(idx)"
   ]
  },
  {
   "cell_type": "markdown",
   "id": "26d2ceef",
   "metadata": {},
   "source": [
    "## Getting HMP data "
   ]
  },
  {
   "cell_type": "code",
   "execution_count": null,
   "id": "f0dce406",
   "metadata": {},
   "outputs": [],
   "source": [
    "\"\"\"\n",
    "These functions download either the crc data or the ibd data \n",
    "\n",
    "db: An argument of SRAweb() type after a SRAweb() call from pysradb\n",
    "For duplicate patient ids, we return runs with the largest number of \n",
    "samples available.  \n",
    "\n",
    "For get_crc, we're restricting only amplicon sequencing data and including only the FR patients \n",
    "For get_ibd, we're restricting to only those sampled from the same site (terminal ileum)\n",
    "\"\"\"\n",
    "def get_crc(db):\n",
    "    basepath = \"/dartfs-hpc/rc/lab/H/HoenA/Lab/QNguyen/ResultsFiles/data\"\n",
    "    fullpath = basepath + \"/crc_16s\"\n",
    "    if not os.path.exists(fullpath):\n",
    "        os.mkdir(fullpath)\n",
    "    mt = db.sra_metadata(\"PRJEB6070\", detailed=True)\n",
    "    mt_filt = mt[mt.library_strategy == \"AMPLICON\"]\n",
    "    mt_filt = mt_filt[mt_filt.groupby(\"host subject id\")['run_total_bases'].transform('max') == mt_filt['run_total_bases']]\n",
    "    mt_filt = mt_filt[mt_filt['diagnosis'] != \"N/A\"]\n",
    "    mt_filt.reset_index().drop(\"index\", axis=1)\n",
    "    final_metadata = mt_filt[[\"host subject id\", \"run_accession\", \"sample_accession\", \n",
    "                              \"diagnosis\", \"sample name\", \"sex\", \"age\"]]\n",
    "    final_metadata.to_csv(\"../data/crc_16s_metadata.csv\")\n",
    "    print(\"Downloading...\")\n",
    "    db.download(df = mt_filt, out_dir=fullpath, threads = 4, use_ascp=False, skip_confirmation=True)()\n",
    "    return(0)\n",
    "\n",
    "def get_ibd(db):\n",
    "    basepath = \"/dartfs-hpc/rc/lab/H/HoenA/Lab/QNguyen/ResultsFiles/data\"\n",
    "    fullpath = basepath + \"/ibd_16s\"\n",
    "    if not os.path.exists(fullpath):\n",
    "        os.mkdir(fullpath)\n",
    "    mt = db.sra_metadata(\"PRJEB13679\", detailed=True)\n",
    "    mt_filt = mt[mt['biopsy location'] == \"Terminal ileum\"]\n",
    "    mt_filt = mt_filt[mt_filt.groupby(\"anonymized name\")['run_total_bases'].transform('max') == mt_filt['run_total_bases']]\n",
    "    final_metadata = mt_filt[[\"run_accession\", \"sample_accession\", \"anonymized name\", \n",
    "         \"diagnosis\", \"sex\", \"biopsy location\", \"sample name\"]]\n",
    "    final_metadata.to_csv(\"../data/ibd_16s_metadata.csv\")\n",
    "    print(\"Downloading...\")\n",
    "    db.download(df = mt_filt, out_dir=fullpath, threads=4, use_ascp=True, skip_confirmation=True)()\n",
    "    return(0)\n",
    "\n",
    "# for some reason pysradb is missing a lot of info downloading manifest file directly \n",
    "# from NCBI \n",
    "def get_hmp(db):\n",
    "    basepath = \"/dartfs-hpc/rc/lab/H/HoenA/Lab/QNguyen/ResultsFiles/data\"\n",
    "    fullpath = basepath + \"/hmp_16s\"\n",
    "    ref = pd.read_csv(\"sra_runtable.txt\")\n",
    "    ref_filt = ref[ref.groupby(\"Sample Name\")['Bases'].transform('max') == ref['Bases']]\n",
    "    ref_filt = ref_filt.rename(columns={\"Run\", \"run_accession\"})\n",
    "    run_list = ref_filt.run_accession.to_list()\n",
    "    final_metadata = ref_filt[[\"Sample Name\", \"run_accession\", \"analyte_type\", \"submitted_subject_id\"]]\n",
    "    final_metadata.to_csv(\"../data/hmp_16s_metadata.csv\")\n",
    "    # filter and download \n",
    "    if not os.path.exists(fullpath):\n",
    "        os.mkdir(fullpath)\n",
    "    mt = db.sra_metadata(\"SRP002395\", detailed=False)\n",
    "    mt_filt = mt[mt.run_accession.isin(run_list)]\n",
    "    print(\"Downloading...\")\n",
    "    db.download(df=mt_filt, out_dir=fullpath, threads=4, use_ascp=True, skip_confirmation=True)()\n",
    "    return(0)\n",
    "    "
   ]
  }
 ],
 "metadata": {
  "kernelspec": {
   "display_name": "Python 3 (ipykernel)",
   "language": "python",
   "name": "python3"
  },
  "language_info": {
   "codemirror_mode": {
    "name": "ipython",
    "version": 3
   },
   "file_extension": ".py",
   "mimetype": "text/x-python",
   "name": "python",
   "nbconvert_exporter": "python",
   "pygments_lexer": "ipython3",
   "version": "3.8.12"
  }
 },
 "nbformat": 4,
 "nbformat_minor": 5
}
