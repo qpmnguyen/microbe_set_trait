{
 "cells": [
  {
   "cell_type": "code",
   "execution_count": 27,
   "source": [
    "from Bio import SeqIO\n",
    "import gzip\n",
    "import re"
   ],
   "outputs": [],
   "metadata": {}
  },
  {
   "cell_type": "code",
   "execution_count": 22,
   "source": [
    "with gzip.open(\"/Users/quangnguyen/Downloads/ERR1368879/ERR1368879.fastq.gz\", \"rt\") as handle:\n",
    "    records = list(SeqIO.parse(handle, format = \"fastq\"))"
   ],
   "outputs": [],
   "metadata": {}
  },
  {
   "cell_type": "code",
   "execution_count": 41,
   "source": [
    "check = [bool(re.search(i.description, \"/1\")) for i in records]"
   ],
   "outputs": [],
   "metadata": {}
  },
  {
   "cell_type": "code",
   "execution_count": 44,
   "source": [
    "len(records)"
   ],
   "outputs": [
    {
     "output_type": "execute_result",
     "data": {
      "text/plain": [
       "48277"
      ]
     },
     "metadata": {},
     "execution_count": 44
    }
   ],
   "metadata": {}
  },
  {
   "cell_type": "code",
   "execution_count": 46,
   "source": [
    "records[48276]"
   ],
   "outputs": [
    {
     "output_type": "execute_result",
     "data": {
      "text/plain": [
       "SeqRecord(seq=Seq('TACGTAGGTGGCAAGCGTTGTCCGGATTTATTGGGCGTAAAGCGAGCGCAGGCG...ATA'), id='ERR1368879.48277', name='ERR1368879.48277', description='ERR1368879.48277 1939.100001_48276/1', dbxrefs=[])"
      ]
     },
     "metadata": {},
     "execution_count": 46
    }
   ],
   "metadata": {}
  },
  {
   "cell_type": "code",
   "execution_count": null,
   "source": [],
   "outputs": [],
   "metadata": {}
  }
 ],
 "metadata": {
  "orig_nbformat": 4,
  "language_info": {
   "name": "python",
   "version": "3.9.7",
   "mimetype": "text/x-python",
   "codemirror_mode": {
    "name": "ipython",
    "version": 3
   },
   "pygments_lexer": "ipython3",
   "nbconvert_exporter": "python",
   "file_extension": ".py"
  },
  "kernelspec": {
   "name": "python3",
   "display_name": "Python 3.9.7 64-bit ('microbe_set_trait': conda)"
  },
  "interpreter": {
   "hash": "c317ae016c6232f7e40a73ea9652224c65d008654980a0ad0e80de8a23c4415b"
  }
 },
 "nbformat": 4,
 "nbformat_minor": 2
}